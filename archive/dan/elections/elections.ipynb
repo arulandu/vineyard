{
 "cells": [
  {
   "cell_type": "code",
   "execution_count": 1,
   "metadata": {},
   "outputs": [],
   "source": [
    "import os, sys\n",
    "sys.path.append(os.path.abspath(os.path.join(os.getcwd(), '..')))\n",
    "\n",
    "# Vineyard functions\n",
    "from VineyardFinal import vineyard_from_pds, Get_Adjacency_Persistence, Homotopy, Get_W_Infinity, vdist, min_vc, fD, fL\n",
    "\n",
    "# Matrix Operations\n",
    "import numpy as np\n",
    "import pandas as pd\n",
    "\n",
    "# misc\n",
    "from tqdm import tqdm\n",
    "\n",
    "# tda\n",
    "import gudhi\n",
    "import gudhi.hera\n",
    "\n",
    "# Geospatial and graphs\n",
    "import geopandas as gpd\n",
    "from gerrychain import Graph\n",
    "import networkx as nx\n",
    "\n",
    "import warnings\n",
    "warnings.filterwarnings('ignore', message='Found islands', category=UserWarning) # Getting rid of pesky degree-0 graph warnings \n",
    "\n",
    "INFINITY = 1e6\n",
    "n = 100"
   ]
  },
  {
   "cell_type": "markdown",
   "metadata": {},
   "source": [
    "## Load Data"
   ]
  },
  {
   "cell_type": "code",
   "execution_count": 2,
   "metadata": {},
   "outputs": [],
   "source": [
    "state_dict = {\n",
    "    '01': {'name': 'Alabama'},\n",
    "    '02': {'name': 'Alaska'},\n",
    "    '04': {'name': 'Arizona'},\n",
    "    '05': {'name': 'Arkansas'},\n",
    "    '06': {'name': 'California'},\n",
    "    '08': {'name': 'Colorado'},\n",
    "    '09': {'name': 'Connecticut'},\n",
    "    '10': {'name': 'Delaware'},\n",
    "    '11': {'name': 'District of Columbia'},\n",
    "    '12': {'name': 'Florida'},\n",
    "    '13': {'name': 'Georgia'},\n",
    "    '15': {'name': 'Hawaii'},\n",
    "    '16': {'name': 'Idaho'},\n",
    "    '17': {'name': 'Illinois'},\n",
    "    '18': {'name': 'Indiana'},\n",
    "    '19': {'name': 'Iowa'},\n",
    "    '20': {'name': 'Kansas'},\n",
    "    '21': {'name': 'Kentucky'},\n",
    "    '22': {'name': 'Louisiana'},\n",
    "    '23': {'name': 'Maine'},\n",
    "    '24': {'name': 'Maryland'},\n",
    "    '25': {'name': 'Massachusetts'},\n",
    "    '26': {'name': 'Michigan'},\n",
    "    '27': {'name': 'Minnesota'},\n",
    "    '28': {'name': 'Mississippi'},\n",
    "    '29': {'name': 'Missouri'},\n",
    "    '30': {'name': 'Montana'},\n",
    "    '31': {'name': 'Nebraska'},\n",
    "    '32': {'name': 'Nevada'},\n",
    "    '33': {'name': 'New Hampshire'},\n",
    "    '34': {'name': 'New Jersey'},\n",
    "    '35': {'name': 'New Mexico'},\n",
    "    '36': {'name': 'New York'},\n",
    "    '37': {'name': 'North Carolina'},\n",
    "    '38': {'name': 'North Dakota'},\n",
    "    '39': {'name': 'Ohio'},\n",
    "    '40': {'name': 'Oklahoma'},\n",
    "    '41': {'name': 'Oregon'},\n",
    "    '42': {'name': 'Pennsylvania'},\n",
    "    '44': {'name': 'Rhode Island'},\n",
    "    '45': {'name': 'South Carolina'},\n",
    "    '46': {'name': 'South Dakota'},\n",
    "    '47': {'name': 'Tennessee'},\n",
    "    '48': {'name': 'Texas'},\n",
    "    '49': {'name': 'Utah'},\n",
    "    '50': {'name': 'Vermont'},\n",
    "    '51': {'name': 'Virginia'},\n",
    "    '53': {'name': 'Washington'},\n",
    "    '54': {'name': 'West Virginia'},\n",
    "    '55': {'name': 'Wisconsin'},\n",
    "    '56': {'name': 'Wyoming'}\n",
    "}\n",
    "\n",
    "graph_folder = '../dataIn/elections/state_graphs_2020'\n",
    "graphs = [Graph.from_json(f'{graph_folder}/{f}') for f in os.listdir(graph_folder) if f.endswith('.json')]\n"
   ]
  },
  {
   "cell_type": "markdown",
   "metadata": {},
   "source": [
    "## Calculate Metrics"
   ]
  },
  {
   "cell_type": "code",
   "execution_count": 3,
   "metadata": {},
   "outputs": [
    {
     "name": "stderr",
     "output_type": "stream",
     "text": [
      "Processing States:   0%|          | 0/48 [00:00<?, ?it/s]"
     ]
    },
    {
     "name": "stdout",
     "output_type": "stream",
     "text": [
      "Texas-2000 is done\n",
      "Texas-2004 is done\n",
      "Texas-2008 is done\n",
      "Texas-2012 is done\n"
     ]
    },
    {
     "name": "stderr",
     "output_type": "stream",
     "text": [
      "Processing States:   2%|▏         | 1/48 [00:01<00:49,  1.05s/it]"
     ]
    },
    {
     "name": "stdout",
     "output_type": "stream",
     "text": [
      "Texas-2016 is done\n",
      "Texas-2020 is done\n",
      "Idaho-2000 is done\n",
      "Idaho-2004 is done\n"
     ]
    },
    {
     "name": "stderr",
     "output_type": "stream",
     "text": [
      "Processing States:   4%|▍         | 2/48 [00:01<00:22,  2.00it/s]"
     ]
    },
    {
     "name": "stdout",
     "output_type": "stream",
     "text": [
      "Idaho-2008 is done\n",
      "Idaho-2012 is done\n",
      "Idaho-2016 is done\n",
      "Idaho-2020 is done\n",
      "Nebraska-2000 is done\n",
      "Nebraska-2004 is done\n",
      "Nebraska-2008 is done\n"
     ]
    },
    {
     "name": "stderr",
     "output_type": "stream",
     "text": [
      "Processing States:   6%|▋         | 3/48 [00:01<00:18,  2.43it/s]"
     ]
    },
    {
     "name": "stdout",
     "output_type": "stream",
     "text": [
      "Nebraska-2012 is done\n",
      "Nebraska-2016 is done\n",
      "Nebraska-2020 is done\n",
      "Massachusetts-2000 is done\n",
      "Massachusetts-2004 is done\n",
      "Massachusetts-2008 is done\n",
      "Massachusetts-2012 is done\n"
     ]
    },
    {
     "name": "stderr",
     "output_type": "stream",
     "text": [
      "Processing States:  10%|█         | 5/48 [00:01<00:08,  4.79it/s]"
     ]
    },
    {
     "name": "stdout",
     "output_type": "stream",
     "text": [
      "Massachusetts-2016 is done\n",
      "Massachusetts-2020 is done\n",
      "Arizona-2000 is done\n",
      "Arizona-2004 is done\n",
      "Arizona-2008 is done\n",
      "Arizona-2012 is done\n",
      "Arizona-2016 is done\n",
      "Arizona-2020 is done\n",
      "Georgia-2000 is done\n",
      "Georgia-2004 is done\n",
      "Georgia-2008 is done\n",
      "Georgia-2012 is done\n",
      "Georgia-2016 is done\n",
      "Georgia-2020 is done\n"
     ]
    },
    {
     "name": "stderr",
     "output_type": "stream",
     "text": [
      "Processing States:  15%|█▍        | 7/48 [00:02<00:10,  3.92it/s]"
     ]
    },
    {
     "name": "stdout",
     "output_type": "stream",
     "text": [
      "Wisconsin-2000 is done\n",
      "Wisconsin-2004 is done\n",
      "Wisconsin-2008 is done\n",
      "Wisconsin-2012 is done\n",
      "Wisconsin-2016 is done\n",
      "Wisconsin-2020 is done\n",
      "New Hampshire-2000 is done\n",
      "New Hampshire-2004 is done\n"
     ]
    },
    {
     "name": "stderr",
     "output_type": "stream",
     "text": [
      "Processing States:  19%|█▉        | 9/48 [00:02<00:07,  5.51it/s]"
     ]
    },
    {
     "name": "stdout",
     "output_type": "stream",
     "text": [
      "New Hampshire-2008 is done\n",
      "New Hampshire-2012 is done\n",
      "New Hampshire-2016 is done\n",
      "New Hampshire-2020 is done\n",
      "Wyoming-2000 is done\n",
      "Wyoming-2004 is done\n",
      "Wyoming-2008 is done\n",
      "Wyoming-2012 is done\n",
      "Wyoming-2016 is done\n",
      "Wyoming-2020 is done\n",
      "Kansas-2000 is done\n",
      "Kansas-2004 is done\n",
      "Kansas-2008 is done\n",
      "Kansas-2012 is done\n",
      "Kansas-2016 is done\n",
      "Kansas-2020 is done\n",
      "Missouri-2000 is done\n",
      "Missouri-2004 is done\n",
      "Missouri-2008 is done\n"
     ]
    },
    {
     "name": "stderr",
     "output_type": "stream",
     "text": [
      "Processing States:  23%|██▎       | 11/48 [00:03<00:09,  4.03it/s]"
     ]
    },
    {
     "name": "stdout",
     "output_type": "stream",
     "text": [
      "Missouri-2012 is done\n",
      "Missouri-2016 is done\n",
      "Missouri-2020 is done\n",
      "Maine-2000 is done\n",
      "Maine-2004 is done\n",
      "Maine-2008 is done\n",
      "Maine-2012 is done\n",
      "Maine-2016 is done\n",
      "Maine-2020 is done\n",
      "Iowa-2000 is done\n",
      "Iowa-2004 is done\n",
      "Iowa-2008 is done\n",
      "Iowa-2012 is done\n"
     ]
    },
    {
     "name": "stderr",
     "output_type": "stream",
     "text": [
      "Processing States:  27%|██▋       | 13/48 [00:03<00:08,  4.31it/s]"
     ]
    },
    {
     "name": "stdout",
     "output_type": "stream",
     "text": [
      "Iowa-2016 is done\n",
      "Iowa-2020 is done\n",
      "Arkansas-2000 is done\n",
      "Arkansas-2004 is done\n",
      "Arkansas-2008 is done\n",
      "Arkansas-2012 is done\n"
     ]
    },
    {
     "name": "stderr",
     "output_type": "stream",
     "text": [
      "Processing States:  31%|███▏      | 15/48 [00:03<00:06,  4.75it/s]"
     ]
    },
    {
     "name": "stdout",
     "output_type": "stream",
     "text": [
      "Arkansas-2016 is done\n",
      "Arkansas-2020 is done\n",
      "Colorado-2000 is done\n",
      "Colorado-2004 is done\n",
      "Colorado-2008 is done\n",
      "Colorado-2012 is done\n",
      "Colorado-2016 is done\n",
      "Colorado-2020 is done\n"
     ]
    },
    {
     "name": "stderr",
     "output_type": "stream",
     "text": [
      "Processing States:  33%|███▎      | 16/48 [00:04<00:06,  4.79it/s]"
     ]
    },
    {
     "name": "stdout",
     "output_type": "stream",
     "text": [
      "Alabama-2000 is done\n",
      "Alabama-2004 is done\n",
      "Alabama-2008 is done\n",
      "Alabama-2012 is done\n",
      "Alabama-2016 is done\n",
      "Alabama-2020 is done\n",
      "West Virginia-2000 is done\n"
     ]
    },
    {
     "name": "stderr",
     "output_type": "stream",
     "text": [
      "Processing States:  35%|███▌      | 17/48 [00:04<00:06,  5.03it/s]"
     ]
    },
    {
     "name": "stdout",
     "output_type": "stream",
     "text": [
      "West Virginia-2004 is done\n",
      "West Virginia-2008 is done\n",
      "West Virginia-2012 is done\n",
      "West Virginia-2016 is done\n",
      "West Virginia-2020 is done\n",
      "New Jersey-2000 is done\n",
      "New Jersey-2004 is done\n",
      "New Jersey-2008 is done\n",
      "New Jersey-2012 is done\n",
      "New Jersey-2016 is done\n",
      "New Jersey-2020 is done\n",
      "Virginia-2000 is done\n",
      "Virginia-2004 is done\n",
      "Virginia-2008 is done\n",
      "Virginia-2012 is done\n"
     ]
    },
    {
     "name": "stderr",
     "output_type": "stream",
     "text": [
      "Processing States:  40%|███▉      | 19/48 [00:05<00:09,  3.09it/s]"
     ]
    },
    {
     "name": "stdout",
     "output_type": "stream",
     "text": [
      "Virginia-2016 is done\n",
      "Virginia-2020 is done\n",
      "California-2000 is done\n"
     ]
    },
    {
     "name": "stderr",
     "output_type": "stream",
     "text": [
      "Processing States:  42%|████▏     | 20/48 [00:05<00:07,  3.55it/s]"
     ]
    },
    {
     "name": "stdout",
     "output_type": "stream",
     "text": [
      "California-2004 is done\n",
      "California-2008 is done\n",
      "California-2012 is done\n",
      "California-2016 is done\n",
      "California-2020 is done\n",
      "Maryland-2000 is done\n",
      "Maryland-2004 is done\n",
      "Maryland-2008 is done\n",
      "Maryland-2012 is done\n",
      "Maryland-2016 is done\n",
      "Maryland-2020 is done\n",
      "Pennsylvania-2000 is done\n"
     ]
    },
    {
     "name": "stderr",
     "output_type": "stream",
     "text": [
      "Processing States:  46%|████▌     | 22/48 [00:05<00:05,  4.59it/s]"
     ]
    },
    {
     "name": "stdout",
     "output_type": "stream",
     "text": [
      "Pennsylvania-2004 is done\n",
      "Pennsylvania-2008 is done\n",
      "Pennsylvania-2012 is done\n",
      "Pennsylvania-2016 is done\n",
      "Pennsylvania-2020 is done\n",
      "Connecticut-2000 is done\n",
      "Connecticut-2004 is done\n",
      "Connecticut-2008 is done\n",
      "Connecticut-2012 is done\n",
      "Connecticut-2016 is done\n",
      "Connecticut-2020 is done\n",
      "Rhode Island-2000 is done\n",
      "Rhode Island-2004 is done\n",
      "Rhode Island-2008 is done\n",
      "Rhode Island-2012 is done\n",
      "Rhode Island-2016 is done\n",
      "Rhode Island-2020 is done\n",
      "Washington-2000 is done\n",
      "Washington-2004 is done\n"
     ]
    },
    {
     "name": "stderr",
     "output_type": "stream",
     "text": [
      "Processing States:  52%|█████▏    | 25/48 [00:05<00:03,  6.96it/s]"
     ]
    },
    {
     "name": "stdout",
     "output_type": "stream",
     "text": [
      "Washington-2008 is done\n",
      "Washington-2012 is done\n",
      "Washington-2016 is done\n",
      "Washington-2020 is done\n",
      "Michigan-2000 is done\n",
      "Michigan-2004 is done\n",
      "Michigan-2008 is done\n"
     ]
    },
    {
     "name": "stderr",
     "output_type": "stream",
     "text": [
      "Processing States:  54%|█████▍    | 26/48 [00:06<00:03,  6.08it/s]"
     ]
    },
    {
     "name": "stdout",
     "output_type": "stream",
     "text": [
      "Michigan-2012 is done\n",
      "Michigan-2016 is done\n",
      "Michigan-2020 is done\n",
      "Kentucky-2000 is done\n",
      "Kentucky-2004 is done\n",
      "Kentucky-2008 is done\n",
      "Kentucky-2012 is done\n",
      "Kentucky-2016 is done\n"
     ]
    },
    {
     "name": "stderr",
     "output_type": "stream",
     "text": [
      "Processing States:  56%|█████▋    | 27/48 [00:06<00:04,  4.56it/s]"
     ]
    },
    {
     "name": "stdout",
     "output_type": "stream",
     "text": [
      "Kentucky-2020 is done\n",
      "Delaware-2000 is done\n",
      "Delaware-2004 is done\n",
      "Delaware-2008 is done\n",
      "Delaware-2012 is done\n",
      "Delaware-2016 is done\n",
      "Delaware-2020 is done\n",
      "Indiana-2000 is done\n",
      "Indiana-2004 is done\n",
      "Indiana-2008 is done\n"
     ]
    },
    {
     "name": "stderr",
     "output_type": "stream",
     "text": [
      "Processing States:  60%|██████    | 29/48 [00:06<00:03,  5.14it/s]"
     ]
    },
    {
     "name": "stdout",
     "output_type": "stream",
     "text": [
      "Indiana-2012 is done\n",
      "Indiana-2016 is done\n",
      "Indiana-2020 is done\n",
      "New Mexico-2000 is done\n",
      "New Mexico-2004 is done\n",
      "New Mexico-2008 is done\n",
      "New Mexico-2012 is done\n",
      "New Mexico-2016 is done\n",
      "New Mexico-2020 is done\n"
     ]
    },
    {
     "name": "stderr",
     "output_type": "stream",
     "text": [
      "Processing States:  65%|██████▍   | 31/48 [00:07<00:02,  5.75it/s]"
     ]
    },
    {
     "name": "stdout",
     "output_type": "stream",
     "text": [
      "Florida-2000 is done\n",
      "Florida-2004 is done\n",
      "Florida-2008 is done\n",
      "Florida-2012 is done\n",
      "Florida-2016 is done\n",
      "Florida-2020 is done\n",
      "Oklahoma-2000 is done\n"
     ]
    },
    {
     "name": "stderr",
     "output_type": "stream",
     "text": [
      "Processing States:  67%|██████▋   | 32/48 [00:07<00:02,  5.45it/s]"
     ]
    },
    {
     "name": "stdout",
     "output_type": "stream",
     "text": [
      "Oklahoma-2004 is done\n",
      "Oklahoma-2008 is done\n",
      "Oklahoma-2012 is done\n",
      "Oklahoma-2016 is done\n",
      "Oklahoma-2020 is done\n",
      "South Dakota-2000 is done\n",
      "South Dakota-2004 is done\n"
     ]
    },
    {
     "name": "stderr",
     "output_type": "stream",
     "text": [
      "Processing States:  69%|██████▉   | 33/48 [00:07<00:02,  5.49it/s]"
     ]
    },
    {
     "name": "stdout",
     "output_type": "stream",
     "text": [
      "South Dakota-2008 is done\n",
      "South Dakota-2012 is done\n",
      "South Dakota-2016 is done\n",
      "South Dakota-2020 is done\n",
      "Vermont-2000 is done\n",
      "Vermont-2004 is done\n",
      "Vermont-2008 is done\n",
      "Vermont-2012 is done\n",
      "Vermont-2016 is done\n",
      "Vermont-2020 is done\n",
      "Utah-2000 is done\n",
      "Utah-2004 is done\n",
      "Utah-2008 is done\n",
      "Utah-2012 is done\n"
     ]
    },
    {
     "name": "stderr",
     "output_type": "stream",
     "text": [
      "Processing States:  75%|███████▌  | 36/48 [00:07<00:01,  7.23it/s]"
     ]
    },
    {
     "name": "stdout",
     "output_type": "stream",
     "text": [
      "Utah-2016 is done\n",
      "Utah-2020 is done\n",
      "North Dakota-2000 is done\n",
      "North Dakota-2004 is done\n",
      "North Dakota-2008 is done\n",
      "North Dakota-2012 is done\n",
      "North Dakota-2016 is done\n",
      "North Dakota-2020 is done\n",
      "Minnesota-2000 is done\n"
     ]
    },
    {
     "name": "stderr",
     "output_type": "stream",
     "text": [
      "Processing States:  77%|███████▋  | 37/48 [00:07<00:01,  6.21it/s]"
     ]
    },
    {
     "name": "stdout",
     "output_type": "stream",
     "text": [
      "Minnesota-2004 is done\n",
      "Minnesota-2008 is done\n",
      "Minnesota-2012 is done\n",
      "Minnesota-2016 is done\n",
      "Minnesota-2020 is done\n",
      "Montana-2000 is done\n"
     ]
    },
    {
     "name": "stderr",
     "output_type": "stream",
     "text": [
      "Processing States:  79%|███████▉  | 38/48 [00:08<00:01,  6.27it/s]"
     ]
    },
    {
     "name": "stdout",
     "output_type": "stream",
     "text": [
      "Montana-2004 is done\n",
      "Montana-2008 is done\n",
      "Montana-2012 is done\n",
      "Montana-2016 is done\n",
      "Montana-2020 is done\n",
      "Tennessee-2000 is done\n",
      "Tennessee-2004 is done\n",
      "Tennessee-2008 is done\n",
      "Tennessee-2012 is done\n",
      "Tennessee-2016 is done\n"
     ]
    },
    {
     "name": "stderr",
     "output_type": "stream",
     "text": [
      "Processing States:  85%|████████▌ | 41/48 [00:08<00:01,  6.50it/s]"
     ]
    },
    {
     "name": "stdout",
     "output_type": "stream",
     "text": [
      "Tennessee-2020 is done\n",
      "Nevada-2000 is done\n",
      "Nevada-2004 is done\n",
      "Nevada-2008 is done\n",
      "Nevada-2012 is done\n",
      "Nevada-2016 is done\n",
      "Nevada-2020 is done\n",
      "South Carolina-2000 is done\n",
      "South Carolina-2004 is done\n",
      "South Carolina-2008 is done\n",
      "South Carolina-2012 is done\n",
      "South Carolina-2016 is done\n",
      "South Carolina-2020 is done\n",
      "Mississippi-2000 is done\n",
      "Mississippi-2004 is done\n",
      "Mississippi-2008 is done\n",
      "Mississippi-2012 is done\n",
      "Mississippi-2016 is done\n"
     ]
    },
    {
     "name": "stderr",
     "output_type": "stream",
     "text": [
      "Processing States:  90%|████████▉ | 43/48 [00:09<00:00,  5.42it/s]"
     ]
    },
    {
     "name": "stdout",
     "output_type": "stream",
     "text": [
      "Mississippi-2020 is done\n",
      "New York-2000 is done\n",
      "New York-2004 is done\n",
      "New York-2008 is done\n",
      "New York-2012 is done\n",
      "New York-2016 is done\n",
      "New York-2020 is done\n",
      "Illinois-2000 is done\n",
      "Illinois-2004 is done\n",
      "Illinois-2008 is done\n",
      "Illinois-2012 is done\n",
      "Illinois-2016 is done\n"
     ]
    },
    {
     "name": "stderr",
     "output_type": "stream",
     "text": [
      "Processing States:  92%|█████████▏| 44/48 [00:09<00:00,  4.71it/s]"
     ]
    },
    {
     "name": "stdout",
     "output_type": "stream",
     "text": [
      "Illinois-2020 is done\n",
      "Oregon-2000 is done\n",
      "Oregon-2004 is done\n",
      "Oregon-2008 is done\n",
      "Oregon-2012 is done\n",
      "Oregon-2016 is done\n",
      "Oregon-2020 is done\n",
      "Louisiana-2000 is done\n",
      "Louisiana-2004 is done\n",
      "Louisiana-2008 is done\n"
     ]
    },
    {
     "name": "stderr",
     "output_type": "stream",
     "text": [
      "Processing States:  96%|█████████▌| 46/48 [00:09<00:00,  5.46it/s]"
     ]
    },
    {
     "name": "stdout",
     "output_type": "stream",
     "text": [
      "Louisiana-2012 is done\n",
      "Louisiana-2016 is done\n",
      "Louisiana-2020 is done\n",
      "Ohio-2000 is done\n",
      "Ohio-2004 is done\n"
     ]
    },
    {
     "name": "stderr",
     "output_type": "stream",
     "text": [
      "Processing States:  98%|█████████▊| 47/48 [00:09<00:00,  4.68it/s]"
     ]
    },
    {
     "name": "stdout",
     "output_type": "stream",
     "text": [
      "Ohio-2008 is done\n",
      "Ohio-2012 is done\n",
      "Ohio-2016 is done\n",
      "Ohio-2020 is done\n",
      "North Carolina-2000 is done\n"
     ]
    },
    {
     "name": "stderr",
     "output_type": "stream",
     "text": [
      "Processing States: 100%|██████████| 48/48 [00:10<00:00,  4.68it/s]"
     ]
    },
    {
     "name": "stdout",
     "output_type": "stream",
     "text": [
      "North Carolina-2004 is done\n",
      "North Carolina-2008 is done\n",
      "North Carolina-2012 is done\n",
      "North Carolina-2016 is done\n",
      "North Carolina-2020 is done\n",
      "Metric calculation complete. \n",
      "Results saved to ../dataOut/election_metrics.csv\n"
     ]
    },
    {
     "name": "stderr",
     "output_type": "stream",
     "text": [
      "\n"
     ]
    }
   ],
   "source": [
    "###### Analsysis Params ###### \n",
    "elections = [2000, 2004, 2008, 2012, 2016, 2020]\n",
    "demographic = 'BVAP'\n",
    "# length of homotopy\n",
    "t = 100\n",
    "\n",
    "###### Out Dir ###### \n",
    "\n",
    "outDir = '../dataOut'\n",
    "os.makedirs(outDir, exist_ok = True)\n",
    "\n",
    "cols = ['State', 'StateFP', 'Election_Year', 'w', 'w1', 'v', 'mvc', 'l1', 'l1w', 'l2',\n",
    "     'l2w', 'linf', 'linfw', 'r', 'r^2', \n",
    "     'BVAP%', 'Dem%', 'REP%', 'Votes', 'VAP','Winner']\n",
    "\n",
    "df_out = pd.DataFrame(columns = cols)\n",
    "\n",
    "for G in tqdm(graphs, desc = \"Processing States\"):\n",
    "    n = list(G.nodes)[0]\n",
    "    stateFP = G.nodes[n].get('STATEFP')\n",
    "    \n",
    "    for election in elections:\n",
    "        # Index of DataFrame is {stateFP}{Election Year}\n",
    "        idx = f'{stateFP}{election}'\n",
    "\n",
    "        # State name and voting age population\n",
    "        state_name = state_dict[stateFP]['name']\n",
    "        VAP = np.sum([G.nodes[v][\"VAP\"] for v in G.nodes])\n",
    "\n",
    "\n",
    "###### Node Values ###### \n",
    "        # Democrat%\n",
    "        D = np.array(list((nx.get_node_attributes(G,f'{election}_D').values())))\n",
    "        # Republican%\n",
    "        R = np.array(list((nx.get_node_attributes(G,f'{election}_R').values())))\n",
    "        # Total Votes\n",
    "        V = np.array(list((nx.get_node_attributes(G,f'{election}_V').values())))\n",
    "        # Demographic%\n",
    "        B = np.nan_to_num(np.array(list((nx.get_node_attributes(G,demographic).values()))))\n",
    "        # VAP\n",
    "        VAP = np.array(list((nx.get_node_attributes(G,'VAP').values())))\n",
    "\n",
    "###### Compute Vineyard ###### \n",
    "\n",
    "        # Persistence diagrams\n",
    "        PD0 = []\n",
    "\n",
    "        # Straight Line Homotopy\n",
    "        Hs = Homotopy(D,B, t = 50)\n",
    "        for h in Hs:\n",
    "            for i, v in enumerate(G.nodes()):\n",
    "                G.nodes[v]['Homotopy'] = h[i]\n",
    "            PD0.append(Get_Adjacency_Persistence(G,'Homotopy', dimension = 0, popCol = \"VAP\", popMin = 10))\n",
    "\n",
    "###### Calculate Metrics ###### \n",
    "        # Wasserstein Distance\n",
    "        w = Get_W_Infinity(PD0[0], PD0[-1])\n",
    "        # 1-Wasserstein Distance\n",
    "        w1 = gudhi.hera.wasserstein_distance(PD0[0], PD0[-1])\n",
    "        # Vineyard Distance (F(D) = D, F(L) = 1)\n",
    "        v = vdist(vineyard_from_pds(PD0), fD, fL)\n",
    "        # MVC \n",
    "        mvc = min_vc(PD0[0], PD0[-1])\n",
    "        #l1 Norm\n",
    "        l1 = np.linalg.norm(D - B, ord = 1)\n",
    "        # l2 Norm\n",
    "        l2 = np.linalg.norm(D - B, ord = 2)\n",
    "        #Linf Norm\n",
    "        linf = np.linalg.norm(D - B, ord = np.inf)\n",
    "        # Weighted l1 Norm\n",
    "        l1w = l1 / len(G)\n",
    "        # Weighted L2 Norm\n",
    "        l2w = l2 / len(G)\n",
    "        # Weighted Linf Norm\n",
    "        linfw = linf / len(G)\n",
    "        # Pearson Correlation\n",
    "        r = np.corrcoef(D,B)[0,1]\n",
    "        # R^2\n",
    "        r2 = r ** 2\n",
    "        # Total Votes\n",
    "        tV = np.sum(V)\n",
    "        # Democrat %\n",
    "        dP = np.sum(D * V) / tV * 100.0 \n",
    "        # Republican %\n",
    "        rP = np.sum(R * V) / tV * 100.0 \n",
    "        # Total VAP\n",
    "        tVAP = np.sum(VAP)\n",
    "        # Demographic Percentage\n",
    "        bP = np.sum(B * VAP) / tVAP * 100.0\n",
    "        # winner\n",
    "        if dP > rP:\n",
    "            winner = \"Democrat\"\n",
    "        else:\n",
    "            winner = \"Republican\"\n",
    "###### Store Data ###### \n",
    "\n",
    "        data = pd.Series([state_name, stateFP, election, w, w1, v, mvc, l1, l1w, l2, l2w, linf, linfw, r, r2, bP, dP, rP, tV, tVAP, winner])\n",
    "        \n",
    "        df_out.loc[idx] = pd.Series({\n",
    "            f'{col}' : d for col, d in zip(cols, data)\n",
    "        })\n",
    "        print(f'{state_name}-{election} is done')\n",
    "\n",
    "###### Save ############################################################################## \n",
    "# Index is {StateFP}{ElectionYear}\n",
    "df_out.index.name = '[StateFP][ElectionYear]'\n",
    "df_out.to_csv(os.path.join(outDir, 'election_metrics.csv'), index = True)\n",
    "print(f\"Metric calculation complete. \\nResults saved to {outDir}/election_metrics.csv\")"
   ]
  },
  {
   "cell_type": "code",
   "execution_count": 4,
   "metadata": {},
   "outputs": [
    {
     "name": "stdout",
     "output_type": "stream",
     "text": [
      "   [StateFP][ElectionYear]  State  StateFP  Election_Year         w        w1  \\\n",
      "0                   482000  Texas       48           2000  0.430731  2.592206   \n",
      "1                   482004  Texas       48           2004  0.385406  2.548228   \n",
      "2                   482008  Texas       48           2008  0.482466  2.702160   \n",
      "3                   482012  Texas       48           2012  0.500909  2.624320   \n",
      "4                   482016  Texas       48           2016  0.428717  2.566622   \n",
      "\n",
      "          v       mvc         l1       l1w  ...      linf     linfw         R  \\\n",
      "0  0.485710  0.159006  67.117461  0.264242  ...  0.773962  0.003047  0.173609   \n",
      "1  0.462384  0.158916  58.595791  0.230692  ...  0.743589  0.002928  0.228178   \n",
      "2  0.545844  0.193575  62.744125  0.247024  ...  0.844335  0.003324  0.104491   \n",
      "3  0.542655  0.203138  54.363558  0.214030  ...  0.862778  0.003397  0.089062   \n",
      "4  0.529528  0.207460  47.361260  0.186462  ...  0.790586  0.003113  0.075331   \n",
      "\n",
      "        R^2      BVAP%       Dem%       REP%    Votes       VAP      Winner  \n",
      "0  0.030140  13.029443  38.086744  59.132682  6407637  18578830  Republican  \n",
      "1  0.052065  13.029443  38.678646  60.624474  7410749  18578830  Republican  \n",
      "2  0.010918  13.029443  44.355687  54.783643  8077795  18578830  Republican  \n",
      "3  0.007932  13.029443  42.113662  56.434785  7993851  18578830  Republican  \n",
      "4  0.005675  13.029443  43.677315  51.802462  8969226  18578830  Republican  \n",
      "\n",
      "[5 rows x 22 columns]\n",
      "   [StateFP][ElectionYear]  State  StateFP  Election_Year         w        w1  \\\n",
      "0                   482000  Texas       48           2000  0.430731  2.592206   \n",
      "1                   482004  Texas       48           2004  0.385406  2.548228   \n",
      "2                   482008  Texas       48           2008  0.482466  2.702160   \n",
      "3                   482012  Texas       48           2012  0.500909  2.624320   \n",
      "4                   482016  Texas       48           2016  0.428717  2.566622   \n",
      "\n",
      "          v       mvc         l1       l1w  ...      linf     linfw         r  \\\n",
      "0  0.014176  0.325931  67.117461  0.264242  ...  0.773962  0.003047  0.173609   \n",
      "1  0.013506  0.321440  58.595791  0.230692  ...  0.743589  0.002928  0.228178   \n",
      "2  0.015958  0.421040  62.744125  0.247024  ...  0.844335  0.003324  0.104491   \n",
      "3  0.015879  0.453384  54.363558  0.214030  ...  0.862778  0.003397  0.089062   \n",
      "4  0.015497  0.464772  47.361260  0.186462  ...  0.790586  0.003113  0.075331   \n",
      "\n",
      "        r^2      BVAP%       Dem%       REP%    Votes       VAP      Winner  \n",
      "0  0.030140  13.029443  37.981958  59.298599  6407637  18578830  Republican  \n",
      "1  0.052065  13.029443  38.224260  61.085823  7410749  18578830  Republican  \n",
      "2  0.010918  13.029443  43.683121  55.452360  8077795  18578830  Republican  \n",
      "3  0.007932  13.029443  41.383358  57.166977  7993851  18578830  Republican  \n",
      "4  0.005675  13.029443  43.235258  52.234686  8969226  18578830  Republican  \n",
      "\n",
      "[5 rows x 22 columns]\n"
     ]
    }
   ],
   "source": [
    "df_1 = pd.read_csv('../../PaperCodes/DataOut/Election_Metrics_P.csv')\n",
    "df_2 = pd.read_csv('../dataOut/election_metrics.csv')\n",
    "print(df_1.head())\n",
    "print(df_2.head())\n",
    "\n"
   ]
  }
 ],
 "metadata": {
  "kernelspec": {
   "display_name": "uncg",
   "language": "python",
   "name": "python3"
  },
  "language_info": {
   "codemirror_mode": {
    "name": "ipython",
    "version": 3
   },
   "file_extension": ".py",
   "mimetype": "text/x-python",
   "name": "python",
   "nbconvert_exporter": "python",
   "pygments_lexer": "ipython3",
   "version": "3.10.18"
  }
 },
 "nbformat": 4,
 "nbformat_minor": 2
}

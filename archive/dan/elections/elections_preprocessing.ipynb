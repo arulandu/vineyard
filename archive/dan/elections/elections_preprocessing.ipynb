{
 "cells": [
  {
   "cell_type": "code",
   "execution_count": 80,
   "metadata": {},
   "outputs": [],
   "source": [
    "import os \n",
    "\n",
    "# data manipulation\n",
    "import numpy as np\n",
    "import pandas as pd\n",
    "\n",
    "# geospatial\n",
    "import geopandas as gpd\n",
    "from gerrychain import Graph\n",
    "import networkx as nx\n",
    "from networkx import is_connected\n",
    "\n",
    "pd.options.mode.chained_assignment = None"
   ]
  },
  {
   "cell_type": "markdown",
   "metadata": {},
   "source": [
    "## Data"
   ]
  },
  {
   "cell_type": "code",
   "execution_count": 81,
   "metadata": {},
   "outputs": [],
   "source": [
    "state_dict = {\n",
    "    '01': 'Alabama',\n",
    "    '02': 'Alaska',\n",
    "    '04': 'Arizona',\n",
    "    '05': 'Arkansas',\n",
    "    '06': 'California',\n",
    "    '08': 'Colorado',\n",
    "    '09': 'Connecticut',\n",
    "    '10': 'Delaware',\n",
    "    '11': 'District_of_Columbia',\n",
    "    '12': 'Florida',\n",
    "    '13': 'Georgia',\n",
    "    '15': 'Hawaii',\n",
    "    '16': 'Idaho',\n",
    "    '17': 'Illinois',\n",
    "    '18': 'Indiana',\n",
    "    '19': 'Iowa',\n",
    "    '20': 'Kansas',\n",
    "    '21': 'Kentucky',\n",
    "    '22': 'Louisiana',\n",
    "    '23': 'Maine',\n",
    "    '24': 'Maryland',\n",
    "    '25': 'Massachusetts',\n",
    "    '26': 'Michigan',\n",
    "    '27': 'Minnesota',\n",
    "    '28': 'Mississippi',\n",
    "    '29': 'Missouri',\n",
    "    '30': 'Montana',\n",
    "    '31': 'Nebraska',\n",
    "    '32': 'Nevada',\n",
    "    '33': 'New_Hampshire',\n",
    "    '34': 'New_Jersey',\n",
    "    '35': 'New_Mexico',\n",
    "    '36': 'New_York',\n",
    "    '37': 'North_Carolina',\n",
    "    '38': 'North_Dakota',\n",
    "    '39': 'Ohio',\n",
    "    '40': 'Oklahoma',\n",
    "    '41': 'Oregon',\n",
    "    '42': 'Pennsylvania',\n",
    "    '44': 'Rhode_Island',\n",
    "    '45': 'South_Carolina',\n",
    "    '46': 'South_Dakota',\n",
    "    '47': 'Tennessee',\n",
    "    '48': 'Texas',\n",
    "    '49': 'Utah',\n",
    "    '50': 'Vermont',\n",
    "    '51': 'Virginia',\n",
    "    '53': 'Washington',\n",
    "    '54': 'West_Virginia',\n",
    "    '55': 'Wisconsin',\n",
    "    '56': 'Wyoming'\n",
    "}\n",
    "\n",
    "###### Voting Data ######\n",
    "# From: https://dataverse.harvard.edu/dataset.xhtml?persistentId=doi:10.7910/DVN/VOQCHQ\n",
    "    # county_fips column used to join election data to graph. Format is {state_fips}{county_fips}\n",
    "    # We Drop NAN values. These are state write in ballots for Conneticut and Rhode Island. They account for less than 10,000 votes. \n",
    "    # We do not consider alaska because the county FIPS codes correspond to different districts than census population tracts\n",
    "        # Note: County results in Alaska for 2004 are based on official Alaska data, but it is clear the district returns significantly overstate the number of votes cast. In Alaska, the county_fips field stores a combination of state FIPS code and district.\n",
    "\n",
    "\n",
    "election_df = pd.read_csv('../dataIn/elections/countypres_2000-2024.csv')\n",
    "election_df.dropna(subset = ['county_fips'], inplace=True)\n",
    "election_df['county_fips'] = election_df['county_fips'].astype(str)\n",
    "\n",
    "\n",
    "###### BVAP Data ######\n",
    "# src: https://www.census.gov/programs-surveys/decennial-census/about/voting-rights/cvap.2020.html#list-tab-1518558936\n",
    "    \n",
    "    # Data joined using last 5 digits of geiod {STATEFIPS}{COUNTYFIPS} \n",
    "    # Columns Used:\n",
    "        # cvap_est:      The rounded estimate of the total number of United States citizens 18 years of age or older for that geographic area or group.\n",
    "        # lnnumber:      The line number of the record.\n",
    "            # 1: Total Population\n",
    "            # 5: Black or African American alone\n",
    "            # 7: White Alone\n",
    "            # 13: Hispanic or Latino Alone\n",
    "            \n",
    "acs_df = pd.read_csv('../dataIn/elections/CVAP_ACS_2016-2020_county.csv', encoding = 'latin-1')\n",
    "acs_df['COUNTYFP'] = acs_df['geoid'].str[-5:].astype(str)\n",
    "\n",
    "\n",
    "###### Tigerline Shapefiles ######\n",
    "# src: https://www.nhgis.org/gis-files\n",
    "    # used to generate Json graph using gerrychain\n",
    "gdf = gpd.read_file(\"../dataIn/elections/shapefiles/US_county_2020.shp\")\n"
   ]
  },
  {
   "cell_type": "markdown",
   "metadata": {},
   "source": [
    "### Generate Graphs and Load Data"
   ]
  },
  {
   "cell_type": "code",
   "execution_count": 86,
   "metadata": {},
   "outputs": [
    {
     "name": "stdout",
     "output_type": "stream",
     "text": [
      "--------------------------------------------------\n",
      "Constructing graph for: Alabama\n"
     ]
    },
    {
     "name": "stderr",
     "output_type": "stream",
     "text": [
      "/Users/dgottschalk/miniconda3/envs/uncg/lib/python3.10/site-packages/gerrychain/graph/graph.py:457: UserWarning: NA values found in column CSAFP!\n",
      "  warnings.warn(\"NA values found in column {}!\".format(column))\n",
      "/Users/dgottschalk/miniconda3/envs/uncg/lib/python3.10/site-packages/gerrychain/graph/graph.py:457: UserWarning: NA values found in column CBSAFP!\n",
      "  warnings.warn(\"NA values found in column {}!\".format(column))\n",
      "/Users/dgottschalk/miniconda3/envs/uncg/lib/python3.10/site-packages/gerrychain/graph/graph.py:457: UserWarning: NA values found in column METDIVFP!\n",
      "  warnings.warn(\"NA values found in column {}!\".format(column))\n"
     ]
    },
    {
     "name": "stdout",
     "output_type": "stream",
     "text": [
      "Alabama graph completed and saved to: \"../dataIn/elections/state_graphs_2020/Alabama.json\"\n",
      "--------------------------------------------------\n",
      "--------------------------------------------------\n",
      "Constructing graph for: Alaska\n",
      "--------------------------------------------------\n",
      "Constructing graph for: Arizona\n"
     ]
    },
    {
     "name": "stderr",
     "output_type": "stream",
     "text": [
      "/Users/dgottschalk/miniconda3/envs/uncg/lib/python3.10/site-packages/gerrychain/graph/graph.py:457: UserWarning: NA values found in column CSAFP!\n",
      "  warnings.warn(\"NA values found in column {}!\".format(column))\n",
      "/Users/dgottschalk/miniconda3/envs/uncg/lib/python3.10/site-packages/gerrychain/graph/graph.py:457: UserWarning: NA values found in column CBSAFP!\n",
      "  warnings.warn(\"NA values found in column {}!\".format(column))\n",
      "/Users/dgottschalk/miniconda3/envs/uncg/lib/python3.10/site-packages/gerrychain/graph/graph.py:457: UserWarning: NA values found in column METDIVFP!\n",
      "  warnings.warn(\"NA values found in column {}!\".format(column))\n"
     ]
    },
    {
     "name": "stdout",
     "output_type": "stream",
     "text": [
      "Arizona graph completed and saved to: \"../dataIn/elections/state_graphs_2020/Arizona.json\"\n",
      "--------------------------------------------------\n",
      "--------------------------------------------------\n",
      "Constructing graph for: Arkansas\n"
     ]
    },
    {
     "name": "stderr",
     "output_type": "stream",
     "text": [
      "/Users/dgottschalk/miniconda3/envs/uncg/lib/python3.10/site-packages/gerrychain/graph/graph.py:457: UserWarning: NA values found in column CSAFP!\n",
      "  warnings.warn(\"NA values found in column {}!\".format(column))\n",
      "/Users/dgottschalk/miniconda3/envs/uncg/lib/python3.10/site-packages/gerrychain/graph/graph.py:457: UserWarning: NA values found in column CBSAFP!\n",
      "  warnings.warn(\"NA values found in column {}!\".format(column))\n",
      "/Users/dgottschalk/miniconda3/envs/uncg/lib/python3.10/site-packages/gerrychain/graph/graph.py:457: UserWarning: NA values found in column METDIVFP!\n",
      "  warnings.warn(\"NA values found in column {}!\".format(column))\n"
     ]
    },
    {
     "name": "stdout",
     "output_type": "stream",
     "text": [
      "Arkansas graph completed and saved to: \"../dataIn/elections/state_graphs_2020/Arkansas.json\"\n",
      "--------------------------------------------------\n",
      "--------------------------------------------------\n",
      "Constructing graph for: California\n"
     ]
    },
    {
     "name": "stderr",
     "output_type": "stream",
     "text": [
      "/Users/dgottschalk/miniconda3/envs/uncg/lib/python3.10/site-packages/gerrychain/graph/graph.py:457: UserWarning: NA values found in column CSAFP!\n",
      "  warnings.warn(\"NA values found in column {}!\".format(column))\n",
      "/Users/dgottschalk/miniconda3/envs/uncg/lib/python3.10/site-packages/gerrychain/graph/graph.py:457: UserWarning: NA values found in column CBSAFP!\n",
      "  warnings.warn(\"NA values found in column {}!\".format(column))\n",
      "/Users/dgottschalk/miniconda3/envs/uncg/lib/python3.10/site-packages/gerrychain/graph/graph.py:457: UserWarning: NA values found in column METDIVFP!\n",
      "  warnings.warn(\"NA values found in column {}!\".format(column))\n"
     ]
    },
    {
     "name": "stdout",
     "output_type": "stream",
     "text": [
      "California graph completed and saved to: \"../dataIn/elections/state_graphs_2020/California.json\"\n",
      "--------------------------------------------------\n",
      "--------------------------------------------------\n",
      "Constructing graph for: Colorado\n"
     ]
    },
    {
     "name": "stderr",
     "output_type": "stream",
     "text": [
      "/Users/dgottschalk/miniconda3/envs/uncg/lib/python3.10/site-packages/gerrychain/graph/graph.py:457: UserWarning: NA values found in column CSAFP!\n",
      "  warnings.warn(\"NA values found in column {}!\".format(column))\n",
      "/Users/dgottschalk/miniconda3/envs/uncg/lib/python3.10/site-packages/gerrychain/graph/graph.py:457: UserWarning: NA values found in column CBSAFP!\n",
      "  warnings.warn(\"NA values found in column {}!\".format(column))\n",
      "/Users/dgottschalk/miniconda3/envs/uncg/lib/python3.10/site-packages/gerrychain/graph/graph.py:457: UserWarning: NA values found in column METDIVFP!\n",
      "  warnings.warn(\"NA values found in column {}!\".format(column))\n"
     ]
    },
    {
     "name": "stdout",
     "output_type": "stream",
     "text": [
      "----------\n",
      "County election data missing for: \n",
      "\t State            : Colorado\n",
      "\t County FIPS      : 08014\n",
      "\t Election         : 2000\n",
      "Filling with max value from neighboring nodes:\n",
      "\t County FIPS      : 00108\n",
      "\t Fill Value Dem%  : 0.5019100248488669\n",
      "\t Fill Value Rep%  : 0.4409839409561251\n",
      "\t Fill Value Votes : 107852\n",
      "----------\n",
      "Colorado graph completed and saved to: \"../dataIn/elections/state_graphs_2020/Colorado.json\"\n",
      "--------------------------------------------------\n",
      "--------------------------------------------------\n",
      "Constructing graph for: Connecticut\n"
     ]
    },
    {
     "name": "stderr",
     "output_type": "stream",
     "text": [
      "/Users/dgottschalk/miniconda3/envs/uncg/lib/python3.10/site-packages/gerrychain/graph/graph.py:457: UserWarning: NA values found in column METDIVFP!\n",
      "  warnings.warn(\"NA values found in column {}!\".format(column))\n",
      "/Users/dgottschalk/miniconda3/envs/uncg/lib/python3.10/site-packages/gerrychain/graph/graph.py:457: UserWarning: NA values found in column METDIVFP!\n",
      "  warnings.warn(\"NA values found in column {}!\".format(column))\n"
     ]
    },
    {
     "name": "stdout",
     "output_type": "stream",
     "text": [
      "Connecticut graph completed and saved to: \"../dataIn/elections/state_graphs_2020/Connecticut.json\"\n",
      "--------------------------------------------------\n",
      "--------------------------------------------------\n",
      "Constructing graph for: Delaware\n",
      "Delaware graph completed and saved to: \"../dataIn/elections/state_graphs_2020/Delaware.json\"\n",
      "--------------------------------------------------\n",
      "--------------------------------------------------\n",
      "Constructing graph for: District_of_Columbia\n",
      "--------------------------------------------------\n",
      "Constructing graph for: Florida\n"
     ]
    },
    {
     "name": "stderr",
     "output_type": "stream",
     "text": [
      "/Users/dgottschalk/miniconda3/envs/uncg/lib/python3.10/site-packages/gerrychain/graph/graph.py:457: UserWarning: NA values found in column CSAFP!\n",
      "  warnings.warn(\"NA values found in column {}!\".format(column))\n",
      "/Users/dgottschalk/miniconda3/envs/uncg/lib/python3.10/site-packages/gerrychain/graph/graph.py:457: UserWarning: NA values found in column CBSAFP!\n",
      "  warnings.warn(\"NA values found in column {}!\".format(column))\n",
      "/Users/dgottschalk/miniconda3/envs/uncg/lib/python3.10/site-packages/gerrychain/graph/graph.py:457: UserWarning: NA values found in column METDIVFP!\n",
      "  warnings.warn(\"NA values found in column {}!\".format(column))\n"
     ]
    },
    {
     "name": "stdout",
     "output_type": "stream",
     "text": [
      "Florida graph completed and saved to: \"../dataIn/elections/state_graphs_2020/Florida.json\"\n",
      "--------------------------------------------------\n",
      "--------------------------------------------------\n",
      "Constructing graph for: Georgia\n"
     ]
    },
    {
     "name": "stderr",
     "output_type": "stream",
     "text": [
      "/Users/dgottschalk/miniconda3/envs/uncg/lib/python3.10/site-packages/gerrychain/graph/graph.py:457: UserWarning: NA values found in column CSAFP!\n",
      "  warnings.warn(\"NA values found in column {}!\".format(column))\n",
      "/Users/dgottschalk/miniconda3/envs/uncg/lib/python3.10/site-packages/gerrychain/graph/graph.py:457: UserWarning: NA values found in column CBSAFP!\n",
      "  warnings.warn(\"NA values found in column {}!\".format(column))\n",
      "/Users/dgottschalk/miniconda3/envs/uncg/lib/python3.10/site-packages/gerrychain/graph/graph.py:457: UserWarning: NA values found in column METDIVFP!\n",
      "  warnings.warn(\"NA values found in column {}!\".format(column))\n"
     ]
    },
    {
     "name": "stdout",
     "output_type": "stream",
     "text": [
      "Georgia graph completed and saved to: \"../dataIn/elections/state_graphs_2020/Georgia.json\"\n",
      "--------------------------------------------------\n",
      "--------------------------------------------------\n",
      "Constructing graph for: Hawaii\n",
      "--------------------------------------------------\n",
      "Constructing graph for: Idaho\n"
     ]
    },
    {
     "name": "stderr",
     "output_type": "stream",
     "text": [
      "/Users/dgottschalk/miniconda3/envs/uncg/lib/python3.10/site-packages/gerrychain/graph/graph.py:457: UserWarning: NA values found in column CSAFP!\n",
      "  warnings.warn(\"NA values found in column {}!\".format(column))\n",
      "/Users/dgottschalk/miniconda3/envs/uncg/lib/python3.10/site-packages/gerrychain/graph/graph.py:457: UserWarning: NA values found in column CBSAFP!\n",
      "  warnings.warn(\"NA values found in column {}!\".format(column))\n",
      "/Users/dgottschalk/miniconda3/envs/uncg/lib/python3.10/site-packages/gerrychain/graph/graph.py:457: UserWarning: NA values found in column METDIVFP!\n",
      "  warnings.warn(\"NA values found in column {}!\".format(column))\n"
     ]
    },
    {
     "name": "stdout",
     "output_type": "stream",
     "text": [
      "Idaho graph completed and saved to: \"../dataIn/elections/state_graphs_2020/Idaho.json\"\n",
      "--------------------------------------------------\n",
      "--------------------------------------------------\n",
      "Constructing graph for: Illinois\n"
     ]
    },
    {
     "name": "stderr",
     "output_type": "stream",
     "text": [
      "/Users/dgottschalk/miniconda3/envs/uncg/lib/python3.10/site-packages/gerrychain/graph/graph.py:457: UserWarning: NA values found in column CSAFP!\n",
      "  warnings.warn(\"NA values found in column {}!\".format(column))\n",
      "/Users/dgottschalk/miniconda3/envs/uncg/lib/python3.10/site-packages/gerrychain/graph/graph.py:457: UserWarning: NA values found in column CBSAFP!\n",
      "  warnings.warn(\"NA values found in column {}!\".format(column))\n",
      "/Users/dgottschalk/miniconda3/envs/uncg/lib/python3.10/site-packages/gerrychain/graph/graph.py:457: UserWarning: NA values found in column METDIVFP!\n",
      "  warnings.warn(\"NA values found in column {}!\".format(column))\n"
     ]
    },
    {
     "name": "stdout",
     "output_type": "stream",
     "text": [
      "Illinois graph completed and saved to: \"../dataIn/elections/state_graphs_2020/Illinois.json\"\n",
      "--------------------------------------------------\n",
      "--------------------------------------------------\n",
      "Constructing graph for: Indiana\n"
     ]
    },
    {
     "name": "stderr",
     "output_type": "stream",
     "text": [
      "/Users/dgottschalk/miniconda3/envs/uncg/lib/python3.10/site-packages/gerrychain/graph/graph.py:457: UserWarning: NA values found in column CSAFP!\n",
      "  warnings.warn(\"NA values found in column {}!\".format(column))\n",
      "/Users/dgottschalk/miniconda3/envs/uncg/lib/python3.10/site-packages/gerrychain/graph/graph.py:457: UserWarning: NA values found in column CBSAFP!\n",
      "  warnings.warn(\"NA values found in column {}!\".format(column))\n",
      "/Users/dgottschalk/miniconda3/envs/uncg/lib/python3.10/site-packages/gerrychain/graph/graph.py:457: UserWarning: NA values found in column METDIVFP!\n",
      "  warnings.warn(\"NA values found in column {}!\".format(column))\n"
     ]
    },
    {
     "name": "stdout",
     "output_type": "stream",
     "text": [
      "Indiana graph completed and saved to: \"../dataIn/elections/state_graphs_2020/Indiana.json\"\n",
      "--------------------------------------------------\n",
      "--------------------------------------------------\n",
      "Constructing graph for: Iowa\n"
     ]
    },
    {
     "name": "stderr",
     "output_type": "stream",
     "text": [
      "/Users/dgottschalk/miniconda3/envs/uncg/lib/python3.10/site-packages/gerrychain/graph/graph.py:457: UserWarning: NA values found in column CSAFP!\n",
      "  warnings.warn(\"NA values found in column {}!\".format(column))\n",
      "/Users/dgottschalk/miniconda3/envs/uncg/lib/python3.10/site-packages/gerrychain/graph/graph.py:457: UserWarning: NA values found in column CBSAFP!\n",
      "  warnings.warn(\"NA values found in column {}!\".format(column))\n",
      "/Users/dgottschalk/miniconda3/envs/uncg/lib/python3.10/site-packages/gerrychain/graph/graph.py:457: UserWarning: NA values found in column METDIVFP!\n",
      "  warnings.warn(\"NA values found in column {}!\".format(column))\n"
     ]
    },
    {
     "name": "stdout",
     "output_type": "stream",
     "text": [
      "Iowa graph completed and saved to: \"../dataIn/elections/state_graphs_2020/Iowa.json\"\n",
      "--------------------------------------------------\n",
      "--------------------------------------------------\n",
      "Constructing graph for: Kansas\n"
     ]
    },
    {
     "name": "stderr",
     "output_type": "stream",
     "text": [
      "/Users/dgottschalk/miniconda3/envs/uncg/lib/python3.10/site-packages/gerrychain/graph/graph.py:457: UserWarning: NA values found in column CSAFP!\n",
      "  warnings.warn(\"NA values found in column {}!\".format(column))\n",
      "/Users/dgottschalk/miniconda3/envs/uncg/lib/python3.10/site-packages/gerrychain/graph/graph.py:457: UserWarning: NA values found in column CBSAFP!\n",
      "  warnings.warn(\"NA values found in column {}!\".format(column))\n",
      "/Users/dgottschalk/miniconda3/envs/uncg/lib/python3.10/site-packages/gerrychain/graph/graph.py:457: UserWarning: NA values found in column METDIVFP!\n",
      "  warnings.warn(\"NA values found in column {}!\".format(column))\n"
     ]
    },
    {
     "name": "stdout",
     "output_type": "stream",
     "text": [
      "Kansas graph completed and saved to: \"../dataIn/elections/state_graphs_2020/Kansas.json\"\n",
      "--------------------------------------------------\n",
      "--------------------------------------------------\n",
      "Constructing graph for: Kentucky\n"
     ]
    },
    {
     "name": "stderr",
     "output_type": "stream",
     "text": [
      "/Users/dgottschalk/miniconda3/envs/uncg/lib/python3.10/site-packages/gerrychain/graph/graph.py:457: UserWarning: NA values found in column CSAFP!\n",
      "  warnings.warn(\"NA values found in column {}!\".format(column))\n",
      "/Users/dgottschalk/miniconda3/envs/uncg/lib/python3.10/site-packages/gerrychain/graph/graph.py:457: UserWarning: NA values found in column CBSAFP!\n",
      "  warnings.warn(\"NA values found in column {}!\".format(column))\n",
      "/Users/dgottschalk/miniconda3/envs/uncg/lib/python3.10/site-packages/gerrychain/graph/graph.py:457: UserWarning: NA values found in column METDIVFP!\n",
      "  warnings.warn(\"NA values found in column {}!\".format(column))\n"
     ]
    },
    {
     "name": "stdout",
     "output_type": "stream",
     "text": [
      "Kentucky graph completed and saved to: \"../dataIn/elections/state_graphs_2020/Kentucky.json\"\n",
      "--------------------------------------------------\n",
      "--------------------------------------------------\n",
      "Constructing graph for: Louisiana\n"
     ]
    },
    {
     "name": "stderr",
     "output_type": "stream",
     "text": [
      "/Users/dgottschalk/miniconda3/envs/uncg/lib/python3.10/site-packages/gerrychain/graph/graph.py:457: UserWarning: NA values found in column CSAFP!\n",
      "  warnings.warn(\"NA values found in column {}!\".format(column))\n",
      "/Users/dgottschalk/miniconda3/envs/uncg/lib/python3.10/site-packages/gerrychain/graph/graph.py:457: UserWarning: NA values found in column CBSAFP!\n",
      "  warnings.warn(\"NA values found in column {}!\".format(column))\n",
      "/Users/dgottschalk/miniconda3/envs/uncg/lib/python3.10/site-packages/gerrychain/graph/graph.py:457: UserWarning: NA values found in column METDIVFP!\n",
      "  warnings.warn(\"NA values found in column {}!\".format(column))\n"
     ]
    },
    {
     "name": "stdout",
     "output_type": "stream",
     "text": [
      "Louisiana graph completed and saved to: \"../dataIn/elections/state_graphs_2020/Louisiana.json\"\n",
      "--------------------------------------------------\n",
      "--------------------------------------------------\n",
      "Constructing graph for: Maine\n"
     ]
    },
    {
     "name": "stderr",
     "output_type": "stream",
     "text": [
      "/Users/dgottschalk/miniconda3/envs/uncg/lib/python3.10/site-packages/gerrychain/graph/graph.py:457: UserWarning: NA values found in column CSAFP!\n",
      "  warnings.warn(\"NA values found in column {}!\".format(column))\n",
      "/Users/dgottschalk/miniconda3/envs/uncg/lib/python3.10/site-packages/gerrychain/graph/graph.py:457: UserWarning: NA values found in column CBSAFP!\n",
      "  warnings.warn(\"NA values found in column {}!\".format(column))\n",
      "/Users/dgottschalk/miniconda3/envs/uncg/lib/python3.10/site-packages/gerrychain/graph/graph.py:457: UserWarning: NA values found in column METDIVFP!\n",
      "  warnings.warn(\"NA values found in column {}!\".format(column))\n"
     ]
    },
    {
     "name": "stdout",
     "output_type": "stream",
     "text": [
      "Maine graph completed and saved to: \"../dataIn/elections/state_graphs_2020/Maine.json\"\n",
      "--------------------------------------------------\n",
      "--------------------------------------------------\n",
      "Constructing graph for: Maryland\n"
     ]
    },
    {
     "name": "stderr",
     "output_type": "stream",
     "text": [
      "/Users/dgottschalk/miniconda3/envs/uncg/lib/python3.10/site-packages/gerrychain/graph/graph.py:457: UserWarning: NA values found in column CSAFP!\n",
      "  warnings.warn(\"NA values found in column {}!\".format(column))\n",
      "/Users/dgottschalk/miniconda3/envs/uncg/lib/python3.10/site-packages/gerrychain/graph/graph.py:457: UserWarning: NA values found in column CBSAFP!\n",
      "  warnings.warn(\"NA values found in column {}!\".format(column))\n",
      "/Users/dgottschalk/miniconda3/envs/uncg/lib/python3.10/site-packages/gerrychain/graph/graph.py:457: UserWarning: NA values found in column METDIVFP!\n",
      "  warnings.warn(\"NA values found in column {}!\".format(column))\n"
     ]
    },
    {
     "name": "stdout",
     "output_type": "stream",
     "text": [
      "Maryland graph completed and saved to: \"../dataIn/elections/state_graphs_2020/Maryland.json\"\n",
      "--------------------------------------------------\n",
      "--------------------------------------------------\n",
      "Constructing graph for: Massachusetts\n"
     ]
    },
    {
     "name": "stderr",
     "output_type": "stream",
     "text": [
      "/Users/dgottschalk/miniconda3/envs/uncg/lib/python3.10/site-packages/gerrychain/graph/graph.py:406: UserWarning: Found islands (degree-0 nodes). Indices of islands: {1227, 1221}\n",
      "  warnings.warn(\n",
      "/Users/dgottschalk/miniconda3/envs/uncg/lib/python3.10/site-packages/gerrychain/graph/graph.py:457: UserWarning: NA values found in column CSAFP!\n",
      "  warnings.warn(\"NA values found in column {}!\".format(column))\n",
      "/Users/dgottschalk/miniconda3/envs/uncg/lib/python3.10/site-packages/gerrychain/graph/graph.py:457: UserWarning: NA values found in column CBSAFP!\n",
      "  warnings.warn(\"NA values found in column {}!\".format(column))\n",
      "/Users/dgottschalk/miniconda3/envs/uncg/lib/python3.10/site-packages/gerrychain/graph/graph.py:457: UserWarning: NA values found in column METDIVFP!\n",
      "  warnings.warn(\"NA values found in column {}!\".format(column))\n"
     ]
    },
    {
     "name": "stdout",
     "output_type": "stream",
     "text": [
      "Massachusetts graph completed and saved to: \"../dataIn/elections/state_graphs_2020/Massachusetts.json\"\n",
      "--------------------------------------------------\n",
      "--------------------------------------------------\n",
      "Constructing graph for: Michigan\n"
     ]
    },
    {
     "name": "stderr",
     "output_type": "stream",
     "text": [
      "/Users/dgottschalk/miniconda3/envs/uncg/lib/python3.10/site-packages/gerrychain/graph/graph.py:457: UserWarning: NA values found in column CSAFP!\n",
      "  warnings.warn(\"NA values found in column {}!\".format(column))\n",
      "/Users/dgottschalk/miniconda3/envs/uncg/lib/python3.10/site-packages/gerrychain/graph/graph.py:457: UserWarning: NA values found in column CBSAFP!\n",
      "  warnings.warn(\"NA values found in column {}!\".format(column))\n",
      "/Users/dgottschalk/miniconda3/envs/uncg/lib/python3.10/site-packages/gerrychain/graph/graph.py:457: UserWarning: NA values found in column METDIVFP!\n",
      "  warnings.warn(\"NA values found in column {}!\".format(column))\n"
     ]
    },
    {
     "name": "stdout",
     "output_type": "stream",
     "text": [
      "Michigan graph completed and saved to: \"../dataIn/elections/state_graphs_2020/Michigan.json\"\n",
      "--------------------------------------------------\n",
      "--------------------------------------------------\n",
      "Constructing graph for: Minnesota\n"
     ]
    },
    {
     "name": "stderr",
     "output_type": "stream",
     "text": [
      "/Users/dgottschalk/miniconda3/envs/uncg/lib/python3.10/site-packages/gerrychain/graph/graph.py:457: UserWarning: NA values found in column CSAFP!\n",
      "  warnings.warn(\"NA values found in column {}!\".format(column))\n",
      "/Users/dgottschalk/miniconda3/envs/uncg/lib/python3.10/site-packages/gerrychain/graph/graph.py:457: UserWarning: NA values found in column CBSAFP!\n",
      "  warnings.warn(\"NA values found in column {}!\".format(column))\n",
      "/Users/dgottschalk/miniconda3/envs/uncg/lib/python3.10/site-packages/gerrychain/graph/graph.py:457: UserWarning: NA values found in column METDIVFP!\n",
      "  warnings.warn(\"NA values found in column {}!\".format(column))\n"
     ]
    },
    {
     "name": "stdout",
     "output_type": "stream",
     "text": [
      "Minnesota graph completed and saved to: \"../dataIn/elections/state_graphs_2020/Minnesota.json\"\n",
      "--------------------------------------------------\n",
      "--------------------------------------------------\n",
      "Constructing graph for: Mississippi\n"
     ]
    },
    {
     "name": "stderr",
     "output_type": "stream",
     "text": [
      "/Users/dgottschalk/miniconda3/envs/uncg/lib/python3.10/site-packages/gerrychain/graph/graph.py:457: UserWarning: NA values found in column CSAFP!\n",
      "  warnings.warn(\"NA values found in column {}!\".format(column))\n",
      "/Users/dgottschalk/miniconda3/envs/uncg/lib/python3.10/site-packages/gerrychain/graph/graph.py:457: UserWarning: NA values found in column CBSAFP!\n",
      "  warnings.warn(\"NA values found in column {}!\".format(column))\n",
      "/Users/dgottschalk/miniconda3/envs/uncg/lib/python3.10/site-packages/gerrychain/graph/graph.py:457: UserWarning: NA values found in column METDIVFP!\n",
      "  warnings.warn(\"NA values found in column {}!\".format(column))\n"
     ]
    },
    {
     "name": "stdout",
     "output_type": "stream",
     "text": [
      "Mississippi graph completed and saved to: \"../dataIn/elections/state_graphs_2020/Mississippi.json\"\n",
      "--------------------------------------------------\n",
      "--------------------------------------------------\n",
      "Constructing graph for: Missouri\n"
     ]
    },
    {
     "name": "stderr",
     "output_type": "stream",
     "text": [
      "/Users/dgottschalk/miniconda3/envs/uncg/lib/python3.10/site-packages/gerrychain/graph/graph.py:457: UserWarning: NA values found in column CSAFP!\n",
      "  warnings.warn(\"NA values found in column {}!\".format(column))\n",
      "/Users/dgottschalk/miniconda3/envs/uncg/lib/python3.10/site-packages/gerrychain/graph/graph.py:457: UserWarning: NA values found in column CBSAFP!\n",
      "  warnings.warn(\"NA values found in column {}!\".format(column))\n",
      "/Users/dgottschalk/miniconda3/envs/uncg/lib/python3.10/site-packages/gerrychain/graph/graph.py:457: UserWarning: NA values found in column METDIVFP!\n",
      "  warnings.warn(\"NA values found in column {}!\".format(column))\n"
     ]
    },
    {
     "name": "stdout",
     "output_type": "stream",
     "text": [
      "Missouri graph completed and saved to: \"../dataIn/elections/state_graphs_2020/Missouri.json\"\n",
      "--------------------------------------------------\n",
      "--------------------------------------------------\n",
      "Constructing graph for: Montana\n"
     ]
    },
    {
     "name": "stderr",
     "output_type": "stream",
     "text": [
      "/Users/dgottschalk/miniconda3/envs/uncg/lib/python3.10/site-packages/gerrychain/graph/graph.py:457: UserWarning: NA values found in column CSAFP!\n",
      "  warnings.warn(\"NA values found in column {}!\".format(column))\n",
      "/Users/dgottschalk/miniconda3/envs/uncg/lib/python3.10/site-packages/gerrychain/graph/graph.py:457: UserWarning: NA values found in column CBSAFP!\n",
      "  warnings.warn(\"NA values found in column {}!\".format(column))\n",
      "/Users/dgottschalk/miniconda3/envs/uncg/lib/python3.10/site-packages/gerrychain/graph/graph.py:457: UserWarning: NA values found in column METDIVFP!\n",
      "  warnings.warn(\"NA values found in column {}!\".format(column))\n"
     ]
    },
    {
     "name": "stdout",
     "output_type": "stream",
     "text": [
      "Montana graph completed and saved to: \"../dataIn/elections/state_graphs_2020/Montana.json\"\n",
      "--------------------------------------------------\n",
      "--------------------------------------------------\n",
      "Constructing graph for: Nebraska\n"
     ]
    },
    {
     "name": "stderr",
     "output_type": "stream",
     "text": [
      "/Users/dgottschalk/miniconda3/envs/uncg/lib/python3.10/site-packages/gerrychain/graph/graph.py:457: UserWarning: NA values found in column CSAFP!\n",
      "  warnings.warn(\"NA values found in column {}!\".format(column))\n",
      "/Users/dgottschalk/miniconda3/envs/uncg/lib/python3.10/site-packages/gerrychain/graph/graph.py:457: UserWarning: NA values found in column CBSAFP!\n",
      "  warnings.warn(\"NA values found in column {}!\".format(column))\n",
      "/Users/dgottschalk/miniconda3/envs/uncg/lib/python3.10/site-packages/gerrychain/graph/graph.py:457: UserWarning: NA values found in column METDIVFP!\n",
      "  warnings.warn(\"NA values found in column {}!\".format(column))\n"
     ]
    },
    {
     "name": "stdout",
     "output_type": "stream",
     "text": [
      "Nebraska graph completed and saved to: \"../dataIn/elections/state_graphs_2020/Nebraska.json\"\n",
      "--------------------------------------------------\n",
      "--------------------------------------------------\n",
      "Constructing graph for: Nevada\n"
     ]
    },
    {
     "name": "stderr",
     "output_type": "stream",
     "text": [
      "/Users/dgottschalk/miniconda3/envs/uncg/lib/python3.10/site-packages/gerrychain/graph/graph.py:457: UserWarning: NA values found in column CSAFP!\n",
      "  warnings.warn(\"NA values found in column {}!\".format(column))\n",
      "/Users/dgottschalk/miniconda3/envs/uncg/lib/python3.10/site-packages/gerrychain/graph/graph.py:457: UserWarning: NA values found in column CBSAFP!\n",
      "  warnings.warn(\"NA values found in column {}!\".format(column))\n",
      "/Users/dgottschalk/miniconda3/envs/uncg/lib/python3.10/site-packages/gerrychain/graph/graph.py:457: UserWarning: NA values found in column METDIVFP!\n",
      "  warnings.warn(\"NA values found in column {}!\".format(column))\n"
     ]
    },
    {
     "name": "stdout",
     "output_type": "stream",
     "text": [
      "Nevada graph completed and saved to: \"../dataIn/elections/state_graphs_2020/Nevada.json\"\n",
      "--------------------------------------------------\n",
      "--------------------------------------------------\n",
      "Constructing graph for: New_Hampshire\n"
     ]
    },
    {
     "name": "stderr",
     "output_type": "stream",
     "text": [
      "/Users/dgottschalk/miniconda3/envs/uncg/lib/python3.10/site-packages/gerrychain/graph/graph.py:457: UserWarning: NA values found in column CSAFP!\n",
      "  warnings.warn(\"NA values found in column {}!\".format(column))\n",
      "/Users/dgottschalk/miniconda3/envs/uncg/lib/python3.10/site-packages/gerrychain/graph/graph.py:457: UserWarning: NA values found in column CBSAFP!\n",
      "  warnings.warn(\"NA values found in column {}!\".format(column))\n",
      "/Users/dgottschalk/miniconda3/envs/uncg/lib/python3.10/site-packages/gerrychain/graph/graph.py:457: UserWarning: NA values found in column METDIVFP!\n",
      "  warnings.warn(\"NA values found in column {}!\".format(column))\n"
     ]
    },
    {
     "name": "stdout",
     "output_type": "stream",
     "text": [
      "New_Hampshire graph completed and saved to: \"../dataIn/elections/state_graphs_2020/New_Hampshire.json\"\n",
      "--------------------------------------------------\n",
      "--------------------------------------------------\n",
      "Constructing graph for: New_Jersey\n"
     ]
    },
    {
     "name": "stderr",
     "output_type": "stream",
     "text": [
      "/Users/dgottschalk/miniconda3/envs/uncg/lib/python3.10/site-packages/gerrychain/graph/graph.py:457: UserWarning: NA values found in column CSAFP!\n",
      "  warnings.warn(\"NA values found in column {}!\".format(column))\n",
      "/Users/dgottschalk/miniconda3/envs/uncg/lib/python3.10/site-packages/gerrychain/graph/graph.py:457: UserWarning: NA values found in column METDIVFP!\n",
      "  warnings.warn(\"NA values found in column {}!\".format(column))\n"
     ]
    },
    {
     "name": "stdout",
     "output_type": "stream",
     "text": [
      "New_Jersey graph completed and saved to: \"../dataIn/elections/state_graphs_2020/New_Jersey.json\"\n",
      "--------------------------------------------------\n",
      "--------------------------------------------------\n",
      "Constructing graph for: New_Mexico\n"
     ]
    },
    {
     "name": "stderr",
     "output_type": "stream",
     "text": [
      "/Users/dgottschalk/miniconda3/envs/uncg/lib/python3.10/site-packages/gerrychain/graph/graph.py:457: UserWarning: NA values found in column CSAFP!\n",
      "  warnings.warn(\"NA values found in column {}!\".format(column))\n",
      "/Users/dgottschalk/miniconda3/envs/uncg/lib/python3.10/site-packages/gerrychain/graph/graph.py:457: UserWarning: NA values found in column CBSAFP!\n",
      "  warnings.warn(\"NA values found in column {}!\".format(column))\n",
      "/Users/dgottschalk/miniconda3/envs/uncg/lib/python3.10/site-packages/gerrychain/graph/graph.py:457: UserWarning: NA values found in column METDIVFP!\n",
      "  warnings.warn(\"NA values found in column {}!\".format(column))\n"
     ]
    },
    {
     "name": "stdout",
     "output_type": "stream",
     "text": [
      "New_Mexico graph completed and saved to: \"../dataIn/elections/state_graphs_2020/New_Mexico.json\"\n",
      "--------------------------------------------------\n",
      "--------------------------------------------------\n",
      "Constructing graph for: New_York\n"
     ]
    },
    {
     "name": "stderr",
     "output_type": "stream",
     "text": [
      "/Users/dgottschalk/miniconda3/envs/uncg/lib/python3.10/site-packages/gerrychain/graph/graph.py:406: UserWarning: Found islands (degree-0 nodes). Indices of islands: {1871}\n",
      "  warnings.warn(\n",
      "/Users/dgottschalk/miniconda3/envs/uncg/lib/python3.10/site-packages/gerrychain/graph/graph.py:457: UserWarning: NA values found in column CSAFP!\n",
      "  warnings.warn(\"NA values found in column {}!\".format(column))\n",
      "/Users/dgottschalk/miniconda3/envs/uncg/lib/python3.10/site-packages/gerrychain/graph/graph.py:457: UserWarning: NA values found in column CBSAFP!\n",
      "  warnings.warn(\"NA values found in column {}!\".format(column))\n",
      "/Users/dgottschalk/miniconda3/envs/uncg/lib/python3.10/site-packages/gerrychain/graph/graph.py:457: UserWarning: NA values found in column METDIVFP!\n",
      "  warnings.warn(\"NA values found in column {}!\".format(column))\n"
     ]
    },
    {
     "name": "stdout",
     "output_type": "stream",
     "text": [
      "New_York graph completed and saved to: \"../dataIn/elections/state_graphs_2020/New_York.json\"\n",
      "--------------------------------------------------\n",
      "--------------------------------------------------\n",
      "Constructing graph for: North_Carolina\n"
     ]
    },
    {
     "name": "stderr",
     "output_type": "stream",
     "text": [
      "/Users/dgottschalk/miniconda3/envs/uncg/lib/python3.10/site-packages/gerrychain/graph/graph.py:457: UserWarning: NA values found in column CSAFP!\n",
      "  warnings.warn(\"NA values found in column {}!\".format(column))\n",
      "/Users/dgottschalk/miniconda3/envs/uncg/lib/python3.10/site-packages/gerrychain/graph/graph.py:457: UserWarning: NA values found in column CBSAFP!\n",
      "  warnings.warn(\"NA values found in column {}!\".format(column))\n",
      "/Users/dgottschalk/miniconda3/envs/uncg/lib/python3.10/site-packages/gerrychain/graph/graph.py:457: UserWarning: NA values found in column METDIVFP!\n",
      "  warnings.warn(\"NA values found in column {}!\".format(column))\n"
     ]
    },
    {
     "name": "stdout",
     "output_type": "stream",
     "text": [
      "North_Carolina graph completed and saved to: \"../dataIn/elections/state_graphs_2020/North_Carolina.json\"\n",
      "--------------------------------------------------\n",
      "--------------------------------------------------\n",
      "Constructing graph for: North_Dakota\n"
     ]
    },
    {
     "name": "stderr",
     "output_type": "stream",
     "text": [
      "/Users/dgottschalk/miniconda3/envs/uncg/lib/python3.10/site-packages/gerrychain/graph/graph.py:457: UserWarning: NA values found in column CSAFP!\n",
      "  warnings.warn(\"NA values found in column {}!\".format(column))\n",
      "/Users/dgottschalk/miniconda3/envs/uncg/lib/python3.10/site-packages/gerrychain/graph/graph.py:457: UserWarning: NA values found in column CBSAFP!\n",
      "  warnings.warn(\"NA values found in column {}!\".format(column))\n",
      "/Users/dgottschalk/miniconda3/envs/uncg/lib/python3.10/site-packages/gerrychain/graph/graph.py:457: UserWarning: NA values found in column METDIVFP!\n",
      "  warnings.warn(\"NA values found in column {}!\".format(column))\n"
     ]
    },
    {
     "name": "stdout",
     "output_type": "stream",
     "text": [
      "North_Dakota graph completed and saved to: \"../dataIn/elections/state_graphs_2020/North_Dakota.json\"\n",
      "--------------------------------------------------\n",
      "--------------------------------------------------\n",
      "Constructing graph for: Ohio\n"
     ]
    },
    {
     "name": "stderr",
     "output_type": "stream",
     "text": [
      "/Users/dgottschalk/miniconda3/envs/uncg/lib/python3.10/site-packages/gerrychain/graph/graph.py:457: UserWarning: NA values found in column CSAFP!\n",
      "  warnings.warn(\"NA values found in column {}!\".format(column))\n",
      "/Users/dgottschalk/miniconda3/envs/uncg/lib/python3.10/site-packages/gerrychain/graph/graph.py:457: UserWarning: NA values found in column CBSAFP!\n",
      "  warnings.warn(\"NA values found in column {}!\".format(column))\n",
      "/Users/dgottschalk/miniconda3/envs/uncg/lib/python3.10/site-packages/gerrychain/graph/graph.py:457: UserWarning: NA values found in column METDIVFP!\n",
      "  warnings.warn(\"NA values found in column {}!\".format(column))\n"
     ]
    },
    {
     "name": "stdout",
     "output_type": "stream",
     "text": [
      "Ohio graph completed and saved to: \"../dataIn/elections/state_graphs_2020/Ohio.json\"\n",
      "--------------------------------------------------\n",
      "--------------------------------------------------\n",
      "Constructing graph for: Oklahoma\n"
     ]
    },
    {
     "name": "stderr",
     "output_type": "stream",
     "text": [
      "/Users/dgottschalk/miniconda3/envs/uncg/lib/python3.10/site-packages/gerrychain/graph/graph.py:457: UserWarning: NA values found in column CSAFP!\n",
      "  warnings.warn(\"NA values found in column {}!\".format(column))\n",
      "/Users/dgottschalk/miniconda3/envs/uncg/lib/python3.10/site-packages/gerrychain/graph/graph.py:457: UserWarning: NA values found in column CBSAFP!\n",
      "  warnings.warn(\"NA values found in column {}!\".format(column))\n",
      "/Users/dgottschalk/miniconda3/envs/uncg/lib/python3.10/site-packages/gerrychain/graph/graph.py:457: UserWarning: NA values found in column METDIVFP!\n",
      "  warnings.warn(\"NA values found in column {}!\".format(column))\n"
     ]
    },
    {
     "name": "stdout",
     "output_type": "stream",
     "text": [
      "Oklahoma graph completed and saved to: \"../dataIn/elections/state_graphs_2020/Oklahoma.json\"\n",
      "--------------------------------------------------\n",
      "--------------------------------------------------\n",
      "Constructing graph for: Oregon\n"
     ]
    },
    {
     "name": "stderr",
     "output_type": "stream",
     "text": [
      "/Users/dgottschalk/miniconda3/envs/uncg/lib/python3.10/site-packages/gerrychain/graph/graph.py:457: UserWarning: NA values found in column CSAFP!\n",
      "  warnings.warn(\"NA values found in column {}!\".format(column))\n",
      "/Users/dgottschalk/miniconda3/envs/uncg/lib/python3.10/site-packages/gerrychain/graph/graph.py:457: UserWarning: NA values found in column CBSAFP!\n",
      "  warnings.warn(\"NA values found in column {}!\".format(column))\n",
      "/Users/dgottschalk/miniconda3/envs/uncg/lib/python3.10/site-packages/gerrychain/graph/graph.py:457: UserWarning: NA values found in column METDIVFP!\n",
      "  warnings.warn(\"NA values found in column {}!\".format(column))\n"
     ]
    },
    {
     "name": "stdout",
     "output_type": "stream",
     "text": [
      "Oregon graph completed and saved to: \"../dataIn/elections/state_graphs_2020/Oregon.json\"\n",
      "--------------------------------------------------\n",
      "--------------------------------------------------\n",
      "Constructing graph for: Pennsylvania\n"
     ]
    },
    {
     "name": "stderr",
     "output_type": "stream",
     "text": [
      "/Users/dgottschalk/miniconda3/envs/uncg/lib/python3.10/site-packages/gerrychain/graph/graph.py:457: UserWarning: NA values found in column CSAFP!\n",
      "  warnings.warn(\"NA values found in column {}!\".format(column))\n",
      "/Users/dgottschalk/miniconda3/envs/uncg/lib/python3.10/site-packages/gerrychain/graph/graph.py:457: UserWarning: NA values found in column CBSAFP!\n",
      "  warnings.warn(\"NA values found in column {}!\".format(column))\n",
      "/Users/dgottschalk/miniconda3/envs/uncg/lib/python3.10/site-packages/gerrychain/graph/graph.py:457: UserWarning: NA values found in column METDIVFP!\n",
      "  warnings.warn(\"NA values found in column {}!\".format(column))\n"
     ]
    },
    {
     "name": "stdout",
     "output_type": "stream",
     "text": [
      "Pennsylvania graph completed and saved to: \"../dataIn/elections/state_graphs_2020/Pennsylvania.json\"\n",
      "--------------------------------------------------\n",
      "--------------------------------------------------\n",
      "Constructing graph for: Rhode_Island\n",
      "Rhode_Island graph completed and saved to: \"../dataIn/elections/state_graphs_2020/Rhode_Island.json\"\n",
      "--------------------------------------------------\n",
      "--------------------------------------------------\n",
      "Constructing graph for: South_Carolina\n"
     ]
    },
    {
     "name": "stderr",
     "output_type": "stream",
     "text": [
      "/Users/dgottschalk/miniconda3/envs/uncg/lib/python3.10/site-packages/gerrychain/graph/graph.py:406: UserWarning: Found islands (degree-0 nodes). Indices of islands: {2314}\n",
      "  warnings.warn(\n",
      "/Users/dgottschalk/miniconda3/envs/uncg/lib/python3.10/site-packages/gerrychain/graph/graph.py:457: UserWarning: NA values found in column METDIVFP!\n",
      "  warnings.warn(\"NA values found in column {}!\".format(column))\n",
      "/Users/dgottschalk/miniconda3/envs/uncg/lib/python3.10/site-packages/gerrychain/graph/graph.py:457: UserWarning: NA values found in column CSAFP!\n",
      "  warnings.warn(\"NA values found in column {}!\".format(column))\n",
      "/Users/dgottschalk/miniconda3/envs/uncg/lib/python3.10/site-packages/gerrychain/graph/graph.py:457: UserWarning: NA values found in column CBSAFP!\n",
      "  warnings.warn(\"NA values found in column {}!\".format(column))\n",
      "/Users/dgottschalk/miniconda3/envs/uncg/lib/python3.10/site-packages/gerrychain/graph/graph.py:457: UserWarning: NA values found in column METDIVFP!\n",
      "  warnings.warn(\"NA values found in column {}!\".format(column))\n"
     ]
    },
    {
     "name": "stdout",
     "output_type": "stream",
     "text": [
      "South_Carolina graph completed and saved to: \"../dataIn/elections/state_graphs_2020/South_Carolina.json\"\n",
      "--------------------------------------------------\n",
      "--------------------------------------------------\n",
      "Constructing graph for: South_Dakota\n"
     ]
    },
    {
     "name": "stderr",
     "output_type": "stream",
     "text": [
      "/Users/dgottschalk/miniconda3/envs/uncg/lib/python3.10/site-packages/gerrychain/graph/graph.py:457: UserWarning: NA values found in column CSAFP!\n",
      "  warnings.warn(\"NA values found in column {}!\".format(column))\n",
      "/Users/dgottschalk/miniconda3/envs/uncg/lib/python3.10/site-packages/gerrychain/graph/graph.py:457: UserWarning: NA values found in column CBSAFP!\n",
      "  warnings.warn(\"NA values found in column {}!\".format(column))\n",
      "/Users/dgottschalk/miniconda3/envs/uncg/lib/python3.10/site-packages/gerrychain/graph/graph.py:457: UserWarning: NA values found in column METDIVFP!\n",
      "  warnings.warn(\"NA values found in column {}!\".format(column))\n"
     ]
    },
    {
     "name": "stdout",
     "output_type": "stream",
     "text": [
      "----------\n",
      "County election data missing for: \n",
      "\t State            : South_Dakota\n",
      "\t County FIPS      : 46102\n",
      "\t Election         : 2000\n",
      "Filling with max value from neighboring nodes:\n",
      "\t County FIPS      : 00746\n",
      "\t Fill Value Dem%  : 0.3378136200716846\n",
      "\t Fill Value Rep%  : 0.6379928315412187\n",
      "\t Fill Value Votes : 1116\n",
      "----------\n",
      "----------\n",
      "County election data missing for: \n",
      "\t State            : South_Dakota\n",
      "\t County FIPS      : 46102\n",
      "\t Election         : 2004\n",
      "Filling with max value from neighboring nodes:\n",
      "\t County FIPS      : 00746\n",
      "\t Fill Value Dem%  : 0.4656441717791411\n",
      "\t Fill Value Rep%  : 0.5110429447852761\n",
      "\t Fill Value Votes : 1630\n",
      "----------\n",
      "----------\n",
      "County election data missing for: \n",
      "\t State            : South_Dakota\n",
      "\t County FIPS      : 46102\n",
      "\t Election         : 2008\n",
      "Filling with max value from neighboring nodes:\n",
      "\t County FIPS      : 00746\n",
      "\t Fill Value Dem%  : 0.46846089150546677\n",
      "\t Fill Value Rep%  : 0.5164003364171573\n",
      "\t Fill Value Votes : 1189\n",
      "----------\n",
      "----------\n",
      "County election data missing for: \n",
      "\t State            : South_Dakota\n",
      "\t County FIPS      : 46102\n",
      "\t Election         : 2012\n",
      "Filling with max value from neighboring nodes:\n",
      "\t County FIPS      : 00746\n",
      "\t Fill Value Dem%  : 0.45552784704904403\n",
      "\t Fill Value Rep%  : 0.5203657522859518\n",
      "\t Fill Value Votes : 1203\n",
      "----------\n",
      "South_Dakota graph completed and saved to: \"../dataIn/elections/state_graphs_2020/South_Dakota.json\"\n",
      "--------------------------------------------------\n",
      "--------------------------------------------------\n",
      "Constructing graph for: Tennessee\n"
     ]
    },
    {
     "name": "stderr",
     "output_type": "stream",
     "text": [
      "/Users/dgottschalk/miniconda3/envs/uncg/lib/python3.10/site-packages/gerrychain/graph/graph.py:457: UserWarning: NA values found in column CSAFP!\n",
      "  warnings.warn(\"NA values found in column {}!\".format(column))\n",
      "/Users/dgottschalk/miniconda3/envs/uncg/lib/python3.10/site-packages/gerrychain/graph/graph.py:457: UserWarning: NA values found in column CBSAFP!\n",
      "  warnings.warn(\"NA values found in column {}!\".format(column))\n",
      "/Users/dgottschalk/miniconda3/envs/uncg/lib/python3.10/site-packages/gerrychain/graph/graph.py:457: UserWarning: NA values found in column METDIVFP!\n",
      "  warnings.warn(\"NA values found in column {}!\".format(column))\n"
     ]
    },
    {
     "name": "stdout",
     "output_type": "stream",
     "text": [
      "Tennessee graph completed and saved to: \"../dataIn/elections/state_graphs_2020/Tennessee.json\"\n",
      "--------------------------------------------------\n",
      "--------------------------------------------------\n",
      "Constructing graph for: Texas\n"
     ]
    },
    {
     "name": "stderr",
     "output_type": "stream",
     "text": [
      "/Users/dgottschalk/miniconda3/envs/uncg/lib/python3.10/site-packages/gerrychain/graph/graph.py:457: UserWarning: NA values found in column CSAFP!\n",
      "  warnings.warn(\"NA values found in column {}!\".format(column))\n",
      "/Users/dgottschalk/miniconda3/envs/uncg/lib/python3.10/site-packages/gerrychain/graph/graph.py:457: UserWarning: NA values found in column CBSAFP!\n",
      "  warnings.warn(\"NA values found in column {}!\".format(column))\n",
      "/Users/dgottschalk/miniconda3/envs/uncg/lib/python3.10/site-packages/gerrychain/graph/graph.py:457: UserWarning: NA values found in column METDIVFP!\n",
      "  warnings.warn(\"NA values found in column {}!\".format(column))\n"
     ]
    },
    {
     "name": "stdout",
     "output_type": "stream",
     "text": [
      "Texas graph completed and saved to: \"../dataIn/elections/state_graphs_2020/Texas.json\"\n",
      "--------------------------------------------------\n",
      "--------------------------------------------------\n",
      "Constructing graph for: Utah\n"
     ]
    },
    {
     "name": "stderr",
     "output_type": "stream",
     "text": [
      "/Users/dgottschalk/miniconda3/envs/uncg/lib/python3.10/site-packages/gerrychain/graph/graph.py:457: UserWarning: NA values found in column CSAFP!\n",
      "  warnings.warn(\"NA values found in column {}!\".format(column))\n",
      "/Users/dgottschalk/miniconda3/envs/uncg/lib/python3.10/site-packages/gerrychain/graph/graph.py:457: UserWarning: NA values found in column CBSAFP!\n",
      "  warnings.warn(\"NA values found in column {}!\".format(column))\n",
      "/Users/dgottschalk/miniconda3/envs/uncg/lib/python3.10/site-packages/gerrychain/graph/graph.py:457: UserWarning: NA values found in column METDIVFP!\n",
      "  warnings.warn(\"NA values found in column {}!\".format(column))\n"
     ]
    },
    {
     "name": "stdout",
     "output_type": "stream",
     "text": [
      "Utah graph completed and saved to: \"../dataIn/elections/state_graphs_2020/Utah.json\"\n",
      "--------------------------------------------------\n",
      "--------------------------------------------------\n",
      "Constructing graph for: Vermont\n"
     ]
    },
    {
     "name": "stderr",
     "output_type": "stream",
     "text": [
      "/Users/dgottschalk/miniconda3/envs/uncg/lib/python3.10/site-packages/gerrychain/graph/graph.py:457: UserWarning: NA values found in column CSAFP!\n",
      "  warnings.warn(\"NA values found in column {}!\".format(column))\n",
      "/Users/dgottschalk/miniconda3/envs/uncg/lib/python3.10/site-packages/gerrychain/graph/graph.py:457: UserWarning: NA values found in column CBSAFP!\n",
      "  warnings.warn(\"NA values found in column {}!\".format(column))\n",
      "/Users/dgottschalk/miniconda3/envs/uncg/lib/python3.10/site-packages/gerrychain/graph/graph.py:457: UserWarning: NA values found in column METDIVFP!\n",
      "  warnings.warn(\"NA values found in column {}!\".format(column))\n"
     ]
    },
    {
     "name": "stdout",
     "output_type": "stream",
     "text": [
      "Vermont graph completed and saved to: \"../dataIn/elections/state_graphs_2020/Vermont.json\"\n",
      "--------------------------------------------------\n",
      "--------------------------------------------------\n",
      "Constructing graph for: Virginia\n"
     ]
    },
    {
     "name": "stderr",
     "output_type": "stream",
     "text": [
      "/Users/dgottschalk/miniconda3/envs/uncg/lib/python3.10/site-packages/gerrychain/graph/graph.py:457: UserWarning: NA values found in column CSAFP!\n",
      "  warnings.warn(\"NA values found in column {}!\".format(column))\n",
      "/Users/dgottschalk/miniconda3/envs/uncg/lib/python3.10/site-packages/gerrychain/graph/graph.py:457: UserWarning: NA values found in column CBSAFP!\n",
      "  warnings.warn(\"NA values found in column {}!\".format(column))\n",
      "/Users/dgottschalk/miniconda3/envs/uncg/lib/python3.10/site-packages/gerrychain/graph/graph.py:457: UserWarning: NA values found in column METDIVFP!\n",
      "  warnings.warn(\"NA values found in column {}!\".format(column))\n"
     ]
    },
    {
     "name": "stdout",
     "output_type": "stream",
     "text": [
      "Virginia graph completed and saved to: \"../dataIn/elections/state_graphs_2020/Virginia.json\"\n",
      "--------------------------------------------------\n",
      "--------------------------------------------------\n",
      "Constructing graph for: Washington\n"
     ]
    },
    {
     "name": "stderr",
     "output_type": "stream",
     "text": [
      "/Users/dgottschalk/miniconda3/envs/uncg/lib/python3.10/site-packages/gerrychain/graph/graph.py:406: UserWarning: Found islands (degree-0 nodes). Indices of islands: {2981}\n",
      "  warnings.warn(\n",
      "/Users/dgottschalk/miniconda3/envs/uncg/lib/python3.10/site-packages/gerrychain/graph/graph.py:457: UserWarning: NA values found in column CSAFP!\n",
      "  warnings.warn(\"NA values found in column {}!\".format(column))\n",
      "/Users/dgottschalk/miniconda3/envs/uncg/lib/python3.10/site-packages/gerrychain/graph/graph.py:457: UserWarning: NA values found in column CBSAFP!\n",
      "  warnings.warn(\"NA values found in column {}!\".format(column))\n",
      "/Users/dgottschalk/miniconda3/envs/uncg/lib/python3.10/site-packages/gerrychain/graph/graph.py:457: UserWarning: NA values found in column METDIVFP!\n",
      "  warnings.warn(\"NA values found in column {}!\".format(column))\n"
     ]
    },
    {
     "name": "stdout",
     "output_type": "stream",
     "text": [
      "Washington graph completed and saved to: \"../dataIn/elections/state_graphs_2020/Washington.json\"\n",
      "--------------------------------------------------\n",
      "--------------------------------------------------\n",
      "Constructing graph for: West_Virginia\n"
     ]
    },
    {
     "name": "stderr",
     "output_type": "stream",
     "text": [
      "/Users/dgottschalk/miniconda3/envs/uncg/lib/python3.10/site-packages/gerrychain/graph/graph.py:457: UserWarning: NA values found in column CSAFP!\n",
      "  warnings.warn(\"NA values found in column {}!\".format(column))\n",
      "/Users/dgottschalk/miniconda3/envs/uncg/lib/python3.10/site-packages/gerrychain/graph/graph.py:457: UserWarning: NA values found in column CBSAFP!\n",
      "  warnings.warn(\"NA values found in column {}!\".format(column))\n",
      "/Users/dgottschalk/miniconda3/envs/uncg/lib/python3.10/site-packages/gerrychain/graph/graph.py:457: UserWarning: NA values found in column METDIVFP!\n",
      "  warnings.warn(\"NA values found in column {}!\".format(column))\n"
     ]
    },
    {
     "name": "stdout",
     "output_type": "stream",
     "text": [
      "West_Virginia graph completed and saved to: \"../dataIn/elections/state_graphs_2020/West_Virginia.json\"\n",
      "--------------------------------------------------\n",
      "--------------------------------------------------\n",
      "Constructing graph for: Wisconsin\n"
     ]
    },
    {
     "name": "stderr",
     "output_type": "stream",
     "text": [
      "/Users/dgottschalk/miniconda3/envs/uncg/lib/python3.10/site-packages/gerrychain/graph/graph.py:457: UserWarning: NA values found in column CSAFP!\n",
      "  warnings.warn(\"NA values found in column {}!\".format(column))\n",
      "/Users/dgottschalk/miniconda3/envs/uncg/lib/python3.10/site-packages/gerrychain/graph/graph.py:457: UserWarning: NA values found in column CBSAFP!\n",
      "  warnings.warn(\"NA values found in column {}!\".format(column))\n",
      "/Users/dgottschalk/miniconda3/envs/uncg/lib/python3.10/site-packages/gerrychain/graph/graph.py:457: UserWarning: NA values found in column METDIVFP!\n",
      "  warnings.warn(\"NA values found in column {}!\".format(column))\n"
     ]
    },
    {
     "name": "stdout",
     "output_type": "stream",
     "text": [
      "Wisconsin graph completed and saved to: \"../dataIn/elections/state_graphs_2020/Wisconsin.json\"\n",
      "--------------------------------------------------\n",
      "--------------------------------------------------\n",
      "Constructing graph for: Wyoming\n"
     ]
    },
    {
     "name": "stderr",
     "output_type": "stream",
     "text": [
      "/Users/dgottschalk/miniconda3/envs/uncg/lib/python3.10/site-packages/gerrychain/graph/graph.py:457: UserWarning: NA values found in column CSAFP!\n",
      "  warnings.warn(\"NA values found in column {}!\".format(column))\n",
      "/Users/dgottschalk/miniconda3/envs/uncg/lib/python3.10/site-packages/gerrychain/graph/graph.py:457: UserWarning: NA values found in column CBSAFP!\n",
      "  warnings.warn(\"NA values found in column {}!\".format(column))\n",
      "/Users/dgottschalk/miniconda3/envs/uncg/lib/python3.10/site-packages/gerrychain/graph/graph.py:457: UserWarning: NA values found in column METDIVFP!\n",
      "  warnings.warn(\"NA values found in column {}!\".format(column))\n"
     ]
    },
    {
     "name": "stdout",
     "output_type": "stream",
     "text": [
      "Wyoming graph completed and saved to: \"../dataIn/elections/state_graphs_2020/Wyoming.json\"\n",
      "--------------------------------------------------\n"
     ]
    }
   ],
   "source": [
    "###### Out Dir ###### \n",
    "outDir = \"../dataIn/elections/state_graphs_2020/\"\n",
    "os.makedirs(outDir, exist_ok = True)\n",
    "\n",
    "elections = [2000, 2004, 2008, 2012, 2016, 2020]\n",
    "\n",
    "###### Graph Generation ######\n",
    "## Iterate through each state\n",
    "for stateFP in state_dict.keys():\n",
    "    print('-' * 50)\n",
    "    print(f\"Constructing graph for: {state_dict[stateFP]}\")\n",
    "    # Remove States:\n",
    "        # Alaska removed because the Harvard Election Dataset does not have county-level results\n",
    "        # Hawaii removed because we restrict analysis to continental U.S. \n",
    "        # DC removed because it only has one node \n",
    "    if stateFP in ['02', '15', '11']:\n",
    "        continue\n",
    "\n",
    "    # filter out state shapefile\n",
    "    state_gdf = gdf[gdf['STATEFP'] == stateFP]\n",
    "    # Generate graph using Gerrychain\n",
    "    G = Graph.from_geodataframe(state_gdf, adjacency = 'queen', ignore_errors = True)\n",
    "\n",
    "\n",
    "###### Add BVAP, DEM%, and REP% Graph Nodes ######\n",
    "    ## Iterate through nodes\n",
    "    for node in G.nodes:\n",
    "\n",
    "        # FIPS Code from graph node\n",
    "        countyFIPS = ('{}{}'.format(G.nodes[node]['STATEFP'], G.nodes[node]['COUNTYFP']))\n",
    "        # Filter election data by county\n",
    "        election_slice = election_df[election_df['county_fips'] == countyFIPS]\n",
    "        # Filter ACS data by county\n",
    "        acs_slice = acs_df[acs_df['COUNTYFP'] == countyFIPS].set_index('lnnumber')\n",
    "\n",
    "        ## Iterate through Elections\n",
    "        for election in elections:\n",
    "            \n",
    "            ###### Add Voting Data ######\n",
    "            try:\n",
    "                total_votes = election_slice[election_slice['year'] == election]['totalvotes'].iloc[0]\n",
    "                G.nodes[node][f'{election}_V'] = total_votes\n",
    "                # DEM%\n",
    "                G.nodes[node][f'{election}_D'] = election_slice[(election_slice['party'] == 'DEMOCRAT') & (election_slice['year'] == election)]['candidatevotes'].sum(skipna = True, numeric_only = True) / total_votes\n",
    "                # REP%\n",
    "                G.nodes[node][f'{election}_R'] = election_slice[(election_slice['party'] == 'REPUBLICAN') & (election_slice['year'] == election)]['candidatevotes'].sum(skipna = True, numeric_only = True) / total_votes\n",
    "                # No Fill Metadata\n",
    "                G.nodes[node][f'{election}_filled_from'] = {\n",
    "                    \"filled\": False\n",
    "                }\n",
    "            # Assign highest DEM% of neighbors if no data is available for that node\n",
    "            except IndexError:\n",
    "                # init dem% = 0 and best neighbor\n",
    "                G.nodes[node][f'{election}_D'] = 0 \n",
    "                best_neighbor = None\n",
    "\n",
    "                ## Iterate neighbors\n",
    "                for neighbor in G.neighbors(node):\n",
    "                    try:\n",
    "                        neighbor_dem = G.nodes[neighbor][f'{election}_D']\n",
    "\n",
    "                        # if neighbor value > current max, set as new max and record neighbor\n",
    "                        if neighbor_dem > G.nodes[node][f'{election}_D']:\n",
    "                            best_neighbor = neighbor\n",
    "                            G.nodes[node][f'{election}_D'] = neighbor_dem\n",
    "\n",
    "                    except KeyError:\n",
    "                        pass\n",
    "\n",
    "                # Node gets best neighbor's data\n",
    "                print(\"-\" * 10)\n",
    "                print(\"County election data missing for: \")\n",
    "                print(f\"\\t State            : {state_dict[stateFP]}\")\n",
    "                print(f\"\\t County FIPS      : {countyFIPS}\")\n",
    "                print(f\"\\t Election         : {election}\")\n",
    "                print(f\"Filling with max value from neighboring nodes:\")\n",
    "                print(f\"\\t County FIPS      : {G.nodes[best_neighbor]['COUNTYFP']}{G.nodes[best_neighbor]['STATEFP']}\")\n",
    "                print(f\"\\t Fill Value Dem%  : {G.nodes[best_neighbor][f'{election}_D']}\")\n",
    "                print(f\"\\t Fill Value Rep%  : {G.nodes[best_neighbor][f'{election}_R']}\")\n",
    "                print(f\"\\t Fill Value Votes : {G.nodes[best_neighbor][f'{election}_V']}\")\n",
    "                print(\"-\" * 10)\n",
    "\n",
    "                G.nodes[node][f'{election}_D'] = G.nodes[best_neighbor][f'{election}_D']      \n",
    "                G.nodes[node][f'{election}_R'] = G.nodes[best_neighbor][f'{election}_R']\n",
    "                G.nodes[node][f'{election}_V'] = G.nodes[best_neighbor][f'{election}_V']\n",
    "\n",
    "                # Fill Metadata\n",
    "                G.nodes[node][f'{election}_filled_from'] = {\n",
    "                \"filled\": True,\n",
    "                \"used_neighbor\": best_neighbor,\n",
    "                \"values_used\": \n",
    "                    {\n",
    "                    \"D\": G.nodes[best_neighbor][f'{election}_D'],\n",
    "                    \"R\": G.nodes[best_neighbor][f'{election}_R'],\n",
    "                    \"V\": G.nodes[best_neighbor][f'{election}_V']\n",
    "                    }\n",
    "                }\n",
    "\n",
    "            ###### Add ACS Data ######\n",
    "            total_vap = acs_slice.loc[1]['cvap_est']\n",
    "            G.nodes[node]['VAP'] = total_vap\n",
    "            G.nodes[node]['BVAP'] = acs_slice.loc[5]['cvap_est'] / total_vap\n",
    "            G.nodes[node]['HVAP'] = acs_slice.loc[13]['cvap_est'] / total_vap\n",
    "\n",
    "    ###### Save Graph ######\n",
    "    out_file = os.path.join(outDir, f'{state_dict[stateFP]}.json')\n",
    "    G.to_json(out_file)\n",
    "    print(f'{state_dict[stateFP]} graph completed and saved to: \"{out_file}\"', sep = '\\t')\n",
    "    print('-' * 50)"
   ]
  }
 ],
 "metadata": {
  "kernelspec": {
   "display_name": "uncg",
   "language": "python",
   "name": "python3"
  },
  "language_info": {
   "codemirror_mode": {
    "name": "ipython",
    "version": 3
   },
   "file_extension": ".py",
   "mimetype": "text/x-python",
   "name": "python",
   "nbconvert_exporter": "python",
   "pygments_lexer": "ipython3",
   "version": "3.10.18"
  }
 },
 "nbformat": 4,
 "nbformat_minor": 2
}

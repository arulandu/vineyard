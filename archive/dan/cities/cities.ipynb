{
 "cells": [
  {
   "cell_type": "markdown",
   "metadata": {},
   "source": [
    "# **100 Cities Demographic Analysis** "
   ]
  },
  {
   "cell_type": "markdown",
   "metadata": {},
   "source": [
    "## **Imports and Data**"
   ]
  },
  {
   "cell_type": "code",
   "execution_count": 17,
   "metadata": {},
   "outputs": [],
   "source": [
    "import os, sys, requests, zipfile, pathlib\n",
    "from pathlib import Path\n",
    "sys.path.append(os.path.abspath(os.path.join(os.getcwd(), '..')))\n",
    "\n",
    "# Vineyard functions\n",
    "from VineyardFinal import vineyard_from_pds, Get_Adjacency_Persistence, Homotopy, Get_W_Infinity, vdist, min_vc, fD, fL\n",
    "\n",
    "# Matrix Operations\n",
    "import numpy as np\n",
    "import pandas as pd\n",
    "\n",
    "# misc\n",
    "from tqdm import tqdm\n",
    "\n",
    "# tda\n",
    "import gudhi\n",
    "import gudhi.hera\n",
    "\n",
    "# Geospatial and graphs\n",
    "import geopandas as gpd\n",
    "from gerrychain import Graph\n",
    "import networkx as nx\n",
    "\n",
    "import warnings\n",
    "warnings.filterwarnings('ignore', message='Found islands', category=UserWarning) # Getting rid of pesky degree-0 graph warnings \n",
    "\n",
    "INFINITY = 1e6\n",
    "n = 100"
   ]
  },
  {
   "cell_type": "markdown",
   "metadata": {},
   "source": [
    "## **Data** "
   ]
  },
  {
   "cell_type": "code",
   "execution_count": 18,
   "metadata": {},
   "outputs": [],
   "source": [
    "# download helpers #\n",
    "def download(url, out_file):\n",
    "\n",
    "    with requests.get(url, stream=True) as r:\n",
    "        r.raise_for_status()\n",
    "        with out_file.open(\"wb\") as f:\n",
    "            for chunk in r.iter_content(chunk_size=8192):\n",
    "                if chunk:\n",
    "                    f.write(chunk)\n",
    "\n",
    "    print(f\"Downloaded: {out_file}.\")\n",
    "\n",
    "def download_zip(url, out_zip, extract_to):\n",
    "\n",
    "    with requests.get(url, stream=True) as r:\n",
    "        r.raise_for_status()\n",
    "        with out_zip.open(\"wb\") as f:\n",
    "            for chunk in r.iter_content(chunk_size=8192):\n",
    "                if chunk:\n",
    "                    f.write(chunk)\n",
    "    \n",
    "    with zipfile.ZipFile(out_zip) as zf:\n",
    "        zf.extractall(extract_to)\n",
    "    \n",
    "    ## cleanup ##\n",
    "    if os.exists(out_zip): os.remove(out_zip) \n",
    "\n",
    "    print(f\"Downloaded: {out_zip.resolve()}\")\n",
    "    print(f\"Extracted to: {extract_to.resolve()}\")\n",
    "\n",
    "###### City Data ######\n",
    "# src: https://github.com/thomasweighill/tda-cities/blob/main/cities2020data.zip\n",
    "# src: https://github.com/thomasweighill/tda-cities/blob/main/City_Names_And_Populations.csv\n",
    "\n",
    "# os.makedirs(\"../dataIn/cities/\", exist_ok=True)\n",
    "# download_zip('https://github.com/thomasweighill/tda-cities/raw/main/cities2020data.zip', Path(\"../dataIn/cities/cities2020data.zip\"), Path(\"../dataIn/cities/\")) \n",
    "# download('https://github.com/thomasweighill/tda-cities/raw/main/City_Names_And_Populations.csv', Path(\"../dataIn/cities/City_Names_And_Populations.csv\"))"
   ]
  },
  {
   "cell_type": "markdown",
   "metadata": {},
   "source": [
    "## **Metric Calculation**"
   ]
  },
  {
   "cell_type": "code",
   "execution_count": 19,
   "metadata": {},
   "outputs": [
    {
     "name": "stderr",
     "output_type": "stream",
     "text": [
      "Processing Cities:   0%|          | 0/100 [00:00<?, ?it/s]/var/folders/_b/bl5yw1q15msg5ky9z_04dpt40000gn/T/ipykernel_97676/3134900562.py:48: RuntimeWarning: invalid value encountered in divide\n",
      "  f = np.array(list((nx.get_node_attributes(G,col1).values()))) / pop\n",
      "Processing Cities:   1%|          | 1/100 [00:07<11:38,  7.06s/it]"
     ]
    },
    {
     "name": "stdout",
     "output_type": "stream",
     "text": [
      "New YorkNY done\n"
     ]
    },
    {
     "name": "stderr",
     "output_type": "stream",
     "text": [
      "/var/folders/_b/bl5yw1q15msg5ky9z_04dpt40000gn/T/ipykernel_97676/3134900562.py:48: RuntimeWarning: invalid value encountered in divide\n",
      "  f = np.array(list((nx.get_node_attributes(G,col1).values()))) / pop\n",
      "Processing Cities:   2%|▏         | 2/100 [00:10<07:34,  4.64s/it]"
     ]
    },
    {
     "name": "stdout",
     "output_type": "stream",
     "text": [
      "Los AngelesCA done\n"
     ]
    },
    {
     "name": "stderr",
     "output_type": "stream",
     "text": [
      "/var/folders/_b/bl5yw1q15msg5ky9z_04dpt40000gn/T/ipykernel_97676/3134900562.py:48: RuntimeWarning: invalid value encountered in divide\n",
      "  f = np.array(list((nx.get_node_attributes(G,col1).values()))) / pop\n",
      "Processing Cities:   3%|▎         | 3/100 [00:11<04:57,  3.06s/it]"
     ]
    },
    {
     "name": "stdout",
     "output_type": "stream",
     "text": [
      "ChicagoIL done\n"
     ]
    },
    {
     "name": "stderr",
     "output_type": "stream",
     "text": [
      "/var/folders/_b/bl5yw1q15msg5ky9z_04dpt40000gn/T/ipykernel_97676/3134900562.py:48: RuntimeWarning: invalid value encountered in divide\n",
      "  f = np.array(list((nx.get_node_attributes(G,col1).values()))) / pop\n",
      "Processing Cities:   4%|▍         | 4/100 [00:13<04:08,  2.59s/it]"
     ]
    },
    {
     "name": "stdout",
     "output_type": "stream",
     "text": [
      "HoustonTX done\n"
     ]
    },
    {
     "name": "stderr",
     "output_type": "stream",
     "text": [
      "/var/folders/_b/bl5yw1q15msg5ky9z_04dpt40000gn/T/ipykernel_97676/3134900562.py:48: RuntimeWarning: invalid value encountered in divide\n",
      "  f = np.array(list((nx.get_node_attributes(G,col1).values()))) / pop\n",
      "Processing Cities:   5%|▌         | 5/100 [00:13<02:53,  1.83s/it]"
     ]
    },
    {
     "name": "stdout",
     "output_type": "stream",
     "text": [
      "PhiladelphiaPA done\n"
     ]
    },
    {
     "name": "stderr",
     "output_type": "stream",
     "text": [
      "/var/folders/_b/bl5yw1q15msg5ky9z_04dpt40000gn/T/ipykernel_97676/3134900562.py:48: RuntimeWarning: invalid value encountered in divide\n",
      "  f = np.array(list((nx.get_node_attributes(G,col1).values()))) / pop\n",
      "Processing Cities:   6%|▌         | 6/100 [00:14<02:15,  1.44s/it]"
     ]
    },
    {
     "name": "stdout",
     "output_type": "stream",
     "text": [
      "PhoenixAZ done\n"
     ]
    },
    {
     "name": "stderr",
     "output_type": "stream",
     "text": [
      "/var/folders/_b/bl5yw1q15msg5ky9z_04dpt40000gn/T/ipykernel_97676/3134900562.py:48: RuntimeWarning: invalid value encountered in divide\n",
      "  f = np.array(list((nx.get_node_attributes(G,col1).values()))) / pop\n",
      "Processing Cities:   7%|▋         | 7/100 [00:14<01:40,  1.08s/it]"
     ]
    },
    {
     "name": "stdout",
     "output_type": "stream",
     "text": [
      "San AntonioTX done\n"
     ]
    },
    {
     "name": "stderr",
     "output_type": "stream",
     "text": [
      "Processing Cities:   8%|▊         | 8/100 [00:15<01:21,  1.13it/s]"
     ]
    },
    {
     "name": "stdout",
     "output_type": "stream",
     "text": [
      "San DiegoCA done\n"
     ]
    },
    {
     "name": "stderr",
     "output_type": "stream",
     "text": [
      "Processing Cities:   9%|▉         | 9/100 [00:15<01:12,  1.26it/s]"
     ]
    },
    {
     "name": "stdout",
     "output_type": "stream",
     "text": [
      "DallasTX done\n"
     ]
    },
    {
     "name": "stderr",
     "output_type": "stream",
     "text": [
      "/var/folders/_b/bl5yw1q15msg5ky9z_04dpt40000gn/T/ipykernel_97676/3134900562.py:48: RuntimeWarning: invalid value encountered in divide\n",
      "  f = np.array(list((nx.get_node_attributes(G,col1).values()))) / pop\n",
      "Processing Cities:  10%|█         | 10/100 [00:16<01:02,  1.45it/s]"
     ]
    },
    {
     "name": "stdout",
     "output_type": "stream",
     "text": [
      "HonoluluHI done\n"
     ]
    },
    {
     "name": "stderr",
     "output_type": "stream",
     "text": [
      "Processing Cities:  11%|█         | 11/100 [00:16<00:48,  1.82it/s]"
     ]
    },
    {
     "name": "stdout",
     "output_type": "stream",
     "text": [
      "San JoseCA done\n"
     ]
    },
    {
     "name": "stderr",
     "output_type": "stream",
     "text": [
      "Processing Cities:  12%|█▏        | 12/100 [00:16<00:39,  2.25it/s]"
     ]
    },
    {
     "name": "stdout",
     "output_type": "stream",
     "text": [
      "JacksonvilleFL done\n"
     ]
    },
    {
     "name": "stderr",
     "output_type": "stream",
     "text": [
      "Processing Cities:  13%|█▎        | 13/100 [00:16<00:33,  2.58it/s]"
     ]
    },
    {
     "name": "stdout",
     "output_type": "stream",
     "text": [
      "IndianapolisIN done\n"
     ]
    },
    {
     "name": "stderr",
     "output_type": "stream",
     "text": [
      "Processing Cities:  14%|█▍        | 14/100 [00:17<00:29,  2.93it/s]"
     ]
    },
    {
     "name": "stdout",
     "output_type": "stream",
     "text": [
      "San FranciscoCA done\n"
     ]
    },
    {
     "name": "stderr",
     "output_type": "stream",
     "text": [
      "Processing Cities:  15%|█▌        | 15/100 [00:17<00:28,  2.94it/s]"
     ]
    },
    {
     "name": "stdout",
     "output_type": "stream",
     "text": [
      "AustinTX done\n"
     ]
    },
    {
     "name": "stderr",
     "output_type": "stream",
     "text": [
      "Processing Cities:  16%|█▌        | 16/100 [00:17<00:26,  3.13it/s]"
     ]
    },
    {
     "name": "stdout",
     "output_type": "stream",
     "text": [
      "ColumbusOH done\n"
     ]
    },
    {
     "name": "stderr",
     "output_type": "stream",
     "text": [
      "Processing Cities:  17%|█▋        | 17/100 [00:17<00:24,  3.34it/s]"
     ]
    },
    {
     "name": "stdout",
     "output_type": "stream",
     "text": [
      "Fort WorthTX done\n"
     ]
    },
    {
     "name": "stderr",
     "output_type": "stream",
     "text": [
      "/var/folders/_b/bl5yw1q15msg5ky9z_04dpt40000gn/T/ipykernel_97676/3134900562.py:48: RuntimeWarning: invalid value encountered in divide\n",
      "  f = np.array(list((nx.get_node_attributes(G,col1).values()))) / pop\n",
      "Processing Cities:  18%|█▊        | 18/100 [00:18<00:25,  3.23it/s]"
     ]
    },
    {
     "name": "stdout",
     "output_type": "stream",
     "text": [
      "CharlotteNC done\n"
     ]
    },
    {
     "name": "stderr",
     "output_type": "stream",
     "text": [
      "/var/folders/_b/bl5yw1q15msg5ky9z_04dpt40000gn/T/ipykernel_97676/3134900562.py:48: RuntimeWarning: invalid value encountered in divide\n",
      "  f = np.array(list((nx.get_node_attributes(G,col1).values()))) / pop\n",
      "Processing Cities:  20%|██        | 20/100 [00:18<00:22,  3.54it/s]"
     ]
    },
    {
     "name": "stdout",
     "output_type": "stream",
     "text": [
      "DetroitMI done\n",
      "El PasoTX done\n"
     ]
    },
    {
     "name": "stderr",
     "output_type": "stream",
     "text": [
      "/var/folders/_b/bl5yw1q15msg5ky9z_04dpt40000gn/T/ipykernel_97676/3134900562.py:48: RuntimeWarning: invalid value encountered in divide\n",
      "  f = np.array(list((nx.get_node_attributes(G,col1).values()))) / pop\n",
      "Processing Cities:  22%|██▏       | 22/100 [00:19<00:17,  4.39it/s]"
     ]
    },
    {
     "name": "stdout",
     "output_type": "stream",
     "text": [
      "MemphisTN done\n",
      "BaltimoreMD done\n"
     ]
    },
    {
     "name": "stderr",
     "output_type": "stream",
     "text": [
      "/var/folders/_b/bl5yw1q15msg5ky9z_04dpt40000gn/T/ipykernel_97676/3134900562.py:48: RuntimeWarning: invalid value encountered in divide\n",
      "  f = np.array(list((nx.get_node_attributes(G,col1).values()))) / pop\n",
      "Processing Cities:  24%|██▍       | 24/100 [00:19<00:16,  4.70it/s]"
     ]
    },
    {
     "name": "stdout",
     "output_type": "stream",
     "text": [
      "BostonMA done\n",
      "SeattleWA done\n"
     ]
    },
    {
     "name": "stderr",
     "output_type": "stream",
     "text": [
      "Processing Cities:  25%|██▌       | 25/100 [00:19<00:16,  4.58it/s]"
     ]
    },
    {
     "name": "stdout",
     "output_type": "stream",
     "text": [
      "WashingtonDC done\n"
     ]
    },
    {
     "name": "stderr",
     "output_type": "stream",
     "text": [
      "Processing Cities:  26%|██▌       | 26/100 [00:19<00:16,  4.56it/s]/var/folders/_b/bl5yw1q15msg5ky9z_04dpt40000gn/T/ipykernel_97676/3134900562.py:48: RuntimeWarning: invalid value encountered in divide\n",
      "  f = np.array(list((nx.get_node_attributes(G,col1).values()))) / pop\n",
      "Processing Cities:  27%|██▋       | 27/100 [00:20<00:15,  4.68it/s]"
     ]
    },
    {
     "name": "stdout",
     "output_type": "stream",
     "text": [
      "NashvilleTN done\n",
      "DenverCO done\n"
     ]
    },
    {
     "name": "stderr",
     "output_type": "stream",
     "text": [
      "Processing Cities:  28%|██▊       | 28/100 [00:20<00:15,  4.59it/s]"
     ]
    },
    {
     "name": "stdout",
     "output_type": "stream",
     "text": [
      "LouisvilleKY done\n"
     ]
    },
    {
     "name": "stderr",
     "output_type": "stream",
     "text": [
      "Processing Cities:  29%|██▉       | 29/100 [00:20<00:15,  4.51it/s]"
     ]
    },
    {
     "name": "stdout",
     "output_type": "stream",
     "text": [
      "MilwaukeeWI done\n"
     ]
    },
    {
     "name": "stderr",
     "output_type": "stream",
     "text": [
      "Processing Cities:  30%|███       | 30/100 [00:20<00:16,  4.21it/s]"
     ]
    },
    {
     "name": "stdout",
     "output_type": "stream",
     "text": [
      "PortlandOR done\n"
     ]
    },
    {
     "name": "stderr",
     "output_type": "stream",
     "text": [
      "Processing Cities:  31%|███       | 31/100 [00:21<00:15,  4.40it/s]"
     ]
    },
    {
     "name": "stdout",
     "output_type": "stream",
     "text": [
      "Las VegasNV done\n"
     ]
    },
    {
     "name": "stderr",
     "output_type": "stream",
     "text": [
      "/var/folders/_b/bl5yw1q15msg5ky9z_04dpt40000gn/T/ipykernel_97676/3134900562.py:48: RuntimeWarning: invalid value encountered in divide\n",
      "  f = np.array(list((nx.get_node_attributes(G,col1).values()))) / pop\n",
      "Processing Cities:  33%|███▎      | 33/100 [00:21<00:13,  4.83it/s]"
     ]
    },
    {
     "name": "stdout",
     "output_type": "stream",
     "text": [
      "Oklahoma CityOK done\n",
      "AlbuquerqueNM done\n"
     ]
    },
    {
     "name": "stderr",
     "output_type": "stream",
     "text": [
      "Processing Cities:  35%|███▌      | 35/100 [00:21<00:11,  5.62it/s]"
     ]
    },
    {
     "name": "stdout",
     "output_type": "stream",
     "text": [
      "TucsonAZ done\n",
      "FresnoCA done\n"
     ]
    },
    {
     "name": "stderr",
     "output_type": "stream",
     "text": [
      "Processing Cities:  37%|███▋      | 37/100 [00:22<00:09,  6.63it/s]"
     ]
    },
    {
     "name": "stdout",
     "output_type": "stream",
     "text": [
      "SacramentoCA done\n",
      "Long BeachCA done\n"
     ]
    },
    {
     "name": "stderr",
     "output_type": "stream",
     "text": [
      "Processing Cities:  38%|███▊      | 38/100 [00:22<00:10,  6.09it/s]/var/folders/_b/bl5yw1q15msg5ky9z_04dpt40000gn/T/ipykernel_97676/3134900562.py:48: RuntimeWarning: invalid value encountered in divide\n",
      "  f = np.array(list((nx.get_node_attributes(G,col1).values()))) / pop\n",
      "Processing Cities:  39%|███▉      | 39/100 [00:22<00:10,  6.00it/s]"
     ]
    },
    {
     "name": "stdout",
     "output_type": "stream",
     "text": [
      "Kansas CityMO done\n",
      "MesaAZ done\n"
     ]
    },
    {
     "name": "stderr",
     "output_type": "stream",
     "text": [
      "/var/folders/_b/bl5yw1q15msg5ky9z_04dpt40000gn/T/ipykernel_97676/3134900562.py:48: RuntimeWarning: invalid value encountered in divide\n",
      "  f = np.array(list((nx.get_node_attributes(G,col1).values()))) / pop\n",
      "Processing Cities:  40%|████      | 40/100 [00:22<00:08,  6.76it/s]/var/folders/_b/bl5yw1q15msg5ky9z_04dpt40000gn/T/ipykernel_97676/3134900562.py:48: RuntimeWarning: invalid value encountered in divide\n",
      "  f = np.array(list((nx.get_node_attributes(G,col1).values()))) / pop\n"
     ]
    },
    {
     "name": "stdout",
     "output_type": "stream",
     "text": [
      "Virginia BeachVA done\n"
     ]
    },
    {
     "name": "stderr",
     "output_type": "stream",
     "text": [
      "Processing Cities:  42%|████▏     | 42/100 [00:22<00:09,  5.99it/s]"
     ]
    },
    {
     "name": "stdout",
     "output_type": "stream",
     "text": [
      "AtlantaGA done\n",
      "Colorado SpringsCO done\n"
     ]
    },
    {
     "name": "stderr",
     "output_type": "stream",
     "text": [
      "Processing Cities:  43%|████▎     | 43/100 [00:23<00:08,  6.40it/s]/var/folders/_b/bl5yw1q15msg5ky9z_04dpt40000gn/T/ipykernel_97676/3134900562.py:48: RuntimeWarning: invalid value encountered in divide\n",
      "  f = np.array(list((nx.get_node_attributes(G,col1).values()))) / pop\n"
     ]
    },
    {
     "name": "stdout",
     "output_type": "stream",
     "text": [
      "OmahaNE done\n",
      "RaleighNC done\n"
     ]
    },
    {
     "name": "stderr",
     "output_type": "stream",
     "text": [
      "Processing Cities:  45%|████▌     | 45/100 [00:23<00:07,  7.27it/s]/var/folders/_b/bl5yw1q15msg5ky9z_04dpt40000gn/T/ipykernel_97676/3134900562.py:48: RuntimeWarning: invalid value encountered in divide\n",
      "  f = np.array(list((nx.get_node_attributes(G,col1).values()))) / pop\n",
      "Processing Cities:  46%|████▌     | 46/100 [00:23<00:08,  6.69it/s]"
     ]
    },
    {
     "name": "stdout",
     "output_type": "stream",
     "text": [
      "MiamiFL done\n",
      "ClevelandOH done\n"
     ]
    },
    {
     "name": "stderr",
     "output_type": "stream",
     "text": [
      "Processing Cities:  48%|████▊     | 48/100 [00:23<00:07,  7.07it/s]"
     ]
    },
    {
     "name": "stdout",
     "output_type": "stream",
     "text": [
      "TulsaOK done\n",
      "OaklandCA done\n"
     ]
    },
    {
     "name": "stderr",
     "output_type": "stream",
     "text": [
      "Processing Cities:  51%|█████     | 51/100 [00:24<00:05,  8.44it/s]"
     ]
    },
    {
     "name": "stdout",
     "output_type": "stream",
     "text": [
      "MinneapolisMN done\n",
      "WichitaKS done\n",
      "ArlingtonTX done\n"
     ]
    },
    {
     "name": "stderr",
     "output_type": "stream",
     "text": [
      "Processing Cities:  53%|█████▎    | 53/100 [00:24<00:05,  7.89it/s]"
     ]
    },
    {
     "name": "stdout",
     "output_type": "stream",
     "text": [
      "BakersfieldCA done\n",
      "New OrleansLA done\n"
     ]
    },
    {
     "name": "stderr",
     "output_type": "stream",
     "text": [
      "/var/folders/_b/bl5yw1q15msg5ky9z_04dpt40000gn/T/ipykernel_97676/3134900562.py:48: RuntimeWarning: invalid value encountered in divide\n",
      "  f = np.array(list((nx.get_node_attributes(G,col1).values()))) / pop\n",
      "Processing Cities:  55%|█████▌    | 55/100 [00:24<00:05,  8.28it/s]"
     ]
    },
    {
     "name": "stdout",
     "output_type": "stream",
     "text": [
      "AnaheimCA done\n",
      "TampaFL done\n"
     ]
    },
    {
     "name": "stderr",
     "output_type": "stream",
     "text": [
      "/var/folders/_b/bl5yw1q15msg5ky9z_04dpt40000gn/T/ipykernel_97676/3134900562.py:48: RuntimeWarning: invalid value encountered in divide\n",
      "  f = np.array(list((nx.get_node_attributes(G,col1).values()))) / pop\n",
      "Processing Cities:  58%|█████▊    | 58/100 [00:24<00:04,  9.70it/s]"
     ]
    },
    {
     "name": "stdout",
     "output_type": "stream",
     "text": [
      "AuroraCO done\n",
      "Santa AnaCA done\n",
      "St. LouisMO done\n"
     ]
    },
    {
     "name": "stderr",
     "output_type": "stream",
     "text": [
      "/var/folders/_b/bl5yw1q15msg5ky9z_04dpt40000gn/T/ipykernel_97676/3134900562.py:48: RuntimeWarning: invalid value encountered in divide\n",
      "  f = np.array(list((nx.get_node_attributes(G,col1).values()))) / pop\n",
      "Processing Cities:  59%|█████▉    | 59/100 [00:24<00:04,  9.64it/s]/var/folders/_b/bl5yw1q15msg5ky9z_04dpt40000gn/T/ipykernel_97676/3134900562.py:48: RuntimeWarning: invalid value encountered in divide\n",
      "  f = np.array(list((nx.get_node_attributes(G,col1).values()))) / pop\n",
      "Processing Cities:  61%|██████    | 61/100 [00:25<00:03, 11.13it/s]"
     ]
    },
    {
     "name": "stdout",
     "output_type": "stream",
     "text": [
      "PittsburghPA done\n",
      "Corpus ChristiTX done\n",
      "RiversideCA done\n"
     ]
    },
    {
     "name": "stderr",
     "output_type": "stream",
     "text": [
      "Processing Cities:  65%|██████▌   | 65/100 [00:25<00:03, 10.92it/s]"
     ]
    },
    {
     "name": "stdout",
     "output_type": "stream",
     "text": [
      "CincinnatiOH done\n",
      "LexingtonKY done\n",
      "AnchorageAK done\n",
      "StocktonCA done\n"
     ]
    },
    {
     "name": "stderr",
     "output_type": "stream",
     "text": [
      "/var/folders/_b/bl5yw1q15msg5ky9z_04dpt40000gn/T/ipykernel_97676/3134900562.py:48: RuntimeWarning: invalid value encountered in divide\n",
      "  f = np.array(list((nx.get_node_attributes(G,col1).values()))) / pop\n",
      "Processing Cities:  67%|██████▋   | 67/100 [00:25<00:03,  9.87it/s]"
     ]
    },
    {
     "name": "stdout",
     "output_type": "stream",
     "text": [
      "ToledoOH done\n",
      "St. PaulMN done\n",
      "NewarkNJ done\n"
     ]
    },
    {
     "name": "stderr",
     "output_type": "stream",
     "text": [
      "/var/folders/_b/bl5yw1q15msg5ky9z_04dpt40000gn/T/ipykernel_97676/3134900562.py:48: RuntimeWarning: invalid value encountered in divide\n",
      "  f = np.array(list((nx.get_node_attributes(G,col1).values()))) / pop\n",
      "Processing Cities:  71%|███████   | 71/100 [00:26<00:02, 10.72it/s]"
     ]
    },
    {
     "name": "stdout",
     "output_type": "stream",
     "text": [
      "GreensboroNC done\n",
      "BuffaloNY done\n",
      "PlanoTX done\n"
     ]
    },
    {
     "name": "stderr",
     "output_type": "stream",
     "text": [
      "Processing Cities:  73%|███████▎  | 73/100 [00:26<00:02, 11.67it/s]"
     ]
    },
    {
     "name": "stdout",
     "output_type": "stream",
     "text": [
      "LincolnNE done\n",
      "HendersonNV done\n",
      "Fort WayneIN done\n",
      "Jersey CityNJ done\n"
     ]
    },
    {
     "name": "stderr",
     "output_type": "stream",
     "text": [
      "/var/folders/_b/bl5yw1q15msg5ky9z_04dpt40000gn/T/ipykernel_97676/3134900562.py:48: RuntimeWarning: invalid value encountered in divide\n",
      "  f = np.array(list((nx.get_node_attributes(G,col1).values()))) / pop\n",
      "Processing Cities:  76%|███████▌  | 76/100 [00:26<00:01, 13.48it/s]/var/folders/_b/bl5yw1q15msg5ky9z_04dpt40000gn/T/ipykernel_97676/3134900562.py:48: RuntimeWarning: invalid value encountered in divide\n",
      "  f = np.array(list((nx.get_node_attributes(G,col1).values()))) / pop\n",
      "Processing Cities:  78%|███████▊  | 78/100 [00:26<00:01, 14.11it/s]"
     ]
    },
    {
     "name": "stdout",
     "output_type": "stream",
     "text": [
      "St. PetersburgFL done\n",
      "Chula VistaCA done\n",
      "NorfolkVA done\n"
     ]
    },
    {
     "name": "stderr",
     "output_type": "stream",
     "text": [
      "/var/folders/_b/bl5yw1q15msg5ky9z_04dpt40000gn/T/ipykernel_97676/3134900562.py:48: RuntimeWarning: invalid value encountered in divide\n",
      "  f = np.array(list((nx.get_node_attributes(G,col1).values()))) / pop\n",
      "Processing Cities:  80%|████████  | 80/100 [00:26<00:01, 13.60it/s]/var/folders/_b/bl5yw1q15msg5ky9z_04dpt40000gn/T/ipykernel_97676/3134900562.py:48: RuntimeWarning: invalid value encountered in divide\n",
      "  f = np.array(list((nx.get_node_attributes(G,col1).values()))) / pop\n",
      "Processing Cities:  82%|████████▏ | 82/100 [00:26<00:01, 14.23it/s]"
     ]
    },
    {
     "name": "stdout",
     "output_type": "stream",
     "text": [
      "OrlandoFL done\n",
      "ChandlerAZ done\n",
      "LaredoTX done\n",
      "MadisonWI done\n"
     ]
    },
    {
     "name": "stderr",
     "output_type": "stream",
     "text": [
      "/var/folders/_b/bl5yw1q15msg5ky9z_04dpt40000gn/T/ipykernel_97676/3134900562.py:48: RuntimeWarning: invalid value encountered in divide\n",
      "  f = np.array(list((nx.get_node_attributes(G,col1).values()))) / pop\n",
      "Processing Cities:  84%|████████▍ | 84/100 [00:26<00:01, 13.53it/s]/var/folders/_b/bl5yw1q15msg5ky9z_04dpt40000gn/T/ipykernel_97676/3134900562.py:48: RuntimeWarning: invalid value encountered in divide\n",
      "  f = np.array(list((nx.get_node_attributes(G,col1).values()))) / pop\n",
      "Processing Cities:  86%|████████▌ | 86/100 [00:27<00:00, 14.16it/s]"
     ]
    },
    {
     "name": "stdout",
     "output_type": "stream",
     "text": [
      "Winston-SalemNC done\n",
      "LubbockTX done\n",
      "Baton RougeLA done\n",
      "DurhamNC done\n"
     ]
    },
    {
     "name": "stderr",
     "output_type": "stream",
     "text": [
      "Processing Cities:  88%|████████▊ | 88/100 [00:27<00:00, 14.16it/s]"
     ]
    },
    {
     "name": "stdout",
     "output_type": "stream",
     "text": [
      "GarlandTX done\n",
      "GlendaleAZ done\n",
      "RenoNV done\n"
     ]
    },
    {
     "name": "stderr",
     "output_type": "stream",
     "text": [
      "/var/folders/_b/bl5yw1q15msg5ky9z_04dpt40000gn/T/ipykernel_97676/3134900562.py:48: RuntimeWarning: invalid value encountered in divide\n",
      "  f = np.array(list((nx.get_node_attributes(G,col1).values()))) / pop\n",
      "Processing Cities:  90%|█████████ | 90/100 [00:27<00:00, 14.05it/s]/var/folders/_b/bl5yw1q15msg5ky9z_04dpt40000gn/T/ipykernel_97676/3134900562.py:48: RuntimeWarning: invalid value encountered in divide\n",
      "  f = np.array(list((nx.get_node_attributes(G,col1).values()))) / pop\n",
      "Processing Cities:  92%|█████████▏| 92/100 [00:27<00:00, 13.47it/s]"
     ]
    },
    {
     "name": "stdout",
     "output_type": "stream",
     "text": [
      "HialeahFL done\n",
      "ChesapeakeVA done\n",
      "ScottsdaleAZ done\n"
     ]
    },
    {
     "name": "stderr",
     "output_type": "stream",
     "text": [
      "Processing Cities:  94%|█████████▍| 94/100 [00:27<00:00, 13.49it/s]"
     ]
    },
    {
     "name": "stdout",
     "output_type": "stream",
     "text": [
      "North Las VegasNV done\n",
      "IrvingTX done\n",
      "FremontCA done\n"
     ]
    },
    {
     "name": "stderr",
     "output_type": "stream",
     "text": [
      "Processing Cities:  96%|█████████▌| 96/100 [00:27<00:00, 13.74it/s]/var/folders/_b/bl5yw1q15msg5ky9z_04dpt40000gn/T/ipykernel_97676/3134900562.py:48: RuntimeWarning: invalid value encountered in divide\n",
      "  f = np.array(list((nx.get_node_attributes(G,col1).values()))) / pop\n",
      "Processing Cities:  98%|█████████▊| 98/100 [00:27<00:00, 13.35it/s]"
     ]
    },
    {
     "name": "stdout",
     "output_type": "stream",
     "text": [
      "IrvineCA done\n",
      "BirminghamAL done\n",
      "RochesterNY done\n"
     ]
    },
    {
     "name": "stderr",
     "output_type": "stream",
     "text": [
      "Processing Cities: 100%|██████████| 100/100 [00:28<00:00,  3.56it/s]"
     ]
    },
    {
     "name": "stdout",
     "output_type": "stream",
     "text": [
      "San BernardinoCA done\n",
      "SpokaneWA done\n",
      "Metric calculation complete. \n",
      "Results saved to ../dataOut//city_metrics.csv\n"
     ]
    },
    {
     "name": "stderr",
     "output_type": "stream",
     "text": [
      "\n"
     ]
    }
   ],
   "source": [
    "###### Analysis Params ###### \n",
    "\n",
    "# Demographic Cols #\n",
    "col1 = 'BLACK'\n",
    "col2 = 'HISP'\n",
    "\n",
    "# length of homotopy #\n",
    "t = 100\n",
    "\n",
    "# cities\n",
    "list_of_cities_pd =pd.read_csv('../dataIn/cities/City_Names_And_Populations.csv')\n",
    "city_names = [x + y for x,y in zip(list_of_cities_pd.NAME, list_of_cities_pd.ST)][:n]\n",
    "\n",
    "###### Out Dir ###### \n",
    "\n",
    "outDir = '../dataOut/'\n",
    "os.makedirs(outDir, exist_ok = True)\n",
    "\n",
    "\n",
    "cols = [\n",
    "    'w',\n",
    "    'w1',\n",
    "    'v',\n",
    "    'mvc',\n",
    "    'v/mvc',\n",
    "    'l1',\n",
    "    'l1w',\n",
    "    'l2',\n",
    "    'l2w',\n",
    "    'linf',\n",
    "    'linfw',\n",
    "    'R',\n",
    "    'R^2',\n",
    "    f'{col1}%',\n",
    "    f'{col2}%',\n",
    "    'TotPop',\n",
    "]\n",
    "\n",
    "df_out = pd.DataFrame(columns = cols)\n",
    "\n",
    "for city in tqdm(city_names, desc = \"Processing Cities\"):\n",
    "    # read graph\n",
    "    G = Graph.from_json(f\"../dataIn/cities/cities2020data/{city}.json\") # cities2020data\n",
    "    # Tract population\n",
    "    pop = np.array(list((nx.get_node_attributes(G, 'TOTPOP').values())))\n",
    "\n",
    "    # f and g are both percentages of some statistic over a population\n",
    "    f = np.array(list((nx.get_node_attributes(G,col1).values()))) / pop\n",
    "    g = np.array(list((nx.get_node_attributes(G,col2).values()))) / pop\n",
    "\n",
    "    # Fill NAN \n",
    "    f = np.nan_to_num(f, 0)\n",
    "    g = np.nan_to_num(g, 0)\n",
    "\n",
    "\n",
    "###### Compute Vineyard ###### \n",
    "\n",
    "    # Compute persistence diagrams\n",
    "    PD0 = []\n",
    "\n",
    "    # Straight line homotopy\n",
    "    Hs = Homotopy(f,g,t = t)\n",
    "    for h in Hs:\n",
    "        for i, v in enumerate(G.nodes()):\n",
    "            G.nodes[v]['Homotopy'] = h[i]\n",
    "            \n",
    "        PD0.append(Get_Adjacency_Persistence(G,'Homotopy', dimension = 0, popCol = \"TOTPOP\", popMin = 10))\n",
    "\n",
    "###### Calculate Metrics ###### \n",
    "\n",
    "    # Wasserstein Distance\n",
    "    w = Get_W_Infinity(PD0[0], PD0[-1])\n",
    "    # 1-Wasserstein Distance\n",
    "    w1 = gudhi.hera.wasserstein_distance(PD0[0], PD0[-1])\n",
    "    # Vineyard Distance (F(D) = D, F(L) = 1)\n",
    "    v = vdist(vineyard_from_pds(PD0), fD, fL)\n",
    "    # MVC \n",
    "    mvc = min_vc(PD0[0], PD0[-1])\n",
    "    # v/mvc\n",
    "    vmvc = v / mvc\n",
    "    #l1 Norm\n",
    "    l1 = np.linalg.norm(f - g, ord = 1)\n",
    "    # l2 Norm\n",
    "    l2 = np.linalg.norm(f - g, ord = 2)\n",
    "    #Linf Norm\n",
    "    linf = np.linalg.norm(f - g, ord = np.inf)\n",
    "    # Weighted l1 Norm\n",
    "    l1w = l1 / len(G)\n",
    "    # Weighted L2 Norm\n",
    "    l2w = l2 / len(G)\n",
    "    # Weighted Linf Norm\n",
    "    linfw = linf / len(G)\n",
    "    # Pearson Correlation\n",
    "    r = np.corrcoef(f,g)[0,1]\n",
    "    # R^2\n",
    "    r2 = r ** 2\n",
    "    # Total Population\n",
    "    totPop = np.sum(pop)\n",
    "    # col1%\n",
    "    col1P = np.sum(f * pop) / totPop * 100.0\n",
    "    # col2%\n",
    "    col2P = np.sum(g * pop) / totPop * 100.0\n",
    "\n",
    "###### Store Data ###### \n",
    "    data = pd.Series([w, w1, v, mvc, vmvc, l1, l1w, l2, l2w, linf, linfw, r, r2, col1P, col2P, totPop])\n",
    "\n",
    "    df_out.loc[city] = pd.Series({\n",
    "        f'{col}' : d for col, d in zip(cols, data)\n",
    "    })\n",
    "\n",
    "    print(f'{city} done')\n",
    "    \n",
    "###### Save ###### \n",
    "df_out.index.name = 'Name'\n",
    "df_out.to_csv(os.path.join(outDir, 'city_metrics.csv'), index = True)\n",
    "print(f\"Metric calculation complete. \\nResults saved to {outDir}/city_metrics.csv\")"
   ]
  },
  {
   "cell_type": "code",
   "execution_count": 20,
   "metadata": {},
   "outputs": [
    {
     "name": "stdout",
     "output_type": "stream",
     "text": [
      "Name\n",
      "New YorkNY        3.162003\n",
      "Los AngelesCA     2.358659\n",
      "ChicagoIL         1.479105\n",
      "HoustonTX         2.211081\n",
      "PhiladelphiaPA    0.835309\n",
      "Name: v, dtype: float64\n",
      "Name\n",
      "New YorkNY        5.064414\n",
      "Los AngelesCA     3.962156\n",
      "ChicagoIL         2.433321\n",
      "HoustonTX         3.644369\n",
      "PhiladelphiaPA    1.293566\n",
      "Name: v, dtype: float64\n",
      "1.4905361117503764\n",
      "2.2932280789814903\n",
      "3.843986792849618\n",
      "3.843986792849618\n"
     ]
    }
   ],
   "source": [
    "df_1 = pd.read_csv('../../PaperCodes/DataOut/City_Metrics_P.csv', index_col = \"Name\")\n",
    "df_2 = pd.read_csv('../dataOut/city_metrics.csv', index_col = \"Name\")\n",
    "print(df_1['v'].head())\n",
    "print(df_2['v'].head())\n",
    "print(df_1.loc[\"DallasTX\"]['v'])\n",
    "print(df_2.loc[\"DallasTX\"]['v'])\n",
    "\n",
    "print(df_1.loc[\"DallasTX\"]['w1'])\n",
    "print(df_2.loc[\"DallasTX\"]['w1'])"
   ]
  },
  {
   "cell_type": "code",
   "execution_count": null,
   "metadata": {},
   "outputs": [],
   "source": []
  }
 ],
 "metadata": {
  "kernelspec": {
   "display_name": "uncg",
   "language": "python",
   "name": "python3"
  },
  "language_info": {
   "codemirror_mode": {
    "name": "ipython",
    "version": 3
   },
   "file_extension": ".py",
   "mimetype": "text/x-python",
   "name": "python",
   "nbconvert_exporter": "python",
   "pygments_lexer": "ipython3",
   "version": "3.10.18"
  }
 },
 "nbformat": 4,
 "nbformat_minor": 2
}

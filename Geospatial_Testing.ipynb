{
 "cells": [
  {
   "cell_type": "code",
   "execution_count": 131,
   "metadata": {},
   "outputs": [],
   "source": [
    "# For Matrix Operations\n",
    "import sklearn\n",
    "from sklearn.cluster import KMeans\n",
    "from sklearn.manifold import MDS\n",
    "import numpy as np\n",
    "import pandas as pd\n",
    "\n",
    "# For Plotting\n",
    "from matplotlib import pyplot as plt\n",
    "import plotly\n",
    "import plotly.graph_objects as go\n",
    "import mplcursors\n",
    "\n",
    "# for Geospatial\n",
    "import geopandas as gpd\n",
    "from gerrychain import Graph\n",
    "import networkx as nx\n",
    "\n",
    "# For TDA\n",
    "import gudhi\n",
    "import gudhi.wasserstein\n",
    "import gudhi.hera\n",
    "import ot\n",
    "\n",
    "# VERSIONS USED\n",
    "# !pip install gerrychain==0.2.22\n",
    "# !pip install shapely==2.0.2\n",
    "# !pip install geopandas==0.12.2\n",
    "#################"
   ]
  },
  {
   "cell_type": "code",
   "execution_count": null,
   "metadata": {},
   "outputs": [],
   "source": [
    "gdf = gpd.read_file('TDA-Class-Notebook4/NC_VTD/NC_VTD.shp')"
   ]
  },
  {
   "cell_type": "code",
   "execution_count": null,
   "metadata": {},
   "outputs": [],
   "source": [
    "\n",
    "gdf.plot(column=gdf.EL16G_PR_D/(gdf.EL16G_PR_R+gdf.EL16G_PR_D), cmap='RdBu')"
   ]
  },
  {
   "cell_type": "code",
   "execution_count": null,
   "metadata": {},
   "outputs": [],
   "source": [
    "gdf_R_precincts = gdf[gdf.EL16G_PR_R > gdf.EL16G_PR_D]\n",
    "gdf_R_precincts.plot(column=gdf_R_precincts.EL16G_PR_R/(gdf_R_precincts.EL16G_PR_R+gdf_R_precincts.EL16G_PR_D), cmap='Reds')\n"
   ]
  },
  {
   "cell_type": "code",
   "execution_count": null,
   "metadata": {},
   "outputs": [],
   "source": [
    "gdf_R_precincts = gdf[gdf.EL16G_PR_R > gdf.EL16G_PR_D]\n",
    "centroids = np.array([\n",
    "    x.coords[0] for x in gdf_R_precincts.geometry.centroid\n",
    "])\n",
    "\n",
    "\n",
    "rips = gudhi.RipsComplex(max_edge_length = 100000, points = centroids)\n",
    "#rips = gudhi.RipsComplex(max_edge_length=10, points=zip(X_Combined, Y_Combined))\n",
    "simplex_tree = rips.create_simplex_tree(max_dimension = 2)\n",
    "persistence = simplex_tree.persistence()\n",
    "\n",
    "gudhi.plot_persistence_diagram(persistence)"
   ]
  },
  {
   "cell_type": "code",
   "execution_count": null,
   "metadata": {},
   "outputs": [],
   "source": [
    "Elections = [\n",
    "            # 2008 Gubernatorial election (democrat won)\n",
    "            ('EL08G_GV_D', 'EL08G_GV_R'), \n",
    "            # 2008 Senate election (democrat won)\n",
    "            ( 'EL08G_USS_', 'EL08G_US_1'),\n",
    "            # 2010 Senate election (democrat won)\n",
    "            ( 'EL10G_USS_', 'EL10G_US_1'),\n",
    "            # 2012 Gubernatorial election (republican won) \n",
    "            ( 'EL12G_GV_D', 'EL12G_GV_R'),\n",
    "            # 2014 Senate election (republican won)\n",
    "            ( 'EL14G_US_1', 'EL14G_USS_'),\n",
    "            # 2012 Presidential election\n",
    "            ( 'EL12G_PR_D', 'EL12G_PR_R'),\n",
    "            # 2016 Presidential election\n",
    "            ( 'EL16G_PR_D', 'EL16G_PR_R'),\n",
    "            # 2016 Senate election (republican won)\n",
    "            ( 'EL16G_US_1', 'EL16G_USS_'),\n",
    "            # 2016 Gubernatorial election (democrat won)\n",
    "            ('EL16G_GV_D', 'EL16G_GV_R')]\n",
    "\n",
    "Election_Names = ['2008 Gubernatorial election', '2008 Senate election', '2010 Senate election', '2012 Gubernatorial election', '2014 Senate election', \n",
    "                  '2012 Presidential election', '2016 Presidential election', '2016 Senate election', '2016 Gubernatorial election']\n",
    "\n",
    "Winners = ['blue'] * 3 + ['red'] * 5 + ['blue']"
   ]
  },
  {
   "cell_type": "code",
   "execution_count": null,
   "metadata": {},
   "outputs": [],
   "source": [
    "for Election in Elections:\n",
    "    print(Election)\n",
    "    gdf.plot(column=gdf[Election[0]]/(gdf[Election[0]]+gdf[Election[1]]), cmap='RdBu', legend = True)\n",
    "    plt.show()"
   ]
  },
  {
   "cell_type": "code",
   "execution_count": null,
   "metadata": {},
   "outputs": [],
   "source": [
    "for i, Election in enumerate(Elections):\n",
    "    R_Precincts = gdf[gdf[Election[0]] < gdf[Election[1]]]\n",
    "    centroids = np.array([\n",
    "        x.coords[0] for x in R_Precincts.geometry.centroid\n",
    "    ])\n",
    "\n",
    "    rips = gudhi.RipsComplex(max_edge_length = 100000, points = centroids)\n",
    "\n",
    "    print(\"Simplex Tree for {}\".format(Election_Names[i]))\n",
    "    simplex_tree = rips.create_simplex_tree(max_dimension = 2)\n",
    "    persistence = simplex_tree.persistence()\n",
    "\n",
    "    gudhi.plot_persistence_diagram(persistence)\n",
    "    plt.show()\n"
   ]
  },
  {
   "cell_type": "markdown",
   "metadata": {},
   "source": [
    "### Distance Matrices"
   ]
  },
  {
   "cell_type": "markdown",
   "metadata": {},
   "source": [
    "#### L2 Distance"
   ]
  },
  {
   "cell_type": "code",
   "execution_count": 128,
   "metadata": {},
   "outputs": [],
   "source": [
    "Democrat_Vectors = np.array([gdf[Election[0]]/ (gdf[Election[0]]+gdf[Election[1]]) for Election in Elections])"
   ]
  },
  {
   "cell_type": "code",
   "execution_count": 129,
   "metadata": {},
   "outputs": [
    {
     "data": {
      "image/png": "[encoded data removed]",
      "text/plain": [
       "<Figure size 640x480 with 1 Axes>"
      ]
     },
     "metadata": {},
     "output_type": "display_data"
    }
   ],
   "source": [
    "L2_Distances = np.zeros( (Democrat_Vectors.shape[0], Democrat_Vectors.shape[0]) )\n",
    "for i in range(L2_Distances.shape[0]):\n",
    "    for j in range(i, L2_Distances.shape[1]):\n",
    "        L2_Distances[i][j] = np.linalg.norm( Democrat_Vectors[i] - Democrat_Vectors[j])\n",
    "L2_Distances += L2_Distances.transpose()\n",
    "\n",
    "Embedding = MDS(n_components = 2, metric = True, random_state = 32, dissimilarity = 'precomputed').fit_transform(L2_Distances)\n",
    "\n",
    "\n",
    "# Plotting\n",
    "fig, ax = plt.subplots()\n",
    "\n",
    "scatter = ax.scatter(Embedding[:,0], Embedding[:,1], c = Winners)\n",
    "\n",
    "# Getting Name on Hover\n",
    "def on_plot_hover(event):\n",
    "\n",
    "    ind = event.ind\n",
    "\n",
    "    mplcursors.cursor(scatter).annotations.remove()\n",
    "\n",
    "    for i in ind:\n",
    "        mplcursors.cursor(scatter).add_annotations(Election_Names[i])\n",
    "        \n",
    "mplcursors.cursor(scatter, hover=True).connect(\"add\", on_plot_hover)\n",
    "plt.show()\n"
   ]
  },
  {
   "cell_type": "markdown",
   "metadata": {},
   "source": [
    "### Wasserstein Distance"
   ]
  },
  {
   "cell_type": "markdown",
   "metadata": {},
   "source": [
    "#### Adjacency Method"
   ]
  },
  {
   "cell_type": "code",
   "execution_count": 179,
   "metadata": {},
   "outputs": [],
   "source": [
    "def Adjacency_Persistence(gdf, Election, dimension = None):\n",
    "  # Input: Election and corresponding simplicial complex\n",
    "  # First index should always be democrat vote share\n",
    "  # Second index should always be republican vote share\n",
    "\n",
    "  # Output\n",
    "  # Persistence diagram in requested dimension corresponding to adjacency filtration on graph\n",
    "\n",
    "  ############################################################################################################################################\n",
    "  # Making Graph #\n",
    "  ############################################################################################################################################\n",
    "  graph = Graph.from_geodataframe(gdf, adjacency='queen', ignore_errors = True)\n",
    "  scomplex = gudhi.SimplexTree()\n",
    "  for i in graph.nodes:\n",
    "      scomplex.insert([i]) #add a 0-simplex, given as a list with just one vertex\n",
    "\n",
    "  for e in graph.edges:\n",
    "      scomplex.insert([e[0], e[1]]) #add a 1-simplex\n",
    "\n",
    "  all_cliques = nx.enumerate_all_cliques(graph)\n",
    "\n",
    "  all_triangles = [x for x in all_cliques if len(x) == 3]\n",
    "\n",
    "  for t in all_triangles:\n",
    "      scomplex.insert([t[0], t[1], t[2]]) #add a 2-simplex\n",
    "  ############################################################################################################################################\n",
    "  # Filtration Step #\n",
    "  ############################################################################################################################################\n",
    "  for v in graph.nodes:\n",
    "      scomplex.assign_filtration(\n",
    "        [v], #we have to put [] here because a 0-simplex is technically a list with one element\n",
    "        filtration=graph.nodes[v][Election[0]]/(graph.nodes[v][Election[0]]+graph.nodes[v][Election[1]])\n",
    "      )\n",
    "\n",
    "  scomplex.make_filtration_non_decreasing()\n",
    "  \n",
    "  if dimension == None:  \n",
    "    persistence = scomplex.persistence()\n",
    "\n",
    "  else:\n",
    "    scomplex.compute_persistence()\n",
    "    persistence = scomplex.persistence_intervals_in_dimension(dimension)\n",
    "\n",
    "  return persistence "
   ]
  },
  {
   "cell_type": "code",
   "execution_count": 183,
   "metadata": {},
   "outputs": [],
   "source": [
    "# Calculating Dimension zero persistence diagrams\n",
    "PDDS_0 = [Adjacency_Persistence(gdf, Election, 0) for Election in Elections]\n",
    "\n",
    "# Wasserstein Distances\n",
    "Adj_Distances = np.zeros( (len(PDDS_0), len(PDDS_0)) )\n",
    "for i in range(Adj_Distances.shape[0]):\n",
    "    for j in range(i, Adj_Distances.shape[1]):\n",
    "        Adj_Distances[i][j] = gudhi.hera.wasserstein_distance(PDDS_0[i], PDDS_0[j])\n",
    "Adj_Distances += Adj_Distances.transpose()\n",
    "\n"
   ]
  },
  {
   "cell_type": "code",
   "execution_count": 184,
   "metadata": {},
   "outputs": [
    {
     "data": {
      "image/png": "[encoded data removed]",
      "text/plain": [
       "<Figure size 640x480 with 1 Axes>"
      ]
     },
     "metadata": {},
     "output_type": "display_data"
    }
   ],
   "source": [
    "# Doing MDS and PLotting\n",
    "Embedding = MDS(n_components = 2, metric = True, random_state = 32, dissimilarity = 'precomputed').fit_transform(Adj_Distances)\n",
    "\n",
    "# Plotting\n",
    "fig, ax = plt.subplots()\n",
    "\n",
    "scatter = ax.scatter(Embedding[:,0], Embedding[:,1], c = Winners)\n",
    "\n",
    "# Getting Name on Hover\n",
    "def on_plot_hover(event):\n",
    "\n",
    "    ind = event.ind\n",
    "\n",
    "    mplcursors.cursor(scatter).annotations.remove()\n",
    "\n",
    "    for i in ind:\n",
    "        mplcursors.cursor(scatter).add_annotations(Election_Names[i])\n",
    "        \n",
    "mplcursors.cursor(scatter, hover=True).connect(\"add\", on_plot_hover)\n",
    "plt.show()"
   ]
  },
  {
   "cell_type": "markdown",
   "metadata": {},
   "source": [
    "#### Centroid Method"
   ]
  },
  {
   "cell_type": "code",
   "execution_count": null,
   "metadata": {},
   "outputs": [],
   "source": [
    "def Get_Persistence(Election, dimension = None):\n",
    "    # takes the election tuples as an input (any two columns of a dataframe will work\n",
    "    # Democrat must be in index 0 and republican in index 1\n",
    "\n",
    "    R_Precincts = gdf[gdf[Election[0]] < gdf[Election[1]]]\n",
    "    centroids = np.array([\n",
    "    x.coords[0] for x in R_Precincts.geometry.centroid\n",
    "])\n",
    "    \n",
    "    rips = gudhi.RipsComplex(max_edge_length = 100000, points = centroids)\n",
    "    #rips = gudhi.RipsComplex(max_edge_length=10, points=zip(X_Combined, Y_Combined))\n",
    "    simplex_tree = rips.create_simplex_tree(max_dimension = 2)\n",
    "    if dimension == None:\n",
    "        persistence = simplex_tree.persistence()\n",
    "    else:\n",
    "        simplex_tree.compute_persistence()\n",
    "        persistence = simplex_tree.persistence_intervals_in_dimension(dimension)\n",
    "\n",
    "    return persistence"
   ]
  },
  {
   "cell_type": "code",
   "execution_count": 127,
   "metadata": {},
   "outputs": [],
   "source": [
    "# Dimension zero persistence diagrams\n",
    "PDDS_0 = [Get_Persistence(Election, 0) for Election in Elections]\n",
    "\n",
    "# Wasserstein Distances\n",
    "Cent_Distances = np.zeros( (len(PDDS_0), len(PDDS_0)) )\n",
    "for i in range(Cent_Distances.shape[0]):\n",
    "    for j in range(i, Cent_Distances.shape[1]):\n",
    "        W_Distances[i][j] = gudhi.hera.wasserstein_distance(PDDS_0[i], PDDS_0[j])\n",
    "Cent_Distances += Cent_Distances.transpose()\n"
   ]
  },
  {
   "cell_type": "code",
   "execution_count": 126,
   "metadata": {},
   "outputs": [
    {
     "data": {
      "image/png": "[encoded data removed]",
      "text/plain": [
       "<Figure size 640x480 with 1 Axes>"
      ]
     },
     "metadata": {},
     "output_type": "display_data"
    }
   ],
   "source": [
    "Embedding = MDS(n_components = 2, metric = True, random_state = 32, dissimilarity = 'precomputed').fit_transform(Cent_Distances)\n",
    "\n",
    "# Plotting\n",
    "fig, ax = plt.subplots()\n",
    "\n",
    "scatter = ax.scatter(Embedding[:,0], Embedding[:,1], c = Winners)\n",
    "\n",
    "# Getting Name on Hover\n",
    "def on_plot_hover(event):\n",
    "\n",
    "    ind = event.ind\n",
    "\n",
    "    mplcursors.cursor(scatter).annotations.remove()\n",
    "\n",
    "    for i in ind:\n",
    "        mplcursors.cursor(scatter).add_annotations(Election_Names[i])\n",
    "        \n",
    "mplcursors.cursor(scatter, hover=True).connect(\"add\", on_plot_hover)\n",
    "plt.show()"
   ]
  },
  {
   "cell_type": "markdown",
   "metadata": {},
   "source": [
    "#### Vinyard Distance"
   ]
  },
  {
   "cell_type": "code",
   "execution_count": 153,
   "metadata": {},
   "outputs": [
    {
     "data": {
      "text/plain": [
       "(11, 2692)"
      ]
     },
     "execution_count": 153,
     "metadata": {},
     "output_type": "execute_result"
    }
   ],
   "source": [
    "t = 11\n",
    "ts = np.linspace(0,1,t)\n",
    "Delta = (Democrat_Vectors[0] - Democrat_Vectors[1])\n",
    "\n",
    "hs = np.array([Democrat_Vectors[0] + (Democrat_Vectors[0] - Democrat_Vectors[1]) * t for t in ts])\n",
    "hs.shape"
   ]
  },
  {
   "cell_type": "code",
   "execution_count": null,
   "metadata": {},
   "outputs": [],
   "source": [
    "def Adjacency_Persistence_Vinyard(gdf, Election, dimension = None):\n",
    "  # Input: Election and corresponding simplicial complex\n",
    "  # First index should always be democrat vote share\n",
    "  # Second index should always be republican vote share\n",
    "\n",
    "  # Output\n",
    "  # Persistence diagram in requested dimension corresponding to adjacency filtration on graph\n",
    "\n",
    "  ############################################################################################################################################\n",
    "  # Making Graph #\n",
    "  ############################################################################################################################################\n",
    "  graph = Graph.from_geodataframe(gdf, adjacency='queen', ignore_errors = True)\n",
    "  scomplex = gudhi.SimplexTree()\n",
    "  for i in graph.nodes:\n",
    "      scomplex.insert([i]) #add a 0-simplex, given as a list with just one vertex\n",
    "\n",
    "  for e in graph.edges:\n",
    "      scomplex.insert([e[0], e[1]]) #add a 1-simplex\n",
    "\n",
    "  all_cliques = nx.enumerate_all_cliques(graph)\n",
    "\n",
    "  all_triangles = [x for x in all_cliques if len(x) == 3]\n",
    "\n",
    "  for t in all_triangles:\n",
    "      scomplex.insert([t[0], t[1], t[2]]) #add a 2-simplex\n",
    "  ############################################################################################################################################\n",
    "  # Filtration Step #\n",
    "  ############################################################################################################################################\n",
    "  for v in graph.nodes:\n",
    "      scomplex.assign_filtration(\n",
    "        [v], #we have to put [] here because a 0-simplex is technically a list with one element\n",
    "        filtration=graph.nodes[v][Election[0]]/(graph.nodes[v][Election[0]]+graph.nodes[v][Election[1]])\n",
    "      )\n",
    "\n",
    "  scomplex.make_filtration_non_decreasing()\n",
    "  \n",
    "  if dimension == None:  \n",
    "    persistence = scomplex.persistence()\n",
    "\n",
    "  else:\n",
    "    scomplex.compute_persistence()\n",
    "    persistence = scomplex.persistence_intervals_in_dimension(dimension)\n",
    "\n",
    "  return persistence "
   ]
  },
  {
   "cell_type": "code",
   "execution_count": 188,
   "metadata": {},
   "outputs": [
    {
     "ename": "IndentationError",
     "evalue": "expected an indented block after 'for' statement on line 4 (3428177339.py, line 6)",
     "output_type": "error",
     "traceback": [
      "\u001b[0;36m  Cell \u001b[0;32mIn[188], line 6\u001b[0;36m\u001b[0m\n\u001b[0;31m    def Get_Vinyard(PDD, t = 11):\u001b[0m\n\u001b[0m    ^\u001b[0m\n\u001b[0;31mIndentationError\u001b[0m\u001b[0;31m:\u001b[0m expected an indented block after 'for' statement on line 4\n"
     ]
    }
   ],
   "source": [
    "PDDS_0 = [Adjacency_Persistence(gdf,Election, 0) for Election in hs]\n",
    "\n",
    "PDDS_0 = []\n",
    "for Election in Elections:\n",
    "    \n",
    "\n",
    "def Get_Vinyard(PDD, t = 11):\n",
    "##########\n",
    "    # input:\n",
    "        # a series of persistence diagrams that come from a straight line homotopy\n",
    "        # the dimension of persistence you want\n",
    "    # output:\n",
    "        # series of persistence diagrams: hs\n",
    "        # persistence vinyard polotted in 3d space: res\n",
    "        # death value of largest persistence: mx\n",
    "\n",
    "##########\n",
    "\n",
    "\n",
    "    # creates equal intervals from 0 to 100\n",
    "    ts = np.linspace(0,1,t)\n",
    "\n",
    "# tracking each vine. the third entry tracks what vine is matche dup to what wasserstein point\n",
    "    # vines[0] is birth frame\n",
    "    # vines[1] is death frame\n",
    "    # vines[2] keeps track of what point the vine is in the corresponding persistence diagram\n",
    "    vines = [[0, None, [x,]] for x in range(len(PDD[0]))]\n",
    "    # each vine is matched to itself in the ends matrix\n",
    "    ends = {x:x for x in range(len(PDD[0]))}\n",
    "\n",
    "    for i in range(1, len(ts)):\n",
    "        dist, match = gudhi.hera.wasserstein_distance(PDD[i-1], PDD[i], matching = True)\n",
    "\n",
    "        baby = [] \n",
    "\n",
    "        new_ends = {k:ends[k] for k in ends}\n",
    "        for j, (x,y) in enumerate(match):\n",
    "            if x == -1:\n",
    "                baby.append(j)\n",
    "            elif y == -1:\n",
    "                # ends the vine\n",
    "                \n",
    "                # we record death frame\n",
    "                vines[ends[x]][1] = i\n",
    "                # -1 tells us the vine is dead in our PD\n",
    "                vines[ends[x]][2].append(-1)\n",
    "            else:\n",
    "                # updating vines. Adding the match to our vines matrix\n",
    "                vines[ends[x]][2].append(y)\n",
    "                # setting ends to new_ends for the next iteration\n",
    "                new_ends[y] = ends[x] \n",
    "\n",
    "        for j in baby:\n",
    "            x, y = match[j]\n",
    "            new_ends[y] = len(vines)\n",
    "            vines.append([i, None, [y,]])\n",
    "            # print(f\"new {y} -> *\")\n",
    "\n",
    "        for k in [l for l in ends]: \n",
    "            if k >= len(PDD[i]):\n",
    "                del new_ends[k]\n",
    "\n",
    "        ends = new_ends\n",
    "\n",
    "\n",
    "    # this block takes the tracking in vines[i][2] and replaces it with the numpy array of the vines birth and death times.\n",
    "    # these times are taken at each time step of our vinyard\n",
    "    # for example: poss[1][2][3] is the birth/death times of vine number 2 at time step 4. Note that indices are 1 less than their frame #\n",
    "    poss = vines\n",
    "    for i,_ in enumerate(vines):\n",
    "        repl = []\n",
    "        for j,x in enumerate(vines[i][2]):\n",
    "            # if vine is dead at that frame\n",
    "            if x == -1:\n",
    "                repl.append(np.mean(PDD[vines[i][0]+j-1][vines[i][2][j-1]])*np.ones((2,))) # proj prev\n",
    "            else:\n",
    "                repl.append(PDD[vines[i][0]+j][x])\n",
    "        poss[i][2] = np.array(repl)\n",
    "\n",
    "\n",
    "\n",
    "\n",
    "    # these are the vine values in 3d space\n",
    "\n",
    "    # we iterate through each vine, to create a res entry (res[0] corresponds to vine zero)\n",
    "    # res[0][b(t) -> d(t)] is a triple list consisting of:\n",
    "        # [time value, birth time, death time]\n",
    "\n",
    "    res = [[[ts[p[0]+np.arange(len(p[2]))][i], *x] for i,x in enumerate(p[2])] for p in poss]\n",
    "\n",
    "\n",
    "    mx = np.max([np.max(p[2]) for p in poss if np.inf not in p[2]])\n",
    "    # getting the max death time of all the vines\n",
    "\n",
    "    return res, mx, hs\n",
    "\n",
    "Test_Vinyard = Get_Vinyard(PDDS_0, 11)"
   ]
  },
  {
   "cell_type": "code",
   "execution_count": null,
   "metadata": {},
   "outputs": [],
   "source": []
  }
 ],
 "metadata": {
  "kernelspec": {
   "display_name": "Python 3 (ipykernel)",
   "language": "python",
   "name": "python3"
  },
  "language_info": {
   "codemirror_mode": {
    "name": "ipython",
    "version": 3
   },
   "file_extension": ".py",
   "mimetype": "text/x-python",
   "name": "python",
   "nbconvert_exporter": "python",
   "pygments_lexer": "ipython3",
   "version": "3.12.3"
  }
 },
 "nbformat": 4,
 "nbformat_minor": 4
}

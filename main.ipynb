{
 "cells": [
  {
   "cell_type": "markdown",
   "metadata": {},
   "source": [
    "# Vineyard\n",
    "Experimenting with weighted vineyard distance formulations. Longer line length -> consistent feature -> lower D. Low distance to the diagonal -> unimportant -> lower distance."
   ]
  },
  {
   "cell_type": "code",
   "execution_count": 1,
   "metadata": {},
   "outputs": [
    {
     "name": "stderr",
     "output_type": "stream",
     "text": [
      "/var/folders/fg/n7d57ft153bf46npr6w6jjxr0000gn/T/ipykernel_77967/3356440145.py:4: DeprecationWarning: \n",
      "Pyarrow will become a required dependency of pandas in the next major release of pandas (pandas 3.0),\n",
      "(to allow more performant data types, such as the Arrow string type, and better interoperability with other libraries)\n",
      "but was not found to be installed on your system.\n",
      "If this would cause problems for you,\n",
      "please provide us feedback at https://github.com/pandas-dev/pandas/issues/54466\n",
      "        \n",
      "  import pandas as pd\n"
     ]
    }
   ],
   "source": [
    "import sklearn\n",
    "from sklearn.datasets import fetch_openml\n",
    "import numpy as np\n",
    "import pandas as pd\n",
    "from matplotlib import pyplot as plt\n",
    "import plotly\n",
    "import plotly.graph_objects as go\n"
   ]
  },
  {
   "cell_type": "code",
   "execution_count": 2,
   "metadata": {},
   "outputs": [],
   "source": [
    "import gudhi\n",
    "import gudhi.wasserstein\n",
    "import gudhi.hera\n",
    "import ot"
   ]
  },
  {
   "cell_type": "code",
   "execution_count": 3,
   "metadata": {},
   "outputs": [],
   "source": [
    "X, y = fetch_openml(\"mnist_784\", version=1, return_X_y=True, as_frame=False)"
   ]
  },
  {
   "cell_type": "code",
   "execution_count": 4,
   "metadata": {},
   "outputs": [],
   "source": [
    "X = X.reshape((X.shape[0], 28, 28))"
   ]
  },
  {
   "cell_type": "code",
   "execution_count": 5,
   "metadata": {},
   "outputs": [],
   "source": [
    "f, g = X[[np.where(y == x)[0][0] for x in \"69\"]]"
   ]
  },
  {
   "cell_type": "code",
   "execution_count": 40,
   "metadata": {},
   "outputs": [],
   "source": [
    "g = np.ones_like(f)\n",
    "for i in range(g.shape[0]):\n",
    "    for j in range(g.shape[1]):\n",
    "        g[i][j] = f[i][j-2] if i-1 >= 0 else 0"
   ]
  },
  {
   "cell_type": "code",
   "execution_count": 41,
   "metadata": {},
   "outputs": [
    {
     "data": {
      "image/png": "[encoded data removed]",
      "text/plain": [
       "<Figure size 640x480 with 1 Axes>"
      ]
     },
     "metadata": {},
     "output_type": "display_data"
    },
    {
     "data": {
      "text/plain": [
       "<matplotlib.image.AxesImage at 0x30e823500>"
      ]
     },
     "execution_count": 41,
     "metadata": {},
     "output_type": "execute_result"
    },
    {
     "data": {
      "image/png": "[encoded data removed]",
      "text/plain": [
       "<Figure size 640x480 with 1 Axes>"
      ]
     },
     "metadata": {},
     "output_type": "display_data"
    }
   ],
   "source": [
    "plt.imshow(f)\n",
    "plt.show()\n",
    "plt.imshow(g)"
   ]
  },
  {
   "cell_type": "code",
   "execution_count": 42,
   "metadata": {},
   "outputs": [],
   "source": [
    "ts = np.linspace(0, 1, 100)\n",
    "hs = np.array([t*f+(1-t)*g for t in ts])"
   ]
  },
  {
   "cell_type": "code",
   "execution_count": 43,
   "metadata": {},
   "outputs": [],
   "source": [
    "def persistence(array, dimension=None):\n",
    "  height, width = array.shape\n",
    "  cubeComplex = gudhi.CubicalComplex(\n",
    "      dimensions = [width,height],\n",
    "      top_dimensional_cells = 255 - array.flatten()\n",
    "  )\n",
    " \n",
    "  if dimension == None:\n",
    "    persistence = cubeComplex.persistence()\n",
    "  else:\n",
    "    cubeComplex.compute_persistence()\n",
    "    persistence = cubeComplex.persistence_intervals_in_dimension(dimension)\n",
    "    \n",
    "  return persistence"
   ]
  },
  {
   "cell_type": "code",
   "execution_count": 44,
   "metadata": {},
   "outputs": [],
   "source": [
    "PD0 = [persistence(h, dimension=1) for h in hs]"
   ]
  },
  {
   "cell_type": "code",
   "execution_count": 45,
   "metadata": {},
   "outputs": [],
   "source": [
    "vines = [[0, None, [x,]] for x in range(len(PD0[0]))]\n",
    "ends = {x:x for x in range(len(PD0[0]))}\n",
    "\n",
    "for i in range(1, len(ts)):\n",
    "    dist, match = gudhi.hera.wasserstein_distance(PD0[i-1], PD0[i], matching=True)\n",
    "\n",
    "    baby = []\n",
    "    # print(\"IIII\", i)\n",
    "\n",
    "    new_ends = {k:ends[k] for k in ends}\n",
    "    for j, (x, y) in enumerate(match):\n",
    "        # print(x,y)\n",
    "        if x == -1:\n",
    "            baby.append(j)\n",
    "        elif y == -1: # end vines\n",
    "            vines[ends[x]][1] = i\n",
    "            vines[ends[x]][2].append(-1)\n",
    "            # print(f\"end {x} -> -1\")\n",
    "        else: # update vines\n",
    "            vines[ends[x]][2].append(y)\n",
    "            new_ends[y] = ends[x]\n",
    "            # print(f\"join {x} -> {y} (ind {ends[x]})\")\n",
    "    \n",
    "    # new vines\n",
    "    for j in baby:\n",
    "        x, y = match[j]\n",
    "        new_ends[y] = len(vines)\n",
    "        vines.append([i, None, [y,]])\n",
    "        # print(f\"new {y} -> *\")\n",
    "\n",
    "    for k in [l for l in ends]: \n",
    "        if k >= len(PD0[i]):\n",
    "            del new_ends[k]\n",
    "\n",
    "    ends = new_ends\n",
    "            \n",
    "    # print(ends)\n",
    "    # print(vines)"
   ]
  },
  {
   "cell_type": "code",
   "execution_count": 46,
   "metadata": {},
   "outputs": [],
   "source": [
    "poss = vines\n",
    "\n",
    "for i,_ in enumerate(vines):\n",
    "    # print(\"II\", i, vines[i])\n",
    "    # print(i, vines[i][2], PD0[0][])\n",
    "    repl = []\n",
    "    for j,x in enumerate(vines[i][2]):\n",
    "        if x == -1:\n",
    "            # print(PD0[vines[i][0]+j-1][vines[i][2][j-1]], \"xx\")\n",
    "            repl.append(np.mean(PD0[vines[i][0]+j-1][vines[i][2][j-1]])*np.ones((2,))) # proj prev\n",
    "        else:\n",
    "            repl.append(PD0[vines[i][0]+j][x])\n",
    "\n",
    "    poss[i][2] = np.array(repl)\n"
   ]
  },
  {
   "cell_type": "code",
   "execution_count": 47,
   "metadata": {},
   "outputs": [],
   "source": [
    "res = [[[ts[p[0]+np.arange(len(p[2]))][i], *x] for i,x in enumerate(p[2])] for p in poss]"
   ]
  },
  {
   "cell_type": "code",
   "execution_count": 48,
   "metadata": {},
   "outputs": [],
   "source": [
    "mx = np.max([np.max(p[2]) for p in poss if np.inf not in p[2]])"
   ]
  },
  {
   "cell_type": "code",
   "execution_count": 49,
   "metadata": {},
   "outputs": [
    {
     "data": {
      "image/png": "[encoded data removed]",
      "text/plain": [
       "<Figure size 640x480 with 1 Axes>"
      ]
     },
     "metadata": {},
     "output_type": "display_data"
    },
    {
     "data": {
      "image/png": "[encoded data removed]",
      "text/plain": [
       "<Figure size 640x480 with 1 Axes>"
      ]
     },
     "metadata": {},
     "output_type": "display_data"
    },
    {
     "data": {
      "application/vnd.plotly.v1+json": {
       "config": {
        "plotlyServerURL": "https://plot.ly"
       },
       "data": [
        {
         "line": {
          "width": 2
         },
         "marker": {
          "size": 2
         },
         "type": "scatter3d",
         "x": [
          0,
          0.010101010101010102,
          0.020202020202020204,
          0.030303030303030304,
          0.04040404040404041,
          0.05050505050505051,
          0.06060606060606061,
          0.07070707070707072,
          0.08080808080808081,
          0.09090909090909091,
          0.10101010101010102,
          0.11111111111111112,
          0.12121212121212122,
          0.13131313131313133,
          0.14141414141414144,
          0.15151515151515152,
          0.16161616161616163,
          0.17171717171717174,
          0.18181818181818182,
          0.19191919191919193,
          0.20202020202020204,
          0.21212121212121213,
          0.22222222222222224,
          0.23232323232323235,
          0.24242424242424243,
          0.25252525252525254,
          0.26262626262626265,
          0.27272727272727276,
          0.2828282828282829,
          0.29292929292929293,
          0.30303030303030304,
          0.31313131313131315,
          0.32323232323232326,
          0.33333333333333337,
          0.3434343434343435,
          0.3535353535353536,
          0.36363636363636365,
          0.37373737373737376,
          0.38383838383838387,
          0.393939393939394,
          0.4040404040404041,
          0.4141414141414142,
          0.42424242424242425,
          0.43434343434343436,
          0.4444444444444445,
          0.4545454545454546,
          0.4646464646464647,
          0.4747474747474748,
          0.48484848484848486,
          0.494949494949495,
          0.5050505050505051,
          0.5151515151515152,
          0.5252525252525253,
          0.5353535353535354,
          0.5454545454545455,
          0.5555555555555556,
          0.5656565656565657,
          0.5757575757575758,
          0.5858585858585859,
          0.595959595959596,
          0.6060606060606061,
          0.6161616161616162,
          0.6262626262626263,
          0.6363636363636365,
          0.6464646464646465,
          0.6565656565656566,
          0.6666666666666667,
          0.6767676767676768,
          0.686868686868687,
          0.696969696969697,
          0.7070707070707072
         ],
         "y": [
          198,
          196.03030303030303,
          194.06060606060606,
          192.0909090909091,
          190.12121212121212,
          188.15151515151513,
          186.1818181818182,
          184.21212121212122,
          182.24242424242425,
          180.27272727272728,
          178.3030303030303,
          176.33333333333331,
          174.36363636363637,
          172.39393939393938,
          170.42424242424244,
          168.45454545454544,
          166.48484848484847,
          164.5151515151515,
          162.54545454545456,
          160.57575757575756,
          158.6060606060606,
          156.63636363636363,
          154.66666666666666,
          152.6969696969697,
          150.72727272727272,
          148.75757575757575,
          146.78787878787878,
          144.8181818181818,
          142.84848484848484,
          140.87878787878788,
          138.9090909090909,
          139.56565656565658,
          140.6161616161616,
          141.66666666666669,
          142.7171717171717,
          143.7676767676768,
          144.8181818181818,
          145.86868686868686,
          146.91919191919192,
          147.96969696969697,
          149.02020202020202,
          150.07070707070704,
          148.0909090909091,
          145.54545454545456,
          143,
          140.45454545454544,
          137.90909090909088,
          135.36363636363635,
          132.8181818181818,
          130.32323232323233,
          132.67676767676767,
          135.03030303030306,
          137.3838383838384,
          139.73737373737373,
          142.09090909090912,
          144.44444444444446,
          146.79797979797982,
          149.15151515151516,
          151.50505050505052,
          153.85858585858585,
          156.21212121212122,
          158.56565656565658,
          160.91919191919192,
          163.2727272727273,
          165.62626262626264,
          167.97979797979798,
          170.33333333333334,
          172.6868686868687,
          175.04040404040407,
          177.3939393939394,
          178.43939393939394
         ],
         "z": [
          248,
          245.8989898989899,
          243.7979797979798,
          241.6969696969697,
          239.59595959595958,
          237.49494949494948,
          235.39393939393938,
          233.2929292929293,
          231.1919191919192,
          229.0909090909091,
          226.989898989899,
          224.88888888888889,
          222.78787878787878,
          220.68686868686868,
          218.58585858585857,
          216.4848484848485,
          214.3838383838384,
          212.2828282828283,
          210.1818181818182,
          208.08080808080808,
          205.97979797979798,
          203.87878787878788,
          201.77777777777777,
          199.67676767676767,
          197.57575757575756,
          195.47474747474746,
          193.37373737373736,
          191.27272727272725,
          189.17171717171715,
          187.07070707070707,
          184.96969696969697,
          182.86868686868686,
          180.76767676767676,
          178.66666666666666,
          176.56565656565655,
          174.46464646464645,
          172.36363636363637,
          170.26262626262627,
          168.16161616161617,
          166.06060606060606,
          163.95959595959596,
          161.85858585858585,
          159.75757575757575,
          157.65656565656565,
          155.55555555555554,
          154.27272727272728,
          155.32323232323233,
          156.37373737373738,
          157.42424242424244,
          158.4747474747475,
          159.52525252525254,
          160.5757575757576,
          161.62626262626264,
          162.67676767676767,
          163.72727272727275,
          164.77777777777777,
          165.82828282828285,
          166.87878787878788,
          167.92929292929293,
          168.97979797979798,
          170.03030303030303,
          171.08080808080808,
          172.13131313131314,
          173.1818181818182,
          174.23232323232324,
          175.2828282828283,
          176.33333333333334,
          177.3838383838384,
          178.43434343434345,
          179.4848484848485,
          178.43939393939394
         ]
        },
        {
         "line": {
          "width": 2
         },
         "marker": {
          "size": 2
         },
         "type": "scatter3d",
         "x": [
          0,
          0.010101010101010102,
          0.020202020202020204,
          0.030303030303030304,
          0.04040404040404041,
          0.05050505050505051,
          0.06060606060606061,
          0.07070707070707072,
          0.08080808080808081,
          0.09090909090909091,
          0.10101010101010102,
          0.11111111111111112,
          0.12121212121212122,
          0.13131313131313133,
          0.14141414141414144,
          0.15151515151515152,
          0.16161616161616163,
          0.17171717171717174,
          0.18181818181818182,
          0.19191919191919193,
          0.20202020202020204,
          0.21212121212121213,
          0.22222222222222224,
          0.23232323232323235,
          0.24242424242424243,
          0.25252525252525254,
          0.26262626262626265,
          0.27272727272727276,
          0.2828282828282829
         ],
         "y": [
          232,
          229.68686868686868,
          227.37373737373736,
          225.06060606060606,
          222.74747474747474,
          220.43434343434342,
          218.12121212121212,
          217.22222222222223,
          217.11111111111111,
          217,
          216.88888888888889,
          216.77777777777777,
          216.66666666666666,
          216.55555555555554,
          216.44444444444446,
          216.33333333333331,
          216.22222222222223,
          216.11111111111111,
          216,
          215.88888888888889,
          215.77777777777777,
          215.66666666666669,
          215.55555555555554,
          214.57575757575756,
          212.8181818181818,
          213.14141414141415,
          213.7070707070707,
          214.27272727272728,
          214.63636363636363
         ],
         "z": [
          255,
          253.2020202020202,
          251.40404040404042,
          249.6060606060606,
          247.8080808080808,
          246.010101010101,
          244.21212121212122,
          243.33333333333334,
          241.66666666666666,
          240,
          238.33333333333334,
          236.66666666666666,
          235,
          233.33333333333334,
          231.66666666666666,
          230,
          228.33333333333334,
          226.66666666666666,
          225,
          223.33333333333334,
          221.66666666666666,
          220,
          218.33333333333331,
          216.66666666666666,
          215.33333333333331,
          215.22222222222223,
          215.11111111111111,
          215,
          214.63636363636363
         ]
        },
        {
         "line": {
          "width": 2
         },
         "marker": {
          "size": 2
         },
         "type": "scatter3d",
         "x": [
          0,
          0.010101010101010102,
          0.020202020202020204,
          0.030303030303030304,
          0.04040404040404041,
          0.05050505050505051,
          0.06060606060606061,
          0.07070707070707072,
          0.08080808080808081,
          0.09090909090909091,
          0.10101010101010102,
          0.11111111111111112,
          0.12121212121212122,
          0.13131313131313133,
          0.14141414141414144,
          0.15151515151515152,
          0.16161616161616163,
          0.17171717171717174,
          0.18181818181818182,
          0.19191919191919193,
          0.20202020202020204,
          0.21212121212121213,
          0.22222222222222224,
          0.23232323232323235,
          0.24242424242424243
         ],
         "y": [
          217,
          214.82828282828282,
          212.65656565656565,
          210.4848484848485,
          208.31313131313132,
          206.14141414141415,
          203.96969696969697,
          201.7979797979798,
          199.62626262626264,
          197.45454545454544,
          195.2828282828283,
          193.11111111111111,
          192.72727272727272,
          192.78787878787878,
          192.84848484848484,
          192.9090909090909,
          192.96969696969697,
          193.03030303030303,
          193.0909090909091,
          193.15151515151516,
          193.21212121212122,
          193.27272727272728,
          193.33333333333331,
          193.3939393939394,
          194.92424242424244
         ],
         "z": [
          255,
          252.45454545454547,
          249.9090909090909,
          247.36363636363637,
          244.8181818181818,
          242.27272727272728,
          239.72727272727272,
          237.1818181818182,
          234.63636363636363,
          232.0909090909091,
          229.54545454545453,
          227,
          224.45454545454544,
          221.9090909090909,
          219.36363636363637,
          216.8181818181818,
          214.27272727272725,
          211.72727272727272,
          209.1818181818182,
          206.63636363636363,
          204.0909090909091,
          201.54545454545456,
          199,
          196.45454545454544,
          194.92424242424244
         ]
        },
        {
         "line": {
          "width": 2
         },
         "marker": {
          "size": 2
         },
         "type": "scatter3d",
         "x": [
          0,
          0.010101010101010102,
          0.020202020202020204,
          0.030303030303030304,
          0.04040404040404041,
          0.05050505050505051,
          0.06060606060606061,
          0.07070707070707072,
          0.08080808080808081,
          0.09090909090909091,
          0.10101010101010102,
          0.11111111111111112,
          0.12121212121212122,
          0.13131313131313133,
          0.14141414141414144,
          0.15151515151515152,
          0.16161616161616163,
          0.17171717171717174,
          0.18181818181818182,
          0.19191919191919193,
          0.20202020202020204,
          0.21212121212121213,
          0.22222222222222224,
          0.23232323232323235,
          0.24242424242424243,
          0.25252525252525254,
          0.26262626262626265,
          0.27272727272727276,
          0.2828282828282829,
          0.29292929292929293,
          0.30303030303030304,
          0.31313131313131315,
          0.32323232323232326,
          0.33333333333333337,
          0.3434343434343435,
          0.3535353535353536,
          0.36363636363636365,
          0.37373737373737376,
          0.38383838383838387,
          0.393939393939394,
          0.4040404040404041,
          0.4141414141414142,
          0.42424242424242425,
          0.43434343434343436,
          0.4444444444444445,
          0.4545454545454546,
          0.4646464646464647,
          0.4747474747474748,
          0.48484848484848486,
          0.494949494949495,
          0.5050505050505051,
          0.5151515151515152,
          0.5252525252525253,
          0.5353535353535354,
          0.5454545454545455,
          0.5555555555555556,
          0.5656565656565657,
          0.5757575757575758,
          0.5858585858585859,
          0.595959595959596,
          0.6060606060606061,
          0.6161616161616162,
          0.6262626262626263,
          0.6363636363636365,
          0.6464646464646465,
          0.6565656565656566,
          0.6666666666666667,
          0.6767676767676768,
          0.686868686868687,
          0.696969696969697,
          0.7070707070707072,
          0.7171717171717172,
          0.7272727272727273,
          0.7373737373737375,
          0.7474747474747475,
          0.7575757575757577,
          0.7676767676767677,
          0.7777777777777778,
          0.787878787878788,
          0.797979797979798,
          0.8080808080808082,
          0.8181818181818182,
          0.8282828282828284,
          0.8383838383838385,
          0.8484848484848485,
          0.8585858585858587,
          0.8686868686868687,
          0.8787878787878789,
          0.888888888888889,
          0.8989898989898991,
          0.9090909090909092,
          0.9191919191919192,
          0.9292929292929294,
          0.9393939393939394,
          0.9494949494949496,
          0.9595959595959597,
          0.9696969696969697,
          0.9797979797979799,
          0.98989898989899,
          1
         ],
         "y": [
          33,
          34.111111111111086,
          35.22222222222223,
          36.333333333333314,
          37.44444444444446,
          38.55555555555557,
          39.66666666666666,
          40.77777777777777,
          41.888888888888886,
          43,
          44.111111111111086,
          45.22222222222223,
          46.33333333333334,
          48.18181818181819,
          50.27272727272728,
          52.363636363636346,
          54.45454545454547,
          56.54545454545456,
          58.636363636363654,
          60.72727272727272,
          62.818181818181785,
          64.90909090909093,
          67,
          69.0909090909091,
          71.18181818181819,
          73.27272727272731,
          75.36363636363637,
          77.45454545454544,
          79.54545454545456,
          81.63636363636363,
          83.72727272727272,
          85.81818181818181,
          87.90909090909093,
          90,
          92.0909090909091,
          94.18181818181819,
          96.27272727272728,
          98.36363636363635,
          100.45454545454544,
          102.54545454545459,
          104.63636363636365,
          106.72727272727272,
          108.81818181818181,
          110.90909090909093,
          113,
          115.0909090909091,
          117.1010101010101,
          114.9292929292929,
          112.75757575757575,
          110.58585858585857,
          108.4141414141414,
          106.24242424242419,
          104.07070707070704,
          101.8989898989899,
          99.72727272727269,
          97.55555555555554,
          95.38383838383837,
          93.21212121212119,
          91.04040404040404,
          88.86868686868684,
          86.69696969696969,
          84.52525252525251,
          82.35353535353534,
          82.63636363636363,
          83.31313131313132,
          82.31313131313132,
          80.33333333333331,
          78.35353535353534,
          76.37373737373736,
          74.39393939393938,
          72.4141414141414,
          70.43434343434345,
          68.45454545454544,
          66.47474747474746,
          64.49494949494948,
          62.5151515151515,
          60.53535353535352,
          58.55555555555557,
          56.575757575757535,
          54.595959595959584,
          52.616161616161605,
          50.636363636363626,
          49.70707070707073,
          49.95959595959596,
          50.21212121212119,
          50.46464646464648,
          50.71717171717171,
          50.96969696969697,
          51.22222222222223,
          51.47474747474749,
          51.72727272727272,
          50.93939393939394,
          48.69696969696969,
          46.45454545454544,
          44.21212121212119,
          41.96969696969694,
          39.72727272727272,
          37.48484848484847,
          35.24242424242422,
          33
         ],
         "z": [
          255,
          252.75757575757575,
          250.5151515151515,
          248.27272727272728,
          246.03030303030303,
          243.78787878787878,
          241.54545454545453,
          239.3030303030303,
          237.06060606060606,
          234.8181818181818,
          232.57575757575756,
          230.33333333333334,
          228.0909090909091,
          225.84848484848484,
          223.6060606060606,
          221.36363636363637,
          219.12121212121212,
          216.87878787878788,
          214.63636363636363,
          212.39393939393938,
          210.15151515151516,
          207.9090909090909,
          205.66666666666666,
          203.42424242424244,
          201.1818181818182,
          198.93939393939394,
          196.6969696969697,
          194.45454545454544,
          193.6969696969697,
          193.75757575757575,
          193.8181818181818,
          193.87878787878788,
          193.93939393939394,
          194,
          194.06060606060606,
          194.12121212121212,
          194.1818181818182,
          194.24242424242425,
          194.3030303030303,
          194.36363636363637,
          194.42424242424244,
          194.4848484848485,
          194.54545454545456,
          194.60606060606062,
          194.66666666666666,
          194.72727272727275,
          194.7878787878788,
          194.84848484848484,
          194.9090909090909,
          194.96969696969697,
          195.03030303030303,
          195.0909090909091,
          195.15151515151516,
          195.21212121212122,
          195.27272727272728,
          195.33333333333331,
          195.39393939393938,
          195.45454545454544,
          195.5151515151515,
          195.57575757575756,
          195.63636363636363,
          195.6969696969697,
          195.75757575757575,
          195.8181818181818,
          195.87878787878788,
          195.93939393939394,
          196,
          196.06060606060606,
          196.12121212121212,
          196.1818181818182,
          196.24242424242425,
          196.3030303030303,
          196.8181818181818,
          197.56565656565658,
          198.31313131313132,
          199.06060606060606,
          199.80808080808083,
          200.55555555555554,
          201.54545454545456,
          204.0909090909091,
          206.63636363636365,
          209.1818181818182,
          211.72727272727275,
          214.27272727272728,
          216.8181818181818,
          219.36363636363637,
          221.90909090909093,
          224.4545454545455,
          227,
          229.5454545454546,
          232.09090909090912,
          234.63636363636365,
          237.18181818181822,
          239.72727272727275,
          242.2727272727273,
          244.81818181818184,
          247.36363636363637,
          249.90909090909093,
          252.45454545454547,
          255
         ]
        },
        {
         "line": {
          "width": 2
         },
         "marker": {
          "size": 2
         },
         "type": "scatter3d",
         "x": [
          0,
          0.010101010101010102,
          0.020202020202020204,
          0.030303030303030304,
          0.04040404040404041,
          0.05050505050505051,
          0.06060606060606061,
          0.07070707070707072,
          0.08080808080808081,
          0.09090909090909091,
          0.10101010101010102,
          0.11111111111111112,
          0.12121212121212122,
          0.13131313131313133,
          0.14141414141414144,
          0.15151515151515152,
          0.16161616161616163,
          0.17171717171717174,
          0.18181818181818182,
          0.19191919191919193,
          0.20202020202020204,
          0.21212121212121213,
          0.22222222222222224,
          0.23232323232323235,
          0.24242424242424243,
          0.25252525252525254,
          0.26262626262626265,
          0.27272727272727276,
          0.2828282828282829,
          0.29292929292929293,
          0.30303030303030304,
          0.31313131313131315,
          0.32323232323232326,
          0.33333333333333337,
          0.3434343434343435,
          0.3535353535353536,
          0.36363636363636365,
          0.37373737373737376,
          0.38383838383838387,
          0.393939393939394,
          0.4040404040404041,
          0.4141414141414142,
          0.42424242424242425,
          0.43434343434343436,
          0.4444444444444445,
          0.4545454545454546,
          0.4646464646464647,
          0.4747474747474748,
          0.48484848484848486,
          0.494949494949495,
          0.5050505050505051,
          0.5151515151515152,
          0.5252525252525253,
          0.5353535353535354,
          0.5454545454545455,
          0.5555555555555556,
          0.5656565656565657,
          0.5757575757575758,
          0.5858585858585859,
          0.595959595959596,
          0.6060606060606061,
          0.6161616161616162,
          0.6262626262626263,
          0.6363636363636365,
          0.6464646464646465,
          0.6565656565656566,
          0.6666666666666667,
          0.6767676767676768,
          0.686868686868687,
          0.696969696969697,
          0.7070707070707072,
          0.7171717171717172,
          0.7272727272727273,
          0.7373737373737375,
          0.7474747474747475,
          0.7575757575757577,
          0.7676767676767677,
          0.7777777777777778,
          0.787878787878788,
          0.797979797979798,
          0.8080808080808082,
          0.8181818181818182,
          0.8282828282828284,
          0.8383838383838385,
          0.8484848484848485,
          0.8585858585858587,
          0.8686868686868687,
          0.8787878787878789,
          0.888888888888889,
          0.8989898989898991,
          0.9090909090909092,
          0.9191919191919192,
          0.9292929292929294,
          0.9393939393939394,
          0.9494949494949496,
          0.9595959595959597,
          0.9696969696969697,
          0.9797979797979799,
          0.98989898989899,
          1
         ],
         "y": [
          218,
          217.88888888888889,
          217.77777777777777,
          217.66666666666666,
          217.55555555555554,
          217.44444444444446,
          217.33333333333334,
          215.8080808080808,
          213.49494949494948,
          211.1818181818182,
          208.86868686868686,
          206.55555555555554,
          204.24242424242425,
          201.92929292929293,
          199.6161616161616,
          197.3030303030303,
          194.989898989899,
          192.67676767676767,
          190.36363636363637,
          188.05050505050505,
          185.73737373737373,
          183.42424242424244,
          181.1111111111111,
          178.7979797979798,
          176.4848484848485,
          174.17171717171718,
          171.85858585858585,
          169.54545454545453,
          167.2323232323232,
          164.91919191919192,
          162.60606060606062,
          160.2929292929293,
          157.97979797979798,
          155.66666666666669,
          156.59595959595958,
          157.52525252525254,
          158.45454545454547,
          159.38383838383837,
          160.3131313131313,
          161.24242424242425,
          162.17171717171718,
          163.1010101010101,
          164.03030303030303,
          164.95959595959596,
          165.88888888888889,
          166.8181818181818,
          167.74747474747477,
          168.67676767676767,
          168.6969696969697,
          166.8989898989899,
          165.1010101010101,
          163.30303030303028,
          161.5050505050505,
          159.70707070707073,
          157.90909090909088,
          156.1111111111111,
          155.969696969697,
          158.27272727272728,
          160.57575757575756,
          162.87878787878788,
          165.1818181818182,
          167.4848484848485,
          169.7878787878788,
          172.09090909090912,
          174.3939393939394,
          176.6969696969697,
          179,
          181.3030303030303,
          183.60606060606062,
          185.90909090909093,
          188.21212121212125,
          190.51515151515153,
          191.9090909090909,
          192.83838383838383,
          193.7676767676768,
          194.6969696969697,
          195.62626262626264,
          196.55555555555554,
          197.4848484848485,
          198.4141414141414,
          199.34343434343435,
          200.27272727272728,
          201.2020202020202,
          202.13131313131314,
          203.06060606060606,
          203.989898989899,
          204.91919191919192,
          205.84848484848487,
          206.77777777777777,
          207.70707070707073,
          208.63636363636365,
          209.56565656565658,
          210.4949494949495,
          211.42424242424244,
          212.35353535353536,
          213.2828282828283,
          214.21212121212122,
          215.14141414141415,
          216.07070707070707,
          218
         ],
         "z": [
          255,
          253.33333333333334,
          251.66666666666666,
          250,
          248.33333333333334,
          246.66666666666666,
          245,
          242.4141414141414,
          240.6161616161616,
          238.8181818181818,
          237.02020202020202,
          235.22222222222223,
          233.42424242424244,
          231.62626262626262,
          229.82828282828282,
          228.03030303030303,
          226.23232323232324,
          224.43434343434342,
          222.63636363636363,
          220.83838383838383,
          219.04040404040404,
          217.24242424242425,
          215.44444444444446,
          213.64646464646464,
          211.84848484848484,
          210.05050505050505,
          208.25252525252523,
          206.45454545454544,
          204.65656565656565,
          202.85858585858585,
          201.06060606060606,
          199.26262626262627,
          197.46464646464645,
          195.66666666666666,
          193.86868686868686,
          192.07070707070704,
          190.27272727272725,
          188.47474747474746,
          186.67676767676767,
          184.87878787878788,
          183.08080808080808,
          181.2828282828283,
          179.4848484848485,
          177.68686868686868,
          175.88888888888889,
          175.8181818181818,
          176.85858585858585,
          177.8989898989899,
          178.93939393939394,
          179.97979797979798,
          181.02020202020202,
          182.06060606060606,
          183.1010101010101,
          184.14141414141415,
          185.1818181818182,
          186.22222222222223,
          187.26262626262627,
          188.3030303030303,
          189.34343434343435,
          190.3838383838384,
          191.42424242424244,
          192.46464646464648,
          193.50505050505052,
          194.54545454545456,
          195.5858585858586,
          196.62626262626264,
          197.66666666666669,
          198.7070707070707,
          199.74747474747477,
          200.7878787878788,
          201.82828282828285,
          202.8686868686869,
          203.9090909090909,
          204.94949494949498,
          205.989898989899,
          207.03030303030306,
          208.07070707070707,
          209.11111111111111,
          210.15151515151516,
          211.1919191919192,
          212.23232323232324,
          213.54545454545456,
          215.84848484848487,
          218.15151515151518,
          220.45454545454547,
          222.75757575757578,
          225.06060606060606,
          227.36363636363637,
          229.66666666666669,
          231.969696969697,
          234.27272727272728,
          236.5757575757576,
          238.8787878787879,
          241.1818181818182,
          243.4848484848485,
          245.7878787878788,
          248.0909090909091,
          250.3939393939394,
          252.69696969696972,
          255
         ]
        },
        {
         "line": {
          "width": 2
         },
         "marker": {
          "size": 2
         },
         "type": "scatter3d",
         "x": [
          0.010101010101010102,
          0.020202020202020204
         ],
         "y": [
          252.45454545454547,
          252.73232323232324
         ],
         "z": [
          253.010101010101,
          252.73232323232324
         ]
        },
        {
         "line": {
          "width": 2
         },
         "marker": {
          "size": 2
         },
         "type": "scatter3d",
         "x": [
          0.010101010101010102,
          0.020202020202020204
         ],
         "y": [
          4.555555555555543,
          4.60101010101009
         ],
         "z": [
          4.646464646464636,
          4.60101010101009
         ]
        },
        {
         "line": {
          "width": 2
         },
         "marker": {
          "size": 2
         },
         "type": "scatter3d",
         "x": [
          0.010101010101010102,
          0.020202020202020204
         ],
         "y": [
          252.68686868686868,
          252.6969696969697
         ],
         "z": [
          252.7070707070707,
          252.6969696969697
         ]
        },
        {
         "line": {
          "width": 2
         },
         "marker": {
          "size": 2
         },
         "type": "scatter3d",
         "x": [
          0.020202020202020204,
          0.030303030303030304
         ],
         "y": [
          250.37373737373738,
          250.3939393939394
         ],
         "z": [
          250.41414141414143,
          250.3939393939394
         ]
        },
        {
         "line": {
          "width": 2
         },
         "marker": {
          "size": 2
         },
         "type": "scatter3d",
         "x": [
          0.020202020202020204,
          0.030303030303030304
         ],
         "y": [
          249.9090909090909,
          250.46464646464648
         ],
         "z": [
          251.02020202020202,
          250.46464646464648
         ]
        },
        {
         "line": {
          "width": 2
         },
         "marker": {
          "size": 2
         },
         "type": "scatter3d",
         "x": [
          0.030303030303030304,
          0.04040404040404041
         ],
         "y": [
          248.06060606060606,
          248.0909090909091
         ],
         "z": [
          248.12121212121212,
          248.0909090909091
         ]
        },
        {
         "line": {
          "width": 2
         },
         "marker": {
          "size": 2
         },
         "type": "scatter3d",
         "x": [
          0.030303030303030304,
          0.04040404040404041
         ],
         "y": [
          247.36363636363637,
          248.1969696969697
         ],
         "z": [
          249.03030303030303,
          248.1969696969697
         ]
        },
        {
         "line": {
          "width": 2
         },
         "marker": {
          "size": 2
         },
         "type": "scatter3d",
         "x": [
          0.04040404040404041,
          0.05050505050505051
         ],
         "y": [
          245.74747474747474,
          245.78787878787878
         ],
         "z": [
          245.82828282828282,
          245.78787878787878
         ]
        },
        {
         "line": {
          "width": 2
         },
         "marker": {
          "size": 2
         },
         "type": "scatter3d",
         "x": [
          0.04040404040404041,
          0.05050505050505051
         ],
         "y": [
          244.8181818181818,
          245.92929292929293
         ],
         "z": [
          247.04040404040404,
          245.92929292929293
         ]
        },
        {
         "line": {
          "width": 2
         },
         "marker": {
          "size": 2
         },
         "type": "scatter3d",
         "x": [
          0.05050505050505051,
          0.06060606060606061
         ],
         "y": [
          243.43434343434342,
          243.48484848484847
         ],
         "z": [
          243.53535353535352,
          243.48484848484847
         ]
        },
        {
         "line": {
          "width": 2
         },
         "marker": {
          "size": 2
         },
         "type": "scatter3d",
         "x": [
          0.05050505050505051,
          0.06060606060606061,
          0.07070707070707072,
          0.08080808080808081,
          0.09090909090909091,
          0.10101010101010102,
          0.11111111111111112,
          0.12121212121212122,
          0.13131313131313133,
          0.14141414141414144,
          0.15151515151515152,
          0.16161616161616163,
          0.17171717171717174,
          0.18181818181818182,
          0.19191919191919193,
          0.20202020202020204,
          0.21212121212121213,
          0.22222222222222224,
          0.23232323232323235,
          0.24242424242424243,
          0.25252525252525254,
          0.26262626262626265,
          0.27272727272727276,
          0.2828282828282829,
          0.29292929292929293,
          0.30303030303030304,
          0.31313131313131315,
          0.32323232323232326,
          0.33333333333333337,
          0.3434343434343435,
          0.3535353535353536,
          0.36363636363636365,
          0.37373737373737376,
          0.38383838383838387,
          0.393939393939394,
          0.4040404040404041,
          0.4141414141414142,
          0.42424242424242425
         ],
         "y": [
          242.27272727272728,
          239.72727272727272,
          237.1818181818182,
          234.63636363636363,
          232.0909090909091,
          229.54545454545453,
          227,
          224.45454545454544,
          221.9090909090909,
          219.36363636363637,
          216.8181818181818,
          214.27272727272725,
          211.72727272727272,
          209.1818181818182,
          206.63636363636363,
          204.0909090909091,
          201.54545454545456,
          199,
          196.45454545454544,
          193.9090909090909,
          191.36363636363637,
          188.8181818181818,
          186.27272727272725,
          183.72727272727272,
          181.1818181818182,
          178.63636363636363,
          176.0909090909091,
          173.54545454545453,
          171,
          168.45454545454544,
          165.90909090909088,
          166.45454545454544,
          167.49494949494948,
          168.53535353535355,
          169.5757575757576,
          170.61616161616163,
          171.65656565656565,
          172.53535353535352
         ],
         "z": [
          245.05050505050505,
          243.06060606060606,
          241.07070707070707,
          239.08080808080808,
          237.0909090909091,
          235.1010101010101,
          233.11111111111111,
          231.12121212121212,
          229.13131313131314,
          227.14141414141415,
          225.15151515151516,
          223.16161616161617,
          221.17171717171718,
          219.1818181818182,
          217.1919191919192,
          215.2020202020202,
          213.21212121212122,
          211.22222222222223,
          209.2323232323232,
          207.24242424242425,
          205.25252525252526,
          203.26262626262627,
          201.27272727272725,
          199.2828282828283,
          197.2929292929293,
          195.3030303030303,
          193.3131313131313,
          191.32323232323233,
          189.33333333333331,
          187.34343434343435,
          185.35353535353534,
          183.36363636363637,
          181.37373737373736,
          179.3838383838384,
          177.39393939393938,
          175.40404040404042,
          173.4141414141414,
          172.53535353535352
         ]
        },
        {
         "line": {
          "width": 2
         },
         "marker": {
          "size": 2
         },
         "type": "scatter3d",
         "x": [
          0.06060606060606061,
          0.07070707070707072
         ],
         "y": [
          241.12121212121212,
          241.1818181818182
         ],
         "z": [
          241.24242424242425,
          241.1818181818182
         ]
        },
        {
         "line": {
          "width": 2
         },
         "marker": {
          "size": 2
         },
         "type": "scatter3d",
         "x": [
          0.07070707070707072,
          0.08080808080808081
         ],
         "y": [
          238.8080808080808,
          238.87878787878788
         ],
         "z": [
          238.94949494949495,
          238.87878787878788
         ]
        },
        {
         "line": {
          "width": 2
         },
         "marker": {
          "size": 2
         },
         "type": "scatter3d",
         "x": [
          0.08080808080808081,
          0.09090909090909091
         ],
         "y": [
          236.49494949494948,
          236.57575757575756
         ],
         "z": [
          236.65656565656565,
          236.57575757575756
         ]
        },
        {
         "line": {
          "width": 2
         },
         "marker": {
          "size": 2
         },
         "type": "scatter3d",
         "x": [
          0.09090909090909091,
          0.10101010101010102
         ],
         "y": [
          234.1818181818182,
          234.27272727272728
         ],
         "z": [
          234.36363636363637,
          234.27272727272728
         ]
        },
        {
         "line": {
          "width": 2
         },
         "marker": {
          "size": 2
         },
         "type": "scatter3d",
         "x": [
          0.10101010101010102,
          0.11111111111111112
         ],
         "y": [
          231.86868686868686,
          231.96969696969697
         ],
         "z": [
          232.07070707070707,
          231.96969696969697
         ]
        },
        {
         "line": {
          "width": 2
         },
         "marker": {
          "size": 2
         },
         "type": "scatter3d",
         "x": [
          0.11111111111111112,
          0.12121212121212122
         ],
         "y": [
          229.55555555555554,
          229.66666666666666
         ],
         "z": [
          229.77777777777777,
          229.66666666666666
         ]
        },
        {
         "line": {
          "width": 2
         },
         "marker": {
          "size": 2
         },
         "type": "scatter3d",
         "x": [
          0.12121212121212122,
          0.13131313131313133
         ],
         "y": [
          227.24242424242425,
          227.36363636363637
         ],
         "z": [
          227.4848484848485,
          227.36363636363637
         ]
        },
        {
         "line": {
          "width": 2
         },
         "marker": {
          "size": 2
         },
         "type": "scatter3d",
         "x": [
          0.13131313131313133,
          0.14141414141414144
         ],
         "y": [
          224.92929292929293,
          225.06060606060606
         ],
         "z": [
          225.1919191919192,
          225.06060606060606
         ]
        },
        {
         "line": {
          "width": 2
         },
         "marker": {
          "size": 2
         },
         "type": "scatter3d",
         "x": [
          0.14141414141414144,
          0.15151515151515152
         ],
         "y": [
          222.6161616161616,
          222.75757575757575
         ],
         "z": [
          222.8989898989899,
          222.75757575757575
         ]
        },
        {
         "line": {
          "width": 2
         },
         "marker": {
          "size": 2
         },
         "type": "scatter3d",
         "x": [
          0.15151515151515152,
          0.16161616161616163
         ],
         "y": [
          220.3030303030303,
          220.45454545454544
         ],
         "z": [
          220.6060606060606,
          220.45454545454544
         ]
        },
        {
         "line": {
          "width": 2
         },
         "marker": {
          "size": 2
         },
         "type": "scatter3d",
         "x": [
          0.16161616161616163,
          0.17171717171717174
         ],
         "y": [
          217.989898989899,
          218.15151515151513
         ],
         "z": [
          218.3131313131313,
          218.15151515151513
         ]
        },
        {
         "line": {
          "width": 2
         },
         "marker": {
          "size": 2
         },
         "type": "scatter3d",
         "x": [
          0.17171717171717174,
          0.18181818181818182
         ],
         "y": [
          215.67676767676767,
          215.84848484848484
         ],
         "z": [
          216.02020202020202,
          215.84848484848484
         ]
        },
        {
         "line": {
          "width": 2
         },
         "marker": {
          "size": 2
         },
         "type": "scatter3d",
         "x": [
          0.18181818181818182,
          0.19191919191919193
         ],
         "y": [
          213.36363636363637,
          213.54545454545456
         ],
         "z": [
          213.72727272727272,
          213.54545454545456
         ]
        },
        {
         "line": {
          "width": 2
         },
         "marker": {
          "size": 2
         },
         "type": "scatter3d",
         "x": [
          0.19191919191919193,
          0.20202020202020204
         ],
         "y": [
          211.05050505050505,
          211.24242424242425
         ],
         "z": [
          211.43434343434342,
          211.24242424242425
         ]
        },
        {
         "line": {
          "width": 2
         },
         "marker": {
          "size": 2
         },
         "type": "scatter3d",
         "x": [
          0.20202020202020204,
          0.21212121212121213
         ],
         "y": [
          208.73737373737373,
          208.93939393939394
         ],
         "z": [
          209.14141414141415,
          208.93939393939394
         ]
        },
        {
         "line": {
          "width": 2
         },
         "marker": {
          "size": 2
         },
         "type": "scatter3d",
         "x": [
          0.21212121212121213,
          0.22222222222222224
         ],
         "y": [
          206.42424242424244,
          206.63636363636363
         ],
         "z": [
          206.84848484848484,
          206.63636363636363
         ]
        },
        {
         "line": {
          "width": 2
         },
         "marker": {
          "size": 2
         },
         "type": "scatter3d",
         "x": [
          0.22222222222222224,
          0.23232323232323235
         ],
         "y": [
          204.11111111111111,
          204.33333333333331
         ],
         "z": [
          204.55555555555554,
          204.33333333333331
         ]
        },
        {
         "line": {
          "width": 2
         },
         "marker": {
          "size": 2
         },
         "type": "scatter3d",
         "x": [
          0.23232323232323235,
          0.24242424242424243
         ],
         "y": [
          201.7979797979798,
          202.03030303030303
         ],
         "z": [
          202.26262626262627,
          202.03030303030303
         ]
        },
        {
         "line": {
          "width": 2
         },
         "marker": {
          "size": 2
         },
         "type": "scatter3d",
         "x": [
          0.24242424242424243,
          0.25252525252525254
         ],
         "y": [
          193.45454545454544,
          193.6818181818182
         ],
         "z": [
          193.9090909090909,
          193.6818181818182
         ]
        },
        {
         "line": {
          "width": 2
         },
         "marker": {
          "size": 2
         },
         "type": "scatter3d",
         "x": [
          0.24242424242424243,
          0.25252525252525254
         ],
         "y": [
          199.4848484848485,
          199.72727272727275
         ],
         "z": [
          199.96969696969697,
          199.72727272727275
         ]
        },
        {
         "line": {
          "width": 2
         },
         "marker": {
          "size": 2
         },
         "type": "scatter3d",
         "x": [
          0.25252525252525254,
          0.26262626262626265
         ],
         "y": [
          197.17171717171718,
          197.42424242424244
         ],
         "z": [
          197.67676767676767,
          197.42424242424244
         ]
        },
        {
         "line": {
          "width": 2
         },
         "marker": {
          "size": 2
         },
         "type": "scatter3d",
         "x": [
          0.26262626262626265,
          0.27272727272727276
         ],
         "y": [
          194.85858585858585,
          195.12121212121212
         ],
         "z": [
          195.3838383838384,
          195.12121212121212
         ]
        },
        {
         "line": {
          "width": 2
         },
         "marker": {
          "size": 2
         },
         "type": "scatter3d",
         "x": [
          0.27272727272727276,
          0.2828282828282829
         ],
         "y": [
          150.36363636363635,
          150.59090909090907
         ],
         "z": [
          150.8181818181818,
          150.59090909090907
         ]
        },
        {
         "line": {
          "width": 2
         },
         "marker": {
          "size": 2
         },
         "type": "scatter3d",
         "x": [
          0.27272727272727276,
          0.2828282828282829
         ],
         "y": [
          192.54545454545453,
          192.8181818181818
         ],
         "z": [
          193.0909090909091,
          192.8181818181818
         ]
        },
        {
         "line": {
          "width": 2
         },
         "marker": {
          "size": 2
         },
         "type": "scatter3d",
         "x": [
          0.2828282828282829,
          0.29292929292929293
         ],
         "y": [
          214.83838383838383,
          214.86363636363637
         ],
         "z": [
          214.88888888888889,
          214.86363636363637
         ]
        },
        {
         "line": {
          "width": 2
         },
         "marker": {
          "size": 2
         },
         "type": "scatter3d",
         "x": [
          0.2828282828282829,
          0.29292929292929293
         ],
         "y": [
          148.30303030303028,
          148.7979797979798
         ],
         "z": [
          149.29292929292927,
          148.7979797979798
         ]
        },
        {
         "line": {
          "width": 2
         },
         "marker": {
          "size": 2
         },
         "type": "scatter3d",
         "x": [
          0.2828282828282829,
          0.29292929292929293
         ],
         "y": [
          190.2323232323232,
          190.5151515151515
         ],
         "z": [
          190.7979797979798,
          190.5151515151515
         ]
        },
        {
         "line": {
          "width": 2
         },
         "marker": {
          "size": 2
         },
         "type": "scatter3d",
         "x": [
          0.29292929292929293,
          0.30303030303030304
         ],
         "y": [
          146.24242424242425,
          147.00505050505052
         ],
         "z": [
          147.76767676767676,
          147.00505050505052
         ]
        },
        {
         "line": {
          "width": 2
         },
         "marker": {
          "size": 2
         },
         "type": "scatter3d",
         "x": [
          0.29292929292929293,
          0.30303030303030304
         ],
         "y": [
          187.91919191919192,
          188.21212121212122
         ],
         "z": [
          188.50505050505052,
          188.21212121212122
         ]
        },
        {
         "line": {
          "width": 2
         },
         "marker": {
          "size": 2
         },
         "type": "scatter3d",
         "x": [
          0.30303030303030304,
          0.31313131313131315,
          0.32323232323232326,
          0.33333333333333337,
          0.3434343434343435,
          0.3535353535353536,
          0.36363636363636365,
          0.37373737373737376,
          0.38383838383838387,
          0.393939393939394,
          0.4040404040404041,
          0.4141414141414142,
          0.42424242424242425,
          0.43434343434343436,
          0.4444444444444445,
          0.4545454545454546,
          0.4646464646464647,
          0.4747474747474748,
          0.48484848484848486,
          0.494949494949495,
          0.5050505050505051,
          0.5151515151515152
         ],
         "y": [
          144.1818181818182,
          142.12121212121212,
          140.06060606060606,
          138,
          135.93939393939394,
          133.87878787878788,
          131.8181818181818,
          129.75757575757575,
          127.69696969696969,
          125.63636363636363,
          123.57575757575756,
          121.5151515151515,
          119.45454545454544,
          117.39393939393938,
          115.33333333333331,
          113.27272727272725,
          111.21212121212119,
          109.15151515151513,
          109.63636363636363,
          111.8787878787879,
          114.12121212121212,
          114.92929292929293
         ],
         "z": [
          146.24242424242425,
          144.7171717171717,
          143.1919191919192,
          141.66666666666666,
          140.14141414141412,
          138.6161616161616,
          137.09090909090907,
          135.56565656565658,
          134.04040404040404,
          132.5151515151515,
          130.989898989899,
          129.46464646464645,
          127.93939393939394,
          126.41414141414143,
          124.88888888888889,
          123.36363636363637,
          121.83838383838383,
          120.3131313131313,
          118.78787878787878,
          117.26262626262627,
          115.73737373737373,
          114.92929292929293
         ]
        },
        {
         "line": {
          "width": 2
         },
         "marker": {
          "size": 2
         },
         "type": "scatter3d",
         "x": [
          0.30303030303030304,
          0.31313131313131315
         ],
         "y": [
          185.60606060606062,
          185.9090909090909
         ],
         "z": [
          186.2121212121212,
          185.9090909090909
         ]
        },
        {
         "line": {
          "width": 2
         },
         "marker": {
          "size": 2
         },
         "type": "scatter3d",
         "x": [
          0.31313131313131315,
          0.32323232323232326
         ],
         "y": [
          183.29292929292927,
          183.6060606060606
         ],
         "z": [
          183.91919191919192,
          183.6060606060606
         ]
        },
        {
         "line": {
          "width": 2
         },
         "marker": {
          "size": 2
         },
         "type": "scatter3d",
         "x": [
          0.32323232323232326,
          0.33333333333333337
         ],
         "y": [
          180.97979797979798,
          181.3030303030303
         ],
         "z": [
          181.62626262626262,
          181.3030303030303
         ]
        },
        {
         "line": {
          "width": 2
         },
         "marker": {
          "size": 2
         },
         "type": "scatter3d",
         "x": [
          0.33333333333333337,
          0.3434343434343435,
          0.3535353535353536,
          0.36363636363636365,
          0.37373737373737376,
          0.38383838383838387,
          0.393939393939394,
          0.4040404040404041,
          0.4141414141414142,
          0.42424242424242425,
          0.43434343434343436,
          0.4444444444444445,
          0.4545454545454546,
          0.4646464646464647,
          0.4747474747474748,
          0.48484848484848486,
          0.494949494949495,
          0.5050505050505051,
          0.5151515151515152,
          0.5252525252525253,
          0.5353535353535354,
          0.5454545454545455,
          0.5555555555555556,
          0.5656565656565657,
          0.5757575757575758,
          0.5858585858585859,
          0.595959595959596,
          0.6060606060606061,
          0.6161616161616162,
          0.6262626262626263,
          0.6363636363636365,
          0.6464646464646465,
          0.6565656565656566,
          0.6666666666666667,
          0.6767676767676768,
          0.686868686868687,
          0.696969696969697,
          0.7070707070707072,
          0.7171717171717172,
          0.7272727272727273,
          0.7373737373737375,
          0.7474747474747475,
          0.7575757575757577,
          0.7676767676767677,
          0.7777777777777778,
          0.787878787878788,
          0.797979797979798,
          0.8080808080808082,
          0.8181818181818182,
          0.8282828282828284,
          0.8383838383838385,
          0.8484848484848485,
          0.8585858585858587,
          0.8686868686868687,
          0.8787878787878789,
          0.888888888888889,
          0.8989898989898991,
          0.9090909090909092,
          0.9191919191919192,
          0.9292929292929294,
          0.9393939393939394,
          0.9494949494949496,
          0.9595959595959597,
          0.9696969696969697,
          0.9797979797979799,
          0.98989898989899
         ],
         "y": [
          217,
          215.84848484848484,
          214.6969696969697,
          213.54545454545456,
          212.39393939393938,
          211.24242424242425,
          210.0909090909091,
          208.93939393939394,
          207.78787878787878,
          206.63636363636363,
          205.4848484848485,
          204.33333333333331,
          203.1818181818182,
          202.03030303030303,
          200.87878787878788,
          199.72727272727272,
          198.57575757575756,
          197.42424242424244,
          197.7878787878788,
          198.97979797979798,
          200.17171717171718,
          201.36363636363637,
          202.55555555555554,
          203.74747474747477,
          204.93939393939394,
          206.13131313131314,
          207.32323232323233,
          208.5151515151515,
          209.70707070707073,
          210.8989898989899,
          212.0909090909091,
          213.2828282828283,
          214.47474747474746,
          215.66666666666669,
          216.85858585858585,
          218.05050505050505,
          219.24242424242425,
          220.43434343434345,
          221.62626262626264,
          222.8181818181818,
          224.010101010101,
          225.2020202020202,
          226.3939393939394,
          227.5858585858586,
          228.77777777777777,
          229.96969696969697,
          231.16161616161617,
          232.35353535353536,
          233.54545454545456,
          234.73737373737376,
          235.92929292929293,
          237.12121212121212,
          238.31313131313132,
          239.50505050505052,
          240.69696969696972,
          241.88888888888889,
          243.08080808080808,
          244.27272727272728,
          245.46464646464648,
          246.65656565656568,
          247.84848484848484,
          249.04040404040404,
          250.23232323232324,
          251.42424242424244,
          252.61616161616163,
          253.24242424242425
         ],
         "z": [
          217.66666666666669,
          218.23232323232324,
          218.7979797979798,
          219.36363636363637,
          219.92929292929293,
          220.49494949494948,
          221.06060606060606,
          221.62626262626264,
          222.1919191919192,
          222.75757575757575,
          223.32323232323233,
          223.88888888888889,
          224.45454545454547,
          225.02020202020202,
          225.5858585858586,
          226.15151515151516,
          226.7171717171717,
          227.2828282828283,
          227.84848484848484,
          228.41414141414143,
          228.97979797979798,
          229.54545454545456,
          230.11111111111111,
          230.67676767676767,
          231.24242424242425,
          231.8080808080808,
          232.37373737373738,
          232.93939393939394,
          233.50505050505052,
          234.07070707070707,
          234.63636363636363,
          235.2020202020202,
          235.76767676767676,
          236.33333333333334,
          236.8989898989899,
          237.46464646464648,
          238.03030303030303,
          238.5959595959596,
          239.16161616161617,
          239.72727272727272,
          240.2929292929293,
          240.85858585858585,
          241.42424242424244,
          241.989898989899,
          242.55555555555554,
          243.12121212121212,
          243.68686868686868,
          244.25252525252526,
          244.8181818181818,
          245.3838383838384,
          245.94949494949495,
          246.5151515151515,
          247.08080808080808,
          247.64646464646464,
          248.21212121212122,
          248.77777777777777,
          249.34343434343435,
          249.9090909090909,
          250.4747474747475,
          251.04040404040404,
          251.60606060606062,
          252.17171717171718,
          252.73737373737373,
          253.3030303030303,
          253.86868686868686,
          253.24242424242425
         ]
        },
        {
         "line": {
          "width": 2
         },
         "marker": {
          "size": 2
         },
         "type": "scatter3d",
         "x": [
          0.33333333333333337,
          0.3434343434343435
         ],
         "y": [
          178.66666666666666,
          179
         ],
         "z": [
          179.33333333333331,
          179
         ]
        },
        {
         "line": {
          "width": 2
         },
         "marker": {
          "size": 2
         },
         "type": "scatter3d",
         "x": [
          0.3434343434343435,
          0.3535353535353536
         ],
         "y": [
          176.35353535353534,
          176.6969696969697
         ],
         "z": [
          177.04040404040404,
          176.6969696969697
         ]
        },
        {
         "line": {
          "width": 2
         },
         "marker": {
          "size": 2
         },
         "type": "scatter3d",
         "x": [
          0.3535353535353536,
          0.36363636363636365
         ],
         "y": [
          174.04040404040404,
          174.39393939393938
         ],
         "z": [
          174.74747474747474,
          174.39393939393938
         ]
        },
        {
         "line": {
          "width": 2
         },
         "marker": {
          "size": 2
         },
         "type": "scatter3d",
         "x": [
          0.36363636363636365,
          0.37373737373737376
         ],
         "y": [
          171.72727272727272,
          172.09090909090907
         ],
         "z": [
          172.45454545454544,
          172.09090909090907
         ]
        },
        {
         "line": {
          "width": 2
         },
         "marker": {
          "size": 2
         },
         "type": "scatter3d",
         "x": [
          0.37373737373737376,
          0.38383838383838387
         ],
         "y": [
          169.4141414141414,
          169.78787878787878
         ],
         "z": [
          170.16161616161617,
          169.78787878787878
         ]
        },
        {
         "line": {
          "width": 2
         },
         "marker": {
          "size": 2
         },
         "type": "scatter3d",
         "x": [
          0.38383838383838387,
          0.393939393939394
         ],
         "y": [
          167.1010101010101,
          167.4848484848485
         ],
         "z": [
          167.86868686868686,
          167.4848484848485
         ]
        },
        {
         "line": {
          "width": 2
         },
         "marker": {
          "size": 2
         },
         "type": "scatter3d",
         "x": [
          0.38383838383838387,
          0.393939393939394,
          0.4040404040404041,
          0.4141414141414142,
          0.42424242424242425,
          0.43434343434343436,
          0.4444444444444445,
          0.4545454545454546,
          0.4646464646464647,
          0.4747474747474748,
          0.48484848484848486,
          0.494949494949495,
          0.5050505050505051,
          0.5151515151515152,
          0.5252525252525253,
          0.5353535353535354,
          0.5454545454545455,
          0.5555555555555556,
          0.5656565656565657,
          0.5757575757575758,
          0.5858585858585859,
          0.595959595959596,
          0.6060606060606061,
          0.6161616161616162,
          0.6262626262626263,
          0.6363636363636365,
          0.6464646464646465,
          0.6565656565656566,
          0.6666666666666667,
          0.6767676767676768,
          0.686868686868687,
          0.696969696969697,
          0.7070707070707072,
          0.7171717171717172,
          0.7272727272727273,
          0.7373737373737375,
          0.7474747474747475,
          0.7575757575757577,
          0.7676767676767677
         ],
         "y": [
          169.78787878787878,
          167.54545454545453,
          165.3030303030303,
          163.06060606060606,
          160.8181818181818,
          158.57575757575756,
          156.33333333333331,
          154.09090909090907,
          151.84848484848484,
          149.6060606060606,
          147.36363636363637,
          145.12121212121212,
          142.87878787878788,
          140.63636363636363,
          138.39393939393938,
          137.9090909090909,
          140.45454545454547,
          143,
          145.54545454545456,
          148.09090909090912,
          150.63636363636363,
          153.1818181818182,
          155.72727272727275,
          158.2727272727273,
          160.8181818181818,
          163.36363636363637,
          165.90909090909093,
          168.45454545454544,
          171,
          173.54545454545456,
          176.09090909090912,
          178.63636363636365,
          181.18181818181822,
          183.72727272727275,
          186.27272727272728,
          188.81818181818184,
          191.36363636363637,
          193.90909090909093,
          195.22727272727275
         ],
         "z": [
          171.40404040404042,
          172.15151515151516,
          172.8989898989899,
          173.64646464646464,
          174.3939393939394,
          175.14141414141415,
          175.88888888888889,
          176.63636363636363,
          177.3838383838384,
          178.13131313131314,
          178.87878787878788,
          179.62626262626264,
          180.37373737373736,
          181.12121212121212,
          181.8686868686869,
          182.6161616161616,
          183.36363636363637,
          184.11111111111111,
          184.85858585858585,
          185.60606060606062,
          186.35353535353536,
          187.1010101010101,
          187.84848484848484,
          188.59595959595958,
          189.34343434343435,
          190.0909090909091,
          190.83838383838383,
          191.5858585858586,
          192.33333333333334,
          193.08080808080808,
          193.82828282828285,
          194.57575757575756,
          195.32323232323233,
          196.07070707070707,
          196.36363636363637,
          196.42424242424244,
          196.4848484848485,
          196.54545454545456,
          195.22727272727275
         ]
        },
        {
         "line": {
          "width": 2
         },
         "marker": {
          "size": 2
         },
         "type": "scatter3d",
         "x": [
          0.393939393939394,
          0.4040404040404041
         ],
         "y": [
          164.78787878787878,
          165.1818181818182
         ],
         "z": [
          165.57575757575756,
          165.1818181818182
         ]
        },
        {
         "line": {
          "width": 2
         },
         "marker": {
          "size": 2
         },
         "type": "scatter3d",
         "x": [
          0.4040404040404041,
          0.4141414141414142
         ],
         "y": [
          162.47474747474746,
          162.87878787878788
         ],
         "z": [
          163.2828282828283,
          162.87878787878788
         ]
        },
        {
         "line": {
          "width": 2
         },
         "marker": {
          "size": 2
         },
         "type": "scatter3d",
         "x": [
          0.4141414141414142,
          0.42424242424242425
         ],
         "y": [
          160.16161616161617,
          160.57575757575756
         ],
         "z": [
          160.98989898989896,
          160.57575757575756
         ]
        },
        {
         "line": {
          "width": 2
         },
         "marker": {
          "size": 2
         },
         "type": "scatter3d",
         "x": [
          0.42424242424242425,
          0.43434343434343436
         ],
         "y": [
          157.84848484848484,
          158.27272727272725
         ],
         "z": [
          158.6969696969697,
          158.27272727272725
         ]
        },
        {
         "line": {
          "width": 2
         },
         "marker": {
          "size": 2
         },
         "type": "scatter3d",
         "x": [
          0.43434343434343436,
          0.4444444444444445
         ],
         "y": [
          155.53535353535352,
          155.96969696969697
         ],
         "z": [
          156.40404040404042,
          155.96969696969697
         ]
        },
        {
         "line": {
          "width": 2
         },
         "marker": {
          "size": 2
         },
         "type": "scatter3d",
         "x": [
          0.4444444444444445,
          0.4545454545454546
         ],
         "y": [
          153.22222222222223,
          153.66666666666666
         ],
         "z": [
          154.1111111111111,
          153.66666666666666
         ]
        },
        {
         "line": {
          "width": 2
         },
         "marker": {
          "size": 2
         },
         "type": "scatter3d",
         "x": [
          0.4545454545454546,
          0.4646464646464647
         ],
         "y": [
          150.9090909090909,
          151.36363636363637
         ],
         "z": [
          151.8181818181818,
          151.36363636363637
         ]
        },
        {
         "line": {
          "width": 2
         },
         "marker": {
          "size": 2
         },
         "type": "scatter3d",
         "x": [
          0.4646464646464647,
          0.4747474747474748
         ],
         "y": [
          148.59595959595958,
          149.06060606060606
         ],
         "z": [
          149.5252525252525,
          149.06060606060606
         ]
        },
        {
         "line": {
          "width": 2
         },
         "marker": {
          "size": 2
         },
         "type": "scatter3d",
         "x": [
          0.4747474747474748,
          0.48484848484848486
         ],
         "y": [
          146.28282828282826,
          146.75757575757575
         ],
         "z": [
          147.2323232323232,
          146.75757575757575
         ]
        },
        {
         "line": {
          "width": 2
         },
         "marker": {
          "size": 2
         },
         "type": "scatter3d",
         "x": [
          0.48484848484848486,
          0.494949494949495
         ],
         "y": [
          143.96969696969697,
          144.45454545454544
         ],
         "z": [
          144.93939393939394,
          144.45454545454544
         ]
        },
        {
         "line": {
          "width": 2
         },
         "marker": {
          "size": 2
         },
         "type": "scatter3d",
         "x": [
          0.494949494949495,
          0.5050505050505051,
          0.5151515151515152,
          0.5252525252525253,
          0.5353535353535354,
          0.5454545454545455,
          0.5555555555555556,
          0.5656565656565657,
          0.5757575757575758,
          0.5858585858585859,
          0.595959595959596,
          0.6060606060606061,
          0.6161616161616162
         ],
         "y": [
          141.65656565656565,
          139.34343434343435,
          137.030303030303,
          135.36363636363637,
          137.9090909090909,
          140.45454545454547,
          143,
          145.54545454545456,
          148.09090909090912,
          150.63636363636363,
          153.1818181818182,
          155.72727272727275,
          156.74242424242425
         ],
         "z": [
          143.8686868686869,
          145.13131313131314,
          146.3939393939394,
          147.65656565656565,
          148.91919191919192,
          150.1818181818182,
          151.44444444444446,
          152.70707070707073,
          153.96969696969697,
          155.2323232323232,
          156.4949494949495,
          157.75757575757575,
          156.74242424242425
         ]
        },
        {
         "line": {
          "width": 2
         },
         "marker": {
          "size": 2
         },
         "type": "scatter3d",
         "x": [
          0.5151515151515152,
          0.5252525252525253,
          0.5353535353535354,
          0.5454545454545455,
          0.5555555555555556,
          0.5656565656565657,
          0.5757575757575758,
          0.5858585858585859,
          0.595959595959596,
          0.6060606060606061,
          0.6161616161616162,
          0.6262626262626263,
          0.6363636363636365,
          0.6464646464646465,
          0.6565656565656566,
          0.6666666666666667,
          0.6767676767676768,
          0.686868686868687,
          0.696969696969697,
          0.7070707070707072,
          0.7171717171717172,
          0.7272727272727273,
          0.7373737373737375,
          0.7474747474747475,
          0.7575757575757577,
          0.7676767676767677,
          0.7777777777777778,
          0.787878787878788,
          0.797979797979798,
          0.8080808080808082,
          0.8181818181818182
         ],
         "y": [
          140.84848484848482,
          138.74747474747474,
          136.64646464646464,
          134.5454545454545,
          132.44444444444446,
          130.34343434343432,
          128.24242424242425,
          129.7979797979798,
          131.65656565656565,
          133.5151515151515,
          135.37373737373738,
          137.23232323232324,
          139.09090909090912,
          140.94949494949498,
          142.8080808080808,
          144.66666666666669,
          146.52525252525254,
          148.3838383838384,
          150.24242424242425,
          152.1010101010101,
          153.95959595959596,
          155.8181818181818,
          157.6767676767677,
          159.53535353535355,
          161.3939393939394,
          163.25252525252526,
          165.11111111111111,
          166.969696969697,
          168.82828282828282,
          170.6868686868687,
          171.65151515151518
         ],
         "z": [
          143.03030303030303,
          144.05050505050505,
          145.07070707070707,
          146.0909090909091,
          147.11111111111111,
          148.13131313131316,
          149.15151515151516,
          150.17171717171718,
          151.1919191919192,
          152.21212121212122,
          153.23232323232324,
          154.25252525252526,
          155.27272727272728,
          156.2929292929293,
          157.31313131313132,
          158.33333333333334,
          159.35353535353536,
          160.37373737373738,
          161.3939393939394,
          162.41414141414143,
          163.43434343434345,
          164.45454545454544,
          165.4747474747475,
          166.4949494949495,
          167.51515151515153,
          168.53535353535355,
          169.55555555555554,
          170.5757575757576,
          171.59595959595958,
          172.61616161616163,
          171.65151515151518
         ]
        },
        {
         "line": {
          "width": 2
         },
         "marker": {
          "size": 2
         },
         "type": "scatter3d",
         "x": [
          0.5151515151515152,
          0.5252525252525253,
          0.5353535353535354,
          0.5454545454545455,
          0.5555555555555556,
          0.5656565656565657,
          0.5757575757575758,
          0.5858585858585859,
          0.595959595959596,
          0.6060606060606061,
          0.6161616161616162,
          0.6262626262626263,
          0.6363636363636365,
          0.6464646464646465,
          0.6565656565656566,
          0.6666666666666667,
          0.6767676767676768,
          0.686868686868687,
          0.696969696969697,
          0.7070707070707072
         ],
         "y": [
          170,
          168.33333333333331,
          166.66666666666669,
          165,
          163.33333333333331,
          161.66666666666666,
          160.3939393939394,
          162.64646464646466,
          164.8989898989899,
          167.15151515151516,
          169.40404040404042,
          171.65656565656565,
          173.90909090909093,
          176.16161616161617,
          178.4141414141414,
          180.66666666666669,
          182.91919191919192,
          185.1717171717172,
          187.42424242424244,
          188.27272727272728
         ],
         "z": [
          172.3939393939394,
          173.32323232323233,
          174.25252525252526,
          175.1818181818182,
          176.11111111111111,
          177.04040404040404,
          177.96969696969697,
          178.8989898989899,
          179.82828282828282,
          180.75757575757575,
          181.6868686868687,
          182.6161616161616,
          183.54545454545456,
          184.4747474747475,
          185.40404040404042,
          186.33333333333334,
          187.26262626262627,
          188.1919191919192,
          189.12121212121212,
          188.27272727272728
         ]
        },
        {
         "line": {
          "width": 2
         },
         "marker": {
          "size": 2
         },
         "type": "scatter3d",
         "x": [
          0.6161616161616162,
          0.6262626262626263
         ],
         "y": [
          158.2727272727273,
          158.64646464646466
         ],
         "z": [
          159.02020202020202,
          158.64646464646466
         ]
        },
        {
         "line": {
          "width": 2
         },
         "marker": {
          "size": 2
         },
         "type": "scatter3d",
         "x": [
          0.6262626262626263,
          0.6363636363636365
         ],
         "y": [
          160.44444444444446,
          160.63131313131314
         ],
         "z": [
          160.8181818181818,
          160.63131313131314
         ]
        },
        {
         "line": {
          "width": 2
         },
         "marker": {
          "size": 2
         },
         "type": "scatter3d",
         "x": [
          0.6363636363636365,
          0.6464646464646465
         ],
         "y": [
          163.00000000000003,
          163.1818181818182
         ],
         "z": [
          163.36363636363637,
          163.1818181818182
         ]
        },
        {
         "line": {
          "width": 2
         },
         "marker": {
          "size": 2
         },
         "type": "scatter3d",
         "x": [
          0.6464646464646465,
          0.6565656565656566
         ],
         "y": [
          165.55555555555557,
          165.73232323232327
         ],
         "z": [
          165.90909090909093,
          165.73232323232327
         ]
        },
        {
         "line": {
          "width": 2
         },
         "marker": {
          "size": 2
         },
         "type": "scatter3d",
         "x": [
          0.6565656565656566,
          0.6666666666666667
         ],
         "y": [
          168.11111111111111,
          168.2828282828283
         ],
         "z": [
          168.45454545454544,
          168.2828282828283
         ]
        },
        {
         "line": {
          "width": 2
         },
         "marker": {
          "size": 2
         },
         "type": "scatter3d",
         "x": [
          0.6666666666666667,
          0.6767676767676768
         ],
         "y": [
          170.66666666666669,
          170.83333333333334
         ],
         "z": [
          171,
          170.83333333333334
         ]
        },
        {
         "line": {
          "width": 2
         },
         "marker": {
          "size": 2
         },
         "type": "scatter3d",
         "x": [
          0.6767676767676768,
          0.686868686868687
         ],
         "y": [
          173.22222222222223,
          173.3838383838384
         ],
         "z": [
          173.54545454545456,
          173.3838383838384
         ]
        },
        {
         "line": {
          "width": 2
         },
         "marker": {
          "size": 2
         },
         "type": "scatter3d",
         "x": [
          0.686868686868687,
          0.696969696969697
         ],
         "y": [
          175.7777777777778,
          175.93434343434348
         ],
         "z": [
          176.09090909090912,
          175.93434343434348
         ]
        },
        {
         "line": {
          "width": 2
         },
         "marker": {
          "size": 2
         },
         "type": "scatter3d",
         "x": [
          0.696969696969697,
          0.7070707070707072
         ],
         "y": [
          178.33333333333334,
          178.4848484848485
         ],
         "z": [
          178.63636363636365,
          178.4848484848485
         ]
        },
        {
         "line": {
          "width": 2
         },
         "marker": {
          "size": 2
         },
         "type": "scatter3d",
         "x": [
          0.7070707070707072,
          0.7171717171717172
         ],
         "y": [
          179.74747474747477,
          180.14141414141415
         ],
         "z": [
          180.53535353535355,
          180.14141414141415
         ]
        },
        {
         "line": {
          "width": 2
         },
         "marker": {
          "size": 2
         },
         "type": "scatter3d",
         "x": [
          0.7070707070707072,
          0.7171717171717172
         ],
         "y": [
          180.8888888888889,
          181.03535353535358
         ],
         "z": [
          181.18181818181822,
          181.03535353535358
         ]
        },
        {
         "line": {
          "width": 2
         },
         "marker": {
          "size": 2
         },
         "type": "scatter3d",
         "x": [
          0.7070707070707072,
          0.7171717171717172
         ],
         "y": [
          189.6767676767677,
          189.86363636363637
         ],
         "z": [
          190.05050505050505,
          189.86363636363637
         ]
        },
        {
         "line": {
          "width": 2
         },
         "marker": {
          "size": 2
         },
         "type": "scatter3d",
         "x": [
          0.7171717171717172,
          0.7272727272727273
         ],
         "y": [
          183.44444444444446,
          183.5858585858586
         ],
         "z": [
          183.72727272727275,
          183.5858585858586
         ]
        },
        {
         "line": {
          "width": 2
         },
         "marker": {
          "size": 2
         },
         "type": "scatter3d",
         "x": [
          0.7272727272727273,
          0.7373737373737375
         ],
         "y": [
          186,
          186.13636363636363
         ],
         "z": [
          186.27272727272728,
          186.13636363636363
         ]
        },
        {
         "line": {
          "width": 2
         },
         "marker": {
          "size": 2
         },
         "type": "scatter3d",
         "x": [
          0.7373737373737375,
          0.7474747474747475
         ],
         "y": [
          188.55555555555557,
          188.6868686868687
         ],
         "z": [
          188.81818181818184,
          188.6868686868687
         ]
        },
        {
         "line": {
          "width": 2
         },
         "marker": {
          "size": 2
         },
         "type": "scatter3d",
         "x": [
          0.7474747474747475,
          0.7575757575757577
         ],
         "y": [
          191.11111111111111,
          191.23737373737373
         ],
         "z": [
          191.36363636363637,
          191.23737373737373
         ]
        },
        {
         "line": {
          "width": 2
         },
         "marker": {
          "size": 2
         },
         "type": "scatter3d",
         "x": [
          0.7575757575757577,
          0.7676767676767677
         ],
         "y": [
          193.66666666666669,
          193.7878787878788
         ],
         "z": [
          193.90909090909093,
          193.7878787878788
         ]
        },
        {
         "line": {
          "width": 2
         },
         "marker": {
          "size": 2
         },
         "type": "scatter3d",
         "x": [
          0.7676767676767677,
          0.7777777777777778
         ],
         "y": [
          196.22222222222223,
          196.33838383838383
         ],
         "z": [
          196.45454545454547,
          196.33838383838383
         ]
        },
        {
         "line": {
          "width": 2
         },
         "marker": {
          "size": 2
         },
         "type": "scatter3d",
         "x": [
          0.7676767676767677,
          0.7777777777777778
         ],
         "y": [
          196.45454545454547,
          196.53030303030306
         ],
         "z": [
          196.60606060606062,
          196.53030303030306
         ]
        },
        {
         "line": {
          "width": 2
         },
         "marker": {
          "size": 2
         },
         "type": "scatter3d",
         "x": [
          0.7777777777777778,
          0.787878787878788
         ],
         "y": [
          198.77777777777777,
          198.88888888888889
         ],
         "z": [
          199,
          198.88888888888889
         ]
        },
        {
         "line": {
          "width": 2
         },
         "marker": {
          "size": 2
         },
         "type": "scatter3d",
         "x": [
          0.787878787878788,
          0.797979797979798,
          0.8080808080808082,
          0.8181818181818182,
          0.8282828282828284,
          0.8383838383838385,
          0.8484848484848485,
          0.8585858585858587,
          0.8686868686868687,
          0.8787878787878789,
          0.888888888888889,
          0.8989898989898991,
          0.9090909090909092,
          0.9191919191919192,
          0.9292929292929294,
          0.9393939393939394,
          0.9494949494949496,
          0.9595959595959597,
          0.9696969696969697,
          0.9797979797979799,
          0.98989898989899,
          1
         ],
         "y": [
          196.72727272727272,
          196.78787878787878,
          196.84848484848484,
          196.9090909090909,
          196.96969696969697,
          197.03030303030303,
          197.0909090909091,
          197.15151515151516,
          197.21212121212122,
          197.27272727272728,
          197.33333333333331,
          197.3939393939394,
          197.45454545454547,
          197.5151515151515,
          197.57575757575756,
          197.63636363636363,
          197.6969696969697,
          197.75757575757575,
          197.8181818181818,
          197.87878787878788,
          197.93939393939394,
          198
         ],
         "z": [
          198.5757575757576,
          200.92929292929293,
          203.2828282828283,
          205.63636363636365,
          207.98989898989902,
          210.34343434343435,
          212.6969696969697,
          215.05050505050508,
          217.40404040404042,
          219.75757575757578,
          222.11111111111114,
          224.46464646464648,
          226.81818181818184,
          229.17171717171718,
          231.52525252525254,
          233.87878787878788,
          236.23232323232327,
          238.5858585858586,
          240.93939393939394,
          243.29292929292933,
          245.64646464646466,
          248
         ]
        },
        {
         "line": {
          "width": 2
         },
         "marker": {
          "size": 2
         },
         "type": "scatter3d",
         "x": [
          0.787878787878788,
          0.797979797979798
         ],
         "y": [
          201.3030303030303,
          201.3181818181818
         ],
         "z": [
          201.33333333333334,
          201.3181818181818
         ]
        },
        {
         "line": {
          "width": 2
         },
         "marker": {
          "size": 2
         },
         "type": "scatter3d",
         "x": [
          0.787878787878788,
          0.797979797979798
         ],
         "y": [
          201.33333333333334,
          201.43939393939394
         ],
         "z": [
          201.54545454545456,
          201.43939393939394
         ]
        },
        {
         "line": {
          "width": 2
         },
         "marker": {
          "size": 2
         },
         "type": "scatter3d",
         "x": [
          0.797979797979798,
          0.8080808080808082,
          0.8181818181818182,
          0.8282828282828284,
          0.8383838383838385,
          0.8484848484848485,
          0.8585858585858587,
          0.8686868686868687,
          0.8787878787878789,
          0.888888888888889,
          0.8989898989898991,
          0.9090909090909092,
          0.9191919191919192,
          0.9292929292929294,
          0.9393939393939394,
          0.9494949494949496,
          0.9595959595959597,
          0.9696969696969697,
          0.9797979797979799,
          0.98989898989899,
          1
         ],
         "y": [
          202.05050505050505,
          202.7979797979798,
          203.54545454545456,
          204.2929292929293,
          205.04040404040404,
          205.78787878787878,
          206.53535353535355,
          207.2828282828283,
          208.03030303030303,
          208.77777777777777,
          209.52525252525254,
          210.27272727272728,
          211.02020202020202,
          211.7676767676768,
          212.5151515151515,
          213.26262626262627,
          214.010101010101,
          214.75757575757575,
          215.50505050505052,
          216.25252525252526,
          217
         ],
         "z": [
          203.8888888888889,
          206.44444444444446,
          209,
          211.5555555555556,
          214.11111111111114,
          216.66666666666669,
          219.22222222222223,
          221.77777777777777,
          224.33333333333337,
          226.8888888888889,
          229.44444444444449,
          232.00000000000003,
          234.55555555555557,
          237.11111111111114,
          239.66666666666669,
          242.22222222222226,
          244.7777777777778,
          247.33333333333334,
          249.8888888888889,
          252.44444444444446,
          255
         ]
        },
        {
         "line": {
          "width": 2
         },
         "marker": {
          "size": 2
         },
         "type": "scatter3d",
         "x": [
          0.797979797979798,
          0.8080808080808082
         ],
         "y": [
          203.8888888888889,
          203.98989898989902
         ],
         "z": [
          204.0909090909091,
          203.98989898989902
         ]
        },
        {
         "line": {
          "width": 2
         },
         "marker": {
          "size": 2
         },
         "type": "scatter3d",
         "x": [
          0.797979797979798,
          0.8080808080808082
         ],
         "y": [
          209.22222222222223,
          209.5858585858586
         ],
         "z": [
          209.94949494949495,
          209.5858585858586
         ]
        },
        {
         "line": {
          "width": 2
         },
         "marker": {
          "size": 2
         },
         "type": "scatter3d",
         "x": [
          0.8080808080808082,
          0.8181818181818182,
          0.8282828282828284,
          0.8383838383838385,
          0.8484848484848485,
          0.8585858585858587,
          0.8686868686868687,
          0.8787878787878789,
          0.888888888888889,
          0.8989898989898991,
          0.9090909090909092,
          0.9191919191919192,
          0.9292929292929294,
          0.9393939393939394,
          0.9494949494949496,
          0.9595959595959597,
          0.9696969696969697,
          0.9797979797979799,
          0.98989898989899,
          1
         ],
         "y": [
          209.11111111111111,
          209,
          211.5555555555556,
          214.11111111111114,
          216.66666666666669,
          219.22222222222223,
          218.4747474747475,
          219.51515151515153,
          220.55555555555554,
          221.5959595959596,
          222.63636363636365,
          223.67676767676767,
          224.71717171717174,
          225.75757575757575,
          226.79797979797982,
          227.83838383838383,
          228.87878787878788,
          229.91919191919192,
          230.95959595959596,
          232
         ],
         "z": [
          212.2020202020202,
          214.45454545454547,
          216.70707070707073,
          218.95959595959596,
          221.21212121212122,
          223.46464646464648,
          221.90909090909093,
          224.4545454545455,
          227,
          229.5454545454546,
          232.09090909090912,
          234.63636363636365,
          237.18181818181822,
          239.72727272727275,
          242.2727272727273,
          244.81818181818184,
          247.36363636363637,
          249.90909090909093,
          252.45454545454547,
          255
         ]
        },
        {
         "line": {
          "width": 2
         },
         "marker": {
          "size": 2
         },
         "type": "scatter3d",
         "x": [
          0.8080808080808082,
          0.8181818181818182
         ],
         "y": [
          206.44444444444446,
          206.54040404040404
         ],
         "z": [
          206.63636363636365,
          206.54040404040404
         ]
        },
        {
         "line": {
          "width": 2
         },
         "marker": {
          "size": 2
         },
         "type": "scatter3d",
         "x": [
          0.8181818181818182,
          0.8282828282828284
         ],
         "y": [
          172.54545454545456,
          173.0909090909091
         ],
         "z": [
          173.63636363636363,
          173.0909090909091
         ]
        },
        {
         "line": {
          "width": 2
         },
         "marker": {
          "size": 2
         },
         "type": "scatter3d",
         "x": [
          0.8181818181818182,
          0.8282828282828284
         ],
         "y": [
          209,
          209.0909090909091
         ],
         "z": [
          209.1818181818182,
          209.0909090909091
         ]
        },
        {
         "line": {
          "width": 2
         },
         "marker": {
          "size": 2
         },
         "type": "scatter3d",
         "x": [
          0.8282828282828284,
          0.8383838383838385
         ],
         "y": [
          174.40404040404042,
          174.53030303030306
         ],
         "z": [
          174.65656565656568,
          174.53030303030306
         ]
        },
        {
         "line": {
          "width": 2
         },
         "marker": {
          "size": 2
         },
         "type": "scatter3d",
         "x": [
          0.8282828282828284,
          0.8383838383838385
         ],
         "y": [
          211.5555555555556,
          211.64141414141417
         ],
         "z": [
          211.72727272727275,
          211.64141414141417
         ]
        },
        {
         "line": {
          "width": 2
         },
         "marker": {
          "size": 2
         },
         "type": "scatter3d",
         "x": [
          0.8383838383838385,
          0.8484848484848485
         ],
         "y": [
          214.11111111111114,
          214.19191919191923
         ],
         "z": [
          214.27272727272728,
          214.19191919191923
         ]
        },
        {
         "line": {
          "width": 2
         },
         "marker": {
          "size": 2
         },
         "type": "scatter3d",
         "x": [
          0.8484848484848485,
          0.8585858585858587
         ],
         "y": [
          216.66666666666669,
          216.74242424242425
         ],
         "z": [
          216.8181818181818,
          216.74242424242425
         ]
        },
        {
         "line": {
          "width": 2
         },
         "marker": {
          "size": 2
         },
         "type": "scatter3d",
         "x": [
          0.8484848484848485,
          0.8585858585858587
         ],
         "y": [
          216.3939393939394,
          216.60606060606062
         ],
         "z": [
          216.8181818181818,
          216.60606060606062
         ]
        },
        {
         "line": {
          "width": 2
         },
         "marker": {
          "size": 2
         },
         "type": "scatter3d",
         "x": [
          0.8585858585858587,
          0.8686868686868687
         ],
         "y": [
          219.22222222222223,
          219.2929292929293
         ],
         "z": [
          219.36363636363637,
          219.2929292929293
         ]
        },
        {
         "line": {
          "width": 2
         },
         "marker": {
          "size": 2
         },
         "type": "scatter3d",
         "x": [
          0.8585858585858587,
          0.8686868686868687
         ],
         "y": [
          217.43434343434345,
          218.3989898989899
         ],
         "z": [
          219.36363636363637,
          218.3989898989899
         ]
        },
        {
         "line": {
          "width": 2
         },
         "marker": {
          "size": 2
         },
         "type": "scatter3d",
         "x": [
          0.8686868686868687,
          0.8787878787878789,
          0.888888888888889,
          0.8989898989898991,
          0.9090909090909092,
          0.9191919191919192,
          0.9292929292929294
         ],
         "y": [
          221.77777777777777,
          224.33333333333337,
          226.8888888888889,
          229.44444444444449,
          232.00000000000003,
          234.55555555555557,
          235.7676767676768
         ],
         "z": [
          225.71717171717174,
          227.969696969697,
          230.22222222222223,
          232.47474747474752,
          234.72727272727275,
          236.97979797979798,
          235.7676767676768
         ]
        },
        {
         "line": {
          "width": 2
         },
         "marker": {
          "size": 2
         },
         "type": "scatter3d",
         "x": [
          0.8686868686868687,
          0.8787878787878789
         ],
         "y": [
          221.77777777777777,
          221.84343434343435
         ],
         "z": [
          221.90909090909093,
          221.84343434343435
         ]
        },
        {
         "line": {
          "width": 2
         },
         "marker": {
          "size": 2
         },
         "type": "scatter3d",
         "x": [
          0.8787878787878789,
          0.888888888888889
         ],
         "y": [
          224.33333333333337,
          224.39393939393943
         ],
         "z": [
          224.4545454545455,
          224.39393939393943
         ]
        },
        {
         "line": {
          "width": 2
         },
         "marker": {
          "size": 2
         },
         "type": "scatter3d",
         "x": [
          0.888888888888889,
          0.8989898989898991
         ],
         "y": [
          226.8888888888889,
          226.94444444444446
         ],
         "z": [
          227,
          226.94444444444446
         ]
        },
        {
         "line": {
          "width": 2
         },
         "marker": {
          "size": 2
         },
         "type": "scatter3d",
         "x": [
          0.8989898989898991,
          0.9090909090909092
         ],
         "y": [
          229.44444444444449,
          229.49494949494954
         ],
         "z": [
          229.5454545454546,
          229.49494949494954
         ]
        },
        {
         "line": {
          "width": 2
         },
         "marker": {
          "size": 2
         },
         "type": "scatter3d",
         "x": [
          0.9090909090909092,
          0.9191919191919192
         ],
         "y": [
          232.00000000000003,
          232.04545454545456
         ],
         "z": [
          232.09090909090912,
          232.04545454545456
         ]
        },
        {
         "line": {
          "width": 2
         },
         "marker": {
          "size": 2
         },
         "type": "scatter3d",
         "x": [
          0.9191919191919192,
          0.9292929292929294
         ],
         "y": [
          234.55555555555557,
          234.5959595959596
         ],
         "z": [
          234.63636363636365,
          234.5959595959596
         ]
        },
        {
         "line": {
          "width": 2
         },
         "marker": {
          "size": 2
         },
         "type": "scatter3d",
         "x": [
          0.9292929292929294,
          0.9393939393939394
         ],
         "y": [
          237.11111111111114,
          238.1717171717172
         ],
         "z": [
          239.23232323232327,
          238.1717171717172
         ]
        },
        {
         "line": {
          "width": 2
         },
         "marker": {
          "size": 2
         },
         "type": "scatter3d",
         "x": [
          0.9292929292929294,
          0.9393939393939394
         ],
         "y": [
          237.11111111111114,
          237.14646464646466
         ],
         "z": [
          237.18181818181822,
          237.14646464646466
         ]
        },
        {
         "line": {
          "width": 2
         },
         "marker": {
          "size": 2
         },
         "type": "scatter3d",
         "x": [
          0.9393939393939394,
          0.9494949494949496
         ],
         "y": [
          239.66666666666669,
          240.5757575757576
         ],
         "z": [
          241.4848484848485,
          240.5757575757576
         ]
        },
        {
         "line": {
          "width": 2
         },
         "marker": {
          "size": 2
         },
         "type": "scatter3d",
         "x": [
          0.9393939393939394,
          0.9494949494949496
         ],
         "y": [
          239.66666666666669,
          239.69696969696972
         ],
         "z": [
          239.72727272727275,
          239.69696969696972
         ]
        },
        {
         "line": {
          "width": 2
         },
         "marker": {
          "size": 2
         },
         "type": "scatter3d",
         "x": [
          0.9494949494949496,
          0.9595959595959597
         ],
         "y": [
          242.22222222222226,
          242.979797979798
         ],
         "z": [
          243.73737373737376,
          242.979797979798
         ]
        },
        {
         "line": {
          "width": 2
         },
         "marker": {
          "size": 2
         },
         "type": "scatter3d",
         "x": [
          0.9494949494949496,
          0.9595959595959597
         ],
         "y": [
          242.22222222222226,
          242.24747474747477
         ],
         "z": [
          242.2727272727273,
          242.24747474747477
         ]
        },
        {
         "line": {
          "width": 2
         },
         "marker": {
          "size": 2
         },
         "type": "scatter3d",
         "x": [
          0.9595959595959597,
          0.9696969696969697
         ],
         "y": [
          244.7777777777778,
          245.3838383838384
         ],
         "z": [
          245.98989898989902,
          245.3838383838384
         ]
        },
        {
         "line": {
          "width": 2
         },
         "marker": {
          "size": 2
         },
         "type": "scatter3d",
         "x": [
          0.9595959595959597,
          0.9696969696969697
         ],
         "y": [
          244.7777777777778,
          244.79797979797982
         ],
         "z": [
          244.81818181818184,
          244.79797979797982
         ]
        },
        {
         "line": {
          "width": 2
         },
         "marker": {
          "size": 2
         },
         "type": "scatter3d",
         "x": [
          0.9696969696969697,
          0.9797979797979799
         ],
         "y": [
          247.33333333333334,
          247.7878787878788
         ],
         "z": [
          248.24242424242425,
          247.7878787878788
         ]
        },
        {
         "line": {
          "width": 2
         },
         "marker": {
          "size": 2
         },
         "type": "scatter3d",
         "x": [
          0.9696969696969697,
          0.9797979797979799
         ],
         "y": [
          247.33333333333334,
          247.34848484848487
         ],
         "z": [
          247.36363636363637,
          247.34848484848487
         ]
        },
        {
         "line": {
          "width": 2
         },
         "marker": {
          "size": 2
         },
         "type": "scatter3d",
         "x": [
          0.9797979797979799,
          0.98989898989899
         ],
         "y": [
          249.8888888888889,
          250.19191919191923
         ],
         "z": [
          250.4949494949495,
          250.19191919191923
         ]
        },
        {
         "line": {
          "width": 2
         },
         "marker": {
          "size": 2
         },
         "type": "scatter3d",
         "x": [
          0.9797979797979799,
          0.98989898989899
         ],
         "y": [
          249.8888888888889,
          249.89898989898992
         ],
         "z": [
          249.90909090909093,
          249.89898989898992
         ]
        },
        {
         "line": {
          "width": 2
         },
         "marker": {
          "size": 2
         },
         "type": "scatter3d",
         "x": [
          0.98989898989899,
          1
         ],
         "y": [
          253.8080808080808,
          254.12121212121212
         ],
         "z": [
          254.43434343434345,
          254.12121212121212
         ]
        },
        {
         "line": {
          "width": 2
         },
         "marker": {
          "size": 2
         },
         "type": "scatter3d",
         "x": [
          0.98989898989899,
          1
         ],
         "y": [
          252.44444444444446,
          252.5959595959596
         ],
         "z": [
          252.74747474747477,
          252.5959595959596
         ]
        },
        {
         "line": {
          "width": 2
         },
         "marker": {
          "size": 2
         },
         "type": "scatter3d",
         "x": [
          0.98989898989899,
          1
         ],
         "y": [
          252.44444444444446,
          252.44949494949498
         ],
         "z": [
          252.45454545454547,
          252.44949494949498
         ]
        },
        {
         "colorscale": [
          [
           0,
           "#333"
          ],
          [
           1,
           "#333"
          ]
         ],
         "opacity": 0.1,
         "showscale": false,
         "type": "surface",
         "x": [
          [
           0,
           0,
           0,
           0,
           0,
           0,
           0,
           0,
           0,
           0
          ],
          [
           0.1111111111111111,
           0.1111111111111111,
           0.1111111111111111,
           0.1111111111111111,
           0.1111111111111111,
           0.1111111111111111,
           0.1111111111111111,
           0.1111111111111111,
           0.1111111111111111,
           0.1111111111111111
          ],
          [
           0.2222222222222222,
           0.2222222222222222,
           0.2222222222222222,
           0.2222222222222222,
           0.2222222222222222,
           0.2222222222222222,
           0.2222222222222222,
           0.2222222222222222,
           0.2222222222222222,
           0.2222222222222222
          ],
          [
           0.3333333333333333,
           0.3333333333333333,
           0.3333333333333333,
           0.3333333333333333,
           0.3333333333333333,
           0.3333333333333333,
           0.3333333333333333,
           0.3333333333333333,
           0.3333333333333333,
           0.3333333333333333
          ],
          [
           0.4444444444444444,
           0.4444444444444444,
           0.4444444444444444,
           0.4444444444444444,
           0.4444444444444444,
           0.4444444444444444,
           0.4444444444444444,
           0.4444444444444444,
           0.4444444444444444,
           0.4444444444444444
          ],
          [
           0.5555555555555556,
           0.5555555555555556,
           0.5555555555555556,
           0.5555555555555556,
           0.5555555555555556,
           0.5555555555555556,
           0.5555555555555556,
           0.5555555555555556,
           0.5555555555555556,
           0.5555555555555556
          ],
          [
           0.6666666666666666,
           0.6666666666666666,
           0.6666666666666666,
           0.6666666666666666,
           0.6666666666666666,
           0.6666666666666666,
           0.6666666666666666,
           0.6666666666666666,
           0.6666666666666666,
           0.6666666666666666
          ],
          [
           0.7777777777777777,
           0.7777777777777777,
           0.7777777777777777,
           0.7777777777777777,
           0.7777777777777777,
           0.7777777777777777,
           0.7777777777777777,
           0.7777777777777777,
           0.7777777777777777,
           0.7777777777777777
          ],
          [
           0.8888888888888888,
           0.8888888888888888,
           0.8888888888888888,
           0.8888888888888888,
           0.8888888888888888,
           0.8888888888888888,
           0.8888888888888888,
           0.8888888888888888,
           0.8888888888888888,
           0.8888888888888888
          ],
          [
           1,
           1,
           1,
           1,
           1,
           1,
           1,
           1,
           1,
           1
          ]
         ],
         "y": [
          [
           0,
           28.333333333333332,
           56.666666666666664,
           85,
           113.33333333333333,
           141.66666666666666,
           170,
           198.33333333333331,
           226.66666666666666,
           255
          ],
          [
           0,
           28.333333333333332,
           56.666666666666664,
           85,
           113.33333333333333,
           141.66666666666666,
           170,
           198.33333333333331,
           226.66666666666666,
           255
          ],
          [
           0,
           28.333333333333332,
           56.666666666666664,
           85,
           113.33333333333333,
           141.66666666666666,
           170,
           198.33333333333331,
           226.66666666666666,
           255
          ],
          [
           0,
           28.333333333333332,
           56.666666666666664,
           85,
           113.33333333333333,
           141.66666666666666,
           170,
           198.33333333333331,
           226.66666666666666,
           255
          ],
          [
           0,
           28.333333333333332,
           56.666666666666664,
           85,
           113.33333333333333,
           141.66666666666666,
           170,
           198.33333333333331,
           226.66666666666666,
           255
          ],
          [
           0,
           28.333333333333332,
           56.666666666666664,
           85,
           113.33333333333333,
           141.66666666666666,
           170,
           198.33333333333331,
           226.66666666666666,
           255
          ],
          [
           0,
           28.333333333333332,
           56.666666666666664,
           85,
           113.33333333333333,
           141.66666666666666,
           170,
           198.33333333333331,
           226.66666666666666,
           255
          ],
          [
           0,
           28.333333333333332,
           56.666666666666664,
           85,
           113.33333333333333,
           141.66666666666666,
           170,
           198.33333333333331,
           226.66666666666666,
           255
          ],
          [
           0,
           28.333333333333332,
           56.666666666666664,
           85,
           113.33333333333333,
           141.66666666666666,
           170,
           198.33333333333331,
           226.66666666666666,
           255
          ],
          [
           0,
           28.333333333333332,
           56.666666666666664,
           85,
           113.33333333333333,
           141.66666666666666,
           170,
           198.33333333333331,
           226.66666666666666,
           255
          ]
         ],
         "z": [
          [
           0,
           28.333333333333332,
           56.666666666666664,
           85,
           113.33333333333333,
           141.66666666666666,
           170,
           198.33333333333331,
           226.66666666666666,
           255
          ],
          [
           0,
           28.333333333333332,
           56.666666666666664,
           85,
           113.33333333333333,
           141.66666666666666,
           170,
           198.33333333333331,
           226.66666666666666,
           255
          ],
          [
           0,
           28.333333333333332,
           56.666666666666664,
           85,
           113.33333333333333,
           141.66666666666666,
           170,
           198.33333333333331,
           226.66666666666666,
           255
          ],
          [
           0,
           28.333333333333332,
           56.666666666666664,
           85,
           113.33333333333333,
           141.66666666666666,
           170,
           198.33333333333331,
           226.66666666666666,
           255
          ],
          [
           0,
           28.333333333333332,
           56.666666666666664,
           85,
           113.33333333333333,
           141.66666666666666,
           170,
           198.33333333333331,
           226.66666666666666,
           255
          ],
          [
           0,
           28.333333333333332,
           56.666666666666664,
           85,
           113.33333333333333,
           141.66666666666666,
           170,
           198.33333333333331,
           226.66666666666666,
           255
          ],
          [
           0,
           28.333333333333332,
           56.666666666666664,
           85,
           113.33333333333333,
           141.66666666666666,
           170,
           198.33333333333331,
           226.66666666666666,
           255
          ],
          [
           0,
           28.333333333333332,
           56.666666666666664,
           85,
           113.33333333333333,
           141.66666666666666,
           170,
           198.33333333333331,
           226.66666666666666,
           255
          ],
          [
           0,
           28.333333333333332,
           56.666666666666664,
           85,
           113.33333333333333,
           141.66666666666666,
           170,
           198.33333333333331,
           226.66666666666666,
           255
          ],
          [
           0,
           28.333333333333332,
           56.666666666666664,
           85,
           113.33333333333333,
           141.66666666666666,
           170,
           198.33333333333331,
           226.66666666666666,
           255
          ]
         ]
        }
       ],
       "layout": {
        "height": 700,
        "scene": {
         "aspectmode": "auto",
         "aspectratio": {
          "x": 1,
          "y": 1,
          "z": 1
         },
         "xaxis": {
          "title": {
           "text": "T (homotopy)"
          },
          "type": "linear"
         },
         "yaxis": {
          "title": {
           "text": "Birth"
          },
          "type": "linear"
         },
         "zaxis": {
          "title": {
           "text": "Death"
          },
          "type": "linear"
         }
        },
        "template": {
         "data": {
          "bar": [
           {
            "error_x": {
             "color": "#2a3f5f"
            },
            "error_y": {
             "color": "#2a3f5f"
            },
            "marker": {
             "line": {
              "color": "#E5ECF6",
              "width": 0.5
             },
             "pattern": {
              "fillmode": "overlay",
              "size": 10,
              "solidity": 0.2
             }
            },
            "type": "bar"
           }
          ],
          "barpolar": [
           {
            "marker": {
             "line": {
              "color": "#E5ECF6",
              "width": 0.5
             },
             "pattern": {
              "fillmode": "overlay",
              "size": 10,
              "solidity": 0.2
             }
            },
            "type": "barpolar"
           }
          ],
          "carpet": [
           {
            "aaxis": {
             "endlinecolor": "#2a3f5f",
             "gridcolor": "white",
             "linecolor": "white",
             "minorgridcolor": "white",
             "startlinecolor": "#2a3f5f"
            },
            "baxis": {
             "endlinecolor": "#2a3f5f",
             "gridcolor": "white",
             "linecolor": "white",
             "minorgridcolor": "white",
             "startlinecolor": "#2a3f5f"
            },
            "type": "carpet"
           }
          ],
          "choropleth": [
           {
            "colorbar": {
             "outlinewidth": 0,
             "ticks": ""
            },
            "type": "choropleth"
           }
          ],
          "contour": [
           {
            "colorbar": {
             "outlinewidth": 0,
             "ticks": ""
            },
            "colorscale": [
             [
              0,
              "#0d0887"
             ],
             [
              0.1111111111111111,
              "#46039f"
             ],
             [
              0.2222222222222222,
              "#7201a8"
             ],
             [
              0.3333333333333333,
              "#9c179e"
             ],
             [
              0.4444444444444444,
              "#bd3786"
             ],
             [
              0.5555555555555556,
              "#d8576b"
             ],
             [
              0.6666666666666666,
              "#ed7953"
             ],
             [
              0.7777777777777778,
              "#fb9f3a"
             ],
             [
              0.8888888888888888,
              "#fdca26"
             ],
             [
              1,
              "#f0f921"
             ]
            ],
            "type": "contour"
           }
          ],
          "contourcarpet": [
           {
            "colorbar": {
             "outlinewidth": 0,
             "ticks": ""
            },
            "type": "contourcarpet"
           }
          ],
          "heatmap": [
           {
            "colorbar": {
             "outlinewidth": 0,
             "ticks": ""
            },
            "colorscale": [
             [
              0,
              "#0d0887"
             ],
             [
              0.1111111111111111,
              "#46039f"
             ],
             [
              0.2222222222222222,
              "#7201a8"
             ],
             [
              0.3333333333333333,
              "#9c179e"
             ],
             [
              0.4444444444444444,
              "#bd3786"
             ],
             [
              0.5555555555555556,
              "#d8576b"
             ],
             [
              0.6666666666666666,
              "#ed7953"
             ],
             [
              0.7777777777777778,
              "#fb9f3a"
             ],
             [
              0.8888888888888888,
              "#fdca26"
             ],
             [
              1,
              "#f0f921"
             ]
            ],
            "type": "heatmap"
           }
          ],
          "heatmapgl": [
           {
            "colorbar": {
             "outlinewidth": 0,
             "ticks": ""
            },
            "colorscale": [
             [
              0,
              "#0d0887"
             ],
             [
              0.1111111111111111,
              "#46039f"
             ],
             [
              0.2222222222222222,
              "#7201a8"
             ],
             [
              0.3333333333333333,
              "#9c179e"
             ],
             [
              0.4444444444444444,
              "#bd3786"
             ],
             [
              0.5555555555555556,
              "#d8576b"
             ],
             [
              0.6666666666666666,
              "#ed7953"
             ],
             [
              0.7777777777777778,
              "#fb9f3a"
             ],
             [
              0.8888888888888888,
              "#fdca26"
             ],
             [
              1,
              "#f0f921"
             ]
            ],
            "type": "heatmapgl"
           }
          ],
          "histogram": [
           {
            "marker": {
             "pattern": {
              "fillmode": "overlay",
              "size": 10,
              "solidity": 0.2
             }
            },
            "type": "histogram"
           }
          ],
          "histogram2d": [
           {
            "colorbar": {
             "outlinewidth": 0,
             "ticks": ""
            },
            "colorscale": [
             [
              0,
              "#0d0887"
             ],
             [
              0.1111111111111111,
              "#46039f"
             ],
             [
              0.2222222222222222,
              "#7201a8"
             ],
             [
              0.3333333333333333,
              "#9c179e"
             ],
             [
              0.4444444444444444,
              "#bd3786"
             ],
             [
              0.5555555555555556,
              "#d8576b"
             ],
             [
              0.6666666666666666,
              "#ed7953"
             ],
             [
              0.7777777777777778,
              "#fb9f3a"
             ],
             [
              0.8888888888888888,
              "#fdca26"
             ],
             [
              1,
              "#f0f921"
             ]
            ],
            "type": "histogram2d"
           }
          ],
          "histogram2dcontour": [
           {
            "colorbar": {
             "outlinewidth": 0,
             "ticks": ""
            },
            "colorscale": [
             [
              0,
              "#0d0887"
             ],
             [
              0.1111111111111111,
              "#46039f"
             ],
             [
              0.2222222222222222,
              "#7201a8"
             ],
             [
              0.3333333333333333,
              "#9c179e"
             ],
             [
              0.4444444444444444,
              "#bd3786"
             ],
             [
              0.5555555555555556,
              "#d8576b"
             ],
             [
              0.6666666666666666,
              "#ed7953"
             ],
             [
              0.7777777777777778,
              "#fb9f3a"
             ],
             [
              0.8888888888888888,
              "#fdca26"
             ],
             [
              1,
              "#f0f921"
             ]
            ],
            "type": "histogram2dcontour"
           }
          ],
          "mesh3d": [
           {
            "colorbar": {
             "outlinewidth": 0,
             "ticks": ""
            },
            "type": "mesh3d"
           }
          ],
          "parcoords": [
           {
            "line": {
             "colorbar": {
              "outlinewidth": 0,
              "ticks": ""
             }
            },
            "type": "parcoords"
           }
          ],
          "pie": [
           {
            "automargin": true,
            "type": "pie"
           }
          ],
          "scatter": [
           {
            "fillpattern": {
             "fillmode": "overlay",
             "size": 10,
             "solidity": 0.2
            },
            "type": "scatter"
           }
          ],
          "scatter3d": [
           {
            "line": {
             "colorbar": {
              "outlinewidth": 0,
              "ticks": ""
             }
            },
            "marker": {
             "colorbar": {
              "outlinewidth": 0,
              "ticks": ""
             }
            },
            "type": "scatter3d"
           }
          ],
          "scattercarpet": [
           {
            "marker": {
             "colorbar": {
              "outlinewidth": 0,
              "ticks": ""
             }
            },
            "type": "scattercarpet"
           }
          ],
          "scattergeo": [
           {
            "marker": {
             "colorbar": {
              "outlinewidth": 0,
              "ticks": ""
             }
            },
            "type": "scattergeo"
           }
          ],
          "scattergl": [
           {
            "marker": {
             "colorbar": {
              "outlinewidth": 0,
              "ticks": ""
             }
            },
            "type": "scattergl"
           }
          ],
          "scattermapbox": [
           {
            "marker": {
             "colorbar": {
              "outlinewidth": 0,
              "ticks": ""
             }
            },
            "type": "scattermapbox"
           }
          ],
          "scatterpolar": [
           {
            "marker": {
             "colorbar": {
              "outlinewidth": 0,
              "ticks": ""
             }
            },
            "type": "scatterpolar"
           }
          ],
          "scatterpolargl": [
           {
            "marker": {
             "colorbar": {
              "outlinewidth": 0,
              "ticks": ""
             }
            },
            "type": "scatterpolargl"
           }
          ],
          "scatterternary": [
           {
            "marker": {
             "colorbar": {
              "outlinewidth": 0,
              "ticks": ""
             }
            },
            "type": "scatterternary"
           }
          ],
          "surface": [
           {
            "colorbar": {
             "outlinewidth": 0,
             "ticks": ""
            },
            "colorscale": [
             [
              0,
              "#0d0887"
             ],
             [
              0.1111111111111111,
              "#46039f"
             ],
             [
              0.2222222222222222,
              "#7201a8"
             ],
             [
              0.3333333333333333,
              "#9c179e"
             ],
             [
              0.4444444444444444,
              "#bd3786"
             ],
             [
              0.5555555555555556,
              "#d8576b"
             ],
             [
              0.6666666666666666,
              "#ed7953"
             ],
             [
              0.7777777777777778,
              "#fb9f3a"
             ],
             [
              0.8888888888888888,
              "#fdca26"
             ],
             [
              1,
              "#f0f921"
             ]
            ],
            "type": "surface"
           }
          ],
          "table": [
           {
            "cells": {
             "fill": {
              "color": "#EBF0F8"
             },
             "line": {
              "color": "white"
             }
            },
            "header": {
             "fill": {
              "color": "#C8D4E3"
             },
             "line": {
              "color": "white"
             }
            },
            "type": "table"
           }
          ]
         },
         "layout": {
          "annotationdefaults": {
           "arrowcolor": "#2a3f5f",
           "arrowhead": 0,
           "arrowwidth": 1
          },
          "autotypenumbers": "strict",
          "coloraxis": {
           "colorbar": {
            "outlinewidth": 0,
            "ticks": ""
           }
          },
          "colorscale": {
           "diverging": [
            [
             0,
             "#8e0152"
            ],
            [
             0.1,
             "#c51b7d"
            ],
            [
             0.2,
             "#de77ae"
            ],
            [
             0.3,
             "#f1b6da"
            ],
            [
             0.4,
             "#fde0ef"
            ],
            [
             0.5,
             "#f7f7f7"
            ],
            [
             0.6,
             "#e6f5d0"
            ],
            [
             0.7,
             "#b8e186"
            ],
            [
             0.8,
             "#7fbc41"
            ],
            [
             0.9,
             "#4d9221"
            ],
            [
             1,
             "#276419"
            ]
           ],
           "sequential": [
            [
             0,
             "#0d0887"
            ],
            [
             0.1111111111111111,
             "#46039f"
            ],
            [
             0.2222222222222222,
             "#7201a8"
            ],
            [
             0.3333333333333333,
             "#9c179e"
            ],
            [
             0.4444444444444444,
             "#bd3786"
            ],
            [
             0.5555555555555556,
             "#d8576b"
            ],
            [
             0.6666666666666666,
             "#ed7953"
            ],
            [
             0.7777777777777778,
             "#fb9f3a"
            ],
            [
             0.8888888888888888,
             "#fdca26"
            ],
            [
             1,
             "#f0f921"
            ]
           ],
           "sequentialminus": [
            [
             0,
             "#0d0887"
            ],
            [
             0.1111111111111111,
             "#46039f"
            ],
            [
             0.2222222222222222,
             "#7201a8"
            ],
            [
             0.3333333333333333,
             "#9c179e"
            ],
            [
             0.4444444444444444,
             "#bd3786"
            ],
            [
             0.5555555555555556,
             "#d8576b"
            ],
            [
             0.6666666666666666,
             "#ed7953"
            ],
            [
             0.7777777777777778,
             "#fb9f3a"
            ],
            [
             0.8888888888888888,
             "#fdca26"
            ],
            [
             1,
             "#f0f921"
            ]
           ]
          },
          "colorway": [
           "#636efa",
           "#EF553B",
           "#00cc96",
           "#ab63fa",
           "#FFA15A",
           "#19d3f3",
           "#FF6692",
           "#B6E880",
           "#FF97FF",
           "#FECB52"
          ],
          "font": {
           "color": "#2a3f5f"
          },
          "geo": {
           "bgcolor": "white",
           "lakecolor": "white",
           "landcolor": "#E5ECF6",
           "showlakes": true,
           "showland": true,
           "subunitcolor": "white"
          },
          "hoverlabel": {
           "align": "left"
          },
          "hovermode": "closest",
          "mapbox": {
           "style": "light"
          },
          "paper_bgcolor": "white",
          "plot_bgcolor": "#E5ECF6",
          "polar": {
           "angularaxis": {
            "gridcolor": "white",
            "linecolor": "white",
            "ticks": ""
           },
           "bgcolor": "#E5ECF6",
           "radialaxis": {
            "gridcolor": "white",
            "linecolor": "white",
            "ticks": ""
           }
          },
          "scene": {
           "xaxis": {
            "backgroundcolor": "#E5ECF6",
            "gridcolor": "white",
            "gridwidth": 2,
            "linecolor": "white",
            "showbackground": true,
            "ticks": "",
            "zerolinecolor": "white"
           },
           "yaxis": {
            "backgroundcolor": "#E5ECF6",
            "gridcolor": "white",
            "gridwidth": 2,
            "linecolor": "white",
            "showbackground": true,
            "ticks": "",
            "zerolinecolor": "white"
           },
           "zaxis": {
            "backgroundcolor": "#E5ECF6",
            "gridcolor": "white",
            "gridwidth": 2,
            "linecolor": "white",
            "showbackground": true,
            "ticks": "",
            "zerolinecolor": "white"
           }
          },
          "shapedefaults": {
           "line": {
            "color": "#2a3f5f"
           }
          },
          "ternary": {
           "aaxis": {
            "gridcolor": "white",
            "linecolor": "white",
            "ticks": ""
           },
           "baxis": {
            "gridcolor": "white",
            "linecolor": "white",
            "ticks": ""
           },
           "bgcolor": "#E5ECF6",
           "caxis": {
            "gridcolor": "white",
            "linecolor": "white",
            "ticks": ""
           }
          },
          "title": {
           "x": 0.05
          },
          "xaxis": {
           "automargin": true,
           "gridcolor": "white",
           "linecolor": "white",
           "ticks": "",
           "title": {
            "standoff": 15
           },
           "zerolinecolor": "white",
           "zerolinewidth": 2
          },
          "yaxis": {
           "automargin": true,
           "gridcolor": "white",
           "linecolor": "white",
           "ticks": "",
           "title": {
            "standoff": 15
           },
           "zerolinecolor": "white",
           "zerolinewidth": 2
          }
         }
        },
        "width": 800
       }
      },
      "image/png": "[encoded data removed]",
      "text/html": [
       "<div>                            <div id=\"69f5a69f-1548-4031-b6ec-4c5c995818d7\" class=\"plotly-graph-div\" style=\"height:700px; width:800px;\"></div>            <script type=\"text/javascript\">                require([\"plotly\"], function(Plotly) {                    window.PLOTLYENV=window.PLOTLYENV || {};                                    if (document.getElementById(\"69f5a69f-1548-4031-b6ec-4c5c995818d7\")) {                    Plotly.newPlot(                        \"69f5a69f-1548-4031-b6ec-4c5c995818d7\",                        [{\"line\":{\"width\":2},\"marker\":{\"size\":2},\"x\":[0.0,0.010101010101010102,0.020202020202020204,0.030303030303030304,0.04040404040404041,0.05050505050505051,0.06060606060606061,0.07070707070707072,0.08080808080808081,0.09090909090909091,0.10101010101010102,0.11111111111111112,0.12121212121212122,0.13131313131313133,0.14141414141414144,0.15151515151515152,0.16161616161616163,0.17171717171717174,0.18181818181818182,0.19191919191919193,0.20202020202020204,0.21212121212121213,0.22222222222222224,0.23232323232323235,0.24242424242424243,0.25252525252525254,0.26262626262626265,0.27272727272727276,0.2828282828282829,0.29292929292929293,0.30303030303030304,0.31313131313131315,0.32323232323232326,0.33333333333333337,0.3434343434343435,0.3535353535353536,0.36363636363636365,0.37373737373737376,0.38383838383838387,0.393939393939394,0.4040404040404041,0.4141414141414142,0.42424242424242425,0.43434343434343436,0.4444444444444445,0.4545454545454546,0.4646464646464647,0.4747474747474748,0.48484848484848486,0.494949494949495,0.5050505050505051,0.5151515151515152,0.5252525252525253,0.5353535353535354,0.5454545454545455,0.5555555555555556,0.5656565656565657,0.5757575757575758,0.5858585858585859,0.595959595959596,0.6060606060606061,0.6161616161616162,0.6262626262626263,0.6363636363636365,0.6464646464646465,0.6565656565656566,0.6666666666666667,0.6767676767676768,0.686868686868687,0.696969696969697,0.7070707070707072],\"y\":[198.0,196.03030303030303,194.06060606060606,192.0909090909091,190.12121212121212,188.15151515151513,186.1818181818182,184.21212121212122,182.24242424242425,180.27272727272728,178.3030303030303,176.33333333333331,174.36363636363637,172.39393939393938,170.42424242424244,168.45454545454544,166.48484848484847,164.5151515151515,162.54545454545456,160.57575757575756,158.6060606060606,156.63636363636363,154.66666666666666,152.6969696969697,150.72727272727272,148.75757575757575,146.78787878787878,144.8181818181818,142.84848484848484,140.87878787878788,138.9090909090909,139.56565656565658,140.6161616161616,141.66666666666669,142.7171717171717,143.7676767676768,144.8181818181818,145.86868686868686,146.91919191919192,147.96969696969697,149.02020202020202,150.07070707070704,148.0909090909091,145.54545454545456,143.0,140.45454545454544,137.90909090909088,135.36363636363635,132.8181818181818,130.32323232323233,132.67676767676767,135.03030303030306,137.3838383838384,139.73737373737373,142.09090909090912,144.44444444444446,146.79797979797982,149.15151515151516,151.50505050505052,153.85858585858585,156.21212121212122,158.56565656565658,160.91919191919192,163.2727272727273,165.62626262626264,167.97979797979798,170.33333333333334,172.6868686868687,175.04040404040407,177.3939393939394,178.43939393939394],\"z\":[248.0,245.8989898989899,243.7979797979798,241.6969696969697,239.59595959595958,237.49494949494948,235.39393939393938,233.2929292929293,231.1919191919192,229.0909090909091,226.989898989899,224.88888888888889,222.78787878787878,220.68686868686868,218.58585858585857,216.4848484848485,214.3838383838384,212.2828282828283,210.1818181818182,208.08080808080808,205.97979797979798,203.87878787878788,201.77777777777777,199.67676767676767,197.57575757575756,195.47474747474746,193.37373737373736,191.27272727272725,189.17171717171715,187.07070707070707,184.96969696969697,182.86868686868686,180.76767676767676,178.66666666666666,176.56565656565655,174.46464646464645,172.36363636363637,170.26262626262627,168.16161616161617,166.06060606060606,163.95959595959596,161.85858585858585,159.75757575757575,157.65656565656565,155.55555555555554,154.27272727272728,155.32323232323233,156.37373737373738,157.42424242424244,158.4747474747475,159.52525252525254,160.5757575757576,161.62626262626264,162.67676767676767,163.72727272727275,164.77777777777777,165.82828282828285,166.87878787878788,167.92929292929293,168.97979797979798,170.03030303030303,171.08080808080808,172.13131313131314,173.1818181818182,174.23232323232324,175.2828282828283,176.33333333333334,177.3838383838384,178.43434343434345,179.4848484848485,178.43939393939394],\"type\":\"scatter3d\"},{\"line\":{\"width\":2},\"marker\":{\"size\":2},\"x\":[0.0,0.010101010101010102,0.020202020202020204,0.030303030303030304,0.04040404040404041,0.05050505050505051,0.06060606060606061,0.07070707070707072,0.08080808080808081,0.09090909090909091,0.10101010101010102,0.11111111111111112,0.12121212121212122,0.13131313131313133,0.14141414141414144,0.15151515151515152,0.16161616161616163,0.17171717171717174,0.18181818181818182,0.19191919191919193,0.20202020202020204,0.21212121212121213,0.22222222222222224,0.23232323232323235,0.24242424242424243,0.25252525252525254,0.26262626262626265,0.27272727272727276,0.2828282828282829],\"y\":[232.0,229.68686868686868,227.37373737373736,225.06060606060606,222.74747474747474,220.43434343434342,218.12121212121212,217.22222222222223,217.11111111111111,217.0,216.88888888888889,216.77777777777777,216.66666666666666,216.55555555555554,216.44444444444446,216.33333333333331,216.22222222222223,216.11111111111111,216.0,215.88888888888889,215.77777777777777,215.66666666666669,215.55555555555554,214.57575757575756,212.8181818181818,213.14141414141415,213.7070707070707,214.27272727272728,214.63636363636363],\"z\":[255.0,253.2020202020202,251.40404040404042,249.6060606060606,247.8080808080808,246.010101010101,244.21212121212122,243.33333333333334,241.66666666666666,240.0,238.33333333333334,236.66666666666666,235.0,233.33333333333334,231.66666666666666,230.0,228.33333333333334,226.66666666666666,225.0,223.33333333333334,221.66666666666666,220.0,218.33333333333331,216.66666666666666,215.33333333333331,215.22222222222223,215.11111111111111,215.0,214.63636363636363],\"type\":\"scatter3d\"},{\"line\":{\"width\":2},\"marker\":{\"size\":2},\"x\":[0.0,0.010101010101010102,0.020202020202020204,0.030303030303030304,0.04040404040404041,0.05050505050505051,0.06060606060606061,0.07070707070707072,0.08080808080808081,0.09090909090909091,0.10101010101010102,0.11111111111111112,0.12121212121212122,0.13131313131313133,0.14141414141414144,0.15151515151515152,0.16161616161616163,0.17171717171717174,0.18181818181818182,0.19191919191919193,0.20202020202020204,0.21212121212121213,0.22222222222222224,0.23232323232323235,0.24242424242424243],\"y\":[217.0,214.82828282828282,212.65656565656565,210.4848484848485,208.31313131313132,206.14141414141415,203.96969696969697,201.7979797979798,199.62626262626264,197.45454545454544,195.2828282828283,193.11111111111111,192.72727272727272,192.78787878787878,192.84848484848484,192.9090909090909,192.96969696969697,193.03030303030303,193.0909090909091,193.15151515151516,193.21212121212122,193.27272727272728,193.33333333333331,193.3939393939394,194.92424242424244],\"z\":[255.0,252.45454545454547,249.9090909090909,247.36363636363637,244.8181818181818,242.27272727272728,239.72727272727272,237.1818181818182,234.63636363636363,232.0909090909091,229.54545454545453,227.0,224.45454545454544,221.9090909090909,219.36363636363637,216.8181818181818,214.27272727272725,211.72727272727272,209.1818181818182,206.63636363636363,204.0909090909091,201.54545454545456,199.0,196.45454545454544,194.92424242424244],\"type\":\"scatter3d\"},{\"line\":{\"width\":2},\"marker\":{\"size\":2},\"x\":[0.0,0.010101010101010102,0.020202020202020204,0.030303030303030304,0.04040404040404041,0.05050505050505051,0.06060606060606061,0.07070707070707072,0.08080808080808081,0.09090909090909091,0.10101010101010102,0.11111111111111112,0.12121212121212122,0.13131313131313133,0.14141414141414144,0.15151515151515152,0.16161616161616163,0.17171717171717174,0.18181818181818182,0.19191919191919193,0.20202020202020204,0.21212121212121213,0.22222222222222224,0.23232323232323235,0.24242424242424243,0.25252525252525254,0.26262626262626265,0.27272727272727276,0.2828282828282829,0.29292929292929293,0.30303030303030304,0.31313131313131315,0.32323232323232326,0.33333333333333337,0.3434343434343435,0.3535353535353536,0.36363636363636365,0.37373737373737376,0.38383838383838387,0.393939393939394,0.4040404040404041,0.4141414141414142,0.42424242424242425,0.43434343434343436,0.4444444444444445,0.4545454545454546,0.4646464646464647,0.4747474747474748,0.48484848484848486,0.494949494949495,0.5050505050505051,0.5151515151515152,0.5252525252525253,0.5353535353535354,0.5454545454545455,0.5555555555555556,0.5656565656565657,0.5757575757575758,0.5858585858585859,0.595959595959596,0.6060606060606061,0.6161616161616162,0.6262626262626263,0.6363636363636365,0.6464646464646465,0.6565656565656566,0.6666666666666667,0.6767676767676768,0.686868686868687,0.696969696969697,0.7070707070707072,0.7171717171717172,0.7272727272727273,0.7373737373737375,0.7474747474747475,0.7575757575757577,0.7676767676767677,0.7777777777777778,0.787878787878788,0.797979797979798,0.8080808080808082,0.8181818181818182,0.8282828282828284,0.8383838383838385,0.8484848484848485,0.8585858585858587,0.8686868686868687,0.8787878787878789,0.888888888888889,0.8989898989898991,0.9090909090909092,0.9191919191919192,0.9292929292929294,0.9393939393939394,0.9494949494949496,0.9595959595959597,0.9696969696969697,0.9797979797979799,0.98989898989899,1.0],\"y\":[33.0,34.111111111111086,35.22222222222223,36.333333333333314,37.44444444444446,38.55555555555557,39.66666666666666,40.77777777777777,41.888888888888886,43.0,44.111111111111086,45.22222222222223,46.33333333333334,48.18181818181819,50.27272727272728,52.363636363636346,54.45454545454547,56.54545454545456,58.636363636363654,60.72727272727272,62.818181818181785,64.90909090909093,67.0,69.0909090909091,71.18181818181819,73.27272727272731,75.36363636363637,77.45454545454544,79.54545454545456,81.63636363636363,83.72727272727272,85.81818181818181,87.90909090909093,90.0,92.0909090909091,94.18181818181819,96.27272727272728,98.36363636363635,100.45454545454544,102.54545454545459,104.63636363636365,106.72727272727272,108.81818181818181,110.90909090909093,113.0,115.0909090909091,117.1010101010101,114.9292929292929,112.75757575757575,110.58585858585857,108.4141414141414,106.24242424242419,104.07070707070704,101.8989898989899,99.72727272727269,97.55555555555554,95.38383838383837,93.21212121212119,91.04040404040404,88.86868686868684,86.69696969696969,84.52525252525251,82.35353535353534,82.63636363636363,83.31313131313132,82.31313131313132,80.33333333333331,78.35353535353534,76.37373737373736,74.39393939393938,72.4141414141414,70.43434343434345,68.45454545454544,66.47474747474746,64.49494949494948,62.5151515151515,60.53535353535352,58.55555555555557,56.575757575757535,54.595959595959584,52.616161616161605,50.636363636363626,49.70707070707073,49.95959595959596,50.21212121212119,50.46464646464648,50.71717171717171,50.96969696969697,51.22222222222223,51.47474747474749,51.72727272727272,50.93939393939394,48.69696969696969,46.45454545454544,44.21212121212119,41.96969696969694,39.72727272727272,37.48484848484847,35.24242424242422,33.0],\"z\":[255.0,252.75757575757575,250.5151515151515,248.27272727272728,246.03030303030303,243.78787878787878,241.54545454545453,239.3030303030303,237.06060606060606,234.8181818181818,232.57575757575756,230.33333333333334,228.0909090909091,225.84848484848484,223.6060606060606,221.36363636363637,219.12121212121212,216.87878787878788,214.63636363636363,212.39393939393938,210.15151515151516,207.9090909090909,205.66666666666666,203.42424242424244,201.1818181818182,198.93939393939394,196.6969696969697,194.45454545454544,193.6969696969697,193.75757575757575,193.8181818181818,193.87878787878788,193.93939393939394,194.0,194.06060606060606,194.12121212121212,194.1818181818182,194.24242424242425,194.3030303030303,194.36363636363637,194.42424242424244,194.4848484848485,194.54545454545456,194.60606060606062,194.66666666666666,194.72727272727275,194.7878787878788,194.84848484848484,194.9090909090909,194.96969696969697,195.03030303030303,195.0909090909091,195.15151515151516,195.21212121212122,195.27272727272728,195.33333333333331,195.39393939393938,195.45454545454544,195.5151515151515,195.57575757575756,195.63636363636363,195.6969696969697,195.75757575757575,195.8181818181818,195.87878787878788,195.93939393939394,196.0,196.06060606060606,196.12121212121212,196.1818181818182,196.24242424242425,196.3030303030303,196.8181818181818,197.56565656565658,198.31313131313132,199.06060606060606,199.80808080808083,200.55555555555554,201.54545454545456,204.0909090909091,206.63636363636365,209.1818181818182,211.72727272727275,214.27272727272728,216.8181818181818,219.36363636363637,221.90909090909093,224.4545454545455,227.0,229.5454545454546,232.09090909090912,234.63636363636365,237.18181818181822,239.72727272727275,242.2727272727273,244.81818181818184,247.36363636363637,249.90909090909093,252.45454545454547,255.0],\"type\":\"scatter3d\"},{\"line\":{\"width\":2},\"marker\":{\"size\":2},\"x\":[0.0,0.010101010101010102,0.020202020202020204,0.030303030303030304,0.04040404040404041,0.05050505050505051,0.06060606060606061,0.07070707070707072,0.08080808080808081,0.09090909090909091,0.10101010101010102,0.11111111111111112,0.12121212121212122,0.13131313131313133,0.14141414141414144,0.15151515151515152,0.16161616161616163,0.17171717171717174,0.18181818181818182,0.19191919191919193,0.20202020202020204,0.21212121212121213,0.22222222222222224,0.23232323232323235,0.24242424242424243,0.25252525252525254,0.26262626262626265,0.27272727272727276,0.2828282828282829,0.29292929292929293,0.30303030303030304,0.31313131313131315,0.32323232323232326,0.33333333333333337,0.3434343434343435,0.3535353535353536,0.36363636363636365,0.37373737373737376,0.38383838383838387,0.393939393939394,0.4040404040404041,0.4141414141414142,0.42424242424242425,0.43434343434343436,0.4444444444444445,0.4545454545454546,0.4646464646464647,0.4747474747474748,0.48484848484848486,0.494949494949495,0.5050505050505051,0.5151515151515152,0.5252525252525253,0.5353535353535354,0.5454545454545455,0.5555555555555556,0.5656565656565657,0.5757575757575758,0.5858585858585859,0.595959595959596,0.6060606060606061,0.6161616161616162,0.6262626262626263,0.6363636363636365,0.6464646464646465,0.6565656565656566,0.6666666666666667,0.6767676767676768,0.686868686868687,0.696969696969697,0.7070707070707072,0.7171717171717172,0.7272727272727273,0.7373737373737375,0.7474747474747475,0.7575757575757577,0.7676767676767677,0.7777777777777778,0.787878787878788,0.797979797979798,0.8080808080808082,0.8181818181818182,0.8282828282828284,0.8383838383838385,0.8484848484848485,0.8585858585858587,0.8686868686868687,0.8787878787878789,0.888888888888889,0.8989898989898991,0.9090909090909092,0.9191919191919192,0.9292929292929294,0.9393939393939394,0.9494949494949496,0.9595959595959597,0.9696969696969697,0.9797979797979799,0.98989898989899,1.0],\"y\":[218.0,217.88888888888889,217.77777777777777,217.66666666666666,217.55555555555554,217.44444444444446,217.33333333333334,215.8080808080808,213.49494949494948,211.1818181818182,208.86868686868686,206.55555555555554,204.24242424242425,201.92929292929293,199.6161616161616,197.3030303030303,194.989898989899,192.67676767676767,190.36363636363637,188.05050505050505,185.73737373737373,183.42424242424244,181.1111111111111,178.7979797979798,176.4848484848485,174.17171717171718,171.85858585858585,169.54545454545453,167.2323232323232,164.91919191919192,162.60606060606062,160.2929292929293,157.97979797979798,155.66666666666669,156.59595959595958,157.52525252525254,158.45454545454547,159.38383838383837,160.3131313131313,161.24242424242425,162.17171717171718,163.1010101010101,164.03030303030303,164.95959595959596,165.88888888888889,166.8181818181818,167.74747474747477,168.67676767676767,168.6969696969697,166.8989898989899,165.1010101010101,163.30303030303028,161.5050505050505,159.70707070707073,157.90909090909088,156.1111111111111,155.969696969697,158.27272727272728,160.57575757575756,162.87878787878788,165.1818181818182,167.4848484848485,169.7878787878788,172.09090909090912,174.3939393939394,176.6969696969697,179.0,181.3030303030303,183.60606060606062,185.90909090909093,188.21212121212125,190.51515151515153,191.9090909090909,192.83838383838383,193.7676767676768,194.6969696969697,195.62626262626264,196.55555555555554,197.4848484848485,198.4141414141414,199.34343434343435,200.27272727272728,201.2020202020202,202.13131313131314,203.06060606060606,203.989898989899,204.91919191919192,205.84848484848487,206.77777777777777,207.70707070707073,208.63636363636365,209.56565656565658,210.4949494949495,211.42424242424244,212.35353535353536,213.2828282828283,214.21212121212122,215.14141414141415,216.07070707070707,218.0],\"z\":[255.0,253.33333333333334,251.66666666666666,250.0,248.33333333333334,246.66666666666666,245.0,242.4141414141414,240.6161616161616,238.8181818181818,237.02020202020202,235.22222222222223,233.42424242424244,231.62626262626262,229.82828282828282,228.03030303030303,226.23232323232324,224.43434343434342,222.63636363636363,220.83838383838383,219.04040404040404,217.24242424242425,215.44444444444446,213.64646464646464,211.84848484848484,210.05050505050505,208.25252525252523,206.45454545454544,204.65656565656565,202.85858585858585,201.06060606060606,199.26262626262627,197.46464646464645,195.66666666666666,193.86868686868686,192.07070707070704,190.27272727272725,188.47474747474746,186.67676767676767,184.87878787878788,183.08080808080808,181.2828282828283,179.4848484848485,177.68686868686868,175.88888888888889,175.8181818181818,176.85858585858585,177.8989898989899,178.93939393939394,179.97979797979798,181.02020202020202,182.06060606060606,183.1010101010101,184.14141414141415,185.1818181818182,186.22222222222223,187.26262626262627,188.3030303030303,189.34343434343435,190.3838383838384,191.42424242424244,192.46464646464648,193.50505050505052,194.54545454545456,195.5858585858586,196.62626262626264,197.66666666666669,198.7070707070707,199.74747474747477,200.7878787878788,201.82828282828285,202.8686868686869,203.9090909090909,204.94949494949498,205.989898989899,207.03030303030306,208.07070707070707,209.11111111111111,210.15151515151516,211.1919191919192,212.23232323232324,213.54545454545456,215.84848484848487,218.15151515151518,220.45454545454547,222.75757575757578,225.06060606060606,227.36363636363637,229.66666666666669,231.969696969697,234.27272727272728,236.5757575757576,238.8787878787879,241.1818181818182,243.4848484848485,245.7878787878788,248.0909090909091,250.3939393939394,252.69696969696972,255.0],\"type\":\"scatter3d\"},{\"line\":{\"width\":2},\"marker\":{\"size\":2},\"x\":[0.010101010101010102,0.020202020202020204],\"y\":[252.45454545454547,252.73232323232324],\"z\":[253.010101010101,252.73232323232324],\"type\":\"scatter3d\"},{\"line\":{\"width\":2},\"marker\":{\"size\":2},\"x\":[0.010101010101010102,0.020202020202020204],\"y\":[4.555555555555543,4.60101010101009],\"z\":[4.646464646464636,4.60101010101009],\"type\":\"scatter3d\"},{\"line\":{\"width\":2},\"marker\":{\"size\":2},\"x\":[0.010101010101010102,0.020202020202020204],\"y\":[252.68686868686868,252.6969696969697],\"z\":[252.7070707070707,252.6969696969697],\"type\":\"scatter3d\"},{\"line\":{\"width\":2},\"marker\":{\"size\":2},\"x\":[0.020202020202020204,0.030303030303030304],\"y\":[250.37373737373738,250.3939393939394],\"z\":[250.41414141414143,250.3939393939394],\"type\":\"scatter3d\"},{\"line\":{\"width\":2},\"marker\":{\"size\":2},\"x\":[0.020202020202020204,0.030303030303030304],\"y\":[249.9090909090909,250.46464646464648],\"z\":[251.02020202020202,250.46464646464648],\"type\":\"scatter3d\"},{\"line\":{\"width\":2},\"marker\":{\"size\":2},\"x\":[0.030303030303030304,0.04040404040404041],\"y\":[248.06060606060606,248.0909090909091],\"z\":[248.12121212121212,248.0909090909091],\"type\":\"scatter3d\"},{\"line\":{\"width\":2},\"marker\":{\"size\":2},\"x\":[0.030303030303030304,0.04040404040404041],\"y\":[247.36363636363637,248.1969696969697],\"z\":[249.03030303030303,248.1969696969697],\"type\":\"scatter3d\"},{\"line\":{\"width\":2},\"marker\":{\"size\":2},\"x\":[0.04040404040404041,0.05050505050505051],\"y\":[245.74747474747474,245.78787878787878],\"z\":[245.82828282828282,245.78787878787878],\"type\":\"scatter3d\"},{\"line\":{\"width\":2},\"marker\":{\"size\":2},\"x\":[0.04040404040404041,0.05050505050505051],\"y\":[244.8181818181818,245.92929292929293],\"z\":[247.04040404040404,245.92929292929293],\"type\":\"scatter3d\"},{\"line\":{\"width\":2},\"marker\":{\"size\":2},\"x\":[0.05050505050505051,0.06060606060606061],\"y\":[243.43434343434342,243.48484848484847],\"z\":[243.53535353535352,243.48484848484847],\"type\":\"scatter3d\"},{\"line\":{\"width\":2},\"marker\":{\"size\":2},\"x\":[0.05050505050505051,0.06060606060606061,0.07070707070707072,0.08080808080808081,0.09090909090909091,0.10101010101010102,0.11111111111111112,0.12121212121212122,0.13131313131313133,0.14141414141414144,0.15151515151515152,0.16161616161616163,0.17171717171717174,0.18181818181818182,0.19191919191919193,0.20202020202020204,0.21212121212121213,0.22222222222222224,0.23232323232323235,0.24242424242424243,0.25252525252525254,0.26262626262626265,0.27272727272727276,0.2828282828282829,0.29292929292929293,0.30303030303030304,0.31313131313131315,0.32323232323232326,0.33333333333333337,0.3434343434343435,0.3535353535353536,0.36363636363636365,0.37373737373737376,0.38383838383838387,0.393939393939394,0.4040404040404041,0.4141414141414142,0.42424242424242425],\"y\":[242.27272727272728,239.72727272727272,237.1818181818182,234.63636363636363,232.0909090909091,229.54545454545453,227.0,224.45454545454544,221.9090909090909,219.36363636363637,216.8181818181818,214.27272727272725,211.72727272727272,209.1818181818182,206.63636363636363,204.0909090909091,201.54545454545456,199.0,196.45454545454544,193.9090909090909,191.36363636363637,188.8181818181818,186.27272727272725,183.72727272727272,181.1818181818182,178.63636363636363,176.0909090909091,173.54545454545453,171.0,168.45454545454544,165.90909090909088,166.45454545454544,167.49494949494948,168.53535353535355,169.5757575757576,170.61616161616163,171.65656565656565,172.53535353535352],\"z\":[245.05050505050505,243.06060606060606,241.07070707070707,239.08080808080808,237.0909090909091,235.1010101010101,233.11111111111111,231.12121212121212,229.13131313131314,227.14141414141415,225.15151515151516,223.16161616161617,221.17171717171718,219.1818181818182,217.1919191919192,215.2020202020202,213.21212121212122,211.22222222222223,209.2323232323232,207.24242424242425,205.25252525252526,203.26262626262627,201.27272727272725,199.2828282828283,197.2929292929293,195.3030303030303,193.3131313131313,191.32323232323233,189.33333333333331,187.34343434343435,185.35353535353534,183.36363636363637,181.37373737373736,179.3838383838384,177.39393939393938,175.40404040404042,173.4141414141414,172.53535353535352],\"type\":\"scatter3d\"},{\"line\":{\"width\":2},\"marker\":{\"size\":2},\"x\":[0.06060606060606061,0.07070707070707072],\"y\":[241.12121212121212,241.1818181818182],\"z\":[241.24242424242425,241.1818181818182],\"type\":\"scatter3d\"},{\"line\":{\"width\":2},\"marker\":{\"size\":2},\"x\":[0.07070707070707072,0.08080808080808081],\"y\":[238.8080808080808,238.87878787878788],\"z\":[238.94949494949495,238.87878787878788],\"type\":\"scatter3d\"},{\"line\":{\"width\":2},\"marker\":{\"size\":2},\"x\":[0.08080808080808081,0.09090909090909091],\"y\":[236.49494949494948,236.57575757575756],\"z\":[236.65656565656565,236.57575757575756],\"type\":\"scatter3d\"},{\"line\":{\"width\":2},\"marker\":{\"size\":2},\"x\":[0.09090909090909091,0.10101010101010102],\"y\":[234.1818181818182,234.27272727272728],\"z\":[234.36363636363637,234.27272727272728],\"type\":\"scatter3d\"},{\"line\":{\"width\":2},\"marker\":{\"size\":2},\"x\":[0.10101010101010102,0.11111111111111112],\"y\":[231.86868686868686,231.96969696969697],\"z\":[232.07070707070707,231.96969696969697],\"type\":\"scatter3d\"},{\"line\":{\"width\":2},\"marker\":{\"size\":2},\"x\":[0.11111111111111112,0.12121212121212122],\"y\":[229.55555555555554,229.66666666666666],\"z\":[229.77777777777777,229.66666666666666],\"type\":\"scatter3d\"},{\"line\":{\"width\":2},\"marker\":{\"size\":2},\"x\":[0.12121212121212122,0.13131313131313133],\"y\":[227.24242424242425,227.36363636363637],\"z\":[227.4848484848485,227.36363636363637],\"type\":\"scatter3d\"},{\"line\":{\"width\":2},\"marker\":{\"size\":2},\"x\":[0.13131313131313133,0.14141414141414144],\"y\":[224.92929292929293,225.06060606060606],\"z\":[225.1919191919192,225.06060606060606],\"type\":\"scatter3d\"},{\"line\":{\"width\":2},\"marker\":{\"size\":2},\"x\":[0.14141414141414144,0.15151515151515152],\"y\":[222.6161616161616,222.75757575757575],\"z\":[222.8989898989899,222.75757575757575],\"type\":\"scatter3d\"},{\"line\":{\"width\":2},\"marker\":{\"size\":2},\"x\":[0.15151515151515152,0.16161616161616163],\"y\":[220.3030303030303,220.45454545454544],\"z\":[220.6060606060606,220.45454545454544],\"type\":\"scatter3d\"},{\"line\":{\"width\":2},\"marker\":{\"size\":2},\"x\":[0.16161616161616163,0.17171717171717174],\"y\":[217.989898989899,218.15151515151513],\"z\":[218.3131313131313,218.15151515151513],\"type\":\"scatter3d\"},{\"line\":{\"width\":2},\"marker\":{\"size\":2},\"x\":[0.17171717171717174,0.18181818181818182],\"y\":[215.67676767676767,215.84848484848484],\"z\":[216.02020202020202,215.84848484848484],\"type\":\"scatter3d\"},{\"line\":{\"width\":2},\"marker\":{\"size\":2},\"x\":[0.18181818181818182,0.19191919191919193],\"y\":[213.36363636363637,213.54545454545456],\"z\":[213.72727272727272,213.54545454545456],\"type\":\"scatter3d\"},{\"line\":{\"width\":2},\"marker\":{\"size\":2},\"x\":[0.19191919191919193,0.20202020202020204],\"y\":[211.05050505050505,211.24242424242425],\"z\":[211.43434343434342,211.24242424242425],\"type\":\"scatter3d\"},{\"line\":{\"width\":2},\"marker\":{\"size\":2},\"x\":[0.20202020202020204,0.21212121212121213],\"y\":[208.73737373737373,208.93939393939394],\"z\":[209.14141414141415,208.93939393939394],\"type\":\"scatter3d\"},{\"line\":{\"width\":2},\"marker\":{\"size\":2},\"x\":[0.21212121212121213,0.22222222222222224],\"y\":[206.42424242424244,206.63636363636363],\"z\":[206.84848484848484,206.63636363636363],\"type\":\"scatter3d\"},{\"line\":{\"width\":2},\"marker\":{\"size\":2},\"x\":[0.22222222222222224,0.23232323232323235],\"y\":[204.11111111111111,204.33333333333331],\"z\":[204.55555555555554,204.33333333333331],\"type\":\"scatter3d\"},{\"line\":{\"width\":2},\"marker\":{\"size\":2},\"x\":[0.23232323232323235,0.24242424242424243],\"y\":[201.7979797979798,202.03030303030303],\"z\":[202.26262626262627,202.03030303030303],\"type\":\"scatter3d\"},{\"line\":{\"width\":2},\"marker\":{\"size\":2},\"x\":[0.24242424242424243,0.25252525252525254],\"y\":[193.45454545454544,193.6818181818182],\"z\":[193.9090909090909,193.6818181818182],\"type\":\"scatter3d\"},{\"line\":{\"width\":2},\"marker\":{\"size\":2},\"x\":[0.24242424242424243,0.25252525252525254],\"y\":[199.4848484848485,199.72727272727275],\"z\":[199.96969696969697,199.72727272727275],\"type\":\"scatter3d\"},{\"line\":{\"width\":2},\"marker\":{\"size\":2},\"x\":[0.25252525252525254,0.26262626262626265],\"y\":[197.17171717171718,197.42424242424244],\"z\":[197.67676767676767,197.42424242424244],\"type\":\"scatter3d\"},{\"line\":{\"width\":2},\"marker\":{\"size\":2},\"x\":[0.26262626262626265,0.27272727272727276],\"y\":[194.85858585858585,195.12121212121212],\"z\":[195.3838383838384,195.12121212121212],\"type\":\"scatter3d\"},{\"line\":{\"width\":2},\"marker\":{\"size\":2},\"x\":[0.27272727272727276,0.2828282828282829],\"y\":[150.36363636363635,150.59090909090907],\"z\":[150.8181818181818,150.59090909090907],\"type\":\"scatter3d\"},{\"line\":{\"width\":2},\"marker\":{\"size\":2},\"x\":[0.27272727272727276,0.2828282828282829],\"y\":[192.54545454545453,192.8181818181818],\"z\":[193.0909090909091,192.8181818181818],\"type\":\"scatter3d\"},{\"line\":{\"width\":2},\"marker\":{\"size\":2},\"x\":[0.2828282828282829,0.29292929292929293],\"y\":[214.83838383838383,214.86363636363637],\"z\":[214.88888888888889,214.86363636363637],\"type\":\"scatter3d\"},{\"line\":{\"width\":2},\"marker\":{\"size\":2},\"x\":[0.2828282828282829,0.29292929292929293],\"y\":[148.30303030303028,148.7979797979798],\"z\":[149.29292929292927,148.7979797979798],\"type\":\"scatter3d\"},{\"line\":{\"width\":2},\"marker\":{\"size\":2},\"x\":[0.2828282828282829,0.29292929292929293],\"y\":[190.2323232323232,190.5151515151515],\"z\":[190.7979797979798,190.5151515151515],\"type\":\"scatter3d\"},{\"line\":{\"width\":2},\"marker\":{\"size\":2},\"x\":[0.29292929292929293,0.30303030303030304],\"y\":[146.24242424242425,147.00505050505052],\"z\":[147.76767676767676,147.00505050505052],\"type\":\"scatter3d\"},{\"line\":{\"width\":2},\"marker\":{\"size\":2},\"x\":[0.29292929292929293,0.30303030303030304],\"y\":[187.91919191919192,188.21212121212122],\"z\":[188.50505050505052,188.21212121212122],\"type\":\"scatter3d\"},{\"line\":{\"width\":2},\"marker\":{\"size\":2},\"x\":[0.30303030303030304,0.31313131313131315,0.32323232323232326,0.33333333333333337,0.3434343434343435,0.3535353535353536,0.36363636363636365,0.37373737373737376,0.38383838383838387,0.393939393939394,0.4040404040404041,0.4141414141414142,0.42424242424242425,0.43434343434343436,0.4444444444444445,0.4545454545454546,0.4646464646464647,0.4747474747474748,0.48484848484848486,0.494949494949495,0.5050505050505051,0.5151515151515152],\"y\":[144.1818181818182,142.12121212121212,140.06060606060606,138.0,135.93939393939394,133.87878787878788,131.8181818181818,129.75757575757575,127.69696969696969,125.63636363636363,123.57575757575756,121.5151515151515,119.45454545454544,117.39393939393938,115.33333333333331,113.27272727272725,111.21212121212119,109.15151515151513,109.63636363636363,111.8787878787879,114.12121212121212,114.92929292929293],\"z\":[146.24242424242425,144.7171717171717,143.1919191919192,141.66666666666666,140.14141414141412,138.6161616161616,137.09090909090907,135.56565656565658,134.04040404040404,132.5151515151515,130.989898989899,129.46464646464645,127.93939393939394,126.41414141414143,124.88888888888889,123.36363636363637,121.83838383838383,120.3131313131313,118.78787878787878,117.26262626262627,115.73737373737373,114.92929292929293],\"type\":\"scatter3d\"},{\"line\":{\"width\":2},\"marker\":{\"size\":2},\"x\":[0.30303030303030304,0.31313131313131315],\"y\":[185.60606060606062,185.9090909090909],\"z\":[186.2121212121212,185.9090909090909],\"type\":\"scatter3d\"},{\"line\":{\"width\":2},\"marker\":{\"size\":2},\"x\":[0.31313131313131315,0.32323232323232326],\"y\":[183.29292929292927,183.6060606060606],\"z\":[183.91919191919192,183.6060606060606],\"type\":\"scatter3d\"},{\"line\":{\"width\":2},\"marker\":{\"size\":2},\"x\":[0.32323232323232326,0.33333333333333337],\"y\":[180.97979797979798,181.3030303030303],\"z\":[181.62626262626262,181.3030303030303],\"type\":\"scatter3d\"},{\"line\":{\"width\":2},\"marker\":{\"size\":2},\"x\":[0.33333333333333337,0.3434343434343435,0.3535353535353536,0.36363636363636365,0.37373737373737376,0.38383838383838387,0.393939393939394,0.4040404040404041,0.4141414141414142,0.42424242424242425,0.43434343434343436,0.4444444444444445,0.4545454545454546,0.4646464646464647,0.4747474747474748,0.48484848484848486,0.494949494949495,0.5050505050505051,0.5151515151515152,0.5252525252525253,0.5353535353535354,0.5454545454545455,0.5555555555555556,0.5656565656565657,0.5757575757575758,0.5858585858585859,0.595959595959596,0.6060606060606061,0.6161616161616162,0.6262626262626263,0.6363636363636365,0.6464646464646465,0.6565656565656566,0.6666666666666667,0.6767676767676768,0.686868686868687,0.696969696969697,0.7070707070707072,0.7171717171717172,0.7272727272727273,0.7373737373737375,0.7474747474747475,0.7575757575757577,0.7676767676767677,0.7777777777777778,0.787878787878788,0.797979797979798,0.8080808080808082,0.8181818181818182,0.8282828282828284,0.8383838383838385,0.8484848484848485,0.8585858585858587,0.8686868686868687,0.8787878787878789,0.888888888888889,0.8989898989898991,0.9090909090909092,0.9191919191919192,0.9292929292929294,0.9393939393939394,0.9494949494949496,0.9595959595959597,0.9696969696969697,0.9797979797979799,0.98989898989899],\"y\":[217.0,215.84848484848484,214.6969696969697,213.54545454545456,212.39393939393938,211.24242424242425,210.0909090909091,208.93939393939394,207.78787878787878,206.63636363636363,205.4848484848485,204.33333333333331,203.1818181818182,202.03030303030303,200.87878787878788,199.72727272727272,198.57575757575756,197.42424242424244,197.7878787878788,198.97979797979798,200.17171717171718,201.36363636363637,202.55555555555554,203.74747474747477,204.93939393939394,206.13131313131314,207.32323232323233,208.5151515151515,209.70707070707073,210.8989898989899,212.0909090909091,213.2828282828283,214.47474747474746,215.66666666666669,216.85858585858585,218.05050505050505,219.24242424242425,220.43434343434345,221.62626262626264,222.8181818181818,224.010101010101,225.2020202020202,226.3939393939394,227.5858585858586,228.77777777777777,229.96969696969697,231.16161616161617,232.35353535353536,233.54545454545456,234.73737373737376,235.92929292929293,237.12121212121212,238.31313131313132,239.50505050505052,240.69696969696972,241.88888888888889,243.08080808080808,244.27272727272728,245.46464646464648,246.65656565656568,247.84848484848484,249.04040404040404,250.23232323232324,251.42424242424244,252.61616161616163,253.24242424242425],\"z\":[217.66666666666669,218.23232323232324,218.7979797979798,219.36363636363637,219.92929292929293,220.49494949494948,221.06060606060606,221.62626262626264,222.1919191919192,222.75757575757575,223.32323232323233,223.88888888888889,224.45454545454547,225.02020202020202,225.5858585858586,226.15151515151516,226.7171717171717,227.2828282828283,227.84848484848484,228.41414141414143,228.97979797979798,229.54545454545456,230.11111111111111,230.67676767676767,231.24242424242425,231.8080808080808,232.37373737373738,232.93939393939394,233.50505050505052,234.07070707070707,234.63636363636363,235.2020202020202,235.76767676767676,236.33333333333334,236.8989898989899,237.46464646464648,238.03030303030303,238.5959595959596,239.16161616161617,239.72727272727272,240.2929292929293,240.85858585858585,241.42424242424244,241.989898989899,242.55555555555554,243.12121212121212,243.68686868686868,244.25252525252526,244.8181818181818,245.3838383838384,245.94949494949495,246.5151515151515,247.08080808080808,247.64646464646464,248.21212121212122,248.77777777777777,249.34343434343435,249.9090909090909,250.4747474747475,251.04040404040404,251.60606060606062,252.17171717171718,252.73737373737373,253.3030303030303,253.86868686868686,253.24242424242425],\"type\":\"scatter3d\"},{\"line\":{\"width\":2},\"marker\":{\"size\":2},\"x\":[0.33333333333333337,0.3434343434343435],\"y\":[178.66666666666666,179.0],\"z\":[179.33333333333331,179.0],\"type\":\"scatter3d\"},{\"line\":{\"width\":2},\"marker\":{\"size\":2},\"x\":[0.3434343434343435,0.3535353535353536],\"y\":[176.35353535353534,176.6969696969697],\"z\":[177.04040404040404,176.6969696969697],\"type\":\"scatter3d\"},{\"line\":{\"width\":2},\"marker\":{\"size\":2},\"x\":[0.3535353535353536,0.36363636363636365],\"y\":[174.04040404040404,174.39393939393938],\"z\":[174.74747474747474,174.39393939393938],\"type\":\"scatter3d\"},{\"line\":{\"width\":2},\"marker\":{\"size\":2},\"x\":[0.36363636363636365,0.37373737373737376],\"y\":[171.72727272727272,172.09090909090907],\"z\":[172.45454545454544,172.09090909090907],\"type\":\"scatter3d\"},{\"line\":{\"width\":2},\"marker\":{\"size\":2},\"x\":[0.37373737373737376,0.38383838383838387],\"y\":[169.4141414141414,169.78787878787878],\"z\":[170.16161616161617,169.78787878787878],\"type\":\"scatter3d\"},{\"line\":{\"width\":2},\"marker\":{\"size\":2},\"x\":[0.38383838383838387,0.393939393939394],\"y\":[167.1010101010101,167.4848484848485],\"z\":[167.86868686868686,167.4848484848485],\"type\":\"scatter3d\"},{\"line\":{\"width\":2},\"marker\":{\"size\":2},\"x\":[0.38383838383838387,0.393939393939394,0.4040404040404041,0.4141414141414142,0.42424242424242425,0.43434343434343436,0.4444444444444445,0.4545454545454546,0.4646464646464647,0.4747474747474748,0.48484848484848486,0.494949494949495,0.5050505050505051,0.5151515151515152,0.5252525252525253,0.5353535353535354,0.5454545454545455,0.5555555555555556,0.5656565656565657,0.5757575757575758,0.5858585858585859,0.595959595959596,0.6060606060606061,0.6161616161616162,0.6262626262626263,0.6363636363636365,0.6464646464646465,0.6565656565656566,0.6666666666666667,0.6767676767676768,0.686868686868687,0.696969696969697,0.7070707070707072,0.7171717171717172,0.7272727272727273,0.7373737373737375,0.7474747474747475,0.7575757575757577,0.7676767676767677],\"y\":[169.78787878787878,167.54545454545453,165.3030303030303,163.06060606060606,160.8181818181818,158.57575757575756,156.33333333333331,154.09090909090907,151.84848484848484,149.6060606060606,147.36363636363637,145.12121212121212,142.87878787878788,140.63636363636363,138.39393939393938,137.9090909090909,140.45454545454547,143.0,145.54545454545456,148.09090909090912,150.63636363636363,153.1818181818182,155.72727272727275,158.2727272727273,160.8181818181818,163.36363636363637,165.90909090909093,168.45454545454544,171.0,173.54545454545456,176.09090909090912,178.63636363636365,181.18181818181822,183.72727272727275,186.27272727272728,188.81818181818184,191.36363636363637,193.90909090909093,195.22727272727275],\"z\":[171.40404040404042,172.15151515151516,172.8989898989899,173.64646464646464,174.3939393939394,175.14141414141415,175.88888888888889,176.63636363636363,177.3838383838384,178.13131313131314,178.87878787878788,179.62626262626264,180.37373737373736,181.12121212121212,181.8686868686869,182.6161616161616,183.36363636363637,184.11111111111111,184.85858585858585,185.60606060606062,186.35353535353536,187.1010101010101,187.84848484848484,188.59595959595958,189.34343434343435,190.0909090909091,190.83838383838383,191.5858585858586,192.33333333333334,193.08080808080808,193.82828282828285,194.57575757575756,195.32323232323233,196.07070707070707,196.36363636363637,196.42424242424244,196.4848484848485,196.54545454545456,195.22727272727275],\"type\":\"scatter3d\"},{\"line\":{\"width\":2},\"marker\":{\"size\":2},\"x\":[0.393939393939394,0.4040404040404041],\"y\":[164.78787878787878,165.1818181818182],\"z\":[165.57575757575756,165.1818181818182],\"type\":\"scatter3d\"},{\"line\":{\"width\":2},\"marker\":{\"size\":2},\"x\":[0.4040404040404041,0.4141414141414142],\"y\":[162.47474747474746,162.87878787878788],\"z\":[163.2828282828283,162.87878787878788],\"type\":\"scatter3d\"},{\"line\":{\"width\":2},\"marker\":{\"size\":2},\"x\":[0.4141414141414142,0.42424242424242425],\"y\":[160.16161616161617,160.57575757575756],\"z\":[160.98989898989896,160.57575757575756],\"type\":\"scatter3d\"},{\"line\":{\"width\":2},\"marker\":{\"size\":2},\"x\":[0.42424242424242425,0.43434343434343436],\"y\":[157.84848484848484,158.27272727272725],\"z\":[158.6969696969697,158.27272727272725],\"type\":\"scatter3d\"},{\"line\":{\"width\":2},\"marker\":{\"size\":2},\"x\":[0.43434343434343436,0.4444444444444445],\"y\":[155.53535353535352,155.96969696969697],\"z\":[156.40404040404042,155.96969696969697],\"type\":\"scatter3d\"},{\"line\":{\"width\":2},\"marker\":{\"size\":2},\"x\":[0.4444444444444445,0.4545454545454546],\"y\":[153.22222222222223,153.66666666666666],\"z\":[154.1111111111111,153.66666666666666],\"type\":\"scatter3d\"},{\"line\":{\"width\":2},\"marker\":{\"size\":2},\"x\":[0.4545454545454546,0.4646464646464647],\"y\":[150.9090909090909,151.36363636363637],\"z\":[151.8181818181818,151.36363636363637],\"type\":\"scatter3d\"},{\"line\":{\"width\":2},\"marker\":{\"size\":2},\"x\":[0.4646464646464647,0.4747474747474748],\"y\":[148.59595959595958,149.06060606060606],\"z\":[149.5252525252525,149.06060606060606],\"type\":\"scatter3d\"},{\"line\":{\"width\":2},\"marker\":{\"size\":2},\"x\":[0.4747474747474748,0.48484848484848486],\"y\":[146.28282828282826,146.75757575757575],\"z\":[147.2323232323232,146.75757575757575],\"type\":\"scatter3d\"},{\"line\":{\"width\":2},\"marker\":{\"size\":2},\"x\":[0.48484848484848486,0.494949494949495],\"y\":[143.96969696969697,144.45454545454544],\"z\":[144.93939393939394,144.45454545454544],\"type\":\"scatter3d\"},{\"line\":{\"width\":2},\"marker\":{\"size\":2},\"x\":[0.494949494949495,0.5050505050505051,0.5151515151515152,0.5252525252525253,0.5353535353535354,0.5454545454545455,0.5555555555555556,0.5656565656565657,0.5757575757575758,0.5858585858585859,0.595959595959596,0.6060606060606061,0.6161616161616162],\"y\":[141.65656565656565,139.34343434343435,137.030303030303,135.36363636363637,137.9090909090909,140.45454545454547,143.0,145.54545454545456,148.09090909090912,150.63636363636363,153.1818181818182,155.72727272727275,156.74242424242425],\"z\":[143.8686868686869,145.13131313131314,146.3939393939394,147.65656565656565,148.91919191919192,150.1818181818182,151.44444444444446,152.70707070707073,153.96969696969697,155.2323232323232,156.4949494949495,157.75757575757575,156.74242424242425],\"type\":\"scatter3d\"},{\"line\":{\"width\":2},\"marker\":{\"size\":2},\"x\":[0.5151515151515152,0.5252525252525253,0.5353535353535354,0.5454545454545455,0.5555555555555556,0.5656565656565657,0.5757575757575758,0.5858585858585859,0.595959595959596,0.6060606060606061,0.6161616161616162,0.6262626262626263,0.6363636363636365,0.6464646464646465,0.6565656565656566,0.6666666666666667,0.6767676767676768,0.686868686868687,0.696969696969697,0.7070707070707072,0.7171717171717172,0.7272727272727273,0.7373737373737375,0.7474747474747475,0.7575757575757577,0.7676767676767677,0.7777777777777778,0.787878787878788,0.797979797979798,0.8080808080808082,0.8181818181818182],\"y\":[140.84848484848482,138.74747474747474,136.64646464646464,134.5454545454545,132.44444444444446,130.34343434343432,128.24242424242425,129.7979797979798,131.65656565656565,133.5151515151515,135.37373737373738,137.23232323232324,139.09090909090912,140.94949494949498,142.8080808080808,144.66666666666669,146.52525252525254,148.3838383838384,150.24242424242425,152.1010101010101,153.95959595959596,155.8181818181818,157.6767676767677,159.53535353535355,161.3939393939394,163.25252525252526,165.11111111111111,166.969696969697,168.82828282828282,170.6868686868687,171.65151515151518],\"z\":[143.03030303030303,144.05050505050505,145.07070707070707,146.0909090909091,147.11111111111111,148.13131313131316,149.15151515151516,150.17171717171718,151.1919191919192,152.21212121212122,153.23232323232324,154.25252525252526,155.27272727272728,156.2929292929293,157.31313131313132,158.33333333333334,159.35353535353536,160.37373737373738,161.3939393939394,162.41414141414143,163.43434343434345,164.45454545454544,165.4747474747475,166.4949494949495,167.51515151515153,168.53535353535355,169.55555555555554,170.5757575757576,171.59595959595958,172.61616161616163,171.65151515151518],\"type\":\"scatter3d\"},{\"line\":{\"width\":2},\"marker\":{\"size\":2},\"x\":[0.5151515151515152,0.5252525252525253,0.5353535353535354,0.5454545454545455,0.5555555555555556,0.5656565656565657,0.5757575757575758,0.5858585858585859,0.595959595959596,0.6060606060606061,0.6161616161616162,0.6262626262626263,0.6363636363636365,0.6464646464646465,0.6565656565656566,0.6666666666666667,0.6767676767676768,0.686868686868687,0.696969696969697,0.7070707070707072],\"y\":[170.0,168.33333333333331,166.66666666666669,165.0,163.33333333333331,161.66666666666666,160.3939393939394,162.64646464646466,164.8989898989899,167.15151515151516,169.40404040404042,171.65656565656565,173.90909090909093,176.16161616161617,178.4141414141414,180.66666666666669,182.91919191919192,185.1717171717172,187.42424242424244,188.27272727272728],\"z\":[172.3939393939394,173.32323232323233,174.25252525252526,175.1818181818182,176.11111111111111,177.04040404040404,177.96969696969697,178.8989898989899,179.82828282828282,180.75757575757575,181.6868686868687,182.6161616161616,183.54545454545456,184.4747474747475,185.40404040404042,186.33333333333334,187.26262626262627,188.1919191919192,189.12121212121212,188.27272727272728],\"type\":\"scatter3d\"},{\"line\":{\"width\":2},\"marker\":{\"size\":2},\"x\":[0.6161616161616162,0.6262626262626263],\"y\":[158.2727272727273,158.64646464646466],\"z\":[159.02020202020202,158.64646464646466],\"type\":\"scatter3d\"},{\"line\":{\"width\":2},\"marker\":{\"size\":2},\"x\":[0.6262626262626263,0.6363636363636365],\"y\":[160.44444444444446,160.63131313131314],\"z\":[160.8181818181818,160.63131313131314],\"type\":\"scatter3d\"},{\"line\":{\"width\":2},\"marker\":{\"size\":2},\"x\":[0.6363636363636365,0.6464646464646465],\"y\":[163.00000000000003,163.1818181818182],\"z\":[163.36363636363637,163.1818181818182],\"type\":\"scatter3d\"},{\"line\":{\"width\":2},\"marker\":{\"size\":2},\"x\":[0.6464646464646465,0.6565656565656566],\"y\":[165.55555555555557,165.73232323232327],\"z\":[165.90909090909093,165.73232323232327],\"type\":\"scatter3d\"},{\"line\":{\"width\":2},\"marker\":{\"size\":2},\"x\":[0.6565656565656566,0.6666666666666667],\"y\":[168.11111111111111,168.2828282828283],\"z\":[168.45454545454544,168.2828282828283],\"type\":\"scatter3d\"},{\"line\":{\"width\":2},\"marker\":{\"size\":2},\"x\":[0.6666666666666667,0.6767676767676768],\"y\":[170.66666666666669,170.83333333333334],\"z\":[171.0,170.83333333333334],\"type\":\"scatter3d\"},{\"line\":{\"width\":2},\"marker\":{\"size\":2},\"x\":[0.6767676767676768,0.686868686868687],\"y\":[173.22222222222223,173.3838383838384],\"z\":[173.54545454545456,173.3838383838384],\"type\":\"scatter3d\"},{\"line\":{\"width\":2},\"marker\":{\"size\":2},\"x\":[0.686868686868687,0.696969696969697],\"y\":[175.7777777777778,175.93434343434348],\"z\":[176.09090909090912,175.93434343434348],\"type\":\"scatter3d\"},{\"line\":{\"width\":2},\"marker\":{\"size\":2},\"x\":[0.696969696969697,0.7070707070707072],\"y\":[178.33333333333334,178.4848484848485],\"z\":[178.63636363636365,178.4848484848485],\"type\":\"scatter3d\"},{\"line\":{\"width\":2},\"marker\":{\"size\":2},\"x\":[0.7070707070707072,0.7171717171717172],\"y\":[179.74747474747477,180.14141414141415],\"z\":[180.53535353535355,180.14141414141415],\"type\":\"scatter3d\"},{\"line\":{\"width\":2},\"marker\":{\"size\":2},\"x\":[0.7070707070707072,0.7171717171717172],\"y\":[180.8888888888889,181.03535353535358],\"z\":[181.18181818181822,181.03535353535358],\"type\":\"scatter3d\"},{\"line\":{\"width\":2},\"marker\":{\"size\":2},\"x\":[0.7070707070707072,0.7171717171717172],\"y\":[189.6767676767677,189.86363636363637],\"z\":[190.05050505050505,189.86363636363637],\"type\":\"scatter3d\"},{\"line\":{\"width\":2},\"marker\":{\"size\":2},\"x\":[0.7171717171717172,0.7272727272727273],\"y\":[183.44444444444446,183.5858585858586],\"z\":[183.72727272727275,183.5858585858586],\"type\":\"scatter3d\"},{\"line\":{\"width\":2},\"marker\":{\"size\":2},\"x\":[0.7272727272727273,0.7373737373737375],\"y\":[186.0,186.13636363636363],\"z\":[186.27272727272728,186.13636363636363],\"type\":\"scatter3d\"},{\"line\":{\"width\":2},\"marker\":{\"size\":2},\"x\":[0.7373737373737375,0.7474747474747475],\"y\":[188.55555555555557,188.6868686868687],\"z\":[188.81818181818184,188.6868686868687],\"type\":\"scatter3d\"},{\"line\":{\"width\":2},\"marker\":{\"size\":2},\"x\":[0.7474747474747475,0.7575757575757577],\"y\":[191.11111111111111,191.23737373737373],\"z\":[191.36363636363637,191.23737373737373],\"type\":\"scatter3d\"},{\"line\":{\"width\":2},\"marker\":{\"size\":2},\"x\":[0.7575757575757577,0.7676767676767677],\"y\":[193.66666666666669,193.7878787878788],\"z\":[193.90909090909093,193.7878787878788],\"type\":\"scatter3d\"},{\"line\":{\"width\":2},\"marker\":{\"size\":2},\"x\":[0.7676767676767677,0.7777777777777778],\"y\":[196.22222222222223,196.33838383838383],\"z\":[196.45454545454547,196.33838383838383],\"type\":\"scatter3d\"},{\"line\":{\"width\":2},\"marker\":{\"size\":2},\"x\":[0.7676767676767677,0.7777777777777778],\"y\":[196.45454545454547,196.53030303030306],\"z\":[196.60606060606062,196.53030303030306],\"type\":\"scatter3d\"},{\"line\":{\"width\":2},\"marker\":{\"size\":2},\"x\":[0.7777777777777778,0.787878787878788],\"y\":[198.77777777777777,198.88888888888889],\"z\":[199.0,198.88888888888889],\"type\":\"scatter3d\"},{\"line\":{\"width\":2},\"marker\":{\"size\":2},\"x\":[0.787878787878788,0.797979797979798,0.8080808080808082,0.8181818181818182,0.8282828282828284,0.8383838383838385,0.8484848484848485,0.8585858585858587,0.8686868686868687,0.8787878787878789,0.888888888888889,0.8989898989898991,0.9090909090909092,0.9191919191919192,0.9292929292929294,0.9393939393939394,0.9494949494949496,0.9595959595959597,0.9696969696969697,0.9797979797979799,0.98989898989899,1.0],\"y\":[196.72727272727272,196.78787878787878,196.84848484848484,196.9090909090909,196.96969696969697,197.03030303030303,197.0909090909091,197.15151515151516,197.21212121212122,197.27272727272728,197.33333333333331,197.3939393939394,197.45454545454547,197.5151515151515,197.57575757575756,197.63636363636363,197.6969696969697,197.75757575757575,197.8181818181818,197.87878787878788,197.93939393939394,198.0],\"z\":[198.5757575757576,200.92929292929293,203.2828282828283,205.63636363636365,207.98989898989902,210.34343434343435,212.6969696969697,215.05050505050508,217.40404040404042,219.75757575757578,222.11111111111114,224.46464646464648,226.81818181818184,229.17171717171718,231.52525252525254,233.87878787878788,236.23232323232327,238.5858585858586,240.93939393939394,243.29292929292933,245.64646464646466,248.0],\"type\":\"scatter3d\"},{\"line\":{\"width\":2},\"marker\":{\"size\":2},\"x\":[0.787878787878788,0.797979797979798],\"y\":[201.3030303030303,201.3181818181818],\"z\":[201.33333333333334,201.3181818181818],\"type\":\"scatter3d\"},{\"line\":{\"width\":2},\"marker\":{\"size\":2},\"x\":[0.787878787878788,0.797979797979798],\"y\":[201.33333333333334,201.43939393939394],\"z\":[201.54545454545456,201.43939393939394],\"type\":\"scatter3d\"},{\"line\":{\"width\":2},\"marker\":{\"size\":2},\"x\":[0.797979797979798,0.8080808080808082,0.8181818181818182,0.8282828282828284,0.8383838383838385,0.8484848484848485,0.8585858585858587,0.8686868686868687,0.8787878787878789,0.888888888888889,0.8989898989898991,0.9090909090909092,0.9191919191919192,0.9292929292929294,0.9393939393939394,0.9494949494949496,0.9595959595959597,0.9696969696969697,0.9797979797979799,0.98989898989899,1.0],\"y\":[202.05050505050505,202.7979797979798,203.54545454545456,204.2929292929293,205.04040404040404,205.78787878787878,206.53535353535355,207.2828282828283,208.03030303030303,208.77777777777777,209.52525252525254,210.27272727272728,211.02020202020202,211.7676767676768,212.5151515151515,213.26262626262627,214.010101010101,214.75757575757575,215.50505050505052,216.25252525252526,217.0],\"z\":[203.8888888888889,206.44444444444446,209.0,211.5555555555556,214.11111111111114,216.66666666666669,219.22222222222223,221.77777777777777,224.33333333333337,226.8888888888889,229.44444444444449,232.00000000000003,234.55555555555557,237.11111111111114,239.66666666666669,242.22222222222226,244.7777777777778,247.33333333333334,249.8888888888889,252.44444444444446,255.0],\"type\":\"scatter3d\"},{\"line\":{\"width\":2},\"marker\":{\"size\":2},\"x\":[0.797979797979798,0.8080808080808082],\"y\":[203.8888888888889,203.98989898989902],\"z\":[204.0909090909091,203.98989898989902],\"type\":\"scatter3d\"},{\"line\":{\"width\":2},\"marker\":{\"size\":2},\"x\":[0.797979797979798,0.8080808080808082],\"y\":[209.22222222222223,209.5858585858586],\"z\":[209.94949494949495,209.5858585858586],\"type\":\"scatter3d\"},{\"line\":{\"width\":2},\"marker\":{\"size\":2},\"x\":[0.8080808080808082,0.8181818181818182,0.8282828282828284,0.8383838383838385,0.8484848484848485,0.8585858585858587,0.8686868686868687,0.8787878787878789,0.888888888888889,0.8989898989898991,0.9090909090909092,0.9191919191919192,0.9292929292929294,0.9393939393939394,0.9494949494949496,0.9595959595959597,0.9696969696969697,0.9797979797979799,0.98989898989899,1.0],\"y\":[209.11111111111111,209.0,211.5555555555556,214.11111111111114,216.66666666666669,219.22222222222223,218.4747474747475,219.51515151515153,220.55555555555554,221.5959595959596,222.63636363636365,223.67676767676767,224.71717171717174,225.75757575757575,226.79797979797982,227.83838383838383,228.87878787878788,229.91919191919192,230.95959595959596,232.0],\"z\":[212.2020202020202,214.45454545454547,216.70707070707073,218.95959595959596,221.21212121212122,223.46464646464648,221.90909090909093,224.4545454545455,227.0,229.5454545454546,232.09090909090912,234.63636363636365,237.18181818181822,239.72727272727275,242.2727272727273,244.81818181818184,247.36363636363637,249.90909090909093,252.45454545454547,255.0],\"type\":\"scatter3d\"},{\"line\":{\"width\":2},\"marker\":{\"size\":2},\"x\":[0.8080808080808082,0.8181818181818182],\"y\":[206.44444444444446,206.54040404040404],\"z\":[206.63636363636365,206.54040404040404],\"type\":\"scatter3d\"},{\"line\":{\"width\":2},\"marker\":{\"size\":2},\"x\":[0.8181818181818182,0.8282828282828284],\"y\":[172.54545454545456,173.0909090909091],\"z\":[173.63636363636363,173.0909090909091],\"type\":\"scatter3d\"},{\"line\":{\"width\":2},\"marker\":{\"size\":2},\"x\":[0.8181818181818182,0.8282828282828284],\"y\":[209.0,209.0909090909091],\"z\":[209.1818181818182,209.0909090909091],\"type\":\"scatter3d\"},{\"line\":{\"width\":2},\"marker\":{\"size\":2},\"x\":[0.8282828282828284,0.8383838383838385],\"y\":[174.40404040404042,174.53030303030306],\"z\":[174.65656565656568,174.53030303030306],\"type\":\"scatter3d\"},{\"line\":{\"width\":2},\"marker\":{\"size\":2},\"x\":[0.8282828282828284,0.8383838383838385],\"y\":[211.5555555555556,211.64141414141417],\"z\":[211.72727272727275,211.64141414141417],\"type\":\"scatter3d\"},{\"line\":{\"width\":2},\"marker\":{\"size\":2},\"x\":[0.8383838383838385,0.8484848484848485],\"y\":[214.11111111111114,214.19191919191923],\"z\":[214.27272727272728,214.19191919191923],\"type\":\"scatter3d\"},{\"line\":{\"width\":2},\"marker\":{\"size\":2},\"x\":[0.8484848484848485,0.8585858585858587],\"y\":[216.66666666666669,216.74242424242425],\"z\":[216.8181818181818,216.74242424242425],\"type\":\"scatter3d\"},{\"line\":{\"width\":2},\"marker\":{\"size\":2},\"x\":[0.8484848484848485,0.8585858585858587],\"y\":[216.3939393939394,216.60606060606062],\"z\":[216.8181818181818,216.60606060606062],\"type\":\"scatter3d\"},{\"line\":{\"width\":2},\"marker\":{\"size\":2},\"x\":[0.8585858585858587,0.8686868686868687],\"y\":[219.22222222222223,219.2929292929293],\"z\":[219.36363636363637,219.2929292929293],\"type\":\"scatter3d\"},{\"line\":{\"width\":2},\"marker\":{\"size\":2},\"x\":[0.8585858585858587,0.8686868686868687],\"y\":[217.43434343434345,218.3989898989899],\"z\":[219.36363636363637,218.3989898989899],\"type\":\"scatter3d\"},{\"line\":{\"width\":2},\"marker\":{\"size\":2},\"x\":[0.8686868686868687,0.8787878787878789,0.888888888888889,0.8989898989898991,0.9090909090909092,0.9191919191919192,0.9292929292929294],\"y\":[221.77777777777777,224.33333333333337,226.8888888888889,229.44444444444449,232.00000000000003,234.55555555555557,235.7676767676768],\"z\":[225.71717171717174,227.969696969697,230.22222222222223,232.47474747474752,234.72727272727275,236.97979797979798,235.7676767676768],\"type\":\"scatter3d\"},{\"line\":{\"width\":2},\"marker\":{\"size\":2},\"x\":[0.8686868686868687,0.8787878787878789],\"y\":[221.77777777777777,221.84343434343435],\"z\":[221.90909090909093,221.84343434343435],\"type\":\"scatter3d\"},{\"line\":{\"width\":2},\"marker\":{\"size\":2},\"x\":[0.8787878787878789,0.888888888888889],\"y\":[224.33333333333337,224.39393939393943],\"z\":[224.4545454545455,224.39393939393943],\"type\":\"scatter3d\"},{\"line\":{\"width\":2},\"marker\":{\"size\":2},\"x\":[0.888888888888889,0.8989898989898991],\"y\":[226.8888888888889,226.94444444444446],\"z\":[227.0,226.94444444444446],\"type\":\"scatter3d\"},{\"line\":{\"width\":2},\"marker\":{\"size\":2},\"x\":[0.8989898989898991,0.9090909090909092],\"y\":[229.44444444444449,229.49494949494954],\"z\":[229.5454545454546,229.49494949494954],\"type\":\"scatter3d\"},{\"line\":{\"width\":2},\"marker\":{\"size\":2},\"x\":[0.9090909090909092,0.9191919191919192],\"y\":[232.00000000000003,232.04545454545456],\"z\":[232.09090909090912,232.04545454545456],\"type\":\"scatter3d\"},{\"line\":{\"width\":2},\"marker\":{\"size\":2},\"x\":[0.9191919191919192,0.9292929292929294],\"y\":[234.55555555555557,234.5959595959596],\"z\":[234.63636363636365,234.5959595959596],\"type\":\"scatter3d\"},{\"line\":{\"width\":2},\"marker\":{\"size\":2},\"x\":[0.9292929292929294,0.9393939393939394],\"y\":[237.11111111111114,238.1717171717172],\"z\":[239.23232323232327,238.1717171717172],\"type\":\"scatter3d\"},{\"line\":{\"width\":2},\"marker\":{\"size\":2},\"x\":[0.9292929292929294,0.9393939393939394],\"y\":[237.11111111111114,237.14646464646466],\"z\":[237.18181818181822,237.14646464646466],\"type\":\"scatter3d\"},{\"line\":{\"width\":2},\"marker\":{\"size\":2},\"x\":[0.9393939393939394,0.9494949494949496],\"y\":[239.66666666666669,240.5757575757576],\"z\":[241.4848484848485,240.5757575757576],\"type\":\"scatter3d\"},{\"line\":{\"width\":2},\"marker\":{\"size\":2},\"x\":[0.9393939393939394,0.9494949494949496],\"y\":[239.66666666666669,239.69696969696972],\"z\":[239.72727272727275,239.69696969696972],\"type\":\"scatter3d\"},{\"line\":{\"width\":2},\"marker\":{\"size\":2},\"x\":[0.9494949494949496,0.9595959595959597],\"y\":[242.22222222222226,242.979797979798],\"z\":[243.73737373737376,242.979797979798],\"type\":\"scatter3d\"},{\"line\":{\"width\":2},\"marker\":{\"size\":2},\"x\":[0.9494949494949496,0.9595959595959597],\"y\":[242.22222222222226,242.24747474747477],\"z\":[242.2727272727273,242.24747474747477],\"type\":\"scatter3d\"},{\"line\":{\"width\":2},\"marker\":{\"size\":2},\"x\":[0.9595959595959597,0.9696969696969697],\"y\":[244.7777777777778,245.3838383838384],\"z\":[245.98989898989902,245.3838383838384],\"type\":\"scatter3d\"},{\"line\":{\"width\":2},\"marker\":{\"size\":2},\"x\":[0.9595959595959597,0.9696969696969697],\"y\":[244.7777777777778,244.79797979797982],\"z\":[244.81818181818184,244.79797979797982],\"type\":\"scatter3d\"},{\"line\":{\"width\":2},\"marker\":{\"size\":2},\"x\":[0.9696969696969697,0.9797979797979799],\"y\":[247.33333333333334,247.7878787878788],\"z\":[248.24242424242425,247.7878787878788],\"type\":\"scatter3d\"},{\"line\":{\"width\":2},\"marker\":{\"size\":2},\"x\":[0.9696969696969697,0.9797979797979799],\"y\":[247.33333333333334,247.34848484848487],\"z\":[247.36363636363637,247.34848484848487],\"type\":\"scatter3d\"},{\"line\":{\"width\":2},\"marker\":{\"size\":2},\"x\":[0.9797979797979799,0.98989898989899],\"y\":[249.8888888888889,250.19191919191923],\"z\":[250.4949494949495,250.19191919191923],\"type\":\"scatter3d\"},{\"line\":{\"width\":2},\"marker\":{\"size\":2},\"x\":[0.9797979797979799,0.98989898989899],\"y\":[249.8888888888889,249.89898989898992],\"z\":[249.90909090909093,249.89898989898992],\"type\":\"scatter3d\"},{\"line\":{\"width\":2},\"marker\":{\"size\":2},\"x\":[0.98989898989899,1.0],\"y\":[253.8080808080808,254.12121212121212],\"z\":[254.43434343434345,254.12121212121212],\"type\":\"scatter3d\"},{\"line\":{\"width\":2},\"marker\":{\"size\":2},\"x\":[0.98989898989899,1.0],\"y\":[252.44444444444446,252.5959595959596],\"z\":[252.74747474747477,252.5959595959596],\"type\":\"scatter3d\"},{\"line\":{\"width\":2},\"marker\":{\"size\":2},\"x\":[0.98989898989899,1.0],\"y\":[252.44444444444446,252.44949494949498],\"z\":[252.45454545454547,252.44949494949498],\"type\":\"scatter3d\"},{\"colorscale\":[[0,\"#333\"],[1,\"#333\"]],\"opacity\":0.1,\"showscale\":false,\"x\":[[0.0,0.0,0.0,0.0,0.0,0.0,0.0,0.0,0.0,0.0],[0.1111111111111111,0.1111111111111111,0.1111111111111111,0.1111111111111111,0.1111111111111111,0.1111111111111111,0.1111111111111111,0.1111111111111111,0.1111111111111111,0.1111111111111111],[0.2222222222222222,0.2222222222222222,0.2222222222222222,0.2222222222222222,0.2222222222222222,0.2222222222222222,0.2222222222222222,0.2222222222222222,0.2222222222222222,0.2222222222222222],[0.3333333333333333,0.3333333333333333,0.3333333333333333,0.3333333333333333,0.3333333333333333,0.3333333333333333,0.3333333333333333,0.3333333333333333,0.3333333333333333,0.3333333333333333],[0.4444444444444444,0.4444444444444444,0.4444444444444444,0.4444444444444444,0.4444444444444444,0.4444444444444444,0.4444444444444444,0.4444444444444444,0.4444444444444444,0.4444444444444444],[0.5555555555555556,0.5555555555555556,0.5555555555555556,0.5555555555555556,0.5555555555555556,0.5555555555555556,0.5555555555555556,0.5555555555555556,0.5555555555555556,0.5555555555555556],[0.6666666666666666,0.6666666666666666,0.6666666666666666,0.6666666666666666,0.6666666666666666,0.6666666666666666,0.6666666666666666,0.6666666666666666,0.6666666666666666,0.6666666666666666],[0.7777777777777777,0.7777777777777777,0.7777777777777777,0.7777777777777777,0.7777777777777777,0.7777777777777777,0.7777777777777777,0.7777777777777777,0.7777777777777777,0.7777777777777777],[0.8888888888888888,0.8888888888888888,0.8888888888888888,0.8888888888888888,0.8888888888888888,0.8888888888888888,0.8888888888888888,0.8888888888888888,0.8888888888888888,0.8888888888888888],[1.0,1.0,1.0,1.0,1.0,1.0,1.0,1.0,1.0,1.0]],\"y\":[[0.0,28.333333333333332,56.666666666666664,85.0,113.33333333333333,141.66666666666666,170.0,198.33333333333331,226.66666666666666,255.0],[0.0,28.333333333333332,56.666666666666664,85.0,113.33333333333333,141.66666666666666,170.0,198.33333333333331,226.66666666666666,255.0],[0.0,28.333333333333332,56.666666666666664,85.0,113.33333333333333,141.66666666666666,170.0,198.33333333333331,226.66666666666666,255.0],[0.0,28.333333333333332,56.666666666666664,85.0,113.33333333333333,141.66666666666666,170.0,198.33333333333331,226.66666666666666,255.0],[0.0,28.333333333333332,56.666666666666664,85.0,113.33333333333333,141.66666666666666,170.0,198.33333333333331,226.66666666666666,255.0],[0.0,28.333333333333332,56.666666666666664,85.0,113.33333333333333,141.66666666666666,170.0,198.33333333333331,226.66666666666666,255.0],[0.0,28.333333333333332,56.666666666666664,85.0,113.33333333333333,141.66666666666666,170.0,198.33333333333331,226.66666666666666,255.0],[0.0,28.333333333333332,56.666666666666664,85.0,113.33333333333333,141.66666666666666,170.0,198.33333333333331,226.66666666666666,255.0],[0.0,28.333333333333332,56.666666666666664,85.0,113.33333333333333,141.66666666666666,170.0,198.33333333333331,226.66666666666666,255.0],[0.0,28.333333333333332,56.666666666666664,85.0,113.33333333333333,141.66666666666666,170.0,198.33333333333331,226.66666666666666,255.0]],\"z\":[[0.0,28.333333333333332,56.666666666666664,85.0,113.33333333333333,141.66666666666666,170.0,198.33333333333331,226.66666666666666,255.0],[0.0,28.333333333333332,56.666666666666664,85.0,113.33333333333333,141.66666666666666,170.0,198.33333333333331,226.66666666666666,255.0],[0.0,28.333333333333332,56.666666666666664,85.0,113.33333333333333,141.66666666666666,170.0,198.33333333333331,226.66666666666666,255.0],[0.0,28.333333333333332,56.666666666666664,85.0,113.33333333333333,141.66666666666666,170.0,198.33333333333331,226.66666666666666,255.0],[0.0,28.333333333333332,56.666666666666664,85.0,113.33333333333333,141.66666666666666,170.0,198.33333333333331,226.66666666666666,255.0],[0.0,28.333333333333332,56.666666666666664,85.0,113.33333333333333,141.66666666666666,170.0,198.33333333333331,226.66666666666666,255.0],[0.0,28.333333333333332,56.666666666666664,85.0,113.33333333333333,141.66666666666666,170.0,198.33333333333331,226.66666666666666,255.0],[0.0,28.333333333333332,56.666666666666664,85.0,113.33333333333333,141.66666666666666,170.0,198.33333333333331,226.66666666666666,255.0],[0.0,28.333333333333332,56.666666666666664,85.0,113.33333333333333,141.66666666666666,170.0,198.33333333333331,226.66666666666666,255.0],[0.0,28.333333333333332,56.666666666666664,85.0,113.33333333333333,141.66666666666666,170.0,198.33333333333331,226.66666666666666,255.0]],\"type\":\"surface\"}],                        {\"template\":{\"data\":{\"histogram2dcontour\":[{\"type\":\"histogram2dcontour\",\"colorbar\":{\"outlinewidth\":0,\"ticks\":\"\"},\"colorscale\":[[0.0,\"#0d0887\"],[0.1111111111111111,\"#46039f\"],[0.2222222222222222,\"#7201a8\"],[0.3333333333333333,\"#9c179e\"],[0.4444444444444444,\"#bd3786\"],[0.5555555555555556,\"#d8576b\"],[0.6666666666666666,\"#ed7953\"],[0.7777777777777778,\"#fb9f3a\"],[0.8888888888888888,\"#fdca26\"],[1.0,\"#f0f921\"]]}],\"choropleth\":[{\"type\":\"choropleth\",\"colorbar\":{\"outlinewidth\":0,\"ticks\":\"\"}}],\"histogram2d\":[{\"type\":\"histogram2d\",\"colorbar\":{\"outlinewidth\":0,\"ticks\":\"\"},\"colorscale\":[[0.0,\"#0d0887\"],[0.1111111111111111,\"#46039f\"],[0.2222222222222222,\"#7201a8\"],[0.3333333333333333,\"#9c179e\"],[0.4444444444444444,\"#bd3786\"],[0.5555555555555556,\"#d8576b\"],[0.6666666666666666,\"#ed7953\"],[0.7777777777777778,\"#fb9f3a\"],[0.8888888888888888,\"#fdca26\"],[1.0,\"#f0f921\"]]}],\"heatmap\":[{\"type\":\"heatmap\",\"colorbar\":{\"outlinewidth\":0,\"ticks\":\"\"},\"colorscale\":[[0.0,\"#0d0887\"],[0.1111111111111111,\"#46039f\"],[0.2222222222222222,\"#7201a8\"],[0.3333333333333333,\"#9c179e\"],[0.4444444444444444,\"#bd3786\"],[0.5555555555555556,\"#d8576b\"],[0.6666666666666666,\"#ed7953\"],[0.7777777777777778,\"#fb9f3a\"],[0.8888888888888888,\"#fdca26\"],[1.0,\"#f0f921\"]]}],\"heatmapgl\":[{\"type\":\"heatmapgl\",\"colorbar\":{\"outlinewidth\":0,\"ticks\":\"\"},\"colorscale\":[[0.0,\"#0d0887\"],[0.1111111111111111,\"#46039f\"],[0.2222222222222222,\"#7201a8\"],[0.3333333333333333,\"#9c179e\"],[0.4444444444444444,\"#bd3786\"],[0.5555555555555556,\"#d8576b\"],[0.6666666666666666,\"#ed7953\"],[0.7777777777777778,\"#fb9f3a\"],[0.8888888888888888,\"#fdca26\"],[1.0,\"#f0f921\"]]}],\"contourcarpet\":[{\"type\":\"contourcarpet\",\"colorbar\":{\"outlinewidth\":0,\"ticks\":\"\"}}],\"contour\":[{\"type\":\"contour\",\"colorbar\":{\"outlinewidth\":0,\"ticks\":\"\"},\"colorscale\":[[0.0,\"#0d0887\"],[0.1111111111111111,\"#46039f\"],[0.2222222222222222,\"#7201a8\"],[0.3333333333333333,\"#9c179e\"],[0.4444444444444444,\"#bd3786\"],[0.5555555555555556,\"#d8576b\"],[0.6666666666666666,\"#ed7953\"],[0.7777777777777778,\"#fb9f3a\"],[0.8888888888888888,\"#fdca26\"],[1.0,\"#f0f921\"]]}],\"surface\":[{\"type\":\"surface\",\"colorbar\":{\"outlinewidth\":0,\"ticks\":\"\"},\"colorscale\":[[0.0,\"#0d0887\"],[0.1111111111111111,\"#46039f\"],[0.2222222222222222,\"#7201a8\"],[0.3333333333333333,\"#9c179e\"],[0.4444444444444444,\"#bd3786\"],[0.5555555555555556,\"#d8576b\"],[0.6666666666666666,\"#ed7953\"],[0.7777777777777778,\"#fb9f3a\"],[0.8888888888888888,\"#fdca26\"],[1.0,\"#f0f921\"]]}],\"mesh3d\":[{\"type\":\"mesh3d\",\"colorbar\":{\"outlinewidth\":0,\"ticks\":\"\"}}],\"scatter\":[{\"fillpattern\":{\"fillmode\":\"overlay\",\"size\":10,\"solidity\":0.2},\"type\":\"scatter\"}],\"parcoords\":[{\"type\":\"parcoords\",\"line\":{\"colorbar\":{\"outlinewidth\":0,\"ticks\":\"\"}}}],\"scatterpolargl\":[{\"type\":\"scatterpolargl\",\"marker\":{\"colorbar\":{\"outlinewidth\":0,\"ticks\":\"\"}}}],\"bar\":[{\"error_x\":{\"color\":\"#2a3f5f\"},\"error_y\":{\"color\":\"#2a3f5f\"},\"marker\":{\"line\":{\"color\":\"#E5ECF6\",\"width\":0.5},\"pattern\":{\"fillmode\":\"overlay\",\"size\":10,\"solidity\":0.2}},\"type\":\"bar\"}],\"scattergeo\":[{\"type\":\"scattergeo\",\"marker\":{\"colorbar\":{\"outlinewidth\":0,\"ticks\":\"\"}}}],\"scatterpolar\":[{\"type\":\"scatterpolar\",\"marker\":{\"colorbar\":{\"outlinewidth\":0,\"ticks\":\"\"}}}],\"histogram\":[{\"marker\":{\"pattern\":{\"fillmode\":\"overlay\",\"size\":10,\"solidity\":0.2}},\"type\":\"histogram\"}],\"scattergl\":[{\"type\":\"scattergl\",\"marker\":{\"colorbar\":{\"outlinewidth\":0,\"ticks\":\"\"}}}],\"scatter3d\":[{\"type\":\"scatter3d\",\"line\":{\"colorbar\":{\"outlinewidth\":0,\"ticks\":\"\"}},\"marker\":{\"colorbar\":{\"outlinewidth\":0,\"ticks\":\"\"}}}],\"scattermapbox\":[{\"type\":\"scattermapbox\",\"marker\":{\"colorbar\":{\"outlinewidth\":0,\"ticks\":\"\"}}}],\"scatterternary\":[{\"type\":\"scatterternary\",\"marker\":{\"colorbar\":{\"outlinewidth\":0,\"ticks\":\"\"}}}],\"scattercarpet\":[{\"type\":\"scattercarpet\",\"marker\":{\"colorbar\":{\"outlinewidth\":0,\"ticks\":\"\"}}}],\"carpet\":[{\"aaxis\":{\"endlinecolor\":\"#2a3f5f\",\"gridcolor\":\"white\",\"linecolor\":\"white\",\"minorgridcolor\":\"white\",\"startlinecolor\":\"#2a3f5f\"},\"baxis\":{\"endlinecolor\":\"#2a3f5f\",\"gridcolor\":\"white\",\"linecolor\":\"white\",\"minorgridcolor\":\"white\",\"startlinecolor\":\"#2a3f5f\"},\"type\":\"carpet\"}],\"table\":[{\"cells\":{\"fill\":{\"color\":\"#EBF0F8\"},\"line\":{\"color\":\"white\"}},\"header\":{\"fill\":{\"color\":\"#C8D4E3\"},\"line\":{\"color\":\"white\"}},\"type\":\"table\"}],\"barpolar\":[{\"marker\":{\"line\":{\"color\":\"#E5ECF6\",\"width\":0.5},\"pattern\":{\"fillmode\":\"overlay\",\"size\":10,\"solidity\":0.2}},\"type\":\"barpolar\"}],\"pie\":[{\"automargin\":true,\"type\":\"pie\"}]},\"layout\":{\"autotypenumbers\":\"strict\",\"colorway\":[\"#636efa\",\"#EF553B\",\"#00cc96\",\"#ab63fa\",\"#FFA15A\",\"#19d3f3\",\"#FF6692\",\"#B6E880\",\"#FF97FF\",\"#FECB52\"],\"font\":{\"color\":\"#2a3f5f\"},\"hovermode\":\"closest\",\"hoverlabel\":{\"align\":\"left\"},\"paper_bgcolor\":\"white\",\"plot_bgcolor\":\"#E5ECF6\",\"polar\":{\"bgcolor\":\"#E5ECF6\",\"angularaxis\":{\"gridcolor\":\"white\",\"linecolor\":\"white\",\"ticks\":\"\"},\"radialaxis\":{\"gridcolor\":\"white\",\"linecolor\":\"white\",\"ticks\":\"\"}},\"ternary\":{\"bgcolor\":\"#E5ECF6\",\"aaxis\":{\"gridcolor\":\"white\",\"linecolor\":\"white\",\"ticks\":\"\"},\"baxis\":{\"gridcolor\":\"white\",\"linecolor\":\"white\",\"ticks\":\"\"},\"caxis\":{\"gridcolor\":\"white\",\"linecolor\":\"white\",\"ticks\":\"\"}},\"coloraxis\":{\"colorbar\":{\"outlinewidth\":0,\"ticks\":\"\"}},\"colorscale\":{\"sequential\":[[0.0,\"#0d0887\"],[0.1111111111111111,\"#46039f\"],[0.2222222222222222,\"#7201a8\"],[0.3333333333333333,\"#9c179e\"],[0.4444444444444444,\"#bd3786\"],[0.5555555555555556,\"#d8576b\"],[0.6666666666666666,\"#ed7953\"],[0.7777777777777778,\"#fb9f3a\"],[0.8888888888888888,\"#fdca26\"],[1.0,\"#f0f921\"]],\"sequentialminus\":[[0.0,\"#0d0887\"],[0.1111111111111111,\"#46039f\"],[0.2222222222222222,\"#7201a8\"],[0.3333333333333333,\"#9c179e\"],[0.4444444444444444,\"#bd3786\"],[0.5555555555555556,\"#d8576b\"],[0.6666666666666666,\"#ed7953\"],[0.7777777777777778,\"#fb9f3a\"],[0.8888888888888888,\"#fdca26\"],[1.0,\"#f0f921\"]],\"diverging\":[[0,\"#8e0152\"],[0.1,\"#c51b7d\"],[0.2,\"#de77ae\"],[0.3,\"#f1b6da\"],[0.4,\"#fde0ef\"],[0.5,\"#f7f7f7\"],[0.6,\"#e6f5d0\"],[0.7,\"#b8e186\"],[0.8,\"#7fbc41\"],[0.9,\"#4d9221\"],[1,\"#276419\"]]},\"xaxis\":{\"gridcolor\":\"white\",\"linecolor\":\"white\",\"ticks\":\"\",\"title\":{\"standoff\":15},\"zerolinecolor\":\"white\",\"automargin\":true,\"zerolinewidth\":2},\"yaxis\":{\"gridcolor\":\"white\",\"linecolor\":\"white\",\"ticks\":\"\",\"title\":{\"standoff\":15},\"zerolinecolor\":\"white\",\"automargin\":true,\"zerolinewidth\":2},\"scene\":{\"xaxis\":{\"backgroundcolor\":\"#E5ECF6\",\"gridcolor\":\"white\",\"linecolor\":\"white\",\"showbackground\":true,\"ticks\":\"\",\"zerolinecolor\":\"white\",\"gridwidth\":2},\"yaxis\":{\"backgroundcolor\":\"#E5ECF6\",\"gridcolor\":\"white\",\"linecolor\":\"white\",\"showbackground\":true,\"ticks\":\"\",\"zerolinecolor\":\"white\",\"gridwidth\":2},\"zaxis\":{\"backgroundcolor\":\"#E5ECF6\",\"gridcolor\":\"white\",\"linecolor\":\"white\",\"showbackground\":true,\"ticks\":\"\",\"zerolinecolor\":\"white\",\"gridwidth\":2}},\"shapedefaults\":{\"line\":{\"color\":\"#2a3f5f\"}},\"annotationdefaults\":{\"arrowcolor\":\"#2a3f5f\",\"arrowhead\":0,\"arrowwidth\":1},\"geo\":{\"bgcolor\":\"white\",\"landcolor\":\"#E5ECF6\",\"subunitcolor\":\"white\",\"showland\":true,\"showlakes\":true,\"lakecolor\":\"white\"},\"title\":{\"x\":0.05},\"mapbox\":{\"style\":\"light\"}}},\"width\":800,\"height\":700,\"scene\":{\"xaxis\":{\"title\":{\"text\":\"T (homotopy)\"}},\"yaxis\":{\"title\":{\"text\":\"Birth\"}},\"zaxis\":{\"title\":{\"text\":\"Death\"}}}},                        {\"responsive\": true}                    ).then(function(){\n",
       "                            \n",
       "var gd = document.getElementById('69f5a69f-1548-4031-b6ec-4c5c995818d7');\n",
       "var x = new MutationObserver(function (mutations, observer) {{\n",
       "        var display = window.getComputedStyle(gd).display;\n",
       "        if (!display || display === 'none') {{\n",
       "            console.log([gd, 'removed!']);\n",
       "            Plotly.purge(gd);\n",
       "            observer.disconnect();\n",
       "        }}\n",
       "}});\n",
       "\n",
       "// Listen for the removal of the full notebook cells\n",
       "var notebookContainer = gd.closest('#notebook-container');\n",
       "if (notebookContainer) {{\n",
       "    x.observe(notebookContainer, {childList: true});\n",
       "}}\n",
       "\n",
       "// Listen for the clearing of the current output cell\n",
       "var outputEl = gd.closest('.output');\n",
       "if (outputEl) {{\n",
       "    x.observe(outputEl, {childList: true});\n",
       "}}\n",
       "\n",
       "                        })                };                });            </script>        </div>"
      ]
     },
     "metadata": {},
     "output_type": "display_data"
    }
   ],
   "source": [
    "gudhi.plot_persistence_diagram(persistence(hs[len(ts)-1]))\n",
    "plt.show()\n",
    "gudhi.plot_persistence_diagram(persistence(hs[0]))\n",
    "plt.show()\n",
    "\n",
    "gos = []\n",
    "\n",
    "for vine in res:\n",
    "    vine = np.array(vine)\n",
    "    # print(vine)\n",
    "    gos.append(go.Scatter3d(x=vine[:,0], y=vine[:,1], z=vine[:,2], marker=dict(\n",
    "        size=2,\n",
    "    ),\n",
    "    line=dict(\n",
    "        width=2\n",
    "    )))\n",
    "\n",
    "xs = np.linspace(0, mx, 10)\n",
    "zs = np.linspace(0, 1, 10)\n",
    "xss, zss = np.meshgrid(xs, zs)\n",
    "gos.append(go.Surface(x=zss, y=xss, z=xss, colorscale=[[0, '#333'], [1, '#333']], opacity=0.1, showscale=False)) # x - y = 0: diag plane\n",
    "\n",
    "fig = go.Figure(data=gos)\n",
    "\n",
    "fig.update_layout(\n",
    "    width=800,\n",
    "    height=700,\n",
    "    scene=dict(\n",
    "      xaxis_title='T (homotopy)',\n",
    "      yaxis_title='Birth',\n",
    "      zaxis_title='Death'\n",
    "  )\n",
    ")\n",
    "\n",
    "fig.show()"
   ]
  },
  {
   "cell_type": "markdown",
   "metadata": {},
   "source": [
    "Weighted integration:\n",
    "$$v_{k}=g\\left(\\sum \\ell(i)dt\\right)\\cdot \\sum_{i=1}^{n}f\\left(\\Delta(\\frac{p_i+p_{i-1}}{2})\\right)\\ell(i)dt$$\n",
    "Here $\\ell(i)=|p_i-p_{i-1}|$ and $\\Delta()$ is the distance of the projection to the diagonal plane $\\Delta$. This is for the $k$-th vine. Then,\n",
    "$$V=\\sum v_k$$"
   ]
  },
  {
   "cell_type": "code",
   "execution_count": 50,
   "metadata": {},
   "outputs": [],
   "source": [
    "def vdist(res, f, g): # diag weight func, length weight func\n",
    "    V = 0\n",
    "    for vine in res:\n",
    "        vine = np.array(vine)\n",
    "    \n",
    "        v, L = 0, 0\n",
    "        for i in range(1, len(vine)):\n",
    "            l = np.linalg.norm(vine[i][1:]-vine[i-1][1:])\n",
    "            dt = vine[i][0] - vine[i-1][0]\n",
    "    \n",
    "            mid = np.mean([vine[i][1:],vine[i-1][1:]], axis=0)\n",
    "            proj = np.mean(mid)*np.ones(2,)\n",
    "            D = np.linalg.norm(proj-mid)\n",
    "            \n",
    "            v += f(D)*l*dt\n",
    "            L += l*dt\n",
    "    \n",
    "        v *= g(L)\n",
    "        V += v\n",
    "\n",
    "    return V"
   ]
  },
  {
   "cell_type": "code",
   "execution_count": 51,
   "metadata": {},
   "outputs": [
    {
     "data": {
      "text/plain": [
       "14.862441124581709"
      ]
     },
     "execution_count": 51,
     "metadata": {},
     "output_type": "execute_result"
    }
   ],
   "source": [
    "Ds, Ls = [], []\n",
    "def fD(D):\n",
    "    Ds.append(D)\n",
    "    return 1\n",
    "    return D/100 # increases as D increases\n",
    "\n",
    "def fL(L):\n",
    "    Ls.append(L)\n",
    "    return 1\n",
    "    return np.exp(-L/2) # decreases as L increase: Longer line length -> consistent feature -> lower D\n",
    "\n",
    "vdist(res, fD, fL)"
   ]
  }
 ],
 "metadata": {
  "kernelspec": {
   "display_name": "Python 3 (ipykernel)",
   "language": "python",
   "name": "python3"
  },
  "language_info": {
   "codemirror_mode": {
    "name": "ipython",
    "version": 3
   },
   "file_extension": ".py",
   "mimetype": "text/x-python",
   "name": "python",
   "nbconvert_exporter": "python",
   "pygments_lexer": "ipython3",
   "version": "3.12.1"
  }
 },
 "nbformat": 4,
 "nbformat_minor": 4
}

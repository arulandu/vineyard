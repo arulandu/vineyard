{
 "cells": [
  {
   "cell_type": "markdown",
   "metadata": {},
   "source": [
    "# Vineyard\n",
    "Experimenting with weighted vineyard distance formulations. Longer line length -> consistent feature -> lower D. Low distance to the diagonal -> unimportant -> lower distance."
   ]
  },
  {
   "cell_type": "code",
   "execution_count": 1,
   "metadata": {},
   "outputs": [
    {
     "name": "stderr",
     "output_type": "stream",
     "text": [
      "/var/folders/fg/n7d57ft153bf46npr6w6jjxr0000gn/T/ipykernel_57808/3356440145.py:4: DeprecationWarning: \n",
      "Pyarrow will become a required dependency of pandas in the next major release of pandas (pandas 3.0),\n",
      "(to allow more performant data types, such as the Arrow string type, and better interoperability with other libraries)\n",
      "but was not found to be installed on your system.\n",
      "If this would cause problems for you,\n",
      "please provide us feedback at https://github.com/pandas-dev/pandas/issues/54466\n",
      "        \n",
      "  import pandas as pd\n"
     ]
    }
   ],
   "source": [
    "import sklearn\n",
    "from sklearn.datasets import fetch_openml\n",
    "import numpy as np\n",
    "import pandas as pd\n",
    "from matplotlib import pyplot as plt\n",
    "import plotly\n",
    "import plotly.graph_objects as go\n"
   ]
  },
  {
   "cell_type": "code",
   "execution_count": 2,
   "metadata": {},
   "outputs": [],
   "source": [
    "import gudhi\n",
    "import gudhi.wasserstein\n",
    "import gudhi.hera\n",
    "import ot"
   ]
  },
  {
   "cell_type": "code",
   "execution_count": 27,
   "metadata": {},
   "outputs": [],
   "source": [
    "X, y = fetch_openml(\"mnist_784\", version=1, return_X_y=True, as_frame=False)"
   ]
  },
  {
   "cell_type": "code",
   "execution_count": 28,
   "metadata": {},
   "outputs": [],
   "source": [
    "X = X.reshape((X.shape[0], 28, 28))"
   ]
  },
  {
   "cell_type": "code",
   "execution_count": 29,
   "metadata": {},
   "outputs": [],
   "source": [
    "f, g = X[[np.where(y == x)[0][0] for x in \"69\"]]"
   ]
  },
  {
   "cell_type": "code",
   "execution_count": 39,
   "metadata": {},
   "outputs": [],
   "source": [
    "g = np.ones_like(f)\n",
    "for i in range(g.shape[0]):\n",
    "    for j in range(g.shape[1]):\n",
    "        g[i][j] = f[i][j] if i-1 >= 0 else 0"
   ]
  },
  {
   "cell_type": "code",
   "execution_count": 40,
   "metadata": {},
   "outputs": [
    {
     "data": {
      "image/png": "[encoded data removed]",
      "text/plain": [
       "<Figure size 640x480 with 1 Axes>"
      ]
     },
     "metadata": {},
     "output_type": "display_data"
    },
    {
     "data": {
      "text/plain": [
       "<matplotlib.image.AxesImage at 0x176b97950>"
      ]
     },
     "execution_count": 40,
     "metadata": {},
     "output_type": "execute_result"
    },
    {
     "data": {
      "image/png": "[encoded data removed]",
      "text/plain": [
       "<Figure size 640x480 with 1 Axes>"
      ]
     },
     "metadata": {},
     "output_type": "display_data"
    }
   ],
   "source": [
    "plt.imshow(f)\n",
    "plt.show()\n",
    "plt.imshow(g)"
   ]
  },
  {
   "cell_type": "code",
   "execution_count": 53,
   "metadata": {},
   "outputs": [],
   "source": [
    "def persistence(array, dimension=None):\n",
    "  height, width = array.shape\n",
    "  cubeComplex = gudhi.CubicalComplex(\n",
    "      dimensions = [width,height],\n",
    "      top_dimensional_cells = 255 - array.flatten()\n",
    "  )\n",
    " \n",
    "  if dimension == None:\n",
    "    persistence = cubeComplex.persistence()\n",
    "  else:\n",
    "    cubeComplex.compute_persistence()\n",
    "    persistence = cubeComplex.persistence_intervals_in_dimension(dimension)\n",
    "    \n",
    "  return persistence"
   ]
  },
  {
   "cell_type": "code",
   "execution_count": 55,
   "metadata": {},
   "outputs": [],
   "source": [
    "def stitch(PDs, ts):\n",
    "    vines = [[0, None, [x,]] for x in range(len(PDs[0]))]\n",
    "    ends = {x:x for x in range(len(PDs[0]))}\n",
    "    \n",
    "    for i in range(1, len(ts)):\n",
    "        dist, match = gudhi.hera.wasserstein_distance(PDs[i-1], PDs[i], matching=True)\n",
    "    \n",
    "        baby = []\n",
    "        # print(\"IIII\", i)\n",
    "    \n",
    "        new_ends = {k:ends[k] for k in ends}\n",
    "        for j, (x, y) in enumerate(match):\n",
    "            # print(x,y)\n",
    "            if x == -1:\n",
    "                baby.append(j)\n",
    "            elif y == -1: # end vines\n",
    "                vines[ends[x]][1] = i\n",
    "                vines[ends[x]][2].append(-1)\n",
    "                # print(f\"end {x} -> -1\")\n",
    "            else: # update vines\n",
    "                vines[ends[x]][2].append(y)\n",
    "                new_ends[y] = ends[x]\n",
    "                # print(f\"join {x} -> {y} (ind {ends[x]})\")\n",
    "        \n",
    "        # new vines\n",
    "        for j in baby:\n",
    "            x, y = match[j]\n",
    "            new_ends[y] = len(vines)\n",
    "            vines.append([i, None, [y,]])\n",
    "            # print(f\"new {y} -> *\")\n",
    "    \n",
    "        for k in [l for l in ends]: \n",
    "            if k >= len(PDs[i]):\n",
    "                del new_ends[k]\n",
    "    \n",
    "        ends = new_ends\n",
    "\n",
    "    return vines"
   ]
  },
  {
   "cell_type": "code",
   "execution_count": 59,
   "metadata": {},
   "outputs": [],
   "source": [
    "def vineyard(f, g, nt=100, verbose=False):\n",
    "    ts = np.linspace(0, 1, nt)\n",
    "    hs = np.array([t*f+(1-t)*g for t in ts]) \n",
    "    PD0 = [persistence(h, dimension=1) for h in hs]\n",
    "    vines = stitch(PD0, ts)\n",
    "\n",
    "    poss = vines\n",
    "    \n",
    "    for i,_ in enumerate(vines):\n",
    "        # print(\"II\", i, vines[i])\n",
    "        # print(i, vines[i][2], PD0[0][])\n",
    "        repl = []\n",
    "        for j,x in enumerate(vines[i][2]):\n",
    "            if x == -1:\n",
    "                # print(PD0[vines[i][0]+j-1][vines[i][2][j-1]], \"xx\")\n",
    "                repl.append(np.mean(PD0[vines[i][0]+j-1][vines[i][2][j-1]])*np.ones((2,))) # proj prev\n",
    "            else:\n",
    "                repl.append(PD0[vines[i][0]+j][x])\n",
    "    \n",
    "        poss[i][2] = np.array(repl)\n",
    "\n",
    "    res = [[[ts[p[0]+np.arange(len(p[2]))][i], *x] for i,x in enumerate(p[2])] for p in poss]\n",
    "    mx = np.max([np.max(p[2]) for p in poss if np.inf not in p[2]])\n",
    "\n",
    "    if verbose:\n",
    "        gudhi.plot_persistence_diagram(persistence(hs[len(ts)-1]))\n",
    "        plt.show()\n",
    "        gudhi.plot_persistence_diagram(persistence(hs[0]))\n",
    "        plt.show()\n",
    "        \n",
    "        gos = []\n",
    "        \n",
    "        for vine in res:\n",
    "            vine = np.array(vine)\n",
    "            # print(vine)\n",
    "            gos.append(go.Scatter3d(x=vine[:,0], y=vine[:,1], z=vine[:,2], marker=dict(\n",
    "                size=2,\n",
    "            ),\n",
    "            line=dict(\n",
    "                width=2\n",
    "            )))\n",
    "        \n",
    "        xs = np.linspace(0, mx, 10)\n",
    "        zs = np.linspace(0, 1, 10)\n",
    "        xss, zss = np.meshgrid(xs, zs)\n",
    "        gos.append(go.Surface(x=zss, y=xss, z=xss, colorscale=[[0, '#333'], [1, '#333']], opacity=0.1, showscale=False)) # x - y = 0: diag plane\n",
    "        \n",
    "        fig = go.Figure(data=gos)\n",
    "        \n",
    "        fig.update_layout(\n",
    "            width=800,\n",
    "            height=700,\n",
    "            scene=dict(\n",
    "              xaxis_title='T (homotopy)',\n",
    "              yaxis_title='Birth',\n",
    "              zaxis_title='Death'\n",
    "          )\n",
    "        )\n",
    "        \n",
    "        fig.show()\n",
    "\n",
    "    return res"
   ]
  },
  {
   "cell_type": "code",
   "execution_count": 61,
   "metadata": {},
   "outputs": [
    {
     "data": {
      "image/png": "[encoded data removed]",
      "text/plain": [
       "<Figure size 640x480 with 1 Axes>"
      ]
     },
     "metadata": {},
     "output_type": "display_data"
    },
    {
     "data": {
      "image/png": "[encoded data removed]",
      "text/plain": [
       "<Figure size 640x480 with 1 Axes>"
      ]
     },
     "metadata": {},
     "output_type": "display_data"
    },
    {
     "data": {
      "application/vnd.plotly.v1+json": {
       "config": {
        "plotlyServerURL": "https://plot.ly"
       },
       "data": [
        {
         "line": {
          "width": 2
         },
         "marker": {
          "size": 2
         },
         "type": "scatter3d",
         "x": [
          0,
          0.010101010101010102,
          0.020202020202020204,
          0.030303030303030304,
          0.04040404040404041,
          0.05050505050505051,
          0.06060606060606061,
          0.07070707070707072,
          0.08080808080808081,
          0.09090909090909091,
          0.10101010101010102,
          0.11111111111111112,
          0.12121212121212122,
          0.13131313131313133,
          0.14141414141414144,
          0.15151515151515152,
          0.16161616161616163,
          0.17171717171717174,
          0.18181818181818182,
          0.19191919191919193,
          0.20202020202020204,
          0.21212121212121213,
          0.22222222222222224,
          0.23232323232323235,
          0.24242424242424243,
          0.25252525252525254,
          0.26262626262626265,
          0.27272727272727276,
          0.2828282828282829,
          0.29292929292929293,
          0.30303030303030304,
          0.31313131313131315,
          0.32323232323232326,
          0.33333333333333337,
          0.3434343434343435,
          0.3535353535353536,
          0.36363636363636365,
          0.37373737373737376,
          0.38383838383838387,
          0.393939393939394,
          0.4040404040404041,
          0.4141414141414142,
          0.42424242424242425,
          0.43434343434343436,
          0.4444444444444445,
          0.4545454545454546,
          0.4646464646464647,
          0.4747474747474748,
          0.48484848484848486,
          0.494949494949495,
          0.5050505050505051,
          0.5151515151515152,
          0.5252525252525253,
          0.5353535353535354,
          0.5454545454545455,
          0.5555555555555556,
          0.5656565656565657,
          0.5757575757575758,
          0.5858585858585859,
          0.595959595959596,
          0.6060606060606061,
          0.6161616161616162,
          0.6262626262626263,
          0.6363636363636365,
          0.6464646464646465,
          0.6565656565656566,
          0.6666666666666667,
          0.6767676767676768,
          0.686868686868687,
          0.696969696969697,
          0.7070707070707072,
          0.7171717171717172,
          0.7272727272727273,
          0.7373737373737375,
          0.7474747474747475,
          0.7575757575757577,
          0.7676767676767677,
          0.7777777777777778,
          0.787878787878788,
          0.797979797979798,
          0.8080808080808082,
          0.8181818181818182,
          0.8282828282828284,
          0.8383838383838385,
          0.8484848484848485,
          0.8585858585858587,
          0.8686868686868687,
          0.8787878787878789,
          0.888888888888889,
          0.8989898989898991,
          0.9090909090909092,
          0.9191919191919192,
          0.9292929292929294,
          0.9393939393939394,
          0.9494949494949496,
          0.9595959595959597,
          0.9696969696969697,
          0.9797979797979799,
          0.98989898989899,
          1
         ],
         "y": [
          198,
          198,
          198,
          198,
          198,
          198,
          198,
          198,
          198,
          198,
          198,
          198,
          198,
          198,
          198,
          198,
          198,
          198,
          198,
          198,
          198,
          198,
          198,
          198,
          198,
          198,
          198,
          198,
          198,
          198,
          198,
          198,
          198,
          198,
          198,
          198,
          198,
          198,
          198,
          198,
          198,
          198,
          198,
          198,
          198,
          198,
          198,
          198,
          198,
          198,
          198,
          198,
          198,
          198,
          198,
          198,
          198,
          198,
          198,
          198,
          198,
          198,
          198,
          198,
          198,
          198,
          198,
          198,
          198,
          198,
          198,
          198,
          198,
          198,
          198,
          198,
          198,
          198,
          198,
          198,
          198,
          198,
          198,
          198,
          198,
          198,
          198,
          198,
          198,
          198,
          198,
          198,
          198,
          198,
          198,
          198,
          198,
          198,
          198,
          198
         ],
         "z": [
          248,
          248,
          248,
          248,
          248,
          248,
          248,
          248,
          248,
          248,
          248,
          248,
          248,
          248,
          248,
          248,
          248,
          248,
          248,
          248,
          248,
          248,
          248,
          248,
          248,
          248,
          248,
          248,
          248,
          248,
          248,
          248,
          248,
          248,
          248,
          248,
          248,
          248,
          248,
          248,
          248,
          248,
          248,
          248,
          248,
          248,
          248,
          248,
          248,
          248,
          248,
          248,
          248,
          248,
          248,
          248,
          248,
          248,
          248,
          248,
          248,
          248,
          248,
          248,
          248,
          248,
          248,
          248,
          248,
          248,
          248,
          248,
          248,
          248,
          248,
          248,
          248,
          248,
          248,
          248,
          248,
          248,
          248,
          248,
          248,
          248,
          248,
          248,
          248,
          248,
          248,
          248,
          248,
          248,
          248,
          248,
          248,
          248,
          248,
          248
         ]
        },
        {
         "line": {
          "width": 2
         },
         "marker": {
          "size": 2
         },
         "type": "scatter3d",
         "x": [
          0,
          0.010101010101010102,
          0.020202020202020204,
          0.030303030303030304,
          0.04040404040404041,
          0.05050505050505051,
          0.06060606060606061,
          0.07070707070707072,
          0.08080808080808081,
          0.09090909090909091,
          0.10101010101010102,
          0.11111111111111112,
          0.12121212121212122,
          0.13131313131313133,
          0.14141414141414144,
          0.15151515151515152,
          0.16161616161616163,
          0.17171717171717174,
          0.18181818181818182,
          0.19191919191919193,
          0.20202020202020204,
          0.21212121212121213,
          0.22222222222222224,
          0.23232323232323235,
          0.24242424242424243,
          0.25252525252525254,
          0.26262626262626265,
          0.27272727272727276,
          0.2828282828282829,
          0.29292929292929293,
          0.30303030303030304,
          0.31313131313131315,
          0.32323232323232326,
          0.33333333333333337,
          0.3434343434343435,
          0.3535353535353536,
          0.36363636363636365,
          0.37373737373737376,
          0.38383838383838387,
          0.393939393939394,
          0.4040404040404041,
          0.4141414141414142,
          0.42424242424242425,
          0.43434343434343436,
          0.4444444444444445,
          0.4545454545454546,
          0.4646464646464647,
          0.4747474747474748,
          0.48484848484848486,
          0.494949494949495,
          0.5050505050505051,
          0.5151515151515152,
          0.5252525252525253,
          0.5353535353535354,
          0.5454545454545455,
          0.5555555555555556,
          0.5656565656565657,
          0.5757575757575758,
          0.5858585858585859,
          0.595959595959596,
          0.6060606060606061,
          0.6161616161616162,
          0.6262626262626263,
          0.6363636363636365,
          0.6464646464646465,
          0.6565656565656566,
          0.6666666666666667,
          0.6767676767676768,
          0.686868686868687,
          0.696969696969697,
          0.7070707070707072,
          0.7171717171717172,
          0.7272727272727273,
          0.7373737373737375,
          0.7474747474747475,
          0.7575757575757577,
          0.7676767676767677,
          0.7777777777777778,
          0.787878787878788,
          0.797979797979798,
          0.8080808080808082,
          0.8181818181818182,
          0.8282828282828284,
          0.8383838383838385,
          0.8484848484848485,
          0.8585858585858587,
          0.8686868686868687,
          0.8787878787878789,
          0.888888888888889,
          0.8989898989898991,
          0.9090909090909092,
          0.9191919191919192,
          0.9292929292929294,
          0.9393939393939394,
          0.9494949494949496,
          0.9595959595959597,
          0.9696969696969697,
          0.9797979797979799,
          0.98989898989899,
          1
         ],
         "y": [
          232,
          232,
          232,
          232,
          232,
          232,
          232,
          232,
          232,
          232,
          232,
          232,
          232,
          232,
          232,
          232,
          232,
          232,
          232,
          232,
          232,
          232,
          232,
          232,
          232,
          232,
          232,
          232,
          232,
          232,
          232,
          232,
          232,
          232,
          232,
          232,
          232,
          232,
          232,
          232,
          232,
          232,
          232,
          232,
          232,
          232,
          232,
          232,
          232,
          232,
          232,
          232,
          232,
          232,
          232,
          232,
          232,
          232,
          232,
          232,
          232,
          232,
          232,
          232,
          232,
          232,
          232,
          232,
          232,
          232,
          232,
          232,
          232,
          232,
          232,
          232,
          232,
          232,
          232,
          232,
          232,
          232,
          232,
          232,
          232,
          232,
          232,
          232,
          232,
          232,
          232,
          232,
          232,
          232,
          232,
          232,
          232,
          232,
          232,
          232
         ],
         "z": [
          255,
          255,
          255,
          255,
          255,
          255,
          255,
          255,
          255,
          255,
          255,
          255,
          255,
          255,
          255,
          255,
          255,
          255,
          255,
          255,
          255,
          255,
          255,
          255,
          255,
          255,
          255,
          255,
          255,
          255,
          255,
          255,
          255,
          255,
          255,
          255,
          255,
          255,
          255,
          255,
          255,
          255,
          255,
          255,
          255,
          255,
          255,
          255,
          255,
          255,
          255,
          255,
          255,
          255,
          255,
          255,
          255,
          255,
          255,
          255,
          255,
          255,
          255,
          255,
          255,
          255,
          255,
          255,
          255,
          255,
          255,
          255,
          255,
          255,
          255,
          255,
          255,
          255,
          255,
          255,
          255,
          255,
          255,
          255,
          255,
          255,
          255,
          255,
          255,
          255,
          255,
          255,
          255,
          255,
          255,
          255,
          255,
          255,
          255,
          255
         ]
        },
        {
         "line": {
          "width": 2
         },
         "marker": {
          "size": 2
         },
         "type": "scatter3d",
         "x": [
          0,
          0.010101010101010102,
          0.020202020202020204,
          0.030303030303030304,
          0.04040404040404041,
          0.05050505050505051,
          0.06060606060606061,
          0.07070707070707072,
          0.08080808080808081,
          0.09090909090909091,
          0.10101010101010102,
          0.11111111111111112,
          0.12121212121212122,
          0.13131313131313133,
          0.14141414141414144,
          0.15151515151515152,
          0.16161616161616163,
          0.17171717171717174,
          0.18181818181818182,
          0.19191919191919193,
          0.20202020202020204,
          0.21212121212121213,
          0.22222222222222224,
          0.23232323232323235,
          0.24242424242424243,
          0.25252525252525254,
          0.26262626262626265,
          0.27272727272727276,
          0.2828282828282829,
          0.29292929292929293,
          0.30303030303030304,
          0.31313131313131315,
          0.32323232323232326,
          0.33333333333333337,
          0.3434343434343435,
          0.3535353535353536,
          0.36363636363636365,
          0.37373737373737376,
          0.38383838383838387,
          0.393939393939394,
          0.4040404040404041,
          0.4141414141414142,
          0.42424242424242425,
          0.43434343434343436,
          0.4444444444444445,
          0.4545454545454546,
          0.4646464646464647,
          0.4747474747474748,
          0.48484848484848486,
          0.494949494949495,
          0.5050505050505051,
          0.5151515151515152,
          0.5252525252525253,
          0.5353535353535354,
          0.5454545454545455,
          0.5555555555555556,
          0.5656565656565657,
          0.5757575757575758,
          0.5858585858585859,
          0.595959595959596,
          0.6060606060606061,
          0.6161616161616162,
          0.6262626262626263,
          0.6363636363636365,
          0.6464646464646465,
          0.6565656565656566,
          0.6666666666666667,
          0.6767676767676768,
          0.686868686868687,
          0.696969696969697,
          0.7070707070707072,
          0.7171717171717172,
          0.7272727272727273,
          0.7373737373737375,
          0.7474747474747475,
          0.7575757575757577,
          0.7676767676767677,
          0.7777777777777778,
          0.787878787878788,
          0.797979797979798,
          0.8080808080808082,
          0.8181818181818182,
          0.8282828282828284,
          0.8383838383838385,
          0.8484848484848485,
          0.8585858585858587,
          0.8686868686868687,
          0.8787878787878789,
          0.888888888888889,
          0.8989898989898991,
          0.9090909090909092,
          0.9191919191919192,
          0.9292929292929294,
          0.9393939393939394,
          0.9494949494949496,
          0.9595959595959597,
          0.9696969696969697,
          0.9797979797979799,
          0.98989898989899,
          1
         ],
         "y": [
          217,
          217,
          217,
          217,
          217,
          217,
          217,
          217,
          217,
          217,
          217,
          217,
          217,
          217,
          217,
          217,
          217,
          217,
          217,
          217,
          217,
          217,
          217,
          217,
          217,
          217,
          217,
          217,
          217,
          217,
          217,
          217,
          217,
          217,
          217,
          217,
          217,
          217,
          217,
          217,
          217,
          217,
          217,
          217,
          217,
          217,
          217,
          217,
          217,
          217,
          217,
          217,
          217,
          217,
          217,
          217,
          217,
          217,
          217,
          217,
          217,
          217,
          217,
          217,
          217,
          217,
          217,
          217,
          217,
          217,
          217,
          217,
          217,
          217,
          217,
          217,
          217,
          217,
          217,
          217,
          217,
          217,
          217,
          217,
          217,
          217,
          217,
          217,
          217,
          217,
          217,
          217,
          217,
          217,
          217,
          217,
          217,
          217,
          217,
          217
         ],
         "z": [
          255,
          255,
          255,
          255,
          255,
          255,
          255,
          255,
          255,
          255,
          255,
          255,
          255,
          255,
          255,
          255,
          255,
          255,
          255,
          255,
          255,
          255,
          255,
          255,
          255,
          255,
          255,
          255,
          255,
          255,
          255,
          255,
          255,
          255,
          255,
          255,
          255,
          255,
          255,
          255,
          255,
          255,
          255,
          255,
          255,
          255,
          255,
          255,
          255,
          255,
          255,
          255,
          255,
          255,
          255,
          255,
          255,
          255,
          255,
          255,
          255,
          255,
          255,
          255,
          255,
          255,
          255,
          255,
          255,
          255,
          255,
          255,
          255,
          255,
          255,
          255,
          255,
          255,
          255,
          255,
          255,
          255,
          255,
          255,
          255,
          255,
          255,
          255,
          255,
          255,
          255,
          255,
          255,
          255,
          255,
          255,
          255,
          255,
          255,
          255
         ]
        },
        {
         "line": {
          "width": 2
         },
         "marker": {
          "size": 2
         },
         "type": "scatter3d",
         "x": [
          0,
          0.010101010101010102,
          0.020202020202020204,
          0.030303030303030304,
          0.04040404040404041,
          0.05050505050505051,
          0.06060606060606061,
          0.07070707070707072,
          0.08080808080808081,
          0.09090909090909091,
          0.10101010101010102,
          0.11111111111111112,
          0.12121212121212122,
          0.13131313131313133,
          0.14141414141414144,
          0.15151515151515152,
          0.16161616161616163,
          0.17171717171717174,
          0.18181818181818182,
          0.19191919191919193,
          0.20202020202020204,
          0.21212121212121213,
          0.22222222222222224,
          0.23232323232323235,
          0.24242424242424243,
          0.25252525252525254,
          0.26262626262626265,
          0.27272727272727276,
          0.2828282828282829,
          0.29292929292929293,
          0.30303030303030304,
          0.31313131313131315,
          0.32323232323232326,
          0.33333333333333337,
          0.3434343434343435,
          0.3535353535353536,
          0.36363636363636365,
          0.37373737373737376,
          0.38383838383838387,
          0.393939393939394,
          0.4040404040404041,
          0.4141414141414142,
          0.42424242424242425,
          0.43434343434343436,
          0.4444444444444445,
          0.4545454545454546,
          0.4646464646464647,
          0.4747474747474748,
          0.48484848484848486,
          0.494949494949495,
          0.5050505050505051,
          0.5151515151515152,
          0.5252525252525253,
          0.5353535353535354,
          0.5454545454545455,
          0.5555555555555556,
          0.5656565656565657,
          0.5757575757575758,
          0.5858585858585859,
          0.595959595959596,
          0.6060606060606061,
          0.6161616161616162,
          0.6262626262626263,
          0.6363636363636365,
          0.6464646464646465,
          0.6565656565656566,
          0.6666666666666667,
          0.6767676767676768,
          0.686868686868687,
          0.696969696969697,
          0.7070707070707072,
          0.7171717171717172,
          0.7272727272727273,
          0.7373737373737375,
          0.7474747474747475,
          0.7575757575757577,
          0.7676767676767677,
          0.7777777777777778,
          0.787878787878788,
          0.797979797979798,
          0.8080808080808082,
          0.8181818181818182,
          0.8282828282828284,
          0.8383838383838385,
          0.8484848484848485,
          0.8585858585858587,
          0.8686868686868687,
          0.8787878787878789,
          0.888888888888889,
          0.8989898989898991,
          0.9090909090909092,
          0.9191919191919192,
          0.9292929292929294,
          0.9393939393939394,
          0.9494949494949496,
          0.9595959595959597,
          0.9696969696969697,
          0.9797979797979799,
          0.98989898989899,
          1
         ],
         "y": [
          33,
          32.99999999999997,
          33,
          33,
          33,
          33,
          32.99999999999997,
          33,
          33,
          33,
          32.99999999999997,
          33.00000000000003,
          33,
          33,
          33,
          33,
          33,
          33,
          33,
          33,
          33,
          33,
          33,
          33,
          33,
          33,
          33,
          32.99999999999997,
          33,
          33,
          32.99999999999997,
          33,
          33,
          33,
          33,
          33,
          33,
          33,
          33,
          33,
          33,
          33,
          33,
          33,
          33,
          33,
          33,
          33,
          33,
          33,
          33,
          33,
          33,
          33,
          33,
          33,
          33,
          33,
          33,
          33,
          33,
          33,
          33,
          33,
          33,
          33,
          33,
          33,
          33,
          33,
          33,
          33,
          33,
          33,
          33,
          33,
          33,
          33,
          33,
          33,
          33,
          33,
          33,
          33,
          33,
          33,
          33,
          33,
          33,
          33,
          33,
          33,
          33,
          33,
          33,
          33,
          33,
          33,
          33,
          33
         ],
         "z": [
          255,
          255,
          255,
          255,
          255,
          255,
          255,
          255,
          255,
          255,
          255,
          255,
          255,
          255,
          255,
          255,
          255,
          255,
          255,
          255,
          255,
          255,
          255,
          255,
          255,
          255,
          255,
          255,
          255,
          255,
          255,
          255,
          255,
          255,
          255,
          255,
          255,
          255,
          255,
          255,
          255,
          255,
          255,
          255,
          255,
          255,
          255,
          255,
          255,
          255,
          255,
          255,
          255,
          255,
          255,
          255,
          255,
          255,
          255,
          255,
          255,
          255,
          255,
          255,
          255,
          255,
          255,
          255,
          255,
          255,
          255,
          255,
          255,
          255,
          255,
          255,
          255,
          255,
          255,
          255,
          255,
          255,
          255,
          255,
          255,
          255,
          255,
          255,
          255,
          255,
          255,
          255,
          255,
          255,
          255,
          255,
          255,
          255,
          255,
          255
         ]
        },
        {
         "line": {
          "width": 2
         },
         "marker": {
          "size": 2
         },
         "type": "scatter3d",
         "x": [
          0,
          0.010101010101010102,
          0.020202020202020204,
          0.030303030303030304,
          0.04040404040404041,
          0.05050505050505051,
          0.06060606060606061,
          0.07070707070707072,
          0.08080808080808081,
          0.09090909090909091,
          0.10101010101010102,
          0.11111111111111112,
          0.12121212121212122,
          0.13131313131313133,
          0.14141414141414144,
          0.15151515151515152,
          0.16161616161616163,
          0.17171717171717174,
          0.18181818181818182,
          0.19191919191919193,
          0.20202020202020204,
          0.21212121212121213,
          0.22222222222222224,
          0.23232323232323235,
          0.24242424242424243,
          0.25252525252525254,
          0.26262626262626265,
          0.27272727272727276,
          0.2828282828282829,
          0.29292929292929293,
          0.30303030303030304,
          0.31313131313131315,
          0.32323232323232326,
          0.33333333333333337,
          0.3434343434343435,
          0.3535353535353536,
          0.36363636363636365,
          0.37373737373737376,
          0.38383838383838387,
          0.393939393939394,
          0.4040404040404041,
          0.4141414141414142,
          0.42424242424242425,
          0.43434343434343436,
          0.4444444444444445,
          0.4545454545454546,
          0.4646464646464647,
          0.4747474747474748,
          0.48484848484848486,
          0.494949494949495,
          0.5050505050505051,
          0.5151515151515152,
          0.5252525252525253,
          0.5353535353535354,
          0.5454545454545455,
          0.5555555555555556,
          0.5656565656565657,
          0.5757575757575758,
          0.5858585858585859,
          0.595959595959596,
          0.6060606060606061,
          0.6161616161616162,
          0.6262626262626263,
          0.6363636363636365,
          0.6464646464646465,
          0.6565656565656566,
          0.6666666666666667,
          0.6767676767676768,
          0.686868686868687,
          0.696969696969697,
          0.7070707070707072,
          0.7171717171717172,
          0.7272727272727273,
          0.7373737373737375,
          0.7474747474747475,
          0.7575757575757577,
          0.7676767676767677,
          0.7777777777777778,
          0.787878787878788,
          0.797979797979798,
          0.8080808080808082,
          0.8181818181818182,
          0.8282828282828284,
          0.8383838383838385,
          0.8484848484848485,
          0.8585858585858587,
          0.8686868686868687,
          0.8787878787878789,
          0.888888888888889,
          0.8989898989898991,
          0.9090909090909092,
          0.9191919191919192,
          0.9292929292929294,
          0.9393939393939394,
          0.9494949494949496,
          0.9595959595959597,
          0.9696969696969697,
          0.9797979797979799,
          0.98989898989899,
          1
         ],
         "y": [
          218,
          218,
          218,
          218,
          218,
          218,
          218,
          218,
          218,
          218,
          218,
          218,
          218,
          218,
          218,
          218,
          218,
          218,
          218,
          218,
          218,
          218,
          218,
          218,
          218,
          218,
          218,
          218,
          218,
          218,
          218,
          218,
          218,
          218,
          218,
          218,
          218,
          218,
          218,
          218,
          218,
          218,
          218,
          218,
          218,
          218,
          218,
          218,
          218,
          218,
          218,
          218,
          218,
          218,
          218,
          218,
          218,
          218,
          218,
          218,
          218,
          218,
          218,
          218,
          218,
          218,
          218,
          218,
          218,
          218,
          218,
          218,
          218,
          218,
          218,
          218,
          218,
          218,
          218,
          218,
          218,
          218,
          218,
          218,
          218,
          218,
          218,
          218,
          218,
          218,
          218,
          218,
          218,
          218,
          218,
          218,
          218,
          218,
          218,
          218
         ],
         "z": [
          255,
          255,
          255,
          255,
          255,
          255,
          255,
          255,
          255,
          255,
          255,
          255,
          255,
          255,
          255,
          255,
          255,
          255,
          255,
          255,
          255,
          255,
          255,
          255,
          255,
          255,
          255,
          255,
          255,
          255,
          255,
          255,
          255,
          255,
          255,
          255,
          255,
          255,
          255,
          255,
          255,
          255,
          255,
          255,
          255,
          255,
          255,
          255,
          255,
          255,
          255,
          255,
          255,
          255,
          255,
          255,
          255,
          255,
          255,
          255,
          255,
          255,
          255,
          255,
          255,
          255,
          255,
          255,
          255,
          255,
          255,
          255,
          255,
          255,
          255,
          255,
          255,
          255,
          255,
          255,
          255,
          255,
          255,
          255,
          255,
          255,
          255,
          255,
          255,
          255,
          255,
          255,
          255,
          255,
          255,
          255,
          255,
          255,
          255,
          255
         ]
        },
        {
         "colorscale": [
          [
           0,
           "#333"
          ],
          [
           1,
           "#333"
          ]
         ],
         "opacity": 0.1,
         "showscale": false,
         "type": "surface",
         "x": [
          [
           0,
           0,
           0,
           0,
           0,
           0,
           0,
           0,
           0,
           0
          ],
          [
           0.1111111111111111,
           0.1111111111111111,
           0.1111111111111111,
           0.1111111111111111,
           0.1111111111111111,
           0.1111111111111111,
           0.1111111111111111,
           0.1111111111111111,
           0.1111111111111111,
           0.1111111111111111
          ],
          [
           0.2222222222222222,
           0.2222222222222222,
           0.2222222222222222,
           0.2222222222222222,
           0.2222222222222222,
           0.2222222222222222,
           0.2222222222222222,
           0.2222222222222222,
           0.2222222222222222,
           0.2222222222222222
          ],
          [
           0.3333333333333333,
           0.3333333333333333,
           0.3333333333333333,
           0.3333333333333333,
           0.3333333333333333,
           0.3333333333333333,
           0.3333333333333333,
           0.3333333333333333,
           0.3333333333333333,
           0.3333333333333333
          ],
          [
           0.4444444444444444,
           0.4444444444444444,
           0.4444444444444444,
           0.4444444444444444,
           0.4444444444444444,
           0.4444444444444444,
           0.4444444444444444,
           0.4444444444444444,
           0.4444444444444444,
           0.4444444444444444
          ],
          [
           0.5555555555555556,
           0.5555555555555556,
           0.5555555555555556,
           0.5555555555555556,
           0.5555555555555556,
           0.5555555555555556,
           0.5555555555555556,
           0.5555555555555556,
           0.5555555555555556,
           0.5555555555555556
          ],
          [
           0.6666666666666666,
           0.6666666666666666,
           0.6666666666666666,
           0.6666666666666666,
           0.6666666666666666,
           0.6666666666666666,
           0.6666666666666666,
           0.6666666666666666,
           0.6666666666666666,
           0.6666666666666666
          ],
          [
           0.7777777777777777,
           0.7777777777777777,
           0.7777777777777777,
           0.7777777777777777,
           0.7777777777777777,
           0.7777777777777777,
           0.7777777777777777,
           0.7777777777777777,
           0.7777777777777777,
           0.7777777777777777
          ],
          [
           0.8888888888888888,
           0.8888888888888888,
           0.8888888888888888,
           0.8888888888888888,
           0.8888888888888888,
           0.8888888888888888,
           0.8888888888888888,
           0.8888888888888888,
           0.8888888888888888,
           0.8888888888888888
          ],
          [
           1,
           1,
           1,
           1,
           1,
           1,
           1,
           1,
           1,
           1
          ]
         ],
         "y": [
          [
           0,
           28.333333333333332,
           56.666666666666664,
           85,
           113.33333333333333,
           141.66666666666666,
           170,
           198.33333333333331,
           226.66666666666666,
           255
          ],
          [
           0,
           28.333333333333332,
           56.666666666666664,
           85,
           113.33333333333333,
           141.66666666666666,
           170,
           198.33333333333331,
           226.66666666666666,
           255
          ],
          [
           0,
           28.333333333333332,
           56.666666666666664,
           85,
           113.33333333333333,
           141.66666666666666,
           170,
           198.33333333333331,
           226.66666666666666,
           255
          ],
          [
           0,
           28.333333333333332,
           56.666666666666664,
           85,
           113.33333333333333,
           141.66666666666666,
           170,
           198.33333333333331,
           226.66666666666666,
           255
          ],
          [
           0,
           28.333333333333332,
           56.666666666666664,
           85,
           113.33333333333333,
           141.66666666666666,
           170,
           198.33333333333331,
           226.66666666666666,
           255
          ],
          [
           0,
           28.333333333333332,
           56.666666666666664,
           85,
           113.33333333333333,
           141.66666666666666,
           170,
           198.33333333333331,
           226.66666666666666,
           255
          ],
          [
           0,
           28.333333333333332,
           56.666666666666664,
           85,
           113.33333333333333,
           141.66666666666666,
           170,
           198.33333333333331,
           226.66666666666666,
           255
          ],
          [
           0,
           28.333333333333332,
           56.666666666666664,
           85,
           113.33333333333333,
           141.66666666666666,
           170,
           198.33333333333331,
           226.66666666666666,
           255
          ],
          [
           0,
           28.333333333333332,
           56.666666666666664,
           85,
           113.33333333333333,
           141.66666666666666,
           170,
           198.33333333333331,
           226.66666666666666,
           255
          ],
          [
           0,
           28.333333333333332,
           56.666666666666664,
           85,
           113.33333333333333,
           141.66666666666666,
           170,
           198.33333333333331,
           226.66666666666666,
           255
          ]
         ],
         "z": [
          [
           0,
           28.333333333333332,
           56.666666666666664,
           85,
           113.33333333333333,
           141.66666666666666,
           170,
           198.33333333333331,
           226.66666666666666,
           255
          ],
          [
           0,
           28.333333333333332,
           56.666666666666664,
           85,
           113.33333333333333,
           141.66666666666666,
           170,
           198.33333333333331,
           226.66666666666666,
           255
          ],
          [
           0,
           28.333333333333332,
           56.666666666666664,
           85,
           113.33333333333333,
           141.66666666666666,
           170,
           198.33333333333331,
           226.66666666666666,
           255
          ],
          [
           0,
           28.333333333333332,
           56.666666666666664,
           85,
           113.33333333333333,
           141.66666666666666,
           170,
           198.33333333333331,
           226.66666666666666,
           255
          ],
          [
           0,
           28.333333333333332,
           56.666666666666664,
           85,
           113.33333333333333,
           141.66666666666666,
           170,
           198.33333333333331,
           226.66666666666666,
           255
          ],
          [
           0,
           28.333333333333332,
           56.666666666666664,
           85,
           113.33333333333333,
           141.66666666666666,
           170,
           198.33333333333331,
           226.66666666666666,
           255
          ],
          [
           0,
           28.333333333333332,
           56.666666666666664,
           85,
           113.33333333333333,
           141.66666666666666,
           170,
           198.33333333333331,
           226.66666666666666,
           255
          ],
          [
           0,
           28.333333333333332,
           56.666666666666664,
           85,
           113.33333333333333,
           141.66666666666666,
           170,
           198.33333333333331,
           226.66666666666666,
           255
          ],
          [
           0,
           28.333333333333332,
           56.666666666666664,
           85,
           113.33333333333333,
           141.66666666666666,
           170,
           198.33333333333331,
           226.66666666666666,
           255
          ],
          [
           0,
           28.333333333333332,
           56.666666666666664,
           85,
           113.33333333333333,
           141.66666666666666,
           170,
           198.33333333333331,
           226.66666666666666,
           255
          ]
         ]
        }
       ],
       "layout": {
        "height": 700,
        "scene": {
         "aspectmode": "auto",
         "aspectratio": {
          "x": 1,
          "y": 1,
          "z": 1
         },
         "xaxis": {
          "title": {
           "text": "T (homotopy)"
          },
          "type": "linear"
         },
         "yaxis": {
          "title": {
           "text": "Birth"
          },
          "type": "linear"
         },
         "zaxis": {
          "title": {
           "text": "Death"
          },
          "type": "linear"
         }
        },
        "template": {
         "data": {
          "bar": [
           {
            "error_x": {
             "color": "#2a3f5f"
            },
            "error_y": {
             "color": "#2a3f5f"
            },
            "marker": {
             "line": {
              "color": "#E5ECF6",
              "width": 0.5
             },
             "pattern": {
              "fillmode": "overlay",
              "size": 10,
              "solidity": 0.2
             }
            },
            "type": "bar"
           }
          ],
          "barpolar": [
           {
            "marker": {
             "line": {
              "color": "#E5ECF6",
              "width": 0.5
             },
             "pattern": {
              "fillmode": "overlay",
              "size": 10,
              "solidity": 0.2
             }
            },
            "type": "barpolar"
           }
          ],
          "carpet": [
           {
            "aaxis": {
             "endlinecolor": "#2a3f5f",
             "gridcolor": "white",
             "linecolor": "white",
             "minorgridcolor": "white",
             "startlinecolor": "#2a3f5f"
            },
            "baxis": {
             "endlinecolor": "#2a3f5f",
             "gridcolor": "white",
             "linecolor": "white",
             "minorgridcolor": "white",
             "startlinecolor": "#2a3f5f"
            },
            "type": "carpet"
           }
          ],
          "choropleth": [
           {
            "colorbar": {
             "outlinewidth": 0,
             "ticks": ""
            },
            "type": "choropleth"
           }
          ],
          "contour": [
           {
            "colorbar": {
             "outlinewidth": 0,
             "ticks": ""
            },
            "colorscale": [
             [
              0,
              "#0d0887"
             ],
             [
              0.1111111111111111,
              "#46039f"
             ],
             [
              0.2222222222222222,
              "#7201a8"
             ],
             [
              0.3333333333333333,
              "#9c179e"
             ],
             [
              0.4444444444444444,
              "#bd3786"
             ],
             [
              0.5555555555555556,
              "#d8576b"
             ],
             [
              0.6666666666666666,
              "#ed7953"
             ],
             [
              0.7777777777777778,
              "#fb9f3a"
             ],
             [
              0.8888888888888888,
              "#fdca26"
             ],
             [
              1,
              "#f0f921"
             ]
            ],
            "type": "contour"
           }
          ],
          "contourcarpet": [
           {
            "colorbar": {
             "outlinewidth": 0,
             "ticks": ""
            },
            "type": "contourcarpet"
           }
          ],
          "heatmap": [
           {
            "colorbar": {
             "outlinewidth": 0,
             "ticks": ""
            },
            "colorscale": [
             [
              0,
              "#0d0887"
             ],
             [
              0.1111111111111111,
              "#46039f"
             ],
             [
              0.2222222222222222,
              "#7201a8"
             ],
             [
              0.3333333333333333,
              "#9c179e"
             ],
             [
              0.4444444444444444,
              "#bd3786"
             ],
             [
              0.5555555555555556,
              "#d8576b"
             ],
             [
              0.6666666666666666,
              "#ed7953"
             ],
             [
              0.7777777777777778,
              "#fb9f3a"
             ],
             [
              0.8888888888888888,
              "#fdca26"
             ],
             [
              1,
              "#f0f921"
             ]
            ],
            "type": "heatmap"
           }
          ],
          "heatmapgl": [
           {
            "colorbar": {
             "outlinewidth": 0,
             "ticks": ""
            },
            "colorscale": [
             [
              0,
              "#0d0887"
             ],
             [
              0.1111111111111111,
              "#46039f"
             ],
             [
              0.2222222222222222,
              "#7201a8"
             ],
             [
              0.3333333333333333,
              "#9c179e"
             ],
             [
              0.4444444444444444,
              "#bd3786"
             ],
             [
              0.5555555555555556,
              "#d8576b"
             ],
             [
              0.6666666666666666,
              "#ed7953"
             ],
             [
              0.7777777777777778,
              "#fb9f3a"
             ],
             [
              0.8888888888888888,
              "#fdca26"
             ],
             [
              1,
              "#f0f921"
             ]
            ],
            "type": "heatmapgl"
           }
          ],
          "histogram": [
           {
            "marker": {
             "pattern": {
              "fillmode": "overlay",
              "size": 10,
              "solidity": 0.2
             }
            },
            "type": "histogram"
           }
          ],
          "histogram2d": [
           {
            "colorbar": {
             "outlinewidth": 0,
             "ticks": ""
            },
            "colorscale": [
             [
              0,
              "#0d0887"
             ],
             [
              0.1111111111111111,
              "#46039f"
             ],
             [
              0.2222222222222222,
              "#7201a8"
             ],
             [
              0.3333333333333333,
              "#9c179e"
             ],
             [
              0.4444444444444444,
              "#bd3786"
             ],
             [
              0.5555555555555556,
              "#d8576b"
             ],
             [
              0.6666666666666666,
              "#ed7953"
             ],
             [
              0.7777777777777778,
              "#fb9f3a"
             ],
             [
              0.8888888888888888,
              "#fdca26"
             ],
             [
              1,
              "#f0f921"
             ]
            ],
            "type": "histogram2d"
           }
          ],
          "histogram2dcontour": [
           {
            "colorbar": {
             "outlinewidth": 0,
             "ticks": ""
            },
            "colorscale": [
             [
              0,
              "#0d0887"
             ],
             [
              0.1111111111111111,
              "#46039f"
             ],
             [
              0.2222222222222222,
              "#7201a8"
             ],
             [
              0.3333333333333333,
              "#9c179e"
             ],
             [
              0.4444444444444444,
              "#bd3786"
             ],
             [
              0.5555555555555556,
              "#d8576b"
             ],
             [
              0.6666666666666666,
              "#ed7953"
             ],
             [
              0.7777777777777778,
              "#fb9f3a"
             ],
             [
              0.8888888888888888,
              "#fdca26"
             ],
             [
              1,
              "#f0f921"
             ]
            ],
            "type": "histogram2dcontour"
           }
          ],
          "mesh3d": [
           {
            "colorbar": {
             "outlinewidth": 0,
             "ticks": ""
            },
            "type": "mesh3d"
           }
          ],
          "parcoords": [
           {
            "line": {
             "colorbar": {
              "outlinewidth": 0,
              "ticks": ""
             }
            },
            "type": "parcoords"
           }
          ],
          "pie": [
           {
            "automargin": true,
            "type": "pie"
           }
          ],
          "scatter": [
           {
            "fillpattern": {
             "fillmode": "overlay",
             "size": 10,
             "solidity": 0.2
            },
            "type": "scatter"
           }
          ],
          "scatter3d": [
           {
            "line": {
             "colorbar": {
              "outlinewidth": 0,
              "ticks": ""
             }
            },
            "marker": {
             "colorbar": {
              "outlinewidth": 0,
              "ticks": ""
             }
            },
            "type": "scatter3d"
           }
          ],
          "scattercarpet": [
           {
            "marker": {
             "colorbar": {
              "outlinewidth": 0,
              "ticks": ""
             }
            },
            "type": "scattercarpet"
           }
          ],
          "scattergeo": [
           {
            "marker": {
             "colorbar": {
              "outlinewidth": 0,
              "ticks": ""
             }
            },
            "type": "scattergeo"
           }
          ],
          "scattergl": [
           {
            "marker": {
             "colorbar": {
              "outlinewidth": 0,
              "ticks": ""
             }
            },
            "type": "scattergl"
           }
          ],
          "scattermapbox": [
           {
            "marker": {
             "colorbar": {
              "outlinewidth": 0,
              "ticks": ""
             }
            },
            "type": "scattermapbox"
           }
          ],
          "scatterpolar": [
           {
            "marker": {
             "colorbar": {
              "outlinewidth": 0,
              "ticks": ""
             }
            },
            "type": "scatterpolar"
           }
          ],
          "scatterpolargl": [
           {
            "marker": {
             "colorbar": {
              "outlinewidth": 0,
              "ticks": ""
             }
            },
            "type": "scatterpolargl"
           }
          ],
          "scatterternary": [
           {
            "marker": {
             "colorbar": {
              "outlinewidth": 0,
              "ticks": ""
             }
            },
            "type": "scatterternary"
           }
          ],
          "surface": [
           {
            "colorbar": {
             "outlinewidth": 0,
             "ticks": ""
            },
            "colorscale": [
             [
              0,
              "#0d0887"
             ],
             [
              0.1111111111111111,
              "#46039f"
             ],
             [
              0.2222222222222222,
              "#7201a8"
             ],
             [
              0.3333333333333333,
              "#9c179e"
             ],
             [
              0.4444444444444444,
              "#bd3786"
             ],
             [
              0.5555555555555556,
              "#d8576b"
             ],
             [
              0.6666666666666666,
              "#ed7953"
             ],
             [
              0.7777777777777778,
              "#fb9f3a"
             ],
             [
              0.8888888888888888,
              "#fdca26"
             ],
             [
              1,
              "#f0f921"
             ]
            ],
            "type": "surface"
           }
          ],
          "table": [
           {
            "cells": {
             "fill": {
              "color": "#EBF0F8"
             },
             "line": {
              "color": "white"
             }
            },
            "header": {
             "fill": {
              "color": "#C8D4E3"
             },
             "line": {
              "color": "white"
             }
            },
            "type": "table"
           }
          ]
         },
         "layout": {
          "annotationdefaults": {
           "arrowcolor": "#2a3f5f",
           "arrowhead": 0,
           "arrowwidth": 1
          },
          "autotypenumbers": "strict",
          "coloraxis": {
           "colorbar": {
            "outlinewidth": 0,
            "ticks": ""
           }
          },
          "colorscale": {
           "diverging": [
            [
             0,
             "#8e0152"
            ],
            [
             0.1,
             "#c51b7d"
            ],
            [
             0.2,
             "#de77ae"
            ],
            [
             0.3,
             "#f1b6da"
            ],
            [
             0.4,
             "#fde0ef"
            ],
            [
             0.5,
             "#f7f7f7"
            ],
            [
             0.6,
             "#e6f5d0"
            ],
            [
             0.7,
             "#b8e186"
            ],
            [
             0.8,
             "#7fbc41"
            ],
            [
             0.9,
             "#4d9221"
            ],
            [
             1,
             "#276419"
            ]
           ],
           "sequential": [
            [
             0,
             "#0d0887"
            ],
            [
             0.1111111111111111,
             "#46039f"
            ],
            [
             0.2222222222222222,
             "#7201a8"
            ],
            [
             0.3333333333333333,
             "#9c179e"
            ],
            [
             0.4444444444444444,
             "#bd3786"
            ],
            [
             0.5555555555555556,
             "#d8576b"
            ],
            [
             0.6666666666666666,
             "#ed7953"
            ],
            [
             0.7777777777777778,
             "#fb9f3a"
            ],
            [
             0.8888888888888888,
             "#fdca26"
            ],
            [
             1,
             "#f0f921"
            ]
           ],
           "sequentialminus": [
            [
             0,
             "#0d0887"
            ],
            [
             0.1111111111111111,
             "#46039f"
            ],
            [
             0.2222222222222222,
             "#7201a8"
            ],
            [
             0.3333333333333333,
             "#9c179e"
            ],
            [
             0.4444444444444444,
             "#bd3786"
            ],
            [
             0.5555555555555556,
             "#d8576b"
            ],
            [
             0.6666666666666666,
             "#ed7953"
            ],
            [
             0.7777777777777778,
             "#fb9f3a"
            ],
            [
             0.8888888888888888,
             "#fdca26"
            ],
            [
             1,
             "#f0f921"
            ]
           ]
          },
          "colorway": [
           "#636efa",
           "#EF553B",
           "#00cc96",
           "#ab63fa",
           "#FFA15A",
           "#19d3f3",
           "#FF6692",
           "#B6E880",
           "#FF97FF",
           "#FECB52"
          ],
          "font": {
           "color": "#2a3f5f"
          },
          "geo": {
           "bgcolor": "white",
           "lakecolor": "white",
           "landcolor": "#E5ECF6",
           "showlakes": true,
           "showland": true,
           "subunitcolor": "white"
          },
          "hoverlabel": {
           "align": "left"
          },
          "hovermode": "closest",
          "mapbox": {
           "style": "light"
          },
          "paper_bgcolor": "white",
          "plot_bgcolor": "#E5ECF6",
          "polar": {
           "angularaxis": {
            "gridcolor": "white",
            "linecolor": "white",
            "ticks": ""
           },
           "bgcolor": "#E5ECF6",
           "radialaxis": {
            "gridcolor": "white",
            "linecolor": "white",
            "ticks": ""
           }
          },
          "scene": {
           "xaxis": {
            "backgroundcolor": "#E5ECF6",
            "gridcolor": "white",
            "gridwidth": 2,
            "linecolor": "white",
            "showbackground": true,
            "ticks": "",
            "zerolinecolor": "white"
           },
           "yaxis": {
            "backgroundcolor": "#E5ECF6",
            "gridcolor": "white",
            "gridwidth": 2,
            "linecolor": "white",
            "showbackground": true,
            "ticks": "",
            "zerolinecolor": "white"
           },
           "zaxis": {
            "backgroundcolor": "#E5ECF6",
            "gridcolor": "white",
            "gridwidth": 2,
            "linecolor": "white",
            "showbackground": true,
            "ticks": "",
            "zerolinecolor": "white"
           }
          },
          "shapedefaults": {
           "line": {
            "color": "#2a3f5f"
           }
          },
          "ternary": {
           "aaxis": {
            "gridcolor": "white",
            "linecolor": "white",
            "ticks": ""
           },
           "baxis": {
            "gridcolor": "white",
            "linecolor": "white",
            "ticks": ""
           },
           "bgcolor": "#E5ECF6",
           "caxis": {
            "gridcolor": "white",
            "linecolor": "white",
            "ticks": ""
           }
          },
          "title": {
           "x": 0.05
          },
          "xaxis": {
           "automargin": true,
           "gridcolor": "white",
           "linecolor": "white",
           "ticks": "",
           "title": {
            "standoff": 15
           },
           "zerolinecolor": "white",
           "zerolinewidth": 2
          },
          "yaxis": {
           "automargin": true,
           "gridcolor": "white",
           "linecolor": "white",
           "ticks": "",
           "title": {
            "standoff": 15
           },
           "zerolinecolor": "white",
           "zerolinewidth": 2
          }
         }
        },
        "width": 800
       }
      },
      "image/png": "[encoded data removed]",
      "text/html": [
       "<div>                            <div id=\"a62f585b-feff-42cc-a4c0-d5f39eccae2f\" class=\"plotly-graph-div\" style=\"height:700px; width:800px;\"></div>            <script type=\"text/javascript\">                require([\"plotly\"], function(Plotly) {                    window.PLOTLYENV=window.PLOTLYENV || {};                                    if (document.getElementById(\"a62f585b-feff-42cc-a4c0-d5f39eccae2f\")) {                    Plotly.newPlot(                        \"a62f585b-feff-42cc-a4c0-d5f39eccae2f\",                        [{\"line\":{\"width\":2},\"marker\":{\"size\":2},\"x\":[0.0,0.010101010101010102,0.020202020202020204,0.030303030303030304,0.04040404040404041,0.05050505050505051,0.06060606060606061,0.07070707070707072,0.08080808080808081,0.09090909090909091,0.10101010101010102,0.11111111111111112,0.12121212121212122,0.13131313131313133,0.14141414141414144,0.15151515151515152,0.16161616161616163,0.17171717171717174,0.18181818181818182,0.19191919191919193,0.20202020202020204,0.21212121212121213,0.22222222222222224,0.23232323232323235,0.24242424242424243,0.25252525252525254,0.26262626262626265,0.27272727272727276,0.2828282828282829,0.29292929292929293,0.30303030303030304,0.31313131313131315,0.32323232323232326,0.33333333333333337,0.3434343434343435,0.3535353535353536,0.36363636363636365,0.37373737373737376,0.38383838383838387,0.393939393939394,0.4040404040404041,0.4141414141414142,0.42424242424242425,0.43434343434343436,0.4444444444444445,0.4545454545454546,0.4646464646464647,0.4747474747474748,0.48484848484848486,0.494949494949495,0.5050505050505051,0.5151515151515152,0.5252525252525253,0.5353535353535354,0.5454545454545455,0.5555555555555556,0.5656565656565657,0.5757575757575758,0.5858585858585859,0.595959595959596,0.6060606060606061,0.6161616161616162,0.6262626262626263,0.6363636363636365,0.6464646464646465,0.6565656565656566,0.6666666666666667,0.6767676767676768,0.686868686868687,0.696969696969697,0.7070707070707072,0.7171717171717172,0.7272727272727273,0.7373737373737375,0.7474747474747475,0.7575757575757577,0.7676767676767677,0.7777777777777778,0.787878787878788,0.797979797979798,0.8080808080808082,0.8181818181818182,0.8282828282828284,0.8383838383838385,0.8484848484848485,0.8585858585858587,0.8686868686868687,0.8787878787878789,0.888888888888889,0.8989898989898991,0.9090909090909092,0.9191919191919192,0.9292929292929294,0.9393939393939394,0.9494949494949496,0.9595959595959597,0.9696969696969697,0.9797979797979799,0.98989898989899,1.0],\"y\":[198.0,198.0,198.0,198.0,198.0,198.0,198.0,198.0,198.0,198.0,198.0,198.0,198.0,198.0,198.0,198.0,198.0,198.0,198.0,198.0,198.0,198.0,198.0,198.0,198.0,198.0,198.0,198.0,198.0,198.0,198.0,198.0,198.0,198.0,198.0,198.0,198.0,198.0,198.0,198.0,198.0,198.0,198.0,198.0,198.0,198.0,198.0,198.0,198.0,198.0,198.0,198.0,198.0,198.0,198.0,198.0,198.0,198.0,198.0,198.0,198.0,198.0,198.0,198.0,198.0,198.0,198.0,198.0,198.0,198.0,198.0,198.0,198.0,198.0,198.0,198.0,198.0,198.0,198.0,198.0,198.0,198.0,198.0,198.0,198.0,198.0,198.0,198.0,198.0,198.0,198.0,198.0,198.0,198.0,198.0,198.0,198.0,198.0,198.0,198.0],\"z\":[248.0,248.0,248.0,248.0,248.0,248.0,248.0,248.0,248.0,248.0,248.0,248.0,248.0,248.0,248.0,248.0,248.0,248.0,248.0,248.0,248.0,248.0,248.0,248.0,248.0,248.0,248.0,248.0,248.0,248.0,248.0,248.0,248.0,248.0,248.0,248.0,248.0,248.0,248.0,248.0,248.0,248.0,248.0,248.0,248.0,248.0,248.0,248.0,248.0,248.0,248.0,248.0,248.0,248.0,248.0,248.0,248.0,248.0,248.0,248.0,248.0,248.0,248.0,248.0,248.0,248.0,248.0,248.0,248.0,248.0,248.0,248.0,248.0,248.0,248.0,248.0,248.0,248.0,248.0,248.0,248.0,248.0,248.0,248.0,248.0,248.0,248.0,248.0,248.0,248.0,248.0,248.0,248.0,248.0,248.0,248.0,248.0,248.0,248.0,248.0],\"type\":\"scatter3d\"},{\"line\":{\"width\":2},\"marker\":{\"size\":2},\"x\":[0.0,0.010101010101010102,0.020202020202020204,0.030303030303030304,0.04040404040404041,0.05050505050505051,0.06060606060606061,0.07070707070707072,0.08080808080808081,0.09090909090909091,0.10101010101010102,0.11111111111111112,0.12121212121212122,0.13131313131313133,0.14141414141414144,0.15151515151515152,0.16161616161616163,0.17171717171717174,0.18181818181818182,0.19191919191919193,0.20202020202020204,0.21212121212121213,0.22222222222222224,0.23232323232323235,0.24242424242424243,0.25252525252525254,0.26262626262626265,0.27272727272727276,0.2828282828282829,0.29292929292929293,0.30303030303030304,0.31313131313131315,0.32323232323232326,0.33333333333333337,0.3434343434343435,0.3535353535353536,0.36363636363636365,0.37373737373737376,0.38383838383838387,0.393939393939394,0.4040404040404041,0.4141414141414142,0.42424242424242425,0.43434343434343436,0.4444444444444445,0.4545454545454546,0.4646464646464647,0.4747474747474748,0.48484848484848486,0.494949494949495,0.5050505050505051,0.5151515151515152,0.5252525252525253,0.5353535353535354,0.5454545454545455,0.5555555555555556,0.5656565656565657,0.5757575757575758,0.5858585858585859,0.595959595959596,0.6060606060606061,0.6161616161616162,0.6262626262626263,0.6363636363636365,0.6464646464646465,0.6565656565656566,0.6666666666666667,0.6767676767676768,0.686868686868687,0.696969696969697,0.7070707070707072,0.7171717171717172,0.7272727272727273,0.7373737373737375,0.7474747474747475,0.7575757575757577,0.7676767676767677,0.7777777777777778,0.787878787878788,0.797979797979798,0.8080808080808082,0.8181818181818182,0.8282828282828284,0.8383838383838385,0.8484848484848485,0.8585858585858587,0.8686868686868687,0.8787878787878789,0.888888888888889,0.8989898989898991,0.9090909090909092,0.9191919191919192,0.9292929292929294,0.9393939393939394,0.9494949494949496,0.9595959595959597,0.9696969696969697,0.9797979797979799,0.98989898989899,1.0],\"y\":[232.0,232.0,232.0,232.0,232.0,232.0,232.0,232.0,232.0,232.0,232.0,232.0,232.0,232.0,232.0,232.0,232.0,232.0,232.0,232.0,232.0,232.0,232.0,232.0,232.0,232.0,232.0,232.0,232.0,232.0,232.0,232.0,232.0,232.0,232.0,232.0,232.0,232.0,232.0,232.0,232.0,232.0,232.0,232.0,232.0,232.0,232.0,232.0,232.0,232.0,232.0,232.0,232.0,232.0,232.0,232.0,232.0,232.0,232.0,232.0,232.0,232.0,232.0,232.0,232.0,232.0,232.0,232.0,232.0,232.0,232.0,232.0,232.0,232.0,232.0,232.0,232.0,232.0,232.0,232.0,232.0,232.0,232.0,232.0,232.0,232.0,232.0,232.0,232.0,232.0,232.0,232.0,232.0,232.0,232.0,232.0,232.0,232.0,232.0,232.0],\"z\":[255.0,255.0,255.0,255.0,255.0,255.0,255.0,255.0,255.0,255.0,255.0,255.0,255.0,255.0,255.0,255.0,255.0,255.0,255.0,255.0,255.0,255.0,255.0,255.0,255.0,255.0,255.0,255.0,255.0,255.0,255.0,255.0,255.0,255.0,255.0,255.0,255.0,255.0,255.0,255.0,255.0,255.0,255.0,255.0,255.0,255.0,255.0,255.0,255.0,255.0,255.0,255.0,255.0,255.0,255.0,255.0,255.0,255.0,255.0,255.0,255.0,255.0,255.0,255.0,255.0,255.0,255.0,255.0,255.0,255.0,255.0,255.0,255.0,255.0,255.0,255.0,255.0,255.0,255.0,255.0,255.0,255.0,255.0,255.0,255.0,255.0,255.0,255.0,255.0,255.0,255.0,255.0,255.0,255.0,255.0,255.0,255.0,255.0,255.0,255.0],\"type\":\"scatter3d\"},{\"line\":{\"width\":2},\"marker\":{\"size\":2},\"x\":[0.0,0.010101010101010102,0.020202020202020204,0.030303030303030304,0.04040404040404041,0.05050505050505051,0.06060606060606061,0.07070707070707072,0.08080808080808081,0.09090909090909091,0.10101010101010102,0.11111111111111112,0.12121212121212122,0.13131313131313133,0.14141414141414144,0.15151515151515152,0.16161616161616163,0.17171717171717174,0.18181818181818182,0.19191919191919193,0.20202020202020204,0.21212121212121213,0.22222222222222224,0.23232323232323235,0.24242424242424243,0.25252525252525254,0.26262626262626265,0.27272727272727276,0.2828282828282829,0.29292929292929293,0.30303030303030304,0.31313131313131315,0.32323232323232326,0.33333333333333337,0.3434343434343435,0.3535353535353536,0.36363636363636365,0.37373737373737376,0.38383838383838387,0.393939393939394,0.4040404040404041,0.4141414141414142,0.42424242424242425,0.43434343434343436,0.4444444444444445,0.4545454545454546,0.4646464646464647,0.4747474747474748,0.48484848484848486,0.494949494949495,0.5050505050505051,0.5151515151515152,0.5252525252525253,0.5353535353535354,0.5454545454545455,0.5555555555555556,0.5656565656565657,0.5757575757575758,0.5858585858585859,0.595959595959596,0.6060606060606061,0.6161616161616162,0.6262626262626263,0.6363636363636365,0.6464646464646465,0.6565656565656566,0.6666666666666667,0.6767676767676768,0.686868686868687,0.696969696969697,0.7070707070707072,0.7171717171717172,0.7272727272727273,0.7373737373737375,0.7474747474747475,0.7575757575757577,0.7676767676767677,0.7777777777777778,0.787878787878788,0.797979797979798,0.8080808080808082,0.8181818181818182,0.8282828282828284,0.8383838383838385,0.8484848484848485,0.8585858585858587,0.8686868686868687,0.8787878787878789,0.888888888888889,0.8989898989898991,0.9090909090909092,0.9191919191919192,0.9292929292929294,0.9393939393939394,0.9494949494949496,0.9595959595959597,0.9696969696969697,0.9797979797979799,0.98989898989899,1.0],\"y\":[217.0,217.0,217.0,217.0,217.0,217.0,217.0,217.0,217.0,217.0,217.0,217.0,217.0,217.0,217.0,217.0,217.0,217.0,217.0,217.0,217.0,217.0,217.0,217.0,217.0,217.0,217.0,217.0,217.0,217.0,217.0,217.0,217.0,217.0,217.0,217.0,217.0,217.0,217.0,217.0,217.0,217.0,217.0,217.0,217.0,217.0,217.0,217.0,217.0,217.0,217.0,217.0,217.0,217.0,217.0,217.0,217.0,217.0,217.0,217.0,217.0,217.0,217.0,217.0,217.0,217.0,217.0,217.0,217.0,217.0,217.0,217.0,217.0,217.0,217.0,217.0,217.0,217.0,217.0,217.0,217.0,217.0,217.0,217.0,217.0,217.0,217.0,217.0,217.0,217.0,217.0,217.0,217.0,217.0,217.0,217.0,217.0,217.0,217.0,217.0],\"z\":[255.0,255.0,255.0,255.0,255.0,255.0,255.0,255.0,255.0,255.0,255.0,255.0,255.0,255.0,255.0,255.0,255.0,255.0,255.0,255.0,255.0,255.0,255.0,255.0,255.0,255.0,255.0,255.0,255.0,255.0,255.0,255.0,255.0,255.0,255.0,255.0,255.0,255.0,255.0,255.0,255.0,255.0,255.0,255.0,255.0,255.0,255.0,255.0,255.0,255.0,255.0,255.0,255.0,255.0,255.0,255.0,255.0,255.0,255.0,255.0,255.0,255.0,255.0,255.0,255.0,255.0,255.0,255.0,255.0,255.0,255.0,255.0,255.0,255.0,255.0,255.0,255.0,255.0,255.0,255.0,255.0,255.0,255.0,255.0,255.0,255.0,255.0,255.0,255.0,255.0,255.0,255.0,255.0,255.0,255.0,255.0,255.0,255.0,255.0,255.0],\"type\":\"scatter3d\"},{\"line\":{\"width\":2},\"marker\":{\"size\":2},\"x\":[0.0,0.010101010101010102,0.020202020202020204,0.030303030303030304,0.04040404040404041,0.05050505050505051,0.06060606060606061,0.07070707070707072,0.08080808080808081,0.09090909090909091,0.10101010101010102,0.11111111111111112,0.12121212121212122,0.13131313131313133,0.14141414141414144,0.15151515151515152,0.16161616161616163,0.17171717171717174,0.18181818181818182,0.19191919191919193,0.20202020202020204,0.21212121212121213,0.22222222222222224,0.23232323232323235,0.24242424242424243,0.25252525252525254,0.26262626262626265,0.27272727272727276,0.2828282828282829,0.29292929292929293,0.30303030303030304,0.31313131313131315,0.32323232323232326,0.33333333333333337,0.3434343434343435,0.3535353535353536,0.36363636363636365,0.37373737373737376,0.38383838383838387,0.393939393939394,0.4040404040404041,0.4141414141414142,0.42424242424242425,0.43434343434343436,0.4444444444444445,0.4545454545454546,0.4646464646464647,0.4747474747474748,0.48484848484848486,0.494949494949495,0.5050505050505051,0.5151515151515152,0.5252525252525253,0.5353535353535354,0.5454545454545455,0.5555555555555556,0.5656565656565657,0.5757575757575758,0.5858585858585859,0.595959595959596,0.6060606060606061,0.6161616161616162,0.6262626262626263,0.6363636363636365,0.6464646464646465,0.6565656565656566,0.6666666666666667,0.6767676767676768,0.686868686868687,0.696969696969697,0.7070707070707072,0.7171717171717172,0.7272727272727273,0.7373737373737375,0.7474747474747475,0.7575757575757577,0.7676767676767677,0.7777777777777778,0.787878787878788,0.797979797979798,0.8080808080808082,0.8181818181818182,0.8282828282828284,0.8383838383838385,0.8484848484848485,0.8585858585858587,0.8686868686868687,0.8787878787878789,0.888888888888889,0.8989898989898991,0.9090909090909092,0.9191919191919192,0.9292929292929294,0.9393939393939394,0.9494949494949496,0.9595959595959597,0.9696969696969697,0.9797979797979799,0.98989898989899,1.0],\"y\":[33.0,32.99999999999997,33.0,33.0,33.0,33.0,32.99999999999997,33.0,33.0,33.0,32.99999999999997,33.00000000000003,33.0,33.0,33.0,33.0,33.0,33.0,33.0,33.0,33.0,33.0,33.0,33.0,33.0,33.0,33.0,32.99999999999997,33.0,33.0,32.99999999999997,33.0,33.0,33.0,33.0,33.0,33.0,33.0,33.0,33.0,33.0,33.0,33.0,33.0,33.0,33.0,33.0,33.0,33.0,33.0,33.0,33.0,33.0,33.0,33.0,33.0,33.0,33.0,33.0,33.0,33.0,33.0,33.0,33.0,33.0,33.0,33.0,33.0,33.0,33.0,33.0,33.0,33.0,33.0,33.0,33.0,33.0,33.0,33.0,33.0,33.0,33.0,33.0,33.0,33.0,33.0,33.0,33.0,33.0,33.0,33.0,33.0,33.0,33.0,33.0,33.0,33.0,33.0,33.0,33.0],\"z\":[255.0,255.0,255.0,255.0,255.0,255.0,255.0,255.0,255.0,255.0,255.0,255.0,255.0,255.0,255.0,255.0,255.0,255.0,255.0,255.0,255.0,255.0,255.0,255.0,255.0,255.0,255.0,255.0,255.0,255.0,255.0,255.0,255.0,255.0,255.0,255.0,255.0,255.0,255.0,255.0,255.0,255.0,255.0,255.0,255.0,255.0,255.0,255.0,255.0,255.0,255.0,255.0,255.0,255.0,255.0,255.0,255.0,255.0,255.0,255.0,255.0,255.0,255.0,255.0,255.0,255.0,255.0,255.0,255.0,255.0,255.0,255.0,255.0,255.0,255.0,255.0,255.0,255.0,255.0,255.0,255.0,255.0,255.0,255.0,255.0,255.0,255.0,255.0,255.0,255.0,255.0,255.0,255.0,255.0,255.0,255.0,255.0,255.0,255.0,255.0],\"type\":\"scatter3d\"},{\"line\":{\"width\":2},\"marker\":{\"size\":2},\"x\":[0.0,0.010101010101010102,0.020202020202020204,0.030303030303030304,0.04040404040404041,0.05050505050505051,0.06060606060606061,0.07070707070707072,0.08080808080808081,0.09090909090909091,0.10101010101010102,0.11111111111111112,0.12121212121212122,0.13131313131313133,0.14141414141414144,0.15151515151515152,0.16161616161616163,0.17171717171717174,0.18181818181818182,0.19191919191919193,0.20202020202020204,0.21212121212121213,0.22222222222222224,0.23232323232323235,0.24242424242424243,0.25252525252525254,0.26262626262626265,0.27272727272727276,0.2828282828282829,0.29292929292929293,0.30303030303030304,0.31313131313131315,0.32323232323232326,0.33333333333333337,0.3434343434343435,0.3535353535353536,0.36363636363636365,0.37373737373737376,0.38383838383838387,0.393939393939394,0.4040404040404041,0.4141414141414142,0.42424242424242425,0.43434343434343436,0.4444444444444445,0.4545454545454546,0.4646464646464647,0.4747474747474748,0.48484848484848486,0.494949494949495,0.5050505050505051,0.5151515151515152,0.5252525252525253,0.5353535353535354,0.5454545454545455,0.5555555555555556,0.5656565656565657,0.5757575757575758,0.5858585858585859,0.595959595959596,0.6060606060606061,0.6161616161616162,0.6262626262626263,0.6363636363636365,0.6464646464646465,0.6565656565656566,0.6666666666666667,0.6767676767676768,0.686868686868687,0.696969696969697,0.7070707070707072,0.7171717171717172,0.7272727272727273,0.7373737373737375,0.7474747474747475,0.7575757575757577,0.7676767676767677,0.7777777777777778,0.787878787878788,0.797979797979798,0.8080808080808082,0.8181818181818182,0.8282828282828284,0.8383838383838385,0.8484848484848485,0.8585858585858587,0.8686868686868687,0.8787878787878789,0.888888888888889,0.8989898989898991,0.9090909090909092,0.9191919191919192,0.9292929292929294,0.9393939393939394,0.9494949494949496,0.9595959595959597,0.9696969696969697,0.9797979797979799,0.98989898989899,1.0],\"y\":[218.0,218.0,218.0,218.0,218.0,218.0,218.0,218.0,218.0,218.0,218.0,218.0,218.0,218.0,218.0,218.0,218.0,218.0,218.0,218.0,218.0,218.0,218.0,218.0,218.0,218.0,218.0,218.0,218.0,218.0,218.0,218.0,218.0,218.0,218.0,218.0,218.0,218.0,218.0,218.0,218.0,218.0,218.0,218.0,218.0,218.0,218.0,218.0,218.0,218.0,218.0,218.0,218.0,218.0,218.0,218.0,218.0,218.0,218.0,218.0,218.0,218.0,218.0,218.0,218.0,218.0,218.0,218.0,218.0,218.0,218.0,218.0,218.0,218.0,218.0,218.0,218.0,218.0,218.0,218.0,218.0,218.0,218.0,218.0,218.0,218.0,218.0,218.0,218.0,218.0,218.0,218.0,218.0,218.0,218.0,218.0,218.0,218.0,218.0,218.0],\"z\":[255.0,255.0,255.0,255.0,255.0,255.0,255.0,255.0,255.0,255.0,255.0,255.0,255.0,255.0,255.0,255.0,255.0,255.0,255.0,255.0,255.0,255.0,255.0,255.0,255.0,255.0,255.0,255.0,255.0,255.0,255.0,255.0,255.0,255.0,255.0,255.0,255.0,255.0,255.0,255.0,255.0,255.0,255.0,255.0,255.0,255.0,255.0,255.0,255.0,255.0,255.0,255.0,255.0,255.0,255.0,255.0,255.0,255.0,255.0,255.0,255.0,255.0,255.0,255.0,255.0,255.0,255.0,255.0,255.0,255.0,255.0,255.0,255.0,255.0,255.0,255.0,255.0,255.0,255.0,255.0,255.0,255.0,255.0,255.0,255.0,255.0,255.0,255.0,255.0,255.0,255.0,255.0,255.0,255.0,255.0,255.0,255.0,255.0,255.0,255.0],\"type\":\"scatter3d\"},{\"colorscale\":[[0,\"#333\"],[1,\"#333\"]],\"opacity\":0.1,\"showscale\":false,\"x\":[[0.0,0.0,0.0,0.0,0.0,0.0,0.0,0.0,0.0,0.0],[0.1111111111111111,0.1111111111111111,0.1111111111111111,0.1111111111111111,0.1111111111111111,0.1111111111111111,0.1111111111111111,0.1111111111111111,0.1111111111111111,0.1111111111111111],[0.2222222222222222,0.2222222222222222,0.2222222222222222,0.2222222222222222,0.2222222222222222,0.2222222222222222,0.2222222222222222,0.2222222222222222,0.2222222222222222,0.2222222222222222],[0.3333333333333333,0.3333333333333333,0.3333333333333333,0.3333333333333333,0.3333333333333333,0.3333333333333333,0.3333333333333333,0.3333333333333333,0.3333333333333333,0.3333333333333333],[0.4444444444444444,0.4444444444444444,0.4444444444444444,0.4444444444444444,0.4444444444444444,0.4444444444444444,0.4444444444444444,0.4444444444444444,0.4444444444444444,0.4444444444444444],[0.5555555555555556,0.5555555555555556,0.5555555555555556,0.5555555555555556,0.5555555555555556,0.5555555555555556,0.5555555555555556,0.5555555555555556,0.5555555555555556,0.5555555555555556],[0.6666666666666666,0.6666666666666666,0.6666666666666666,0.6666666666666666,0.6666666666666666,0.6666666666666666,0.6666666666666666,0.6666666666666666,0.6666666666666666,0.6666666666666666],[0.7777777777777777,0.7777777777777777,0.7777777777777777,0.7777777777777777,0.7777777777777777,0.7777777777777777,0.7777777777777777,0.7777777777777777,0.7777777777777777,0.7777777777777777],[0.8888888888888888,0.8888888888888888,0.8888888888888888,0.8888888888888888,0.8888888888888888,0.8888888888888888,0.8888888888888888,0.8888888888888888,0.8888888888888888,0.8888888888888888],[1.0,1.0,1.0,1.0,1.0,1.0,1.0,1.0,1.0,1.0]],\"y\":[[0.0,28.333333333333332,56.666666666666664,85.0,113.33333333333333,141.66666666666666,170.0,198.33333333333331,226.66666666666666,255.0],[0.0,28.333333333333332,56.666666666666664,85.0,113.33333333333333,141.66666666666666,170.0,198.33333333333331,226.66666666666666,255.0],[0.0,28.333333333333332,56.666666666666664,85.0,113.33333333333333,141.66666666666666,170.0,198.33333333333331,226.66666666666666,255.0],[0.0,28.333333333333332,56.666666666666664,85.0,113.33333333333333,141.66666666666666,170.0,198.33333333333331,226.66666666666666,255.0],[0.0,28.333333333333332,56.666666666666664,85.0,113.33333333333333,141.66666666666666,170.0,198.33333333333331,226.66666666666666,255.0],[0.0,28.333333333333332,56.666666666666664,85.0,113.33333333333333,141.66666666666666,170.0,198.33333333333331,226.66666666666666,255.0],[0.0,28.333333333333332,56.666666666666664,85.0,113.33333333333333,141.66666666666666,170.0,198.33333333333331,226.66666666666666,255.0],[0.0,28.333333333333332,56.666666666666664,85.0,113.33333333333333,141.66666666666666,170.0,198.33333333333331,226.66666666666666,255.0],[0.0,28.333333333333332,56.666666666666664,85.0,113.33333333333333,141.66666666666666,170.0,198.33333333333331,226.66666666666666,255.0],[0.0,28.333333333333332,56.666666666666664,85.0,113.33333333333333,141.66666666666666,170.0,198.33333333333331,226.66666666666666,255.0]],\"z\":[[0.0,28.333333333333332,56.666666666666664,85.0,113.33333333333333,141.66666666666666,170.0,198.33333333333331,226.66666666666666,255.0],[0.0,28.333333333333332,56.666666666666664,85.0,113.33333333333333,141.66666666666666,170.0,198.33333333333331,226.66666666666666,255.0],[0.0,28.333333333333332,56.666666666666664,85.0,113.33333333333333,141.66666666666666,170.0,198.33333333333331,226.66666666666666,255.0],[0.0,28.333333333333332,56.666666666666664,85.0,113.33333333333333,141.66666666666666,170.0,198.33333333333331,226.66666666666666,255.0],[0.0,28.333333333333332,56.666666666666664,85.0,113.33333333333333,141.66666666666666,170.0,198.33333333333331,226.66666666666666,255.0],[0.0,28.333333333333332,56.666666666666664,85.0,113.33333333333333,141.66666666666666,170.0,198.33333333333331,226.66666666666666,255.0],[0.0,28.333333333333332,56.666666666666664,85.0,113.33333333333333,141.66666666666666,170.0,198.33333333333331,226.66666666666666,255.0],[0.0,28.333333333333332,56.666666666666664,85.0,113.33333333333333,141.66666666666666,170.0,198.33333333333331,226.66666666666666,255.0],[0.0,28.333333333333332,56.666666666666664,85.0,113.33333333333333,141.66666666666666,170.0,198.33333333333331,226.66666666666666,255.0],[0.0,28.333333333333332,56.666666666666664,85.0,113.33333333333333,141.66666666666666,170.0,198.33333333333331,226.66666666666666,255.0]],\"type\":\"surface\"}],                        {\"template\":{\"data\":{\"histogram2dcontour\":[{\"type\":\"histogram2dcontour\",\"colorbar\":{\"outlinewidth\":0,\"ticks\":\"\"},\"colorscale\":[[0.0,\"#0d0887\"],[0.1111111111111111,\"#46039f\"],[0.2222222222222222,\"#7201a8\"],[0.3333333333333333,\"#9c179e\"],[0.4444444444444444,\"#bd3786\"],[0.5555555555555556,\"#d8576b\"],[0.6666666666666666,\"#ed7953\"],[0.7777777777777778,\"#fb9f3a\"],[0.8888888888888888,\"#fdca26\"],[1.0,\"#f0f921\"]]}],\"choropleth\":[{\"type\":\"choropleth\",\"colorbar\":{\"outlinewidth\":0,\"ticks\":\"\"}}],\"histogram2d\":[{\"type\":\"histogram2d\",\"colorbar\":{\"outlinewidth\":0,\"ticks\":\"\"},\"colorscale\":[[0.0,\"#0d0887\"],[0.1111111111111111,\"#46039f\"],[0.2222222222222222,\"#7201a8\"],[0.3333333333333333,\"#9c179e\"],[0.4444444444444444,\"#bd3786\"],[0.5555555555555556,\"#d8576b\"],[0.6666666666666666,\"#ed7953\"],[0.7777777777777778,\"#fb9f3a\"],[0.8888888888888888,\"#fdca26\"],[1.0,\"#f0f921\"]]}],\"heatmap\":[{\"type\":\"heatmap\",\"colorbar\":{\"outlinewidth\":0,\"ticks\":\"\"},\"colorscale\":[[0.0,\"#0d0887\"],[0.1111111111111111,\"#46039f\"],[0.2222222222222222,\"#7201a8\"],[0.3333333333333333,\"#9c179e\"],[0.4444444444444444,\"#bd3786\"],[0.5555555555555556,\"#d8576b\"],[0.6666666666666666,\"#ed7953\"],[0.7777777777777778,\"#fb9f3a\"],[0.8888888888888888,\"#fdca26\"],[1.0,\"#f0f921\"]]}],\"heatmapgl\":[{\"type\":\"heatmapgl\",\"colorbar\":{\"outlinewidth\":0,\"ticks\":\"\"},\"colorscale\":[[0.0,\"#0d0887\"],[0.1111111111111111,\"#46039f\"],[0.2222222222222222,\"#7201a8\"],[0.3333333333333333,\"#9c179e\"],[0.4444444444444444,\"#bd3786\"],[0.5555555555555556,\"#d8576b\"],[0.6666666666666666,\"#ed7953\"],[0.7777777777777778,\"#fb9f3a\"],[0.8888888888888888,\"#fdca26\"],[1.0,\"#f0f921\"]]}],\"contourcarpet\":[{\"type\":\"contourcarpet\",\"colorbar\":{\"outlinewidth\":0,\"ticks\":\"\"}}],\"contour\":[{\"type\":\"contour\",\"colorbar\":{\"outlinewidth\":0,\"ticks\":\"\"},\"colorscale\":[[0.0,\"#0d0887\"],[0.1111111111111111,\"#46039f\"],[0.2222222222222222,\"#7201a8\"],[0.3333333333333333,\"#9c179e\"],[0.4444444444444444,\"#bd3786\"],[0.5555555555555556,\"#d8576b\"],[0.6666666666666666,\"#ed7953\"],[0.7777777777777778,\"#fb9f3a\"],[0.8888888888888888,\"#fdca26\"],[1.0,\"#f0f921\"]]}],\"surface\":[{\"type\":\"surface\",\"colorbar\":{\"outlinewidth\":0,\"ticks\":\"\"},\"colorscale\":[[0.0,\"#0d0887\"],[0.1111111111111111,\"#46039f\"],[0.2222222222222222,\"#7201a8\"],[0.3333333333333333,\"#9c179e\"],[0.4444444444444444,\"#bd3786\"],[0.5555555555555556,\"#d8576b\"],[0.6666666666666666,\"#ed7953\"],[0.7777777777777778,\"#fb9f3a\"],[0.8888888888888888,\"#fdca26\"],[1.0,\"#f0f921\"]]}],\"mesh3d\":[{\"type\":\"mesh3d\",\"colorbar\":{\"outlinewidth\":0,\"ticks\":\"\"}}],\"scatter\":[{\"fillpattern\":{\"fillmode\":\"overlay\",\"size\":10,\"solidity\":0.2},\"type\":\"scatter\"}],\"parcoords\":[{\"type\":\"parcoords\",\"line\":{\"colorbar\":{\"outlinewidth\":0,\"ticks\":\"\"}}}],\"scatterpolargl\":[{\"type\":\"scatterpolargl\",\"marker\":{\"colorbar\":{\"outlinewidth\":0,\"ticks\":\"\"}}}],\"bar\":[{\"error_x\":{\"color\":\"#2a3f5f\"},\"error_y\":{\"color\":\"#2a3f5f\"},\"marker\":{\"line\":{\"color\":\"#E5ECF6\",\"width\":0.5},\"pattern\":{\"fillmode\":\"overlay\",\"size\":10,\"solidity\":0.2}},\"type\":\"bar\"}],\"scattergeo\":[{\"type\":\"scattergeo\",\"marker\":{\"colorbar\":{\"outlinewidth\":0,\"ticks\":\"\"}}}],\"scatterpolar\":[{\"type\":\"scatterpolar\",\"marker\":{\"colorbar\":{\"outlinewidth\":0,\"ticks\":\"\"}}}],\"histogram\":[{\"marker\":{\"pattern\":{\"fillmode\":\"overlay\",\"size\":10,\"solidity\":0.2}},\"type\":\"histogram\"}],\"scattergl\":[{\"type\":\"scattergl\",\"marker\":{\"colorbar\":{\"outlinewidth\":0,\"ticks\":\"\"}}}],\"scatter3d\":[{\"type\":\"scatter3d\",\"line\":{\"colorbar\":{\"outlinewidth\":0,\"ticks\":\"\"}},\"marker\":{\"colorbar\":{\"outlinewidth\":0,\"ticks\":\"\"}}}],\"scattermapbox\":[{\"type\":\"scattermapbox\",\"marker\":{\"colorbar\":{\"outlinewidth\":0,\"ticks\":\"\"}}}],\"scatterternary\":[{\"type\":\"scatterternary\",\"marker\":{\"colorbar\":{\"outlinewidth\":0,\"ticks\":\"\"}}}],\"scattercarpet\":[{\"type\":\"scattercarpet\",\"marker\":{\"colorbar\":{\"outlinewidth\":0,\"ticks\":\"\"}}}],\"carpet\":[{\"aaxis\":{\"endlinecolor\":\"#2a3f5f\",\"gridcolor\":\"white\",\"linecolor\":\"white\",\"minorgridcolor\":\"white\",\"startlinecolor\":\"#2a3f5f\"},\"baxis\":{\"endlinecolor\":\"#2a3f5f\",\"gridcolor\":\"white\",\"linecolor\":\"white\",\"minorgridcolor\":\"white\",\"startlinecolor\":\"#2a3f5f\"},\"type\":\"carpet\"}],\"table\":[{\"cells\":{\"fill\":{\"color\":\"#EBF0F8\"},\"line\":{\"color\":\"white\"}},\"header\":{\"fill\":{\"color\":\"#C8D4E3\"},\"line\":{\"color\":\"white\"}},\"type\":\"table\"}],\"barpolar\":[{\"marker\":{\"line\":{\"color\":\"#E5ECF6\",\"width\":0.5},\"pattern\":{\"fillmode\":\"overlay\",\"size\":10,\"solidity\":0.2}},\"type\":\"barpolar\"}],\"pie\":[{\"automargin\":true,\"type\":\"pie\"}]},\"layout\":{\"autotypenumbers\":\"strict\",\"colorway\":[\"#636efa\",\"#EF553B\",\"#00cc96\",\"#ab63fa\",\"#FFA15A\",\"#19d3f3\",\"#FF6692\",\"#B6E880\",\"#FF97FF\",\"#FECB52\"],\"font\":{\"color\":\"#2a3f5f\"},\"hovermode\":\"closest\",\"hoverlabel\":{\"align\":\"left\"},\"paper_bgcolor\":\"white\",\"plot_bgcolor\":\"#E5ECF6\",\"polar\":{\"bgcolor\":\"#E5ECF6\",\"angularaxis\":{\"gridcolor\":\"white\",\"linecolor\":\"white\",\"ticks\":\"\"},\"radialaxis\":{\"gridcolor\":\"white\",\"linecolor\":\"white\",\"ticks\":\"\"}},\"ternary\":{\"bgcolor\":\"#E5ECF6\",\"aaxis\":{\"gridcolor\":\"white\",\"linecolor\":\"white\",\"ticks\":\"\"},\"baxis\":{\"gridcolor\":\"white\",\"linecolor\":\"white\",\"ticks\":\"\"},\"caxis\":{\"gridcolor\":\"white\",\"linecolor\":\"white\",\"ticks\":\"\"}},\"coloraxis\":{\"colorbar\":{\"outlinewidth\":0,\"ticks\":\"\"}},\"colorscale\":{\"sequential\":[[0.0,\"#0d0887\"],[0.1111111111111111,\"#46039f\"],[0.2222222222222222,\"#7201a8\"],[0.3333333333333333,\"#9c179e\"],[0.4444444444444444,\"#bd3786\"],[0.5555555555555556,\"#d8576b\"],[0.6666666666666666,\"#ed7953\"],[0.7777777777777778,\"#fb9f3a\"],[0.8888888888888888,\"#fdca26\"],[1.0,\"#f0f921\"]],\"sequentialminus\":[[0.0,\"#0d0887\"],[0.1111111111111111,\"#46039f\"],[0.2222222222222222,\"#7201a8\"],[0.3333333333333333,\"#9c179e\"],[0.4444444444444444,\"#bd3786\"],[0.5555555555555556,\"#d8576b\"],[0.6666666666666666,\"#ed7953\"],[0.7777777777777778,\"#fb9f3a\"],[0.8888888888888888,\"#fdca26\"],[1.0,\"#f0f921\"]],\"diverging\":[[0,\"#8e0152\"],[0.1,\"#c51b7d\"],[0.2,\"#de77ae\"],[0.3,\"#f1b6da\"],[0.4,\"#fde0ef\"],[0.5,\"#f7f7f7\"],[0.6,\"#e6f5d0\"],[0.7,\"#b8e186\"],[0.8,\"#7fbc41\"],[0.9,\"#4d9221\"],[1,\"#276419\"]]},\"xaxis\":{\"gridcolor\":\"white\",\"linecolor\":\"white\",\"ticks\":\"\",\"title\":{\"standoff\":15},\"zerolinecolor\":\"white\",\"automargin\":true,\"zerolinewidth\":2},\"yaxis\":{\"gridcolor\":\"white\",\"linecolor\":\"white\",\"ticks\":\"\",\"title\":{\"standoff\":15},\"zerolinecolor\":\"white\",\"automargin\":true,\"zerolinewidth\":2},\"scene\":{\"xaxis\":{\"backgroundcolor\":\"#E5ECF6\",\"gridcolor\":\"white\",\"linecolor\":\"white\",\"showbackground\":true,\"ticks\":\"\",\"zerolinecolor\":\"white\",\"gridwidth\":2},\"yaxis\":{\"backgroundcolor\":\"#E5ECF6\",\"gridcolor\":\"white\",\"linecolor\":\"white\",\"showbackground\":true,\"ticks\":\"\",\"zerolinecolor\":\"white\",\"gridwidth\":2},\"zaxis\":{\"backgroundcolor\":\"#E5ECF6\",\"gridcolor\":\"white\",\"linecolor\":\"white\",\"showbackground\":true,\"ticks\":\"\",\"zerolinecolor\":\"white\",\"gridwidth\":2}},\"shapedefaults\":{\"line\":{\"color\":\"#2a3f5f\"}},\"annotationdefaults\":{\"arrowcolor\":\"#2a3f5f\",\"arrowhead\":0,\"arrowwidth\":1},\"geo\":{\"bgcolor\":\"white\",\"landcolor\":\"#E5ECF6\",\"subunitcolor\":\"white\",\"showland\":true,\"showlakes\":true,\"lakecolor\":\"white\"},\"title\":{\"x\":0.05},\"mapbox\":{\"style\":\"light\"}}},\"width\":800,\"height\":700,\"scene\":{\"xaxis\":{\"title\":{\"text\":\"T (homotopy)\"}},\"yaxis\":{\"title\":{\"text\":\"Birth\"}},\"zaxis\":{\"title\":{\"text\":\"Death\"}}}},                        {\"responsive\": true}                    ).then(function(){\n",
       "                            \n",
       "var gd = document.getElementById('a62f585b-feff-42cc-a4c0-d5f39eccae2f');\n",
       "var x = new MutationObserver(function (mutations, observer) {{\n",
       "        var display = window.getComputedStyle(gd).display;\n",
       "        if (!display || display === 'none') {{\n",
       "            console.log([gd, 'removed!']);\n",
       "            Plotly.purge(gd);\n",
       "            observer.disconnect();\n",
       "        }}\n",
       "}});\n",
       "\n",
       "// Listen for the removal of the full notebook cells\n",
       "var notebookContainer = gd.closest('#notebook-container');\n",
       "if (notebookContainer) {{\n",
       "    x.observe(notebookContainer, {childList: true});\n",
       "}}\n",
       "\n",
       "// Listen for the clearing of the current output cell\n",
       "var outputEl = gd.closest('.output');\n",
       "if (outputEl) {{\n",
       "    x.observe(outputEl, {childList: true});\n",
       "}}\n",
       "\n",
       "                        })                };                });            </script>        </div>"
      ]
     },
     "metadata": {},
     "output_type": "display_data"
    }
   ],
   "source": [
    "vines = vineyard(f, g, nt=100, verbose=True)"
   ]
  },
  {
   "cell_type": "markdown",
   "metadata": {},
   "source": [
    "Weighted integration:\n",
    "$$v_{k}=g\\left(\\sum \\ell(i)dt\\right)\\cdot \\sum_{i=1}^{n}f\\left(\\Delta(\\frac{p_i+p_{i-1}}{2})\\right)\\ell(i)dt$$\n",
    "Here $\\ell(i)=|p_i-p_{i-1}|$ and $\\Delta()$ is the distance of the projection to the diagonal plane $\\Delta$. This is for the $k$-th vine. Then,\n",
    "$$V=\\sum v_k$$"
   ]
  },
  {
   "cell_type": "code",
   "execution_count": 62,
   "metadata": {},
   "outputs": [],
   "source": [
    "def vdist(vines, fD, fL): # diag weight func, length weight func\n",
    "    V = 0\n",
    "    for vine in res:\n",
    "        vine = np.array(vine)\n",
    "    \n",
    "        v, L = 0, 0\n",
    "        for i in range(1, len(vine)):\n",
    "            l = np.linalg.norm(vine[i][1:]-vine[i-1][1:])\n",
    "            dt = vine[i][0] - vine[i-1][0]\n",
    "    \n",
    "            mid = np.mean([vine[i][1:],vine[i-1][1:]], axis=0)\n",
    "            proj = np.mean(mid)*np.ones(2,)\n",
    "            D = np.linalg.norm(proj-mid)\n",
    "            \n",
    "            v += fD(D)*l*dt\n",
    "            L += l*dt\n",
    "    \n",
    "        v *= fL(L)\n",
    "        V += v\n",
    "\n",
    "    return V"
   ]
  },
  {
   "cell_type": "code",
   "execution_count": 65,
   "metadata": {},
   "outputs": [],
   "source": [
    "fD = lambda D: D/100\n",
    "fL = lambda L: np.exp(-L/2)"
   ]
  },
  {
   "cell_type": "code",
   "execution_count": 66,
   "metadata": {},
   "outputs": [
    {
     "data": {
      "text/plain": [
       "5.407969370419162e-15"
      ]
     },
     "execution_count": 66,
     "metadata": {},
     "output_type": "execute_result"
    }
   ],
   "source": [
    "vines = vineyard(f, g, nt=100, verbose=False)\n",
    "vdist(vines, fD, fL)"
   ]
  }
 ],
 "metadata": {
  "kernelspec": {
   "display_name": "Python 3 (ipykernel)",
   "language": "python",
   "name": "python3"
  },
  "language_info": {
   "codemirror_mode": {
    "name": "ipython",
    "version": 3
   },
   "file_extension": ".py",
   "mimetype": "text/x-python",
   "name": "python",
   "nbconvert_exporter": "python",
   "pygments_lexer": "ipython3",
   "version": "3.12.1"
  }
 },
 "nbformat": 4,
 "nbformat_minor": 4
}
